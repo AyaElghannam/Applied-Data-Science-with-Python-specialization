{
 "metadata": {
  "language_info": {
   "codemirror_mode": {
    "name": "ipython",
    "version": 3
   },
   "file_extension": ".py",
   "mimetype": "text/x-python",
   "name": "python",
   "nbconvert_exporter": "python",
   "pygments_lexer": "ipython3",
   "version": 3
  },
  "orig_nbformat": 2
 },
 "nbformat": 4,
 "nbformat_minor": 2,
 "cells": [
  {
   "cell_type": "markdown",
   "metadata": {},
   "source": [
    "# Visualization Wheel Dimensions\n",
    "## Abstraction - Figuration\n",
    "Boxes and charts (Abstraction) or real-world physical objects(Figuration)\n",
    "\n",
    "The first is abstraction and figuration. A highly figurative visual describes the phenomenon using physical representations of the phenomena,such as photographs or drawings. As the representations become less real and more conceptual, the emphasis shifts from figuration to abstraction.\n",
    "\n",
    "## Functionality and Decoration\n",
    "A completely functional graphic has no embellishments and is closer to a direct representation of the data. While a heavily decorated graphic has more artistic embellishments.\n",
    "\n",
    "## Density - Lightness\n",
    "where some figures are intended to be studied in depth, while others are meant to quickly augment a narrative.\n",
    "\n",
    "## Multidimensional - Unidimensional\n",
    "A multidimensional graphic describes a phenomena as a whole and invites the viewer to explore many different aspects of the phenomena. A unidimensional graphic instead focuses on a single or a few items and explores them in one or more ways. \n",
    "\n",
    "## originality - familiarity.\n",
    "Novel methods of Visualization (originality) or established and weel understood methods of Visualization (familiarity)\n",
    "\n",
    "## Novelty - Redundancy\n",
    "Explaining each item once (Novelty) or encoding multiple explainations of the same phenomena (Redundancy)"
   ]
  },
  {
   "cell_type": "markdown",
   "metadata": {},
   "source": [
    "# heuristic\n",
    "A heuristic is a process or rule that is meant to guide you in decision making. Is by definition not known to be optimal or perfect, but to be practical in nature. Heuristics are meant to be followed until you've a reason to deviate from them. "
   ]
  },
  {
   "cell_type": "code",
   "execution_count": null,
   "metadata": {},
   "outputs": [],
   "source": []
  }
 ]
}