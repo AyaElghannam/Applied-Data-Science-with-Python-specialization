{
 "cells": [
  {
   "cell_type": "markdown",
   "metadata": {},
   "source": [
    "---\n",
    "\n",
    "_You are currently looking at **version 1.0** of this notebook. To download notebooks and datafiles, as well as get help on Jupyter notebooks in the Coursera platform, visit the [Jupyter Notebook FAQ](https://www.coursera.org/learn/python-data-analysis/resources/0dhYG) course resource._\n",
    "\n",
    "---"
   ]
  },
  {
   "cell_type": "markdown",
   "metadata": {},
   "source": [
    "# The Series Data Structure"
   ]
  },
  {
   "cell_type": "code",
   "execution_count": 1,
   "metadata": {},
   "outputs": [],
   "source": [
    "import pandas as pd\n",
    "# pd.Series?"
   ]
  },
  {
   "cell_type": "code",
   "execution_count": 2,
   "metadata": {},
   "outputs": [
    {
     "output_type": "execute_result",
     "data": {
      "text/plain": "0    Tiger\n1     Bear\n2    Moose\ndtype: object"
     },
     "metadata": {},
     "execution_count": 2
    }
   ],
   "source": [
    "animals = ['Tiger', 'Bear', 'Moose']\n",
    "pd.Series(animals)"
   ]
  },
  {
   "cell_type": "code",
   "execution_count": 3,
   "metadata": {},
   "outputs": [
    {
     "output_type": "execute_result",
     "data": {
      "text/plain": "0    1\n1    2\n2    3\ndtype: int64"
     },
     "metadata": {},
     "execution_count": 3
    }
   ],
   "source": [
    "numbers = [1, 2, 3]\n",
    "pd.Series(numbers)"
   ]
  },
  {
   "cell_type": "code",
   "execution_count": 4,
   "metadata": {},
   "outputs": [
    {
     "output_type": "execute_result",
     "data": {
      "text/plain": "0    Tiger\n1     Bear\n2     None\ndtype: object"
     },
     "metadata": {},
     "execution_count": 4
    }
   ],
   "source": [
    "animals = ['Tiger', 'Bear', None]\n",
    "pd.Series(animals)"
   ]
  },
  {
   "cell_type": "code",
   "execution_count": 5,
   "metadata": {},
   "outputs": [
    {
     "output_type": "execute_result",
     "data": {
      "text/plain": "0    1.0\n1    2.0\n2    NaN\ndtype: float64"
     },
     "metadata": {},
     "execution_count": 5
    }
   ],
   "source": [
    "numbers = [1, 2, None]\n",
    "pd.Series(numbers)"
   ]
  },
  {
   "cell_type": "code",
   "execution_count": 6,
   "metadata": {},
   "outputs": [
    {
     "output_type": "execute_result",
     "data": {
      "text/plain": "False"
     },
     "metadata": {},
     "execution_count": 6
    }
   ],
   "source": [
    "import numpy as np\n",
    "np.nan == None"
   ]
  },
  {
   "cell_type": "code",
   "execution_count": 7,
   "metadata": {},
   "outputs": [
    {
     "output_type": "execute_result",
     "data": {
      "text/plain": "False"
     },
     "metadata": {},
     "execution_count": 7
    }
   ],
   "source": [
    "np.nan == np.nan"
   ]
  },
  {
   "cell_type": "code",
   "execution_count": 8,
   "metadata": {},
   "outputs": [
    {
     "output_type": "execute_result",
     "data": {
      "text/plain": "True"
     },
     "metadata": {},
     "execution_count": 8
    }
   ],
   "source": [
    "np.isnan(np.nan)"
   ]
  },
  {
   "cell_type": "code",
   "execution_count": 9,
   "metadata": {},
   "outputs": [
    {
     "output_type": "execute_result",
     "data": {
      "text/plain": "Archery           Bhutan\nGolf            Scotland\nSumo               Japan\nTaekwondo    South Korea\ndtype: object"
     },
     "metadata": {},
     "execution_count": 9
    }
   ],
   "source": [
    "sports = {'Archery': 'Bhutan',\n",
    "          'Golf': 'Scotland',\n",
    "          'Sumo': 'Japan',\n",
    "          'Taekwondo': 'South Korea'}\n",
    "s = pd.Series(sports)\n",
    "s"
   ]
  },
  {
   "cell_type": "code",
   "execution_count": 10,
   "metadata": {},
   "outputs": [
    {
     "output_type": "execute_result",
     "data": {
      "text/plain": "Index(['Archery', 'Golf', 'Sumo', 'Taekwondo'], dtype='object')"
     },
     "metadata": {},
     "execution_count": 10
    }
   ],
   "source": [
    "s.index"
   ]
  },
  {
   "cell_type": "code",
   "execution_count": 11,
   "metadata": {},
   "outputs": [
    {
     "output_type": "execute_result",
     "data": {
      "text/plain": "India      Tiger\nAmerica     Bear\nCanada     Moose\ndtype: object"
     },
     "metadata": {},
     "execution_count": 11
    }
   ],
   "source": [
    "s = pd.Series(['Tiger', 'Bear', 'Moose'], index=['India', 'America', 'Canada'])\n",
    "s"
   ]
  },
  {
   "cell_type": "code",
   "execution_count": 12,
   "metadata": {},
   "outputs": [
    {
     "output_type": "execute_result",
     "data": {
      "text/plain": "Golf      Scotland\nSumo         Japan\nHockey         NaN\ndtype: object"
     },
     "metadata": {},
     "execution_count": 12
    }
   ],
   "source": [
    "sports = {'Archery': 'Bhutan',\n",
    "          'Golf': 'Scotland',\n",
    "          'Sumo': 'Japan',\n",
    "          'Taekwondo': 'South Korea'}\n",
    "s = pd.Series(sports, index=['Golf', 'Sumo', 'Hockey'])\n",
    "s"
   ]
  },
  {
   "cell_type": "markdown",
   "metadata": {},
   "source": [
    "# Querying a Series"
   ]
  },
  {
   "cell_type": "code",
   "execution_count": 13,
   "metadata": {},
   "outputs": [
    {
     "output_type": "execute_result",
     "data": {
      "text/plain": "Archery           Bhutan\nGolf            Scotland\nSumo               Japan\nTaekwondo    South Korea\ndtype: object"
     },
     "metadata": {},
     "execution_count": 13
    }
   ],
   "source": [
    "sports = {'Archery': 'Bhutan',\n",
    "          'Golf': 'Scotland',\n",
    "          'Sumo': 'Japan',\n",
    "          'Taekwondo': 'South Korea'}\n",
    "s = pd.Series(sports)\n",
    "s"
   ]
  },
  {
   "cell_type": "code",
   "execution_count": 14,
   "metadata": {},
   "outputs": [
    {
     "output_type": "execute_result",
     "data": {
      "text/plain": "'South Korea'"
     },
     "metadata": {},
     "execution_count": 14
    }
   ],
   "source": [
    "## To Query by numeric location we use iloc attribute\n",
    "s.iloc[3]"
   ]
  },
  {
   "cell_type": "code",
   "execution_count": 15,
   "metadata": {},
   "outputs": [
    {
     "output_type": "execute_result",
     "data": {
      "text/plain": "'Scotland'"
     },
     "metadata": {},
     "execution_count": 15
    }
   ],
   "source": [
    "## To Query by value we use iloc attribute\n",
    "s.loc['Golf']"
   ]
  },
  {
   "cell_type": "code",
   "execution_count": 16,
   "metadata": {},
   "outputs": [
    {
     "output_type": "execute_result",
     "data": {
      "text/plain": "'South Korea'"
     },
     "metadata": {},
     "execution_count": 16
    }
   ],
   "source": [
    "s[3]"
   ]
  },
  {
   "cell_type": "code",
   "execution_count": 17,
   "metadata": {},
   "outputs": [
    {
     "output_type": "execute_result",
     "data": {
      "text/plain": "'Scotland'"
     },
     "metadata": {},
     "execution_count": 17
    }
   ],
   "source": [
    "s['Golf']"
   ]
  },
  {
   "cell_type": "code",
   "execution_count": 18,
   "metadata": {},
   "outputs": [],
   "source": [
    "sports = {99: 'Bhutan',\n",
    "          100: 'Scotland',\n",
    "          101: 'Japan',\n",
    "          102: 'South Korea'}\n",
    "s = pd.Series(sports)"
   ]
  },
  {
   "cell_type": "code",
   "execution_count": 19,
   "metadata": {
    "scrolled": true
   },
   "outputs": [
    {
     "output_type": "error",
     "ename": "KeyError",
     "evalue": "0",
     "traceback": [
      "\u001b[1;31m---------------------------------------------------------------------------\u001b[0m",
      "\u001b[1;31mKeyError\u001b[0m                                  Traceback (most recent call last)",
      "\u001b[1;32m<ipython-input-19-00fa51989f14>\u001b[0m in \u001b[0;36m<module>\u001b[1;34m\u001b[0m\n\u001b[1;32m----> 1\u001b[1;33m \u001b[0ms\u001b[0m\u001b[1;33m[\u001b[0m\u001b[1;36m0\u001b[0m\u001b[1;33m]\u001b[0m \u001b[1;31m#This won't call s.iloc[0] as one might expect, it generates an error instead\u001b[0m\u001b[1;33m\u001b[0m\u001b[1;33m\u001b[0m\u001b[0m\n\u001b[0m",
      "\u001b[1;32m~\\anaconda3\\lib\\site-packages\\pandas\\core\\series.py\u001b[0m in \u001b[0;36m__getitem__\u001b[1;34m(self, key)\u001b[0m\n\u001b[0;32m    869\u001b[0m         \u001b[0mkey\u001b[0m \u001b[1;33m=\u001b[0m \u001b[0mcom\u001b[0m\u001b[1;33m.\u001b[0m\u001b[0mapply_if_callable\u001b[0m\u001b[1;33m(\u001b[0m\u001b[0mkey\u001b[0m\u001b[1;33m,\u001b[0m \u001b[0mself\u001b[0m\u001b[1;33m)\u001b[0m\u001b[1;33m\u001b[0m\u001b[1;33m\u001b[0m\u001b[0m\n\u001b[0;32m    870\u001b[0m         \u001b[1;32mtry\u001b[0m\u001b[1;33m:\u001b[0m\u001b[1;33m\u001b[0m\u001b[1;33m\u001b[0m\u001b[0m\n\u001b[1;32m--> 871\u001b[1;33m             \u001b[0mresult\u001b[0m \u001b[1;33m=\u001b[0m \u001b[0mself\u001b[0m\u001b[1;33m.\u001b[0m\u001b[0mindex\u001b[0m\u001b[1;33m.\u001b[0m\u001b[0mget_value\u001b[0m\u001b[1;33m(\u001b[0m\u001b[0mself\u001b[0m\u001b[1;33m,\u001b[0m \u001b[0mkey\u001b[0m\u001b[1;33m)\u001b[0m\u001b[1;33m\u001b[0m\u001b[1;33m\u001b[0m\u001b[0m\n\u001b[0m\u001b[0;32m    872\u001b[0m \u001b[1;33m\u001b[0m\u001b[0m\n\u001b[0;32m    873\u001b[0m             \u001b[1;32mif\u001b[0m \u001b[1;32mnot\u001b[0m \u001b[0mis_scalar\u001b[0m\u001b[1;33m(\u001b[0m\u001b[0mresult\u001b[0m\u001b[1;33m)\u001b[0m\u001b[1;33m:\u001b[0m\u001b[1;33m\u001b[0m\u001b[1;33m\u001b[0m\u001b[0m\n",
      "\u001b[1;32m~\\anaconda3\\lib\\site-packages\\pandas\\core\\indexes\\base.py\u001b[0m in \u001b[0;36mget_value\u001b[1;34m(self, series, key)\u001b[0m\n\u001b[0;32m   4402\u001b[0m         \u001b[0mk\u001b[0m \u001b[1;33m=\u001b[0m \u001b[0mself\u001b[0m\u001b[1;33m.\u001b[0m\u001b[0m_convert_scalar_indexer\u001b[0m\u001b[1;33m(\u001b[0m\u001b[0mk\u001b[0m\u001b[1;33m,\u001b[0m \u001b[0mkind\u001b[0m\u001b[1;33m=\u001b[0m\u001b[1;34m\"getitem\"\u001b[0m\u001b[1;33m)\u001b[0m\u001b[1;33m\u001b[0m\u001b[1;33m\u001b[0m\u001b[0m\n\u001b[0;32m   4403\u001b[0m         \u001b[1;32mtry\u001b[0m\u001b[1;33m:\u001b[0m\u001b[1;33m\u001b[0m\u001b[1;33m\u001b[0m\u001b[0m\n\u001b[1;32m-> 4404\u001b[1;33m             \u001b[1;32mreturn\u001b[0m \u001b[0mself\u001b[0m\u001b[1;33m.\u001b[0m\u001b[0m_engine\u001b[0m\u001b[1;33m.\u001b[0m\u001b[0mget_value\u001b[0m\u001b[1;33m(\u001b[0m\u001b[0ms\u001b[0m\u001b[1;33m,\u001b[0m \u001b[0mk\u001b[0m\u001b[1;33m,\u001b[0m \u001b[0mtz\u001b[0m\u001b[1;33m=\u001b[0m\u001b[0mgetattr\u001b[0m\u001b[1;33m(\u001b[0m\u001b[0mseries\u001b[0m\u001b[1;33m.\u001b[0m\u001b[0mdtype\u001b[0m\u001b[1;33m,\u001b[0m \u001b[1;34m\"tz\"\u001b[0m\u001b[1;33m,\u001b[0m \u001b[1;32mNone\u001b[0m\u001b[1;33m)\u001b[0m\u001b[1;33m)\u001b[0m\u001b[1;33m\u001b[0m\u001b[1;33m\u001b[0m\u001b[0m\n\u001b[0m\u001b[0;32m   4405\u001b[0m         \u001b[1;32mexcept\u001b[0m \u001b[0mKeyError\u001b[0m \u001b[1;32mas\u001b[0m \u001b[0me1\u001b[0m\u001b[1;33m:\u001b[0m\u001b[1;33m\u001b[0m\u001b[1;33m\u001b[0m\u001b[0m\n\u001b[0;32m   4406\u001b[0m             \u001b[1;32mif\u001b[0m \u001b[0mlen\u001b[0m\u001b[1;33m(\u001b[0m\u001b[0mself\u001b[0m\u001b[1;33m)\u001b[0m \u001b[1;33m>\u001b[0m \u001b[1;36m0\u001b[0m \u001b[1;32mand\u001b[0m \u001b[1;33m(\u001b[0m\u001b[0mself\u001b[0m\u001b[1;33m.\u001b[0m\u001b[0mholds_integer\u001b[0m\u001b[1;33m(\u001b[0m\u001b[1;33m)\u001b[0m \u001b[1;32mor\u001b[0m \u001b[0mself\u001b[0m\u001b[1;33m.\u001b[0m\u001b[0mis_boolean\u001b[0m\u001b[1;33m(\u001b[0m\u001b[1;33m)\u001b[0m\u001b[1;33m)\u001b[0m\u001b[1;33m:\u001b[0m\u001b[1;33m\u001b[0m\u001b[1;33m\u001b[0m\u001b[0m\n",
      "\u001b[1;32mpandas\\_libs\\index.pyx\u001b[0m in \u001b[0;36mpandas._libs.index.IndexEngine.get_value\u001b[1;34m()\u001b[0m\n",
      "\u001b[1;32mpandas\\_libs\\index.pyx\u001b[0m in \u001b[0;36mpandas._libs.index.IndexEngine.get_value\u001b[1;34m()\u001b[0m\n",
      "\u001b[1;32mpandas\\_libs\\index.pyx\u001b[0m in \u001b[0;36mpandas._libs.index.IndexEngine.get_loc\u001b[1;34m()\u001b[0m\n",
      "\u001b[1;32mpandas\\_libs\\hashtable_class_helper.pxi\u001b[0m in \u001b[0;36mpandas._libs.hashtable.Int64HashTable.get_item\u001b[1;34m()\u001b[0m\n",
      "\u001b[1;32mpandas\\_libs\\hashtable_class_helper.pxi\u001b[0m in \u001b[0;36mpandas._libs.hashtable.Int64HashTable.get_item\u001b[1;34m()\u001b[0m\n",
      "\u001b[1;31mKeyError\u001b[0m: 0"
     ]
    }
   ],
   "source": [
    "s[0] #This won't call s.iloc[0] as one might expect, it generates an error instead"
   ]
  },
  {
   "cell_type": "code",
   "execution_count": 20,
   "metadata": {},
   "outputs": [
    {
     "output_type": "execute_result",
     "data": {
      "text/plain": "0    100.0\n1    120.0\n2    101.0\n3      3.0\ndtype: float64"
     },
     "metadata": {},
     "execution_count": 20
    }
   ],
   "source": [
    "s = pd.Series([100.00, 120.00, 101.00, 3.00])\n",
    "s"
   ]
  },
  {
   "cell_type": "code",
   "execution_count": 21,
   "metadata": {
    "tags": []
   },
   "outputs": [
    {
     "output_type": "stream",
     "name": "stdout",
     "text": "324.0\n"
    }
   ],
   "source": [
    "total = 0\n",
    "for item in s:\n",
    "    total+=item\n",
    "print(total)"
   ]
  },
  {
   "cell_type": "code",
   "execution_count": 22,
   "metadata": {
    "tags": []
   },
   "outputs": [
    {
     "output_type": "stream",
     "name": "stdout",
     "text": "324.0\n"
    }
   ],
   "source": [
    "import numpy as np\n",
    "\n",
    "total = np.sum(s)\n",
    "print(total)"
   ]
  },
  {
   "cell_type": "code",
   "execution_count": 23,
   "metadata": {},
   "outputs": [
    {
     "output_type": "execute_result",
     "data": {
      "text/plain": "0    408\n1    756\n2     27\n3    695\n4    528\ndtype: int32"
     },
     "metadata": {},
     "execution_count": 23
    }
   ],
   "source": [
    "#this creates a big series of random numbers\n",
    "s = pd.Series(np.random.randint(0,1000,10000))\n",
    "s.head()"
   ]
  },
  {
   "cell_type": "code",
   "execution_count": 24,
   "metadata": {},
   "outputs": [
    {
     "output_type": "execute_result",
     "data": {
      "text/plain": "10000"
     },
     "metadata": {},
     "execution_count": 24
    }
   ],
   "source": [
    "len(s)"
   ]
  },
  {
   "cell_type": "code",
   "execution_count": 25,
   "metadata": {
    "tags": []
   },
   "outputs": [
    {
     "output_type": "stream",
     "name": "stdout",
     "text": "2.28 ms ± 733 µs per loop (mean ± std. dev. of 7 runs, 100 loops each)\n"
    }
   ],
   "source": [
    "%%timeit -n 100\n",
    "summary = 0\n",
    "for item in s:\n",
    "    summary+=item"
   ]
  },
  {
   "cell_type": "code",
   "execution_count": 26,
   "metadata": {
    "tags": []
   },
   "outputs": [
    {
     "output_type": "stream",
     "name": "stdout",
     "text": "113 µs ± 21.3 µs per loop (mean ± std. dev. of 7 runs, 100 loops each)\n"
    }
   ],
   "source": [
    "%%timeit -n 100\n",
    "summary = np.sum(s)"
   ]
  },
  {
   "cell_type": "code",
   "execution_count": 27,
   "metadata": {},
   "outputs": [
    {
     "output_type": "execute_result",
     "data": {
      "text/plain": "0    410\n1    758\n2     29\n3    697\n4    530\ndtype: int32"
     },
     "metadata": {},
     "execution_count": 27
    }
   ],
   "source": [
    "s+=2 #adds two to each item in s using broadcasting\n",
    "s.head()"
   ]
  },
  {
   "cell_type": "code",
   "execution_count": 28,
   "metadata": {},
   "outputs": [
    {
     "output_type": "error",
     "ename": "AttributeError",
     "evalue": "'Series' object has no attribute 'set_value'",
     "traceback": [
      "\u001b[1;31m---------------------------------------------------------------------------\u001b[0m",
      "\u001b[1;31mAttributeError\u001b[0m                            Traceback (most recent call last)",
      "\u001b[1;32m<ipython-input-28-5a98af01d3f1>\u001b[0m in \u001b[0;36m<module>\u001b[1;34m\u001b[0m\n\u001b[0;32m      1\u001b[0m \u001b[1;32mfor\u001b[0m \u001b[0mlabel\u001b[0m\u001b[1;33m,\u001b[0m \u001b[0mvalue\u001b[0m \u001b[1;32min\u001b[0m \u001b[0ms\u001b[0m\u001b[1;33m.\u001b[0m\u001b[0miteritems\u001b[0m\u001b[1;33m(\u001b[0m\u001b[1;33m)\u001b[0m\u001b[1;33m:\u001b[0m\u001b[1;33m\u001b[0m\u001b[1;33m\u001b[0m\u001b[0m\n\u001b[1;32m----> 2\u001b[1;33m     \u001b[0ms\u001b[0m\u001b[1;33m.\u001b[0m\u001b[0mset_value\u001b[0m\u001b[1;33m(\u001b[0m\u001b[0mlabel\u001b[0m\u001b[1;33m,\u001b[0m \u001b[0mvalue\u001b[0m\u001b[1;33m+\u001b[0m\u001b[1;36m2\u001b[0m\u001b[1;33m)\u001b[0m\u001b[1;33m\u001b[0m\u001b[1;33m\u001b[0m\u001b[0m\n\u001b[0m\u001b[0;32m      3\u001b[0m \u001b[0ms\u001b[0m\u001b[1;33m.\u001b[0m\u001b[0mhead\u001b[0m\u001b[1;33m(\u001b[0m\u001b[1;33m)\u001b[0m\u001b[1;33m\u001b[0m\u001b[1;33m\u001b[0m\u001b[0m\n",
      "\u001b[1;32m~\\anaconda3\\lib\\site-packages\\pandas\\core\\generic.py\u001b[0m in \u001b[0;36m__getattr__\u001b[1;34m(self, name)\u001b[0m\n\u001b[0;32m   5272\u001b[0m             \u001b[1;32mif\u001b[0m \u001b[0mself\u001b[0m\u001b[1;33m.\u001b[0m\u001b[0m_info_axis\u001b[0m\u001b[1;33m.\u001b[0m\u001b[0m_can_hold_identifiers_and_holds_name\u001b[0m\u001b[1;33m(\u001b[0m\u001b[0mname\u001b[0m\u001b[1;33m)\u001b[0m\u001b[1;33m:\u001b[0m\u001b[1;33m\u001b[0m\u001b[1;33m\u001b[0m\u001b[0m\n\u001b[0;32m   5273\u001b[0m                 \u001b[1;32mreturn\u001b[0m \u001b[0mself\u001b[0m\u001b[1;33m[\u001b[0m\u001b[0mname\u001b[0m\u001b[1;33m]\u001b[0m\u001b[1;33m\u001b[0m\u001b[1;33m\u001b[0m\u001b[0m\n\u001b[1;32m-> 5274\u001b[1;33m             \u001b[1;32mreturn\u001b[0m \u001b[0mobject\u001b[0m\u001b[1;33m.\u001b[0m\u001b[0m__getattribute__\u001b[0m\u001b[1;33m(\u001b[0m\u001b[0mself\u001b[0m\u001b[1;33m,\u001b[0m \u001b[0mname\u001b[0m\u001b[1;33m)\u001b[0m\u001b[1;33m\u001b[0m\u001b[1;33m\u001b[0m\u001b[0m\n\u001b[0m\u001b[0;32m   5275\u001b[0m \u001b[1;33m\u001b[0m\u001b[0m\n\u001b[0;32m   5276\u001b[0m     \u001b[1;32mdef\u001b[0m \u001b[0m__setattr__\u001b[0m\u001b[1;33m(\u001b[0m\u001b[0mself\u001b[0m\u001b[1;33m,\u001b[0m \u001b[0mname\u001b[0m\u001b[1;33m:\u001b[0m \u001b[0mstr\u001b[0m\u001b[1;33m,\u001b[0m \u001b[0mvalue\u001b[0m\u001b[1;33m)\u001b[0m \u001b[1;33m->\u001b[0m \u001b[1;32mNone\u001b[0m\u001b[1;33m:\u001b[0m\u001b[1;33m\u001b[0m\u001b[1;33m\u001b[0m\u001b[0m\n",
      "\u001b[1;31mAttributeError\u001b[0m: 'Series' object has no attribute 'set_value'"
     ]
    }
   ],
   "source": [
    "for label, value in s.iteritems():\n",
    "    s.set_value(label, value+2)\n",
    "s.head()"
   ]
  },
  {
   "cell_type": "code",
   "execution_count": 29,
   "metadata": {
    "tags": []
   },
   "outputs": [
    {
     "output_type": "error",
     "ename": "KeyboardInterrupt",
     "evalue": "",
     "traceback": [
      "\u001b[1;31m---------------------------------------------------------------------------\u001b[0m",
      "\u001b[1;31mKeyboardInterrupt\u001b[0m                         Traceback (most recent call last)",
      "\u001b[1;32m<ipython-input-29-5564268bdec5>\u001b[0m in \u001b[0;36m<module>\u001b[1;34m\u001b[0m\n\u001b[1;32m----> 1\u001b[1;33m \u001b[0mget_ipython\u001b[0m\u001b[1;33m(\u001b[0m\u001b[1;33m)\u001b[0m\u001b[1;33m.\u001b[0m\u001b[0mrun_cell_magic\u001b[0m\u001b[1;33m(\u001b[0m\u001b[1;34m'timeit'\u001b[0m\u001b[1;33m,\u001b[0m \u001b[1;34m'-n 10'\u001b[0m\u001b[1;33m,\u001b[0m \u001b[1;34m's = pd.Series(np.random.randint(0,1000,10000))\\nfor label, value in s.iteritems():\\n    s.loc[label]= value+2\\n'\u001b[0m\u001b[1;33m)\u001b[0m\u001b[1;33m\u001b[0m\u001b[1;33m\u001b[0m\u001b[0m\n\u001b[0m",
      "\u001b[1;32m~\\anaconda3\\lib\\site-packages\\IPython\\core\\interactiveshell.py\u001b[0m in \u001b[0;36mrun_cell_magic\u001b[1;34m(self, magic_name, line, cell)\u001b[0m\n\u001b[0;32m   2360\u001b[0m             \u001b[1;32mwith\u001b[0m \u001b[0mself\u001b[0m\u001b[1;33m.\u001b[0m\u001b[0mbuiltin_trap\u001b[0m\u001b[1;33m:\u001b[0m\u001b[1;33m\u001b[0m\u001b[1;33m\u001b[0m\u001b[0m\n\u001b[0;32m   2361\u001b[0m                 \u001b[0margs\u001b[0m \u001b[1;33m=\u001b[0m \u001b[1;33m(\u001b[0m\u001b[0mmagic_arg_s\u001b[0m\u001b[1;33m,\u001b[0m \u001b[0mcell\u001b[0m\u001b[1;33m)\u001b[0m\u001b[1;33m\u001b[0m\u001b[1;33m\u001b[0m\u001b[0m\n\u001b[1;32m-> 2362\u001b[1;33m                 \u001b[0mresult\u001b[0m \u001b[1;33m=\u001b[0m \u001b[0mfn\u001b[0m\u001b[1;33m(\u001b[0m\u001b[1;33m*\u001b[0m\u001b[0margs\u001b[0m\u001b[1;33m,\u001b[0m \u001b[1;33m**\u001b[0m\u001b[0mkwargs\u001b[0m\u001b[1;33m)\u001b[0m\u001b[1;33m\u001b[0m\u001b[1;33m\u001b[0m\u001b[0m\n\u001b[0m\u001b[0;32m   2363\u001b[0m             \u001b[1;32mreturn\u001b[0m \u001b[0mresult\u001b[0m\u001b[1;33m\u001b[0m\u001b[1;33m\u001b[0m\u001b[0m\n\u001b[0;32m   2364\u001b[0m \u001b[1;33m\u001b[0m\u001b[0m\n",
      "\u001b[1;32m<decorator-gen-61>\u001b[0m in \u001b[0;36mtimeit\u001b[1;34m(self, line, cell, local_ns)\u001b[0m\n",
      "\u001b[1;32m~\\anaconda3\\lib\\site-packages\\IPython\\core\\magic.py\u001b[0m in \u001b[0;36m<lambda>\u001b[1;34m(f, *a, **k)\u001b[0m\n\u001b[0;32m    185\u001b[0m     \u001b[1;31m# but it's overkill for just that one bit of state.\u001b[0m\u001b[1;33m\u001b[0m\u001b[1;33m\u001b[0m\u001b[1;33m\u001b[0m\u001b[0m\n\u001b[0;32m    186\u001b[0m     \u001b[1;32mdef\u001b[0m \u001b[0mmagic_deco\u001b[0m\u001b[1;33m(\u001b[0m\u001b[0marg\u001b[0m\u001b[1;33m)\u001b[0m\u001b[1;33m:\u001b[0m\u001b[1;33m\u001b[0m\u001b[1;33m\u001b[0m\u001b[0m\n\u001b[1;32m--> 187\u001b[1;33m         \u001b[0mcall\u001b[0m \u001b[1;33m=\u001b[0m \u001b[1;32mlambda\u001b[0m \u001b[0mf\u001b[0m\u001b[1;33m,\u001b[0m \u001b[1;33m*\u001b[0m\u001b[0ma\u001b[0m\u001b[1;33m,\u001b[0m \u001b[1;33m**\u001b[0m\u001b[0mk\u001b[0m\u001b[1;33m:\u001b[0m \u001b[0mf\u001b[0m\u001b[1;33m(\u001b[0m\u001b[1;33m*\u001b[0m\u001b[0ma\u001b[0m\u001b[1;33m,\u001b[0m \u001b[1;33m**\u001b[0m\u001b[0mk\u001b[0m\u001b[1;33m)\u001b[0m\u001b[1;33m\u001b[0m\u001b[1;33m\u001b[0m\u001b[0m\n\u001b[0m\u001b[0;32m    188\u001b[0m \u001b[1;33m\u001b[0m\u001b[0m\n\u001b[0;32m    189\u001b[0m         \u001b[1;32mif\u001b[0m \u001b[0mcallable\u001b[0m\u001b[1;33m(\u001b[0m\u001b[0marg\u001b[0m\u001b[1;33m)\u001b[0m\u001b[1;33m:\u001b[0m\u001b[1;33m\u001b[0m\u001b[1;33m\u001b[0m\u001b[0m\n",
      "\u001b[1;32m~\\anaconda3\\lib\\site-packages\\IPython\\core\\magics\\execution.py\u001b[0m in \u001b[0;36mtimeit\u001b[1;34m(self, line, cell, local_ns)\u001b[0m\n\u001b[0;32m   1162\u001b[0m                     \u001b[1;32mbreak\u001b[0m\u001b[1;33m\u001b[0m\u001b[1;33m\u001b[0m\u001b[0m\n\u001b[0;32m   1163\u001b[0m \u001b[1;33m\u001b[0m\u001b[0m\n\u001b[1;32m-> 1164\u001b[1;33m         \u001b[0mall_runs\u001b[0m \u001b[1;33m=\u001b[0m \u001b[0mtimer\u001b[0m\u001b[1;33m.\u001b[0m\u001b[0mrepeat\u001b[0m\u001b[1;33m(\u001b[0m\u001b[0mrepeat\u001b[0m\u001b[1;33m,\u001b[0m \u001b[0mnumber\u001b[0m\u001b[1;33m)\u001b[0m\u001b[1;33m\u001b[0m\u001b[1;33m\u001b[0m\u001b[0m\n\u001b[0m\u001b[0;32m   1165\u001b[0m         \u001b[0mbest\u001b[0m \u001b[1;33m=\u001b[0m \u001b[0mmin\u001b[0m\u001b[1;33m(\u001b[0m\u001b[0mall_runs\u001b[0m\u001b[1;33m)\u001b[0m \u001b[1;33m/\u001b[0m \u001b[0mnumber\u001b[0m\u001b[1;33m\u001b[0m\u001b[1;33m\u001b[0m\u001b[0m\n\u001b[0;32m   1166\u001b[0m         \u001b[0mworst\u001b[0m \u001b[1;33m=\u001b[0m \u001b[0mmax\u001b[0m\u001b[1;33m(\u001b[0m\u001b[0mall_runs\u001b[0m\u001b[1;33m)\u001b[0m \u001b[1;33m/\u001b[0m \u001b[0mnumber\u001b[0m\u001b[1;33m\u001b[0m\u001b[1;33m\u001b[0m\u001b[0m\n",
      "\u001b[1;32m~\\anaconda3\\lib\\timeit.py\u001b[0m in \u001b[0;36mrepeat\u001b[1;34m(self, repeat, number)\u001b[0m\n\u001b[0;32m    202\u001b[0m         \u001b[0mr\u001b[0m \u001b[1;33m=\u001b[0m \u001b[1;33m[\u001b[0m\u001b[1;33m]\u001b[0m\u001b[1;33m\u001b[0m\u001b[1;33m\u001b[0m\u001b[0m\n\u001b[0;32m    203\u001b[0m         \u001b[1;32mfor\u001b[0m \u001b[0mi\u001b[0m \u001b[1;32min\u001b[0m \u001b[0mrange\u001b[0m\u001b[1;33m(\u001b[0m\u001b[0mrepeat\u001b[0m\u001b[1;33m)\u001b[0m\u001b[1;33m:\u001b[0m\u001b[1;33m\u001b[0m\u001b[1;33m\u001b[0m\u001b[0m\n\u001b[1;32m--> 204\u001b[1;33m             \u001b[0mt\u001b[0m \u001b[1;33m=\u001b[0m \u001b[0mself\u001b[0m\u001b[1;33m.\u001b[0m\u001b[0mtimeit\u001b[0m\u001b[1;33m(\u001b[0m\u001b[0mnumber\u001b[0m\u001b[1;33m)\u001b[0m\u001b[1;33m\u001b[0m\u001b[1;33m\u001b[0m\u001b[0m\n\u001b[0m\u001b[0;32m    205\u001b[0m             \u001b[0mr\u001b[0m\u001b[1;33m.\u001b[0m\u001b[0mappend\u001b[0m\u001b[1;33m(\u001b[0m\u001b[0mt\u001b[0m\u001b[1;33m)\u001b[0m\u001b[1;33m\u001b[0m\u001b[1;33m\u001b[0m\u001b[0m\n\u001b[0;32m    206\u001b[0m         \u001b[1;32mreturn\u001b[0m \u001b[0mr\u001b[0m\u001b[1;33m\u001b[0m\u001b[1;33m\u001b[0m\u001b[0m\n",
      "\u001b[1;32m~\\anaconda3\\lib\\site-packages\\IPython\\core\\magics\\execution.py\u001b[0m in \u001b[0;36mtimeit\u001b[1;34m(self, number)\u001b[0m\n\u001b[0;32m    167\u001b[0m         \u001b[0mgc\u001b[0m\u001b[1;33m.\u001b[0m\u001b[0mdisable\u001b[0m\u001b[1;33m(\u001b[0m\u001b[1;33m)\u001b[0m\u001b[1;33m\u001b[0m\u001b[1;33m\u001b[0m\u001b[0m\n\u001b[0;32m    168\u001b[0m         \u001b[1;32mtry\u001b[0m\u001b[1;33m:\u001b[0m\u001b[1;33m\u001b[0m\u001b[1;33m\u001b[0m\u001b[0m\n\u001b[1;32m--> 169\u001b[1;33m             \u001b[0mtiming\u001b[0m \u001b[1;33m=\u001b[0m \u001b[0mself\u001b[0m\u001b[1;33m.\u001b[0m\u001b[0minner\u001b[0m\u001b[1;33m(\u001b[0m\u001b[0mit\u001b[0m\u001b[1;33m,\u001b[0m \u001b[0mself\u001b[0m\u001b[1;33m.\u001b[0m\u001b[0mtimer\u001b[0m\u001b[1;33m)\u001b[0m\u001b[1;33m\u001b[0m\u001b[1;33m\u001b[0m\u001b[0m\n\u001b[0m\u001b[0;32m    170\u001b[0m         \u001b[1;32mfinally\u001b[0m\u001b[1;33m:\u001b[0m\u001b[1;33m\u001b[0m\u001b[1;33m\u001b[0m\u001b[0m\n\u001b[0;32m    171\u001b[0m             \u001b[1;32mif\u001b[0m \u001b[0mgcold\u001b[0m\u001b[1;33m:\u001b[0m\u001b[1;33m\u001b[0m\u001b[1;33m\u001b[0m\u001b[0m\n",
      "\u001b[1;32m<magic-timeit>\u001b[0m in \u001b[0;36minner\u001b[1;34m(_it, _timer)\u001b[0m\n",
      "\u001b[1;32m~\\anaconda3\\lib\\site-packages\\pandas\\core\\indexing.py\u001b[0m in \u001b[0;36m__setitem__\u001b[1;34m(self, key, value)\u001b[0m\n\u001b[0;32m    669\u001b[0m             \u001b[0mkey\u001b[0m \u001b[1;33m=\u001b[0m \u001b[0mcom\u001b[0m\u001b[1;33m.\u001b[0m\u001b[0mapply_if_callable\u001b[0m\u001b[1;33m(\u001b[0m\u001b[0mkey\u001b[0m\u001b[1;33m,\u001b[0m \u001b[0mself\u001b[0m\u001b[1;33m.\u001b[0m\u001b[0mobj\u001b[0m\u001b[1;33m)\u001b[0m\u001b[1;33m\u001b[0m\u001b[1;33m\u001b[0m\u001b[0m\n\u001b[0;32m    670\u001b[0m         \u001b[0mindexer\u001b[0m \u001b[1;33m=\u001b[0m \u001b[0mself\u001b[0m\u001b[1;33m.\u001b[0m\u001b[0m_get_setitem_indexer\u001b[0m\u001b[1;33m(\u001b[0m\u001b[0mkey\u001b[0m\u001b[1;33m)\u001b[0m\u001b[1;33m\u001b[0m\u001b[1;33m\u001b[0m\u001b[0m\n\u001b[1;32m--> 671\u001b[1;33m         \u001b[0mself\u001b[0m\u001b[1;33m.\u001b[0m\u001b[0m_setitem_with_indexer\u001b[0m\u001b[1;33m(\u001b[0m\u001b[0mindexer\u001b[0m\u001b[1;33m,\u001b[0m \u001b[0mvalue\u001b[0m\u001b[1;33m)\u001b[0m\u001b[1;33m\u001b[0m\u001b[1;33m\u001b[0m\u001b[0m\n\u001b[0m\u001b[0;32m    672\u001b[0m \u001b[1;33m\u001b[0m\u001b[0m\n\u001b[0;32m    673\u001b[0m     \u001b[1;32mdef\u001b[0m \u001b[0m_validate_key\u001b[0m\u001b[1;33m(\u001b[0m\u001b[0mself\u001b[0m\u001b[1;33m,\u001b[0m \u001b[0mkey\u001b[0m\u001b[1;33m,\u001b[0m \u001b[0maxis\u001b[0m\u001b[1;33m:\u001b[0m \u001b[0mint\u001b[0m\u001b[1;33m)\u001b[0m\u001b[1;33m:\u001b[0m\u001b[1;33m\u001b[0m\u001b[1;33m\u001b[0m\u001b[0m\n",
      "\u001b[1;32m~\\anaconda3\\lib\\site-packages\\pandas\\core\\indexing.py\u001b[0m in \u001b[0;36m_setitem_with_indexer\u001b[1;34m(self, indexer, value)\u001b[0m\n\u001b[0;32m   1063\u001b[0m             \u001b[1;31m# actually do the set\u001b[0m\u001b[1;33m\u001b[0m\u001b[1;33m\u001b[0m\u001b[1;33m\u001b[0m\u001b[0m\n\u001b[0;32m   1064\u001b[0m             \u001b[0mself\u001b[0m\u001b[1;33m.\u001b[0m\u001b[0mobj\u001b[0m\u001b[1;33m.\u001b[0m\u001b[0m_consolidate_inplace\u001b[0m\u001b[1;33m(\u001b[0m\u001b[1;33m)\u001b[0m\u001b[1;33m\u001b[0m\u001b[1;33m\u001b[0m\u001b[0m\n\u001b[1;32m-> 1065\u001b[1;33m             \u001b[0mself\u001b[0m\u001b[1;33m.\u001b[0m\u001b[0mobj\u001b[0m\u001b[1;33m.\u001b[0m\u001b[0m_data\u001b[0m \u001b[1;33m=\u001b[0m \u001b[0mself\u001b[0m\u001b[1;33m.\u001b[0m\u001b[0mobj\u001b[0m\u001b[1;33m.\u001b[0m\u001b[0m_data\u001b[0m\u001b[1;33m.\u001b[0m\u001b[0msetitem\u001b[0m\u001b[1;33m(\u001b[0m\u001b[0mindexer\u001b[0m\u001b[1;33m=\u001b[0m\u001b[0mindexer\u001b[0m\u001b[1;33m,\u001b[0m \u001b[0mvalue\u001b[0m\u001b[1;33m=\u001b[0m\u001b[0mvalue\u001b[0m\u001b[1;33m)\u001b[0m\u001b[1;33m\u001b[0m\u001b[1;33m\u001b[0m\u001b[0m\n\u001b[0m\u001b[0;32m   1066\u001b[0m             \u001b[0mself\u001b[0m\u001b[1;33m.\u001b[0m\u001b[0mobj\u001b[0m\u001b[1;33m.\u001b[0m\u001b[0m_maybe_update_cacher\u001b[0m\u001b[1;33m(\u001b[0m\u001b[0mclear\u001b[0m\u001b[1;33m=\u001b[0m\u001b[1;32mTrue\u001b[0m\u001b[1;33m)\u001b[0m\u001b[1;33m\u001b[0m\u001b[1;33m\u001b[0m\u001b[0m\n\u001b[0;32m   1067\u001b[0m \u001b[1;33m\u001b[0m\u001b[0m\n",
      "\u001b[1;32m~\\anaconda3\\lib\\site-packages\\pandas\\core\\internals\\managers.py\u001b[0m in \u001b[0;36msetitem\u001b[1;34m(self, **kwargs)\u001b[0m\n\u001b[0;32m    559\u001b[0m \u001b[1;33m\u001b[0m\u001b[0m\n\u001b[0;32m    560\u001b[0m     \u001b[1;32mdef\u001b[0m \u001b[0msetitem\u001b[0m\u001b[1;33m(\u001b[0m\u001b[0mself\u001b[0m\u001b[1;33m,\u001b[0m \u001b[1;33m**\u001b[0m\u001b[0mkwargs\u001b[0m\u001b[1;33m)\u001b[0m\u001b[1;33m:\u001b[0m\u001b[1;33m\u001b[0m\u001b[1;33m\u001b[0m\u001b[0m\n\u001b[1;32m--> 561\u001b[1;33m         \u001b[1;32mreturn\u001b[0m \u001b[0mself\u001b[0m\u001b[1;33m.\u001b[0m\u001b[0mapply\u001b[0m\u001b[1;33m(\u001b[0m\u001b[1;34m\"setitem\"\u001b[0m\u001b[1;33m,\u001b[0m \u001b[1;33m**\u001b[0m\u001b[0mkwargs\u001b[0m\u001b[1;33m)\u001b[0m\u001b[1;33m\u001b[0m\u001b[1;33m\u001b[0m\u001b[0m\n\u001b[0m\u001b[0;32m    562\u001b[0m \u001b[1;33m\u001b[0m\u001b[0m\n\u001b[0;32m    563\u001b[0m     \u001b[1;32mdef\u001b[0m \u001b[0mputmask\u001b[0m\u001b[1;33m(\u001b[0m\u001b[0mself\u001b[0m\u001b[1;33m,\u001b[0m \u001b[1;33m**\u001b[0m\u001b[0mkwargs\u001b[0m\u001b[1;33m)\u001b[0m\u001b[1;33m:\u001b[0m\u001b[1;33m\u001b[0m\u001b[1;33m\u001b[0m\u001b[0m\n",
      "\u001b[1;32m~\\anaconda3\\lib\\site-packages\\pandas\\core\\internals\\managers.py\u001b[0m in \u001b[0;36mapply\u001b[1;34m(self, f, filter, **kwargs)\u001b[0m\n\u001b[0;32m    440\u001b[0m                 \u001b[0mapplied\u001b[0m \u001b[1;33m=\u001b[0m \u001b[0mb\u001b[0m\u001b[1;33m.\u001b[0m\u001b[0mapply\u001b[0m\u001b[1;33m(\u001b[0m\u001b[0mf\u001b[0m\u001b[1;33m,\u001b[0m \u001b[1;33m**\u001b[0m\u001b[0mkwargs\u001b[0m\u001b[1;33m)\u001b[0m\u001b[1;33m\u001b[0m\u001b[1;33m\u001b[0m\u001b[0m\n\u001b[0;32m    441\u001b[0m             \u001b[1;32melse\u001b[0m\u001b[1;33m:\u001b[0m\u001b[1;33m\u001b[0m\u001b[1;33m\u001b[0m\u001b[0m\n\u001b[1;32m--> 442\u001b[1;33m                 \u001b[0mapplied\u001b[0m \u001b[1;33m=\u001b[0m \u001b[0mgetattr\u001b[0m\u001b[1;33m(\u001b[0m\u001b[0mb\u001b[0m\u001b[1;33m,\u001b[0m \u001b[0mf\u001b[0m\u001b[1;33m)\u001b[0m\u001b[1;33m(\u001b[0m\u001b[1;33m**\u001b[0m\u001b[0mkwargs\u001b[0m\u001b[1;33m)\u001b[0m\u001b[1;33m\u001b[0m\u001b[1;33m\u001b[0m\u001b[0m\n\u001b[0m\u001b[0;32m    443\u001b[0m             \u001b[0mresult_blocks\u001b[0m \u001b[1;33m=\u001b[0m \u001b[0m_extend_blocks\u001b[0m\u001b[1;33m(\u001b[0m\u001b[0mapplied\u001b[0m\u001b[1;33m,\u001b[0m \u001b[0mresult_blocks\u001b[0m\u001b[1;33m)\u001b[0m\u001b[1;33m\u001b[0m\u001b[1;33m\u001b[0m\u001b[0m\n\u001b[0;32m    444\u001b[0m \u001b[1;33m\u001b[0m\u001b[0m\n",
      "\u001b[1;32m~\\anaconda3\\lib\\site-packages\\pandas\\core\\internals\\blocks.py\u001b[0m in \u001b[0;36msetitem\u001b[1;34m(self, indexer, value)\u001b[0m\n\u001b[0;32m    916\u001b[0m         \u001b[1;32mif\u001b[0m \u001b[0mtranspose\u001b[0m\u001b[1;33m:\u001b[0m\u001b[1;33m\u001b[0m\u001b[1;33m\u001b[0m\u001b[0m\n\u001b[0;32m    917\u001b[0m             \u001b[0mvalues\u001b[0m \u001b[1;33m=\u001b[0m \u001b[0mvalues\u001b[0m\u001b[1;33m.\u001b[0m\u001b[0mT\u001b[0m\u001b[1;33m\u001b[0m\u001b[1;33m\u001b[0m\u001b[0m\n\u001b[1;32m--> 918\u001b[1;33m         \u001b[0mblock\u001b[0m \u001b[1;33m=\u001b[0m \u001b[0mself\u001b[0m\u001b[1;33m.\u001b[0m\u001b[0mmake_block\u001b[0m\u001b[1;33m(\u001b[0m\u001b[0mvalues\u001b[0m\u001b[1;33m)\u001b[0m\u001b[1;33m\u001b[0m\u001b[1;33m\u001b[0m\u001b[0m\n\u001b[0m\u001b[0;32m    919\u001b[0m         \u001b[1;32mreturn\u001b[0m \u001b[0mblock\u001b[0m\u001b[1;33m\u001b[0m\u001b[1;33m\u001b[0m\u001b[0m\n\u001b[0;32m    920\u001b[0m \u001b[1;33m\u001b[0m\u001b[0m\n",
      "\u001b[1;32m~\\anaconda3\\lib\\site-packages\\pandas\\core\\internals\\blocks.py\u001b[0m in \u001b[0;36mmake_block\u001b[1;34m(self, values, placement)\u001b[0m\n\u001b[0;32m    271\u001b[0m             \u001b[0mplacement\u001b[0m \u001b[1;33m=\u001b[0m \u001b[0mself\u001b[0m\u001b[1;33m.\u001b[0m\u001b[0mmgr_locs\u001b[0m\u001b[1;33m\u001b[0m\u001b[1;33m\u001b[0m\u001b[0m\n\u001b[0;32m    272\u001b[0m \u001b[1;33m\u001b[0m\u001b[0m\n\u001b[1;32m--> 273\u001b[1;33m         \u001b[1;32mreturn\u001b[0m \u001b[0mmake_block\u001b[0m\u001b[1;33m(\u001b[0m\u001b[0mvalues\u001b[0m\u001b[1;33m,\u001b[0m \u001b[0mplacement\u001b[0m\u001b[1;33m=\u001b[0m\u001b[0mplacement\u001b[0m\u001b[1;33m,\u001b[0m \u001b[0mndim\u001b[0m\u001b[1;33m=\u001b[0m\u001b[0mself\u001b[0m\u001b[1;33m.\u001b[0m\u001b[0mndim\u001b[0m\u001b[1;33m)\u001b[0m\u001b[1;33m\u001b[0m\u001b[1;33m\u001b[0m\u001b[0m\n\u001b[0m\u001b[0;32m    274\u001b[0m \u001b[1;33m\u001b[0m\u001b[0m\n\u001b[0;32m    275\u001b[0m     \u001b[1;32mdef\u001b[0m \u001b[0mmake_block_same_class\u001b[0m\u001b[1;33m(\u001b[0m\u001b[0mself\u001b[0m\u001b[1;33m,\u001b[0m \u001b[0mvalues\u001b[0m\u001b[1;33m,\u001b[0m \u001b[0mplacement\u001b[0m\u001b[1;33m=\u001b[0m\u001b[1;32mNone\u001b[0m\u001b[1;33m,\u001b[0m \u001b[0mndim\u001b[0m\u001b[1;33m=\u001b[0m\u001b[1;32mNone\u001b[0m\u001b[1;33m)\u001b[0m\u001b[1;33m:\u001b[0m\u001b[1;33m\u001b[0m\u001b[1;33m\u001b[0m\u001b[0m\n",
      "\u001b[1;32m~\\anaconda3\\lib\\site-packages\\pandas\\core\\internals\\blocks.py\u001b[0m in \u001b[0;36mmake_block\u001b[1;34m(values, placement, klass, ndim, dtype)\u001b[0m\n\u001b[0;32m   3038\u001b[0m     \u001b[1;32mif\u001b[0m \u001b[0mklass\u001b[0m \u001b[1;32mis\u001b[0m \u001b[1;32mNone\u001b[0m\u001b[1;33m:\u001b[0m\u001b[1;33m\u001b[0m\u001b[1;33m\u001b[0m\u001b[0m\n\u001b[0;32m   3039\u001b[0m         \u001b[0mdtype\u001b[0m \u001b[1;33m=\u001b[0m \u001b[0mdtype\u001b[0m \u001b[1;32mor\u001b[0m \u001b[0mvalues\u001b[0m\u001b[1;33m.\u001b[0m\u001b[0mdtype\u001b[0m\u001b[1;33m\u001b[0m\u001b[1;33m\u001b[0m\u001b[0m\n\u001b[1;32m-> 3040\u001b[1;33m         \u001b[0mklass\u001b[0m \u001b[1;33m=\u001b[0m \u001b[0mget_block_type\u001b[0m\u001b[1;33m(\u001b[0m\u001b[0mvalues\u001b[0m\u001b[1;33m,\u001b[0m \u001b[0mdtype\u001b[0m\u001b[1;33m)\u001b[0m\u001b[1;33m\u001b[0m\u001b[1;33m\u001b[0m\u001b[0m\n\u001b[0m\u001b[0;32m   3041\u001b[0m \u001b[1;33m\u001b[0m\u001b[0m\n\u001b[0;32m   3042\u001b[0m     \u001b[1;32melif\u001b[0m \u001b[0mklass\u001b[0m \u001b[1;32mis\u001b[0m \u001b[0mDatetimeTZBlock\u001b[0m \u001b[1;32mand\u001b[0m \u001b[1;32mnot\u001b[0m \u001b[0mis_datetime64tz_dtype\u001b[0m\u001b[1;33m(\u001b[0m\u001b[0mvalues\u001b[0m\u001b[1;33m)\u001b[0m\u001b[1;33m:\u001b[0m\u001b[1;33m\u001b[0m\u001b[1;33m\u001b[0m\u001b[0m\n",
      "\u001b[1;32m~\\anaconda3\\lib\\site-packages\\pandas\\core\\internals\\blocks.py\u001b[0m in \u001b[0;36mget_block_type\u001b[1;34m(values, dtype)\u001b[0m\n\u001b[0;32m   2998\u001b[0m         \u001b[1;31m# Need this first(ish) so that Sparse[datetime] is sparse\u001b[0m\u001b[1;33m\u001b[0m\u001b[1;33m\u001b[0m\u001b[1;33m\u001b[0m\u001b[0m\n\u001b[0;32m   2999\u001b[0m         \u001b[0mcls\u001b[0m \u001b[1;33m=\u001b[0m \u001b[0mExtensionBlock\u001b[0m\u001b[1;33m\u001b[0m\u001b[1;33m\u001b[0m\u001b[0m\n\u001b[1;32m-> 3000\u001b[1;33m     \u001b[1;32melif\u001b[0m \u001b[0mis_categorical\u001b[0m\u001b[1;33m(\u001b[0m\u001b[0mvalues\u001b[0m\u001b[1;33m)\u001b[0m\u001b[1;33m:\u001b[0m\u001b[1;33m\u001b[0m\u001b[1;33m\u001b[0m\u001b[0m\n\u001b[0m\u001b[0;32m   3001\u001b[0m         \u001b[0mcls\u001b[0m \u001b[1;33m=\u001b[0m \u001b[0mCategoricalBlock\u001b[0m\u001b[1;33m\u001b[0m\u001b[1;33m\u001b[0m\u001b[0m\n\u001b[0;32m   3002\u001b[0m     \u001b[1;32melif\u001b[0m \u001b[0missubclass\u001b[0m\u001b[1;33m(\u001b[0m\u001b[0mvtype\u001b[0m\u001b[1;33m,\u001b[0m \u001b[0mnp\u001b[0m\u001b[1;33m.\u001b[0m\u001b[0mdatetime64\u001b[0m\u001b[1;33m)\u001b[0m\u001b[1;33m:\u001b[0m\u001b[1;33m\u001b[0m\u001b[1;33m\u001b[0m\u001b[0m\n",
      "\u001b[1;32m~\\anaconda3\\lib\\site-packages\\pandas\\core\\dtypes\\common.py\u001b[0m in \u001b[0;36mis_categorical\u001b[1;34m(arr)\u001b[0m\n\u001b[0;32m    367\u001b[0m     \"\"\"\n\u001b[0;32m    368\u001b[0m \u001b[1;33m\u001b[0m\u001b[0m\n\u001b[1;32m--> 369\u001b[1;33m     \u001b[1;32mreturn\u001b[0m \u001b[0misinstance\u001b[0m\u001b[1;33m(\u001b[0m\u001b[0marr\u001b[0m\u001b[1;33m,\u001b[0m \u001b[0mABCCategorical\u001b[0m\u001b[1;33m)\u001b[0m \u001b[1;32mor\u001b[0m \u001b[0mis_categorical_dtype\u001b[0m\u001b[1;33m(\u001b[0m\u001b[0marr\u001b[0m\u001b[1;33m)\u001b[0m\u001b[1;33m\u001b[0m\u001b[1;33m\u001b[0m\u001b[0m\n\u001b[0m\u001b[0;32m    370\u001b[0m \u001b[1;33m\u001b[0m\u001b[0m\n\u001b[0;32m    371\u001b[0m \u001b[1;33m\u001b[0m\u001b[0m\n",
      "\u001b[1;32m~\\anaconda3\\lib\\site-packages\\pandas\\core\\dtypes\\common.py\u001b[0m in \u001b[0;36mis_categorical_dtype\u001b[1;34m(arr_or_dtype)\u001b[0m\n\u001b[0;32m    570\u001b[0m     \u001b[1;32mif\u001b[0m \u001b[0marr_or_dtype\u001b[0m \u001b[1;32mis\u001b[0m \u001b[1;32mNone\u001b[0m\u001b[1;33m:\u001b[0m\u001b[1;33m\u001b[0m\u001b[1;33m\u001b[0m\u001b[0m\n\u001b[0;32m    571\u001b[0m         \u001b[1;32mreturn\u001b[0m \u001b[1;32mFalse\u001b[0m\u001b[1;33m\u001b[0m\u001b[1;33m\u001b[0m\u001b[0m\n\u001b[1;32m--> 572\u001b[1;33m     \u001b[1;32mreturn\u001b[0m \u001b[0mCategoricalDtype\u001b[0m\u001b[1;33m.\u001b[0m\u001b[0mis_dtype\u001b[0m\u001b[1;33m(\u001b[0m\u001b[0marr_or_dtype\u001b[0m\u001b[1;33m)\u001b[0m\u001b[1;33m\u001b[0m\u001b[1;33m\u001b[0m\u001b[0m\n\u001b[0m\u001b[0;32m    573\u001b[0m \u001b[1;33m\u001b[0m\u001b[0m\n\u001b[0;32m    574\u001b[0m \u001b[1;33m\u001b[0m\u001b[0m\n",
      "\u001b[1;32m~\\anaconda3\\lib\\site-packages\\pandas\\core\\dtypes\\base.py\u001b[0m in \u001b[0;36mis_dtype\u001b[1;34m(cls, dtype)\u001b[0m\n\u001b[0;32m    271\u001b[0m         \u001b[0mdtype\u001b[0m \u001b[1;33m=\u001b[0m \u001b[0mgetattr\u001b[0m\u001b[1;33m(\u001b[0m\u001b[0mdtype\u001b[0m\u001b[1;33m,\u001b[0m \u001b[1;34m\"dtype\"\u001b[0m\u001b[1;33m,\u001b[0m \u001b[0mdtype\u001b[0m\u001b[1;33m)\u001b[0m\u001b[1;33m\u001b[0m\u001b[1;33m\u001b[0m\u001b[0m\n\u001b[0;32m    272\u001b[0m \u001b[1;33m\u001b[0m\u001b[0m\n\u001b[1;32m--> 273\u001b[1;33m         \u001b[1;32mif\u001b[0m \u001b[0misinstance\u001b[0m\u001b[1;33m(\u001b[0m\u001b[0mdtype\u001b[0m\u001b[1;33m,\u001b[0m \u001b[1;33m(\u001b[0m\u001b[0mABCSeries\u001b[0m\u001b[1;33m,\u001b[0m \u001b[0mABCIndexClass\u001b[0m\u001b[1;33m,\u001b[0m \u001b[0mABCDataFrame\u001b[0m\u001b[1;33m,\u001b[0m \u001b[0mnp\u001b[0m\u001b[1;33m.\u001b[0m\u001b[0mdtype\u001b[0m\u001b[1;33m)\u001b[0m\u001b[1;33m)\u001b[0m\u001b[1;33m:\u001b[0m\u001b[1;33m\u001b[0m\u001b[1;33m\u001b[0m\u001b[0m\n\u001b[0m\u001b[0;32m    274\u001b[0m             \u001b[1;31m# https://github.com/pandas-dev/pandas/issues/22960\u001b[0m\u001b[1;33m\u001b[0m\u001b[1;33m\u001b[0m\u001b[1;33m\u001b[0m\u001b[0m\n\u001b[0;32m    275\u001b[0m             \u001b[1;31m# avoid passing data to `construct_from_string`. This could\u001b[0m\u001b[1;33m\u001b[0m\u001b[1;33m\u001b[0m\u001b[1;33m\u001b[0m\u001b[0m\n",
      "\u001b[1;32m~\\anaconda3\\lib\\site-packages\\pandas\\core\\dtypes\\generic.py\u001b[0m in \u001b[0;36m_check\u001b[1;34m(cls, inst)\u001b[0m\n\u001b[0;32m     10\u001b[0m     \u001b[1;33m@\u001b[0m\u001b[0mclassmethod\u001b[0m  \u001b[1;31m# type: ignore\u001b[0m\u001b[1;33m\u001b[0m\u001b[1;33m\u001b[0m\u001b[0m\n\u001b[0;32m     11\u001b[0m     \u001b[1;32mdef\u001b[0m \u001b[0m_check\u001b[0m\u001b[1;33m(\u001b[0m\u001b[0mcls\u001b[0m\u001b[1;33m,\u001b[0m \u001b[0minst\u001b[0m\u001b[1;33m)\u001b[0m \u001b[1;33m->\u001b[0m \u001b[0mbool\u001b[0m\u001b[1;33m:\u001b[0m\u001b[1;33m\u001b[0m\u001b[1;33m\u001b[0m\u001b[0m\n\u001b[1;32m---> 12\u001b[1;33m         \u001b[1;32mreturn\u001b[0m \u001b[0mgetattr\u001b[0m\u001b[1;33m(\u001b[0m\u001b[0minst\u001b[0m\u001b[1;33m,\u001b[0m \u001b[0mattr\u001b[0m\u001b[1;33m,\u001b[0m \u001b[1;34m\"_typ\"\u001b[0m\u001b[1;33m)\u001b[0m \u001b[1;32min\u001b[0m \u001b[0mcomp\u001b[0m\u001b[1;33m\u001b[0m\u001b[1;33m\u001b[0m\u001b[0m\n\u001b[0m\u001b[0;32m     13\u001b[0m \u001b[1;33m\u001b[0m\u001b[0m\n\u001b[0;32m     14\u001b[0m     \u001b[0mdct\u001b[0m \u001b[1;33m=\u001b[0m \u001b[0mdict\u001b[0m\u001b[1;33m(\u001b[0m\u001b[0m__instancecheck__\u001b[0m\u001b[1;33m=\u001b[0m\u001b[0m_check\u001b[0m\u001b[1;33m,\u001b[0m \u001b[0m__subclasscheck__\u001b[0m\u001b[1;33m=\u001b[0m\u001b[0m_check\u001b[0m\u001b[1;33m)\u001b[0m\u001b[1;33m\u001b[0m\u001b[1;33m\u001b[0m\u001b[0m\n",
      "\u001b[1;31mKeyboardInterrupt\u001b[0m: "
     ]
    }
   ],
   "source": [
    "%%timeit -n 10\n",
    "s = pd.Series(np.random.randint(0,1000,10000))\n",
    "for label, value in s.iteritems():\n",
    "    s.loc[label]= value+2"
   ]
  },
  {
   "cell_type": "code",
   "execution_count": 30,
   "metadata": {
    "tags": []
   },
   "outputs": [
    {
     "output_type": "stream",
     "name": "stdout",
     "text": "516 µs ± 131 µs per loop (mean ± std. dev. of 7 runs, 10 loops each)\n"
    }
   ],
   "source": [
    "%%timeit -n 10\n",
    "s = pd.Series(np.random.randint(0,1000,10000))\n",
    "s+=2"
   ]
  },
  {
   "cell_type": "code",
   "execution_count": 31,
   "metadata": {},
   "outputs": [
    {
     "output_type": "execute_result",
     "data": {
      "text/plain": "0             1\n1             2\n2             3\nAnimal    Bears\ndtype: object"
     },
     "metadata": {},
     "execution_count": 31
    }
   ],
   "source": [
    "s = pd.Series([1, 2, 3])\n",
    "s.loc['Animal'] = 'Bears'\n",
    "s"
   ]
  },
  {
   "cell_type": "code",
   "execution_count": 32,
   "metadata": {
    "collapsed": true
   },
   "outputs": [],
   "source": [
    "original_sports = pd.Series({'Archery': 'Bhutan',\n",
    "                             'Golf': 'Scotland',\n",
    "                             'Sumo': 'Japan',\n",
    "                             'Taekwondo': 'South Korea'})\n",
    "cricket_loving_countries = pd.Series(['Australia',\n",
    "                                      'Barbados',\n",
    "                                      'Pakistan',\n",
    "                                      'England'], \n",
    "                                   index=['Cricket',\n",
    "                                          'Cricket',\n",
    "                                          'Cricket',\n",
    "                                          'Cricket'])\n",
    "all_countries = original_sports.append(cricket_loving_countries)"
   ]
  },
  {
   "cell_type": "code",
   "execution_count": 33,
   "metadata": {},
   "outputs": [
    {
     "output_type": "execute_result",
     "data": {
      "text/plain": "Archery           Bhutan\nGolf            Scotland\nSumo               Japan\nTaekwondo    South Korea\ndtype: object"
     },
     "metadata": {},
     "execution_count": 33
    }
   ],
   "source": [
    "original_sports"
   ]
  },
  {
   "cell_type": "code",
   "execution_count": 34,
   "metadata": {},
   "outputs": [
    {
     "output_type": "execute_result",
     "data": {
      "text/plain": "Cricket    Australia\nCricket     Barbados\nCricket     Pakistan\nCricket      England\ndtype: object"
     },
     "metadata": {},
     "execution_count": 34
    }
   ],
   "source": [
    "cricket_loving_countries"
   ]
  },
  {
   "cell_type": "code",
   "execution_count": 35,
   "metadata": {},
   "outputs": [
    {
     "output_type": "execute_result",
     "data": {
      "text/plain": "Archery           Bhutan\nGolf            Scotland\nSumo               Japan\nTaekwondo    South Korea\nCricket        Australia\nCricket         Barbados\nCricket         Pakistan\nCricket          England\ndtype: object"
     },
     "metadata": {},
     "execution_count": 35
    }
   ],
   "source": [
    "all_countries"
   ]
  },
  {
   "cell_type": "code",
   "execution_count": 36,
   "metadata": {},
   "outputs": [
    {
     "output_type": "execute_result",
     "data": {
      "text/plain": "Cricket    Australia\nCricket     Barbados\nCricket     Pakistan\nCricket      England\ndtype: object"
     },
     "metadata": {},
     "execution_count": 36
    }
   ],
   "source": [
    "all_countries.loc['Cricket']"
   ]
  },
  {
   "cell_type": "markdown",
   "metadata": {
    "collapsed": true
   },
   "source": [
    "# The DataFrame Data Structure"
   ]
  },
  {
   "cell_type": "code",
   "execution_count": 1,
   "metadata": {},
   "outputs": [
    {
     "output_type": "execute_result",
     "data": {
      "text/plain": "          Name Item Purchased  Cost\nStore 1  Chris       Dog Food  22.5\nStore 1  Kevyn   Kitty Litter   2.5\nStore 2  Vinod      Bird Seed   5.0",
      "text/html": "<div>\n<style scoped>\n    .dataframe tbody tr th:only-of-type {\n        vertical-align: middle;\n    }\n\n    .dataframe tbody tr th {\n        vertical-align: top;\n    }\n\n    .dataframe thead th {\n        text-align: right;\n    }\n</style>\n<table border=\"1\" class=\"dataframe\">\n  <thead>\n    <tr style=\"text-align: right;\">\n      <th></th>\n      <th>Name</th>\n      <th>Item Purchased</th>\n      <th>Cost</th>\n    </tr>\n  </thead>\n  <tbody>\n    <tr>\n      <th>Store 1</th>\n      <td>Chris</td>\n      <td>Dog Food</td>\n      <td>22.5</td>\n    </tr>\n    <tr>\n      <th>Store 1</th>\n      <td>Kevyn</td>\n      <td>Kitty Litter</td>\n      <td>2.5</td>\n    </tr>\n    <tr>\n      <th>Store 2</th>\n      <td>Vinod</td>\n      <td>Bird Seed</td>\n      <td>5.0</td>\n    </tr>\n  </tbody>\n</table>\n</div>"
     },
     "metadata": {},
     "execution_count": 1
    }
   ],
   "source": [
    "import pandas as pd\n",
    "purchase_1 = pd.Series({'Name': 'Chris',\n",
    "                        'Item Purchased': 'Dog Food',\n",
    "                        'Cost': 22.50})\n",
    "purchase_2 = pd.Series({'Name': 'Kevyn',\n",
    "                        'Item Purchased': 'Kitty Litter',\n",
    "                        'Cost': 2.50})\n",
    "purchase_3 = pd.Series({'Name': 'Vinod',\n",
    "                        'Item Purchased': 'Bird Seed',\n",
    "                        'Cost': 5.00})\n",
    "df = pd.DataFrame([purchase_1, purchase_2, purchase_3], index=['Store 1', 'Store 1', 'Store 2'])\n",
    "df.head()"
   ]
  },
  {
   "cell_type": "code",
   "execution_count": 2,
   "metadata": {},
   "outputs": [
    {
     "output_type": "execute_result",
     "data": {
      "text/plain": "Name                  Vinod\nItem Purchased    Bird Seed\nCost                      5\nName: Store 2, dtype: object"
     },
     "metadata": {},
     "execution_count": 2
    }
   ],
   "source": [
    "df.loc['Store 2']"
   ]
  },
  {
   "cell_type": "code",
   "execution_count": 3,
   "metadata": {},
   "outputs": [
    {
     "output_type": "execute_result",
     "data": {
      "text/plain": "pandas.core.series.Series"
     },
     "metadata": {},
     "execution_count": 3
    }
   ],
   "source": [
    "type(df.loc['Store 2'])"
   ]
  },
  {
   "cell_type": "code",
   "execution_count": 4,
   "metadata": {},
   "outputs": [
    {
     "output_type": "execute_result",
     "data": {
      "text/plain": "          Name Item Purchased  Cost\nStore 1  Chris       Dog Food  22.5\nStore 1  Kevyn   Kitty Litter   2.5",
      "text/html": "<div>\n<style scoped>\n    .dataframe tbody tr th:only-of-type {\n        vertical-align: middle;\n    }\n\n    .dataframe tbody tr th {\n        vertical-align: top;\n    }\n\n    .dataframe thead th {\n        text-align: right;\n    }\n</style>\n<table border=\"1\" class=\"dataframe\">\n  <thead>\n    <tr style=\"text-align: right;\">\n      <th></th>\n      <th>Name</th>\n      <th>Item Purchased</th>\n      <th>Cost</th>\n    </tr>\n  </thead>\n  <tbody>\n    <tr>\n      <th>Store 1</th>\n      <td>Chris</td>\n      <td>Dog Food</td>\n      <td>22.5</td>\n    </tr>\n    <tr>\n      <th>Store 1</th>\n      <td>Kevyn</td>\n      <td>Kitty Litter</td>\n      <td>2.5</td>\n    </tr>\n  </tbody>\n</table>\n</div>"
     },
     "metadata": {},
     "execution_count": 4
    }
   ],
   "source": [
    "df.loc['Store 1']"
   ]
  },
  {
   "cell_type": "code",
   "execution_count": 5,
   "metadata": {},
   "outputs": [
    {
     "output_type": "execute_result",
     "data": {
      "text/plain": "Store 1    22.5\nStore 1     2.5\nName: Cost, dtype: float64"
     },
     "metadata": {},
     "execution_count": 5
    }
   ],
   "source": [
    "df.loc['Store 1', 'Cost']"
   ]
  },
  {
   "cell_type": "code",
   "execution_count": 6,
   "metadata": {},
   "outputs": [
    {
     "output_type": "execute_result",
     "data": {
      "text/plain": "                 Store 1       Store 1    Store 2\nName               Chris         Kevyn      Vinod\nItem Purchased  Dog Food  Kitty Litter  Bird Seed\nCost                22.5           2.5          5",
      "text/html": "<div>\n<style scoped>\n    .dataframe tbody tr th:only-of-type {\n        vertical-align: middle;\n    }\n\n    .dataframe tbody tr th {\n        vertical-align: top;\n    }\n\n    .dataframe thead th {\n        text-align: right;\n    }\n</style>\n<table border=\"1\" class=\"dataframe\">\n  <thead>\n    <tr style=\"text-align: right;\">\n      <th></th>\n      <th>Store 1</th>\n      <th>Store 1</th>\n      <th>Store 2</th>\n    </tr>\n  </thead>\n  <tbody>\n    <tr>\n      <th>Name</th>\n      <td>Chris</td>\n      <td>Kevyn</td>\n      <td>Vinod</td>\n    </tr>\n    <tr>\n      <th>Item Purchased</th>\n      <td>Dog Food</td>\n      <td>Kitty Litter</td>\n      <td>Bird Seed</td>\n    </tr>\n    <tr>\n      <th>Cost</th>\n      <td>22.5</td>\n      <td>2.5</td>\n      <td>5</td>\n    </tr>\n  </tbody>\n</table>\n</div>"
     },
     "metadata": {},
     "execution_count": 6
    }
   ],
   "source": [
    "df.T"
   ]
  },
  {
   "cell_type": "code",
   "execution_count": 43,
   "metadata": {},
   "outputs": [
    {
     "output_type": "execute_result",
     "data": {
      "text/plain": "Store 1    22.5\nStore 1     2.5\nStore 2       5\nName: Cost, dtype: object"
     },
     "metadata": {},
     "execution_count": 43
    }
   ],
   "source": [
    "df.T.loc['Cost']"
   ]
  },
  {
   "cell_type": "code",
   "execution_count": 44,
   "metadata": {},
   "outputs": [
    {
     "output_type": "execute_result",
     "data": {
      "text/plain": "Store 1    22.5\nStore 1     2.5\nStore 2     5.0\nName: Cost, dtype: float64"
     },
     "metadata": {},
     "execution_count": 44
    }
   ],
   "source": [
    "df['Cost']"
   ]
  },
  {
   "cell_type": "code",
   "execution_count": 45,
   "metadata": {},
   "outputs": [
    {
     "output_type": "execute_result",
     "data": {
      "text/plain": "Store 1    22.5\nStore 1     2.5\nName: Cost, dtype: float64"
     },
     "metadata": {},
     "execution_count": 45
    }
   ],
   "source": [
    "df.loc['Store 1']['Cost']"
   ]
  },
  {
   "cell_type": "code",
   "execution_count": 46,
   "metadata": {},
   "outputs": [
    {
     "output_type": "execute_result",
     "data": {
      "text/plain": "          Name  Cost\nStore 1  Chris  22.5\nStore 1  Kevyn   2.5\nStore 2  Vinod   5.0",
      "text/html": "<div>\n<style scoped>\n    .dataframe tbody tr th:only-of-type {\n        vertical-align: middle;\n    }\n\n    .dataframe tbody tr th {\n        vertical-align: top;\n    }\n\n    .dataframe thead th {\n        text-align: right;\n    }\n</style>\n<table border=\"1\" class=\"dataframe\">\n  <thead>\n    <tr style=\"text-align: right;\">\n      <th></th>\n      <th>Name</th>\n      <th>Cost</th>\n    </tr>\n  </thead>\n  <tbody>\n    <tr>\n      <th>Store 1</th>\n      <td>Chris</td>\n      <td>22.5</td>\n    </tr>\n    <tr>\n      <th>Store 1</th>\n      <td>Kevyn</td>\n      <td>2.5</td>\n    </tr>\n    <tr>\n      <th>Store 2</th>\n      <td>Vinod</td>\n      <td>5.0</td>\n    </tr>\n  </tbody>\n</table>\n</div>"
     },
     "metadata": {},
     "execution_count": 46
    }
   ],
   "source": [
    "df.loc[:,['Name', 'Cost']]"
   ]
  },
  {
   "cell_type": "code",
   "execution_count": 47,
   "metadata": {},
   "outputs": [
    {
     "output_type": "execute_result",
     "data": {
      "text/plain": "          Name Item Purchased  Cost\nStore 2  Vinod      Bird Seed   5.0",
      "text/html": "<div>\n<style scoped>\n    .dataframe tbody tr th:only-of-type {\n        vertical-align: middle;\n    }\n\n    .dataframe tbody tr th {\n        vertical-align: top;\n    }\n\n    .dataframe thead th {\n        text-align: right;\n    }\n</style>\n<table border=\"1\" class=\"dataframe\">\n  <thead>\n    <tr style=\"text-align: right;\">\n      <th></th>\n      <th>Name</th>\n      <th>Item Purchased</th>\n      <th>Cost</th>\n    </tr>\n  </thead>\n  <tbody>\n    <tr>\n      <th>Store 2</th>\n      <td>Vinod</td>\n      <td>Bird Seed</td>\n      <td>5.0</td>\n    </tr>\n  </tbody>\n</table>\n</div>"
     },
     "metadata": {},
     "execution_count": 47
    }
   ],
   "source": [
    "df.drop('Store 1')"
   ]
  },
  {
   "cell_type": "code",
   "execution_count": 48,
   "metadata": {},
   "outputs": [
    {
     "output_type": "execute_result",
     "data": {
      "text/plain": "          Name Item Purchased  Cost\nStore 1  Chris       Dog Food  22.5\nStore 1  Kevyn   Kitty Litter   2.5\nStore 2  Vinod      Bird Seed   5.0",
      "text/html": "<div>\n<style scoped>\n    .dataframe tbody tr th:only-of-type {\n        vertical-align: middle;\n    }\n\n    .dataframe tbody tr th {\n        vertical-align: top;\n    }\n\n    .dataframe thead th {\n        text-align: right;\n    }\n</style>\n<table border=\"1\" class=\"dataframe\">\n  <thead>\n    <tr style=\"text-align: right;\">\n      <th></th>\n      <th>Name</th>\n      <th>Item Purchased</th>\n      <th>Cost</th>\n    </tr>\n  </thead>\n  <tbody>\n    <tr>\n      <th>Store 1</th>\n      <td>Chris</td>\n      <td>Dog Food</td>\n      <td>22.5</td>\n    </tr>\n    <tr>\n      <th>Store 1</th>\n      <td>Kevyn</td>\n      <td>Kitty Litter</td>\n      <td>2.5</td>\n    </tr>\n    <tr>\n      <th>Store 2</th>\n      <td>Vinod</td>\n      <td>Bird Seed</td>\n      <td>5.0</td>\n    </tr>\n  </tbody>\n</table>\n</div>"
     },
     "metadata": {},
     "execution_count": 48
    }
   ],
   "source": [
    "df"
   ]
  },
  {
   "cell_type": "code",
   "execution_count": 49,
   "metadata": {},
   "outputs": [
    {
     "output_type": "execute_result",
     "data": {
      "text/plain": "          Name Item Purchased  Cost\nStore 2  Vinod      Bird Seed   5.0",
      "text/html": "<div>\n<style scoped>\n    .dataframe tbody tr th:only-of-type {\n        vertical-align: middle;\n    }\n\n    .dataframe tbody tr th {\n        vertical-align: top;\n    }\n\n    .dataframe thead th {\n        text-align: right;\n    }\n</style>\n<table border=\"1\" class=\"dataframe\">\n  <thead>\n    <tr style=\"text-align: right;\">\n      <th></th>\n      <th>Name</th>\n      <th>Item Purchased</th>\n      <th>Cost</th>\n    </tr>\n  </thead>\n  <tbody>\n    <tr>\n      <th>Store 2</th>\n      <td>Vinod</td>\n      <td>Bird Seed</td>\n      <td>5.0</td>\n    </tr>\n  </tbody>\n</table>\n</div>"
     },
     "metadata": {},
     "execution_count": 49
    }
   ],
   "source": [
    "copy_df = df.copy()\n",
    "copy_df = copy_df.drop('Store 1')\n",
    "copy_df"
   ]
  },
  {
   "cell_type": "code",
   "execution_count": 50,
   "metadata": {},
   "outputs": [
    {
     "output_type": "stream",
     "text": "\u001b[1;31mSignature:\u001b[0m\n\u001b[0mcopy_df\u001b[0m\u001b[1;33m.\u001b[0m\u001b[0mdrop\u001b[0m\u001b[1;33m(\u001b[0m\u001b[1;33m\n\u001b[0m    \u001b[0mlabels\u001b[0m\u001b[1;33m=\u001b[0m\u001b[1;32mNone\u001b[0m\u001b[1;33m,\u001b[0m\u001b[1;33m\n\u001b[0m    \u001b[0maxis\u001b[0m\u001b[1;33m=\u001b[0m\u001b[1;36m0\u001b[0m\u001b[1;33m,\u001b[0m\u001b[1;33m\n\u001b[0m    \u001b[0mindex\u001b[0m\u001b[1;33m=\u001b[0m\u001b[1;32mNone\u001b[0m\u001b[1;33m,\u001b[0m\u001b[1;33m\n\u001b[0m    \u001b[0mcolumns\u001b[0m\u001b[1;33m=\u001b[0m\u001b[1;32mNone\u001b[0m\u001b[1;33m,\u001b[0m\u001b[1;33m\n\u001b[0m    \u001b[0mlevel\u001b[0m\u001b[1;33m=\u001b[0m\u001b[1;32mNone\u001b[0m\u001b[1;33m,\u001b[0m\u001b[1;33m\n\u001b[0m    \u001b[0minplace\u001b[0m\u001b[1;33m=\u001b[0m\u001b[1;32mFalse\u001b[0m\u001b[1;33m,\u001b[0m\u001b[1;33m\n\u001b[0m    \u001b[0merrors\u001b[0m\u001b[1;33m=\u001b[0m\u001b[1;34m'raise'\u001b[0m\u001b[1;33m,\u001b[0m\u001b[1;33m\n\u001b[0m\u001b[1;33m)\u001b[0m\u001b[1;33m\u001b[0m\u001b[1;33m\u001b[0m\u001b[0m\n\u001b[1;31mDocstring:\u001b[0m\nDrop specified labels from rows or columns.\n\nRemove rows or columns by specifying label names and corresponding\naxis, or by specifying directly index or column names. When using a\nmulti-index, labels on different levels can be removed by specifying\nthe level.\n\nParameters\n----------\nlabels : single label or list-like\n    Index or column labels to drop.\naxis : {0 or 'index', 1 or 'columns'}, default 0\n    Whether to drop labels from the index (0 or 'index') or\n    columns (1 or 'columns').\nindex : single label or list-like\n    Alternative to specifying axis (``labels, axis=0``\n    is equivalent to ``index=labels``).\n\n    .. versionadded:: 0.21.0\ncolumns : single label or list-like\n    Alternative to specifying axis (``labels, axis=1``\n    is equivalent to ``columns=labels``).\n\n    .. versionadded:: 0.21.0\nlevel : int or level name, optional\n    For MultiIndex, level from which the labels will be removed.\ninplace : bool, default False\n    If True, do operation inplace and return None.\nerrors : {'ignore', 'raise'}, default 'raise'\n    If 'ignore', suppress error and only existing labels are\n    dropped.\n\nReturns\n-------\nDataFrame\n    DataFrame without the removed index or column labels.\n\nRaises\n------\nKeyError\n    If any of the labels is not found in the selected axis.\n\nSee Also\n--------\nDataFrame.loc : Label-location based indexer for selection by label.\nDataFrame.dropna : Return DataFrame with labels on given axis omitted\n    where (all or any) data are missing.\nDataFrame.drop_duplicates : Return DataFrame with duplicate rows\n    removed, optionally only considering certain columns.\nSeries.drop : Return Series with specified index labels removed.\n\nExamples\n--------\n>>> df = pd.DataFrame(np.arange(12).reshape(3, 4),\n...                   columns=['A', 'B', 'C', 'D'])\n>>> df\n   A  B   C   D\n0  0  1   2   3\n1  4  5   6   7\n2  8  9  10  11\n\nDrop columns\n\n>>> df.drop(['B', 'C'], axis=1)\n   A   D\n0  0   3\n1  4   7\n2  8  11\n\n>>> df.drop(columns=['B', 'C'])\n   A   D\n0  0   3\n1  4   7\n2  8  11\n\nDrop a row by index\n\n>>> df.drop([0, 1])\n   A  B   C   D\n2  8  9  10  11\n\nDrop columns and/or rows of MultiIndex DataFrame\n\n>>> midx = pd.MultiIndex(levels=[['lama', 'cow', 'falcon'],\n...                              ['speed', 'weight', 'length']],\n...                      codes=[[0, 0, 0, 1, 1, 1, 2, 2, 2],\n...                             [0, 1, 2, 0, 1, 2, 0, 1, 2]])\n>>> df = pd.DataFrame(index=midx, columns=['big', 'small'],\n...                   data=[[45, 30], [200, 100], [1.5, 1], [30, 20],\n...                         [250, 150], [1.5, 0.8], [320, 250],\n...                         [1, 0.8], [0.3, 0.2]])\n>>> df\n                big     small\nlama    speed   45.0    30.0\n        weight  200.0   100.0\n        length  1.5     1.0\ncow     speed   30.0    20.0\n        weight  250.0   150.0\n        length  1.5     0.8\nfalcon  speed   320.0   250.0\n        weight  1.0     0.8\n        length  0.3     0.2\n\n>>> df.drop(index='cow', columns='small')\n                big\nlama    speed   45.0\n        weight  200.0\n        length  1.5\nfalcon  speed   320.0\n        weight  1.0\n        length  0.3\n\n>>> df.drop(index='length', level=1)\n                big     small\nlama    speed   45.0    30.0\n        weight  200.0   100.0\ncow     speed   30.0    20.0\n        weight  250.0   150.0\nfalcon  speed   320.0   250.0\n        weight  1.0     0.8\n\u001b[1;31mFile:\u001b[0m      c:\\users\\ayata\\anaconda3\\lib\\site-packages\\pandas\\core\\frame.py\n\u001b[1;31mType:\u001b[0m      method\n"
    }
   ],
   "source": [
    "copy_df.drop?"
   ]
  },
  {
   "cell_type": "code",
   "execution_count": 51,
   "metadata": {},
   "outputs": [
    {
     "output_type": "execute_result",
     "data": {
      "text/plain": "        Item Purchased  Cost\nStore 2      Bird Seed   5.0",
      "text/html": "<div>\n<style scoped>\n    .dataframe tbody tr th:only-of-type {\n        vertical-align: middle;\n    }\n\n    .dataframe tbody tr th {\n        vertical-align: top;\n    }\n\n    .dataframe thead th {\n        text-align: right;\n    }\n</style>\n<table border=\"1\" class=\"dataframe\">\n  <thead>\n    <tr style=\"text-align: right;\">\n      <th></th>\n      <th>Item Purchased</th>\n      <th>Cost</th>\n    </tr>\n  </thead>\n  <tbody>\n    <tr>\n      <th>Store 2</th>\n      <td>Bird Seed</td>\n      <td>5.0</td>\n    </tr>\n  </tbody>\n</table>\n</div>"
     },
     "metadata": {},
     "execution_count": 51
    }
   ],
   "source": [
    "del copy_df['Name']\n",
    "copy_df"
   ]
  },
  {
   "cell_type": "code",
   "execution_count": 52,
   "metadata": {},
   "outputs": [
    {
     "output_type": "execute_result",
     "data": {
      "text/plain": "          Name Item Purchased  Cost Location\nStore 1  Chris       Dog Food  22.5     None\nStore 1  Kevyn   Kitty Litter   2.5     None\nStore 2  Vinod      Bird Seed   5.0     None",
      "text/html": "<div>\n<style scoped>\n    .dataframe tbody tr th:only-of-type {\n        vertical-align: middle;\n    }\n\n    .dataframe tbody tr th {\n        vertical-align: top;\n    }\n\n    .dataframe thead th {\n        text-align: right;\n    }\n</style>\n<table border=\"1\" class=\"dataframe\">\n  <thead>\n    <tr style=\"text-align: right;\">\n      <th></th>\n      <th>Name</th>\n      <th>Item Purchased</th>\n      <th>Cost</th>\n      <th>Location</th>\n    </tr>\n  </thead>\n  <tbody>\n    <tr>\n      <th>Store 1</th>\n      <td>Chris</td>\n      <td>Dog Food</td>\n      <td>22.5</td>\n      <td>None</td>\n    </tr>\n    <tr>\n      <th>Store 1</th>\n      <td>Kevyn</td>\n      <td>Kitty Litter</td>\n      <td>2.5</td>\n      <td>None</td>\n    </tr>\n    <tr>\n      <th>Store 2</th>\n      <td>Vinod</td>\n      <td>Bird Seed</td>\n      <td>5.0</td>\n      <td>None</td>\n    </tr>\n  </tbody>\n</table>\n</div>"
     },
     "metadata": {},
     "execution_count": 52
    }
   ],
   "source": [
    "df['Location'] = None\n",
    "df"
   ]
  },
  {
   "cell_type": "markdown",
   "metadata": {
    "collapsed": true
   },
   "source": [
    "# Dataframe Indexing and Loading"
   ]
  },
  {
   "cell_type": "code",
   "execution_count": 53,
   "metadata": {},
   "outputs": [
    {
     "output_type": "execute_result",
     "data": {
      "text/plain": "Store 1    22.5\nStore 1     2.5\nStore 2     5.0\nName: Cost, dtype: float64"
     },
     "metadata": {},
     "execution_count": 53
    }
   ],
   "source": [
    "costs = df['Cost']\n",
    "costs"
   ]
  },
  {
   "cell_type": "code",
   "execution_count": 54,
   "metadata": {},
   "outputs": [
    {
     "output_type": "execute_result",
     "data": {
      "text/plain": "Store 1    24.5\nStore 1     4.5\nStore 2     7.0\nName: Cost, dtype: float64"
     },
     "metadata": {},
     "execution_count": 54
    }
   ],
   "source": [
    "costs+=2\n",
    "costs"
   ]
  },
  {
   "cell_type": "code",
   "execution_count": 55,
   "metadata": {},
   "outputs": [
    {
     "output_type": "execute_result",
     "data": {
      "text/plain": "          Name Item Purchased  Cost Location\nStore 1  Chris       Dog Food  24.5     None\nStore 1  Kevyn   Kitty Litter   4.5     None\nStore 2  Vinod      Bird Seed   7.0     None",
      "text/html": "<div>\n<style scoped>\n    .dataframe tbody tr th:only-of-type {\n        vertical-align: middle;\n    }\n\n    .dataframe tbody tr th {\n        vertical-align: top;\n    }\n\n    .dataframe thead th {\n        text-align: right;\n    }\n</style>\n<table border=\"1\" class=\"dataframe\">\n  <thead>\n    <tr style=\"text-align: right;\">\n      <th></th>\n      <th>Name</th>\n      <th>Item Purchased</th>\n      <th>Cost</th>\n      <th>Location</th>\n    </tr>\n  </thead>\n  <tbody>\n    <tr>\n      <th>Store 1</th>\n      <td>Chris</td>\n      <td>Dog Food</td>\n      <td>24.5</td>\n      <td>None</td>\n    </tr>\n    <tr>\n      <th>Store 1</th>\n      <td>Kevyn</td>\n      <td>Kitty Litter</td>\n      <td>4.5</td>\n      <td>None</td>\n    </tr>\n    <tr>\n      <th>Store 2</th>\n      <td>Vinod</td>\n      <td>Bird Seed</td>\n      <td>7.0</td>\n      <td>None</td>\n    </tr>\n  </tbody>\n</table>\n</div>"
     },
     "metadata": {},
     "execution_count": 55
    }
   ],
   "source": [
    "df"
   ]
  },
  {
   "cell_type": "code",
   "execution_count": 56,
   "metadata": {
    "tags": []
   },
   "outputs": [
    {
     "output_type": "stream",
     "name": "stderr",
     "text": "'cat' is not recognized as an internal or external command,\noperable program or batch file.\n"
    }
   ],
   "source": [
    "!cat olympics.csv"
   ]
  },
  {
   "cell_type": "code",
   "execution_count": 57,
   "metadata": {},
   "outputs": [
    {
     "output_type": "execute_result",
     "data": {
      "text/plain": "                   0         1     2     3     4      5         6     7     8  \\\n0                NaN  № Summer  01 !  02 !  03 !  Total  № Winter  01 !  02 !   \n1  Afghanistan (AFG)        13     0     0     2      2         0     0     0   \n2      Algeria (ALG)        12     5     2     8     15         3     0     0   \n3    Argentina (ARG)        23    18    24    28     70        18     0     0   \n4      Armenia (ARM)         5     1     2     9     12         6     0     0   \n\n      9     10       11    12    13    14              15  \n0  03 !  Total  № Games  01 !  02 !  03 !  Combined total  \n1     0      0       13     0     0     2               2  \n2     0      0       15     5     2     8              15  \n3     0      0       41    18    24    28              70  \n4     0      0       11     1     2     9              12  ",
      "text/html": "<div>\n<style scoped>\n    .dataframe tbody tr th:only-of-type {\n        vertical-align: middle;\n    }\n\n    .dataframe tbody tr th {\n        vertical-align: top;\n    }\n\n    .dataframe thead th {\n        text-align: right;\n    }\n</style>\n<table border=\"1\" class=\"dataframe\">\n  <thead>\n    <tr style=\"text-align: right;\">\n      <th></th>\n      <th>0</th>\n      <th>1</th>\n      <th>2</th>\n      <th>3</th>\n      <th>4</th>\n      <th>5</th>\n      <th>6</th>\n      <th>7</th>\n      <th>8</th>\n      <th>9</th>\n      <th>10</th>\n      <th>11</th>\n      <th>12</th>\n      <th>13</th>\n      <th>14</th>\n      <th>15</th>\n    </tr>\n  </thead>\n  <tbody>\n    <tr>\n      <th>0</th>\n      <td>NaN</td>\n      <td>№ Summer</td>\n      <td>01 !</td>\n      <td>02 !</td>\n      <td>03 !</td>\n      <td>Total</td>\n      <td>№ Winter</td>\n      <td>01 !</td>\n      <td>02 !</td>\n      <td>03 !</td>\n      <td>Total</td>\n      <td>№ Games</td>\n      <td>01 !</td>\n      <td>02 !</td>\n      <td>03 !</td>\n      <td>Combined total</td>\n    </tr>\n    <tr>\n      <th>1</th>\n      <td>Afghanistan (AFG)</td>\n      <td>13</td>\n      <td>0</td>\n      <td>0</td>\n      <td>2</td>\n      <td>2</td>\n      <td>0</td>\n      <td>0</td>\n      <td>0</td>\n      <td>0</td>\n      <td>0</td>\n      <td>13</td>\n      <td>0</td>\n      <td>0</td>\n      <td>2</td>\n      <td>2</td>\n    </tr>\n    <tr>\n      <th>2</th>\n      <td>Algeria (ALG)</td>\n      <td>12</td>\n      <td>5</td>\n      <td>2</td>\n      <td>8</td>\n      <td>15</td>\n      <td>3</td>\n      <td>0</td>\n      <td>0</td>\n      <td>0</td>\n      <td>0</td>\n      <td>15</td>\n      <td>5</td>\n      <td>2</td>\n      <td>8</td>\n      <td>15</td>\n    </tr>\n    <tr>\n      <th>3</th>\n      <td>Argentina (ARG)</td>\n      <td>23</td>\n      <td>18</td>\n      <td>24</td>\n      <td>28</td>\n      <td>70</td>\n      <td>18</td>\n      <td>0</td>\n      <td>0</td>\n      <td>0</td>\n      <td>0</td>\n      <td>41</td>\n      <td>18</td>\n      <td>24</td>\n      <td>28</td>\n      <td>70</td>\n    </tr>\n    <tr>\n      <th>4</th>\n      <td>Armenia (ARM)</td>\n      <td>5</td>\n      <td>1</td>\n      <td>2</td>\n      <td>9</td>\n      <td>12</td>\n      <td>6</td>\n      <td>0</td>\n      <td>0</td>\n      <td>0</td>\n      <td>0</td>\n      <td>11</td>\n      <td>1</td>\n      <td>2</td>\n      <td>9</td>\n      <td>12</td>\n    </tr>\n  </tbody>\n</table>\n</div>"
     },
     "metadata": {},
     "execution_count": 57
    }
   ],
   "source": [
    "df = pd.read_csv('olympics.csv')\n",
    "df.head()"
   ]
  },
  {
   "cell_type": "code",
   "execution_count": 58,
   "metadata": {},
   "outputs": [
    {
     "output_type": "execute_result",
     "data": {
      "text/plain": "                         № Summer  01 !  02 !  03 !  Total  № Winter  01 !.1  \\\nAfghanistan (AFG)              13     0     0     2      2         0       0   \nAlgeria (ALG)                  12     5     2     8     15         3       0   \nArgentina (ARG)                23    18    24    28     70        18       0   \nArmenia (ARM)                   5     1     2     9     12         6       0   \nAustralasia (ANZ) [ANZ]         2     3     4     5     12         0       0   \n\n                         02 !.1  03 !.1  Total.1  № Games  01 !.2  02 !.2  \\\nAfghanistan (AFG)             0       0        0       13       0       0   \nAlgeria (ALG)                 0       0        0       15       5       2   \nArgentina (ARG)               0       0        0       41      18      24   \nArmenia (ARM)                 0       0        0       11       1       2   \nAustralasia (ANZ) [ANZ]       0       0        0        2       3       4   \n\n                         03 !.2  Combined total  \nAfghanistan (AFG)             2               2  \nAlgeria (ALG)                 8              15  \nArgentina (ARG)              28              70  \nArmenia (ARM)                 9              12  \nAustralasia (ANZ) [ANZ]       5              12  ",
      "text/html": "<div>\n<style scoped>\n    .dataframe tbody tr th:only-of-type {\n        vertical-align: middle;\n    }\n\n    .dataframe tbody tr th {\n        vertical-align: top;\n    }\n\n    .dataframe thead th {\n        text-align: right;\n    }\n</style>\n<table border=\"1\" class=\"dataframe\">\n  <thead>\n    <tr style=\"text-align: right;\">\n      <th></th>\n      <th>№ Summer</th>\n      <th>01 !</th>\n      <th>02 !</th>\n      <th>03 !</th>\n      <th>Total</th>\n      <th>№ Winter</th>\n      <th>01 !.1</th>\n      <th>02 !.1</th>\n      <th>03 !.1</th>\n      <th>Total.1</th>\n      <th>№ Games</th>\n      <th>01 !.2</th>\n      <th>02 !.2</th>\n      <th>03 !.2</th>\n      <th>Combined total</th>\n    </tr>\n  </thead>\n  <tbody>\n    <tr>\n      <th>Afghanistan (AFG)</th>\n      <td>13</td>\n      <td>0</td>\n      <td>0</td>\n      <td>2</td>\n      <td>2</td>\n      <td>0</td>\n      <td>0</td>\n      <td>0</td>\n      <td>0</td>\n      <td>0</td>\n      <td>13</td>\n      <td>0</td>\n      <td>0</td>\n      <td>2</td>\n      <td>2</td>\n    </tr>\n    <tr>\n      <th>Algeria (ALG)</th>\n      <td>12</td>\n      <td>5</td>\n      <td>2</td>\n      <td>8</td>\n      <td>15</td>\n      <td>3</td>\n      <td>0</td>\n      <td>0</td>\n      <td>0</td>\n      <td>0</td>\n      <td>15</td>\n      <td>5</td>\n      <td>2</td>\n      <td>8</td>\n      <td>15</td>\n    </tr>\n    <tr>\n      <th>Argentina (ARG)</th>\n      <td>23</td>\n      <td>18</td>\n      <td>24</td>\n      <td>28</td>\n      <td>70</td>\n      <td>18</td>\n      <td>0</td>\n      <td>0</td>\n      <td>0</td>\n      <td>0</td>\n      <td>41</td>\n      <td>18</td>\n      <td>24</td>\n      <td>28</td>\n      <td>70</td>\n    </tr>\n    <tr>\n      <th>Armenia (ARM)</th>\n      <td>5</td>\n      <td>1</td>\n      <td>2</td>\n      <td>9</td>\n      <td>12</td>\n      <td>6</td>\n      <td>0</td>\n      <td>0</td>\n      <td>0</td>\n      <td>0</td>\n      <td>11</td>\n      <td>1</td>\n      <td>2</td>\n      <td>9</td>\n      <td>12</td>\n    </tr>\n    <tr>\n      <th>Australasia (ANZ) [ANZ]</th>\n      <td>2</td>\n      <td>3</td>\n      <td>4</td>\n      <td>5</td>\n      <td>12</td>\n      <td>0</td>\n      <td>0</td>\n      <td>0</td>\n      <td>0</td>\n      <td>0</td>\n      <td>2</td>\n      <td>3</td>\n      <td>4</td>\n      <td>5</td>\n      <td>12</td>\n    </tr>\n  </tbody>\n</table>\n</div>"
     },
     "metadata": {},
     "execution_count": 58
    }
   ],
   "source": [
    "df = pd.read_csv('olympics.csv', index_col = 0, skiprows=1)\n",
    "df.head()"
   ]
  },
  {
   "cell_type": "code",
   "execution_count": 59,
   "metadata": {},
   "outputs": [
    {
     "output_type": "execute_result",
     "data": {
      "text/plain": "Index(['№ Summer', '01 !', '02 !', '03 !', 'Total', '№ Winter', '01 !.1',\n       '02 !.1', '03 !.1', 'Total.1', '№ Games', '01 !.2', '02 !.2', '03 !.2',\n       'Combined total'],\n      dtype='object')"
     },
     "metadata": {},
     "execution_count": 59
    }
   ],
   "source": [
    "df.columns"
   ]
  },
  {
   "cell_type": "code",
   "execution_count": 60,
   "metadata": {},
   "outputs": [
    {
     "output_type": "execute_result",
     "data": {
      "text/plain": "                         # Summer  Gold  Silver  Bronze  Total  # Winter  \\\nAfghanistan (AFG)              13     0       0       2      2         0   \nAlgeria (ALG)                  12     5       2       8     15         3   \nArgentina (ARG)                23    18      24      28     70        18   \nArmenia (ARM)                   5     1       2       9     12         6   \nAustralasia (ANZ) [ANZ]         2     3       4       5     12         0   \n\n                         Gold.1  Silver.1  Bronze.1  Total.1  # Games  Gold.2  \\\nAfghanistan (AFG)             0         0         0        0       13       0   \nAlgeria (ALG)                 0         0         0        0       15       5   \nArgentina (ARG)               0         0         0        0       41      18   \nArmenia (ARM)                 0         0         0        0       11       1   \nAustralasia (ANZ) [ANZ]       0         0         0        0        2       3   \n\n                         Silver.2  Bronze.2  Combined total  \nAfghanistan (AFG)               0         2               2  \nAlgeria (ALG)                   2         8              15  \nArgentina (ARG)                24        28              70  \nArmenia (ARM)                   2         9              12  \nAustralasia (ANZ) [ANZ]         4         5              12  ",
      "text/html": "<div>\n<style scoped>\n    .dataframe tbody tr th:only-of-type {\n        vertical-align: middle;\n    }\n\n    .dataframe tbody tr th {\n        vertical-align: top;\n    }\n\n    .dataframe thead th {\n        text-align: right;\n    }\n</style>\n<table border=\"1\" class=\"dataframe\">\n  <thead>\n    <tr style=\"text-align: right;\">\n      <th></th>\n      <th># Summer</th>\n      <th>Gold</th>\n      <th>Silver</th>\n      <th>Bronze</th>\n      <th>Total</th>\n      <th># Winter</th>\n      <th>Gold.1</th>\n      <th>Silver.1</th>\n      <th>Bronze.1</th>\n      <th>Total.1</th>\n      <th># Games</th>\n      <th>Gold.2</th>\n      <th>Silver.2</th>\n      <th>Bronze.2</th>\n      <th>Combined total</th>\n    </tr>\n  </thead>\n  <tbody>\n    <tr>\n      <th>Afghanistan (AFG)</th>\n      <td>13</td>\n      <td>0</td>\n      <td>0</td>\n      <td>2</td>\n      <td>2</td>\n      <td>0</td>\n      <td>0</td>\n      <td>0</td>\n      <td>0</td>\n      <td>0</td>\n      <td>13</td>\n      <td>0</td>\n      <td>0</td>\n      <td>2</td>\n      <td>2</td>\n    </tr>\n    <tr>\n      <th>Algeria (ALG)</th>\n      <td>12</td>\n      <td>5</td>\n      <td>2</td>\n      <td>8</td>\n      <td>15</td>\n      <td>3</td>\n      <td>0</td>\n      <td>0</td>\n      <td>0</td>\n      <td>0</td>\n      <td>15</td>\n      <td>5</td>\n      <td>2</td>\n      <td>8</td>\n      <td>15</td>\n    </tr>\n    <tr>\n      <th>Argentina (ARG)</th>\n      <td>23</td>\n      <td>18</td>\n      <td>24</td>\n      <td>28</td>\n      <td>70</td>\n      <td>18</td>\n      <td>0</td>\n      <td>0</td>\n      <td>0</td>\n      <td>0</td>\n      <td>41</td>\n      <td>18</td>\n      <td>24</td>\n      <td>28</td>\n      <td>70</td>\n    </tr>\n    <tr>\n      <th>Armenia (ARM)</th>\n      <td>5</td>\n      <td>1</td>\n      <td>2</td>\n      <td>9</td>\n      <td>12</td>\n      <td>6</td>\n      <td>0</td>\n      <td>0</td>\n      <td>0</td>\n      <td>0</td>\n      <td>11</td>\n      <td>1</td>\n      <td>2</td>\n      <td>9</td>\n      <td>12</td>\n    </tr>\n    <tr>\n      <th>Australasia (ANZ) [ANZ]</th>\n      <td>2</td>\n      <td>3</td>\n      <td>4</td>\n      <td>5</td>\n      <td>12</td>\n      <td>0</td>\n      <td>0</td>\n      <td>0</td>\n      <td>0</td>\n      <td>0</td>\n      <td>2</td>\n      <td>3</td>\n      <td>4</td>\n      <td>5</td>\n      <td>12</td>\n    </tr>\n  </tbody>\n</table>\n</div>"
     },
     "metadata": {},
     "execution_count": 60
    }
   ],
   "source": [
    "for col in df.columns:\n",
    "    if col[:2]=='01':\n",
    "        df.rename(columns={col:'Gold' + col[4:]}, inplace=True)\n",
    "    if col[:2]=='02':\n",
    "        df.rename(columns={col:'Silver' + col[4:]}, inplace=True)\n",
    "    if col[:2]=='03':\n",
    "        df.rename(columns={col:'Bronze' + col[4:]}, inplace=True)\n",
    "    if col[:1]=='№':\n",
    "        df.rename(columns={col:'#' + col[1:]}, inplace=True) \n",
    "\n",
    "df.head()"
   ]
  },
  {
   "cell_type": "markdown",
   "metadata": {},
   "source": [
    "# Querying a DataFrame"
   ]
  },
  {
   "cell_type": "code",
   "execution_count": 61,
   "metadata": {},
   "outputs": [
    {
     "output_type": "execute_result",
     "data": {
      "text/plain": "Afghanistan (AFG)                               False\nAlgeria (ALG)                                    True\nArgentina (ARG)                                  True\nArmenia (ARM)                                    True\nAustralasia (ANZ) [ANZ]                          True\n                                                ...  \nIndependent Olympic Participants (IOP) [IOP]    False\nZambia (ZAM) [ZAM]                              False\nZimbabwe (ZIM) [ZIM]                             True\nMixed team (ZZX) [ZZX]                           True\nTotals                                           True\nName: Gold, Length: 147, dtype: bool"
     },
     "metadata": {},
     "execution_count": 61
    }
   ],
   "source": [
    "df['Gold'] > 0"
   ]
  },
  {
   "cell_type": "code",
   "execution_count": 62,
   "metadata": {},
   "outputs": [
    {
     "output_type": "execute_result",
     "data": {
      "text/plain": "                         # Summer  Gold  Silver  Bronze  Total  # Winter  \\\nAfghanistan (AFG)             NaN   NaN     NaN     NaN    NaN       NaN   \nAlgeria (ALG)                12.0   5.0     2.0     8.0   15.0       3.0   \nArgentina (ARG)              23.0  18.0    24.0    28.0   70.0      18.0   \nArmenia (ARM)                 5.0   1.0     2.0     9.0   12.0       6.0   \nAustralasia (ANZ) [ANZ]       2.0   3.0     4.0     5.0   12.0       0.0   \n\n                         Gold.1  Silver.1  Bronze.1  Total.1  # Games  Gold.2  \\\nAfghanistan (AFG)           NaN       NaN       NaN      NaN      NaN     NaN   \nAlgeria (ALG)               0.0       0.0       0.0      0.0     15.0     5.0   \nArgentina (ARG)             0.0       0.0       0.0      0.0     41.0    18.0   \nArmenia (ARM)               0.0       0.0       0.0      0.0     11.0     1.0   \nAustralasia (ANZ) [ANZ]     0.0       0.0       0.0      0.0      2.0     3.0   \n\n                         Silver.2  Bronze.2  Combined total  \nAfghanistan (AFG)             NaN       NaN             NaN  \nAlgeria (ALG)                 2.0       8.0            15.0  \nArgentina (ARG)              24.0      28.0            70.0  \nArmenia (ARM)                 2.0       9.0            12.0  \nAustralasia (ANZ) [ANZ]       4.0       5.0            12.0  ",
      "text/html": "<div>\n<style scoped>\n    .dataframe tbody tr th:only-of-type {\n        vertical-align: middle;\n    }\n\n    .dataframe tbody tr th {\n        vertical-align: top;\n    }\n\n    .dataframe thead th {\n        text-align: right;\n    }\n</style>\n<table border=\"1\" class=\"dataframe\">\n  <thead>\n    <tr style=\"text-align: right;\">\n      <th></th>\n      <th># Summer</th>\n      <th>Gold</th>\n      <th>Silver</th>\n      <th>Bronze</th>\n      <th>Total</th>\n      <th># Winter</th>\n      <th>Gold.1</th>\n      <th>Silver.1</th>\n      <th>Bronze.1</th>\n      <th>Total.1</th>\n      <th># Games</th>\n      <th>Gold.2</th>\n      <th>Silver.2</th>\n      <th>Bronze.2</th>\n      <th>Combined total</th>\n    </tr>\n  </thead>\n  <tbody>\n    <tr>\n      <th>Afghanistan (AFG)</th>\n      <td>NaN</td>\n      <td>NaN</td>\n      <td>NaN</td>\n      <td>NaN</td>\n      <td>NaN</td>\n      <td>NaN</td>\n      <td>NaN</td>\n      <td>NaN</td>\n      <td>NaN</td>\n      <td>NaN</td>\n      <td>NaN</td>\n      <td>NaN</td>\n      <td>NaN</td>\n      <td>NaN</td>\n      <td>NaN</td>\n    </tr>\n    <tr>\n      <th>Algeria (ALG)</th>\n      <td>12.0</td>\n      <td>5.0</td>\n      <td>2.0</td>\n      <td>8.0</td>\n      <td>15.0</td>\n      <td>3.0</td>\n      <td>0.0</td>\n      <td>0.0</td>\n      <td>0.0</td>\n      <td>0.0</td>\n      <td>15.0</td>\n      <td>5.0</td>\n      <td>2.0</td>\n      <td>8.0</td>\n      <td>15.0</td>\n    </tr>\n    <tr>\n      <th>Argentina (ARG)</th>\n      <td>23.0</td>\n      <td>18.0</td>\n      <td>24.0</td>\n      <td>28.0</td>\n      <td>70.0</td>\n      <td>18.0</td>\n      <td>0.0</td>\n      <td>0.0</td>\n      <td>0.0</td>\n      <td>0.0</td>\n      <td>41.0</td>\n      <td>18.0</td>\n      <td>24.0</td>\n      <td>28.0</td>\n      <td>70.0</td>\n    </tr>\n    <tr>\n      <th>Armenia (ARM)</th>\n      <td>5.0</td>\n      <td>1.0</td>\n      <td>2.0</td>\n      <td>9.0</td>\n      <td>12.0</td>\n      <td>6.0</td>\n      <td>0.0</td>\n      <td>0.0</td>\n      <td>0.0</td>\n      <td>0.0</td>\n      <td>11.0</td>\n      <td>1.0</td>\n      <td>2.0</td>\n      <td>9.0</td>\n      <td>12.0</td>\n    </tr>\n    <tr>\n      <th>Australasia (ANZ) [ANZ]</th>\n      <td>2.0</td>\n      <td>3.0</td>\n      <td>4.0</td>\n      <td>5.0</td>\n      <td>12.0</td>\n      <td>0.0</td>\n      <td>0.0</td>\n      <td>0.0</td>\n      <td>0.0</td>\n      <td>0.0</td>\n      <td>2.0</td>\n      <td>3.0</td>\n      <td>4.0</td>\n      <td>5.0</td>\n      <td>12.0</td>\n    </tr>\n  </tbody>\n</table>\n</div>"
     },
     "metadata": {},
     "execution_count": 62
    }
   ],
   "source": [
    "only_gold = df.where(df['Gold'] > 0)\n",
    "only_gold.head()"
   ]
  },
  {
   "cell_type": "code",
   "execution_count": 63,
   "metadata": {},
   "outputs": [
    {
     "output_type": "execute_result",
     "data": {
      "text/plain": "100"
     },
     "metadata": {},
     "execution_count": 63
    }
   ],
   "source": [
    "only_gold['Gold'].count()"
   ]
  },
  {
   "cell_type": "code",
   "execution_count": 64,
   "metadata": {},
   "outputs": [
    {
     "output_type": "execute_result",
     "data": {
      "text/plain": "147"
     },
     "metadata": {},
     "execution_count": 64
    }
   ],
   "source": [
    "df['Gold'].count()"
   ]
  },
  {
   "cell_type": "code",
   "execution_count": 65,
   "metadata": {},
   "outputs": [
    {
     "output_type": "execute_result",
     "data": {
      "text/plain": "                           # Summer   Gold  Silver  Bronze  Total  # Winter  \\\nAlgeria (ALG)                  12.0    5.0     2.0     8.0   15.0       3.0   \nArgentina (ARG)                23.0   18.0    24.0    28.0   70.0      18.0   \nArmenia (ARM)                   5.0    1.0     2.0     9.0   12.0       6.0   \nAustralasia (ANZ) [ANZ]         2.0    3.0     4.0     5.0   12.0       0.0   \nAustralia (AUS) [AUS] [Z]      25.0  139.0   152.0   177.0  468.0      18.0   \n\n                           Gold.1  Silver.1  Bronze.1  Total.1  # Games  \\\nAlgeria (ALG)                 0.0       0.0       0.0      0.0     15.0   \nArgentina (ARG)               0.0       0.0       0.0      0.0     41.0   \nArmenia (ARM)                 0.0       0.0       0.0      0.0     11.0   \nAustralasia (ANZ) [ANZ]       0.0       0.0       0.0      0.0      2.0   \nAustralia (AUS) [AUS] [Z]     5.0       3.0       4.0     12.0     43.0   \n\n                           Gold.2  Silver.2  Bronze.2  Combined total  \nAlgeria (ALG)                 5.0       2.0       8.0            15.0  \nArgentina (ARG)              18.0      24.0      28.0            70.0  \nArmenia (ARM)                 1.0       2.0       9.0            12.0  \nAustralasia (ANZ) [ANZ]       3.0       4.0       5.0            12.0  \nAustralia (AUS) [AUS] [Z]   144.0     155.0     181.0           480.0  ",
      "text/html": "<div>\n<style scoped>\n    .dataframe tbody tr th:only-of-type {\n        vertical-align: middle;\n    }\n\n    .dataframe tbody tr th {\n        vertical-align: top;\n    }\n\n    .dataframe thead th {\n        text-align: right;\n    }\n</style>\n<table border=\"1\" class=\"dataframe\">\n  <thead>\n    <tr style=\"text-align: right;\">\n      <th></th>\n      <th># Summer</th>\n      <th>Gold</th>\n      <th>Silver</th>\n      <th>Bronze</th>\n      <th>Total</th>\n      <th># Winter</th>\n      <th>Gold.1</th>\n      <th>Silver.1</th>\n      <th>Bronze.1</th>\n      <th>Total.1</th>\n      <th># Games</th>\n      <th>Gold.2</th>\n      <th>Silver.2</th>\n      <th>Bronze.2</th>\n      <th>Combined total</th>\n    </tr>\n  </thead>\n  <tbody>\n    <tr>\n      <th>Algeria (ALG)</th>\n      <td>12.0</td>\n      <td>5.0</td>\n      <td>2.0</td>\n      <td>8.0</td>\n      <td>15.0</td>\n      <td>3.0</td>\n      <td>0.0</td>\n      <td>0.0</td>\n      <td>0.0</td>\n      <td>0.0</td>\n      <td>15.0</td>\n      <td>5.0</td>\n      <td>2.0</td>\n      <td>8.0</td>\n      <td>15.0</td>\n    </tr>\n    <tr>\n      <th>Argentina (ARG)</th>\n      <td>23.0</td>\n      <td>18.0</td>\n      <td>24.0</td>\n      <td>28.0</td>\n      <td>70.0</td>\n      <td>18.0</td>\n      <td>0.0</td>\n      <td>0.0</td>\n      <td>0.0</td>\n      <td>0.0</td>\n      <td>41.0</td>\n      <td>18.0</td>\n      <td>24.0</td>\n      <td>28.0</td>\n      <td>70.0</td>\n    </tr>\n    <tr>\n      <th>Armenia (ARM)</th>\n      <td>5.0</td>\n      <td>1.0</td>\n      <td>2.0</td>\n      <td>9.0</td>\n      <td>12.0</td>\n      <td>6.0</td>\n      <td>0.0</td>\n      <td>0.0</td>\n      <td>0.0</td>\n      <td>0.0</td>\n      <td>11.0</td>\n      <td>1.0</td>\n      <td>2.0</td>\n      <td>9.0</td>\n      <td>12.0</td>\n    </tr>\n    <tr>\n      <th>Australasia (ANZ) [ANZ]</th>\n      <td>2.0</td>\n      <td>3.0</td>\n      <td>4.0</td>\n      <td>5.0</td>\n      <td>12.0</td>\n      <td>0.0</td>\n      <td>0.0</td>\n      <td>0.0</td>\n      <td>0.0</td>\n      <td>0.0</td>\n      <td>2.0</td>\n      <td>3.0</td>\n      <td>4.0</td>\n      <td>5.0</td>\n      <td>12.0</td>\n    </tr>\n    <tr>\n      <th>Australia (AUS) [AUS] [Z]</th>\n      <td>25.0</td>\n      <td>139.0</td>\n      <td>152.0</td>\n      <td>177.0</td>\n      <td>468.0</td>\n      <td>18.0</td>\n      <td>5.0</td>\n      <td>3.0</td>\n      <td>4.0</td>\n      <td>12.0</td>\n      <td>43.0</td>\n      <td>144.0</td>\n      <td>155.0</td>\n      <td>181.0</td>\n      <td>480.0</td>\n    </tr>\n  </tbody>\n</table>\n</div>"
     },
     "metadata": {},
     "execution_count": 65
    }
   ],
   "source": [
    "only_gold = only_gold.dropna()\n",
    "only_gold.head()"
   ]
  },
  {
   "cell_type": "code",
   "execution_count": 66,
   "metadata": {},
   "outputs": [
    {
     "output_type": "execute_result",
     "data": {
      "text/plain": "                           # Summer  Gold  Silver  Bronze  Total  # Winter  \\\nAlgeria (ALG)                    12     5       2       8     15         3   \nArgentina (ARG)                  23    18      24      28     70        18   \nArmenia (ARM)                     5     1       2       9     12         6   \nAustralasia (ANZ) [ANZ]           2     3       4       5     12         0   \nAustralia (AUS) [AUS] [Z]        25   139     152     177    468        18   \n\n                           Gold.1  Silver.1  Bronze.1  Total.1  # Games  \\\nAlgeria (ALG)                   0         0         0        0       15   \nArgentina (ARG)                 0         0         0        0       41   \nArmenia (ARM)                   0         0         0        0       11   \nAustralasia (ANZ) [ANZ]         0         0         0        0        2   \nAustralia (AUS) [AUS] [Z]       5         3         4       12       43   \n\n                           Gold.2  Silver.2  Bronze.2  Combined total  \nAlgeria (ALG)                   5         2         8              15  \nArgentina (ARG)                18        24        28              70  \nArmenia (ARM)                   1         2         9              12  \nAustralasia (ANZ) [ANZ]         3         4         5              12  \nAustralia (AUS) [AUS] [Z]     144       155       181             480  ",
      "text/html": "<div>\n<style scoped>\n    .dataframe tbody tr th:only-of-type {\n        vertical-align: middle;\n    }\n\n    .dataframe tbody tr th {\n        vertical-align: top;\n    }\n\n    .dataframe thead th {\n        text-align: right;\n    }\n</style>\n<table border=\"1\" class=\"dataframe\">\n  <thead>\n    <tr style=\"text-align: right;\">\n      <th></th>\n      <th># Summer</th>\n      <th>Gold</th>\n      <th>Silver</th>\n      <th>Bronze</th>\n      <th>Total</th>\n      <th># Winter</th>\n      <th>Gold.1</th>\n      <th>Silver.1</th>\n      <th>Bronze.1</th>\n      <th>Total.1</th>\n      <th># Games</th>\n      <th>Gold.2</th>\n      <th>Silver.2</th>\n      <th>Bronze.2</th>\n      <th>Combined total</th>\n    </tr>\n  </thead>\n  <tbody>\n    <tr>\n      <th>Algeria (ALG)</th>\n      <td>12</td>\n      <td>5</td>\n      <td>2</td>\n      <td>8</td>\n      <td>15</td>\n      <td>3</td>\n      <td>0</td>\n      <td>0</td>\n      <td>0</td>\n      <td>0</td>\n      <td>15</td>\n      <td>5</td>\n      <td>2</td>\n      <td>8</td>\n      <td>15</td>\n    </tr>\n    <tr>\n      <th>Argentina (ARG)</th>\n      <td>23</td>\n      <td>18</td>\n      <td>24</td>\n      <td>28</td>\n      <td>70</td>\n      <td>18</td>\n      <td>0</td>\n      <td>0</td>\n      <td>0</td>\n      <td>0</td>\n      <td>41</td>\n      <td>18</td>\n      <td>24</td>\n      <td>28</td>\n      <td>70</td>\n    </tr>\n    <tr>\n      <th>Armenia (ARM)</th>\n      <td>5</td>\n      <td>1</td>\n      <td>2</td>\n      <td>9</td>\n      <td>12</td>\n      <td>6</td>\n      <td>0</td>\n      <td>0</td>\n      <td>0</td>\n      <td>0</td>\n      <td>11</td>\n      <td>1</td>\n      <td>2</td>\n      <td>9</td>\n      <td>12</td>\n    </tr>\n    <tr>\n      <th>Australasia (ANZ) [ANZ]</th>\n      <td>2</td>\n      <td>3</td>\n      <td>4</td>\n      <td>5</td>\n      <td>12</td>\n      <td>0</td>\n      <td>0</td>\n      <td>0</td>\n      <td>0</td>\n      <td>0</td>\n      <td>2</td>\n      <td>3</td>\n      <td>4</td>\n      <td>5</td>\n      <td>12</td>\n    </tr>\n    <tr>\n      <th>Australia (AUS) [AUS] [Z]</th>\n      <td>25</td>\n      <td>139</td>\n      <td>152</td>\n      <td>177</td>\n      <td>468</td>\n      <td>18</td>\n      <td>5</td>\n      <td>3</td>\n      <td>4</td>\n      <td>12</td>\n      <td>43</td>\n      <td>144</td>\n      <td>155</td>\n      <td>181</td>\n      <td>480</td>\n    </tr>\n  </tbody>\n</table>\n</div>"
     },
     "metadata": {},
     "execution_count": 66
    }
   ],
   "source": [
    "only_gold = df[df['Gold'] > 0]\n",
    "only_gold.head()"
   ]
  },
  {
   "cell_type": "code",
   "execution_count": 67,
   "metadata": {},
   "outputs": [
    {
     "output_type": "execute_result",
     "data": {
      "text/plain": "101"
     },
     "metadata": {},
     "execution_count": 67
    }
   ],
   "source": [
    "len(df[(df['Gold'] > 0) | (df['Gold.1'] > 0)])"
   ]
  },
  {
   "cell_type": "code",
   "execution_count": 68,
   "metadata": {},
   "outputs": [
    {
     "output_type": "execute_result",
     "data": {
      "text/plain": "                     # Summer  Gold  Silver  Bronze  Total  # Winter  Gold.1  \\\nLiechtenstein (LIE)        16     0       0       0      0        18       2   \n\n                     Silver.1  Bronze.1  Total.1  # Games  Gold.2  Silver.2  \\\nLiechtenstein (LIE)         2         5        9       34       2         2   \n\n                     Bronze.2  Combined total  \nLiechtenstein (LIE)         5               9  ",
      "text/html": "<div>\n<style scoped>\n    .dataframe tbody tr th:only-of-type {\n        vertical-align: middle;\n    }\n\n    .dataframe tbody tr th {\n        vertical-align: top;\n    }\n\n    .dataframe thead th {\n        text-align: right;\n    }\n</style>\n<table border=\"1\" class=\"dataframe\">\n  <thead>\n    <tr style=\"text-align: right;\">\n      <th></th>\n      <th># Summer</th>\n      <th>Gold</th>\n      <th>Silver</th>\n      <th>Bronze</th>\n      <th>Total</th>\n      <th># Winter</th>\n      <th>Gold.1</th>\n      <th>Silver.1</th>\n      <th>Bronze.1</th>\n      <th>Total.1</th>\n      <th># Games</th>\n      <th>Gold.2</th>\n      <th>Silver.2</th>\n      <th>Bronze.2</th>\n      <th>Combined total</th>\n    </tr>\n  </thead>\n  <tbody>\n    <tr>\n      <th>Liechtenstein (LIE)</th>\n      <td>16</td>\n      <td>0</td>\n      <td>0</td>\n      <td>0</td>\n      <td>0</td>\n      <td>18</td>\n      <td>2</td>\n      <td>2</td>\n      <td>5</td>\n      <td>9</td>\n      <td>34</td>\n      <td>2</td>\n      <td>2</td>\n      <td>5</td>\n      <td>9</td>\n    </tr>\n  </tbody>\n</table>\n</div>"
     },
     "metadata": {},
     "execution_count": 68
    }
   ],
   "source": [
    "df[(df['Gold.1'] > 0) & (df['Gold'] == 0)]"
   ]
  },
  {
   "cell_type": "markdown",
   "metadata": {},
   "source": [
    "# Indexing Dataframes"
   ]
  },
  {
   "cell_type": "code",
   "execution_count": 69,
   "metadata": {},
   "outputs": [
    {
     "output_type": "execute_result",
     "data": {
      "text/plain": "                         # Summer  Gold  Silver  Bronze  Total  # Winter  \\\nAfghanistan (AFG)              13     0       0       2      2         0   \nAlgeria (ALG)                  12     5       2       8     15         3   \nArgentina (ARG)                23    18      24      28     70        18   \nArmenia (ARM)                   5     1       2       9     12         6   \nAustralasia (ANZ) [ANZ]         2     3       4       5     12         0   \n\n                         Gold.1  Silver.1  Bronze.1  Total.1  # Games  Gold.2  \\\nAfghanistan (AFG)             0         0         0        0       13       0   \nAlgeria (ALG)                 0         0         0        0       15       5   \nArgentina (ARG)               0         0         0        0       41      18   \nArmenia (ARM)                 0         0         0        0       11       1   \nAustralasia (ANZ) [ANZ]       0         0         0        0        2       3   \n\n                         Silver.2  Bronze.2  Combined total  \nAfghanistan (AFG)               0         2               2  \nAlgeria (ALG)                   2         8              15  \nArgentina (ARG)                24        28              70  \nArmenia (ARM)                   2         9              12  \nAustralasia (ANZ) [ANZ]         4         5              12  ",
      "text/html": "<div>\n<style scoped>\n    .dataframe tbody tr th:only-of-type {\n        vertical-align: middle;\n    }\n\n    .dataframe tbody tr th {\n        vertical-align: top;\n    }\n\n    .dataframe thead th {\n        text-align: right;\n    }\n</style>\n<table border=\"1\" class=\"dataframe\">\n  <thead>\n    <tr style=\"text-align: right;\">\n      <th></th>\n      <th># Summer</th>\n      <th>Gold</th>\n      <th>Silver</th>\n      <th>Bronze</th>\n      <th>Total</th>\n      <th># Winter</th>\n      <th>Gold.1</th>\n      <th>Silver.1</th>\n      <th>Bronze.1</th>\n      <th>Total.1</th>\n      <th># Games</th>\n      <th>Gold.2</th>\n      <th>Silver.2</th>\n      <th>Bronze.2</th>\n      <th>Combined total</th>\n    </tr>\n  </thead>\n  <tbody>\n    <tr>\n      <th>Afghanistan (AFG)</th>\n      <td>13</td>\n      <td>0</td>\n      <td>0</td>\n      <td>2</td>\n      <td>2</td>\n      <td>0</td>\n      <td>0</td>\n      <td>0</td>\n      <td>0</td>\n      <td>0</td>\n      <td>13</td>\n      <td>0</td>\n      <td>0</td>\n      <td>2</td>\n      <td>2</td>\n    </tr>\n    <tr>\n      <th>Algeria (ALG)</th>\n      <td>12</td>\n      <td>5</td>\n      <td>2</td>\n      <td>8</td>\n      <td>15</td>\n      <td>3</td>\n      <td>0</td>\n      <td>0</td>\n      <td>0</td>\n      <td>0</td>\n      <td>15</td>\n      <td>5</td>\n      <td>2</td>\n      <td>8</td>\n      <td>15</td>\n    </tr>\n    <tr>\n      <th>Argentina (ARG)</th>\n      <td>23</td>\n      <td>18</td>\n      <td>24</td>\n      <td>28</td>\n      <td>70</td>\n      <td>18</td>\n      <td>0</td>\n      <td>0</td>\n      <td>0</td>\n      <td>0</td>\n      <td>41</td>\n      <td>18</td>\n      <td>24</td>\n      <td>28</td>\n      <td>70</td>\n    </tr>\n    <tr>\n      <th>Armenia (ARM)</th>\n      <td>5</td>\n      <td>1</td>\n      <td>2</td>\n      <td>9</td>\n      <td>12</td>\n      <td>6</td>\n      <td>0</td>\n      <td>0</td>\n      <td>0</td>\n      <td>0</td>\n      <td>11</td>\n      <td>1</td>\n      <td>2</td>\n      <td>9</td>\n      <td>12</td>\n    </tr>\n    <tr>\n      <th>Australasia (ANZ) [ANZ]</th>\n      <td>2</td>\n      <td>3</td>\n      <td>4</td>\n      <td>5</td>\n      <td>12</td>\n      <td>0</td>\n      <td>0</td>\n      <td>0</td>\n      <td>0</td>\n      <td>0</td>\n      <td>2</td>\n      <td>3</td>\n      <td>4</td>\n      <td>5</td>\n      <td>12</td>\n    </tr>\n  </tbody>\n</table>\n</div>"
     },
     "metadata": {},
     "execution_count": 69
    }
   ],
   "source": [
    "df.head()"
   ]
  },
  {
   "cell_type": "code",
   "execution_count": 70,
   "metadata": {},
   "outputs": [
    {
     "output_type": "execute_result",
     "data": {
      "text/plain": "      # Summer  Silver  Bronze  Total  # Winter  Gold.1  Silver.1  Bronze.1  \\\nGold                                                                          \n0           13       0       2      2         0       0         0         0   \n5           12       2       8     15         3       0         0         0   \n18          23      24      28     70        18       0         0         0   \n1            5       2       9     12         6       0         0         0   \n3            2       4       5     12         0       0         0         0   \n\n      Total.1  # Games  Gold.2  Silver.2  Bronze.2  Combined total  \\\nGold                                                                 \n0           0       13       0         0         2               2   \n5           0       15       5         2         8              15   \n18          0       41      18        24        28              70   \n1           0       11       1         2         9              12   \n3           0        2       3         4         5              12   \n\n                      country  \nGold                           \n0           Afghanistan (AFG)  \n5               Algeria (ALG)  \n18            Argentina (ARG)  \n1               Armenia (ARM)  \n3     Australasia (ANZ) [ANZ]  ",
      "text/html": "<div>\n<style scoped>\n    .dataframe tbody tr th:only-of-type {\n        vertical-align: middle;\n    }\n\n    .dataframe tbody tr th {\n        vertical-align: top;\n    }\n\n    .dataframe thead th {\n        text-align: right;\n    }\n</style>\n<table border=\"1\" class=\"dataframe\">\n  <thead>\n    <tr style=\"text-align: right;\">\n      <th></th>\n      <th># Summer</th>\n      <th>Silver</th>\n      <th>Bronze</th>\n      <th>Total</th>\n      <th># Winter</th>\n      <th>Gold.1</th>\n      <th>Silver.1</th>\n      <th>Bronze.1</th>\n      <th>Total.1</th>\n      <th># Games</th>\n      <th>Gold.2</th>\n      <th>Silver.2</th>\n      <th>Bronze.2</th>\n      <th>Combined total</th>\n      <th>country</th>\n    </tr>\n    <tr>\n      <th>Gold</th>\n      <th></th>\n      <th></th>\n      <th></th>\n      <th></th>\n      <th></th>\n      <th></th>\n      <th></th>\n      <th></th>\n      <th></th>\n      <th></th>\n      <th></th>\n      <th></th>\n      <th></th>\n      <th></th>\n      <th></th>\n    </tr>\n  </thead>\n  <tbody>\n    <tr>\n      <th>0</th>\n      <td>13</td>\n      <td>0</td>\n      <td>2</td>\n      <td>2</td>\n      <td>0</td>\n      <td>0</td>\n      <td>0</td>\n      <td>0</td>\n      <td>0</td>\n      <td>13</td>\n      <td>0</td>\n      <td>0</td>\n      <td>2</td>\n      <td>2</td>\n      <td>Afghanistan (AFG)</td>\n    </tr>\n    <tr>\n      <th>5</th>\n      <td>12</td>\n      <td>2</td>\n      <td>8</td>\n      <td>15</td>\n      <td>3</td>\n      <td>0</td>\n      <td>0</td>\n      <td>0</td>\n      <td>0</td>\n      <td>15</td>\n      <td>5</td>\n      <td>2</td>\n      <td>8</td>\n      <td>15</td>\n      <td>Algeria (ALG)</td>\n    </tr>\n    <tr>\n      <th>18</th>\n      <td>23</td>\n      <td>24</td>\n      <td>28</td>\n      <td>70</td>\n      <td>18</td>\n      <td>0</td>\n      <td>0</td>\n      <td>0</td>\n      <td>0</td>\n      <td>41</td>\n      <td>18</td>\n      <td>24</td>\n      <td>28</td>\n      <td>70</td>\n      <td>Argentina (ARG)</td>\n    </tr>\n    <tr>\n      <th>1</th>\n      <td>5</td>\n      <td>2</td>\n      <td>9</td>\n      <td>12</td>\n      <td>6</td>\n      <td>0</td>\n      <td>0</td>\n      <td>0</td>\n      <td>0</td>\n      <td>11</td>\n      <td>1</td>\n      <td>2</td>\n      <td>9</td>\n      <td>12</td>\n      <td>Armenia (ARM)</td>\n    </tr>\n    <tr>\n      <th>3</th>\n      <td>2</td>\n      <td>4</td>\n      <td>5</td>\n      <td>12</td>\n      <td>0</td>\n      <td>0</td>\n      <td>0</td>\n      <td>0</td>\n      <td>0</td>\n      <td>2</td>\n      <td>3</td>\n      <td>4</td>\n      <td>5</td>\n      <td>12</td>\n      <td>Australasia (ANZ) [ANZ]</td>\n    </tr>\n  </tbody>\n</table>\n</div>"
     },
     "metadata": {},
     "execution_count": 70
    }
   ],
   "source": [
    "df['country'] = df.index\n",
    "df = df.set_index('Gold')\n",
    "df.head()"
   ]
  },
  {
   "cell_type": "code",
   "execution_count": 71,
   "metadata": {},
   "outputs": [
    {
     "output_type": "execute_result",
     "data": {
      "text/plain": "   Gold  # Summer  Silver  Bronze  Total  # Winter  Gold.1  Silver.1  \\\n0     0        13       0       2      2         0       0         0   \n1     5        12       2       8     15         3       0         0   \n2    18        23      24      28     70        18       0         0   \n3     1         5       2       9     12         6       0         0   \n4     3         2       4       5     12         0       0         0   \n\n   Bronze.1  Total.1  # Games  Gold.2  Silver.2  Bronze.2  Combined total  \\\n0         0        0       13       0         0         2               2   \n1         0        0       15       5         2         8              15   \n2         0        0       41      18        24        28              70   \n3         0        0       11       1         2         9              12   \n4         0        0        2       3         4         5              12   \n\n                   country  \n0        Afghanistan (AFG)  \n1            Algeria (ALG)  \n2          Argentina (ARG)  \n3            Armenia (ARM)  \n4  Australasia (ANZ) [ANZ]  ",
      "text/html": "<div>\n<style scoped>\n    .dataframe tbody tr th:only-of-type {\n        vertical-align: middle;\n    }\n\n    .dataframe tbody tr th {\n        vertical-align: top;\n    }\n\n    .dataframe thead th {\n        text-align: right;\n    }\n</style>\n<table border=\"1\" class=\"dataframe\">\n  <thead>\n    <tr style=\"text-align: right;\">\n      <th></th>\n      <th>Gold</th>\n      <th># Summer</th>\n      <th>Silver</th>\n      <th>Bronze</th>\n      <th>Total</th>\n      <th># Winter</th>\n      <th>Gold.1</th>\n      <th>Silver.1</th>\n      <th>Bronze.1</th>\n      <th>Total.1</th>\n      <th># Games</th>\n      <th>Gold.2</th>\n      <th>Silver.2</th>\n      <th>Bronze.2</th>\n      <th>Combined total</th>\n      <th>country</th>\n    </tr>\n  </thead>\n  <tbody>\n    <tr>\n      <th>0</th>\n      <td>0</td>\n      <td>13</td>\n      <td>0</td>\n      <td>2</td>\n      <td>2</td>\n      <td>0</td>\n      <td>0</td>\n      <td>0</td>\n      <td>0</td>\n      <td>0</td>\n      <td>13</td>\n      <td>0</td>\n      <td>0</td>\n      <td>2</td>\n      <td>2</td>\n      <td>Afghanistan (AFG)</td>\n    </tr>\n    <tr>\n      <th>1</th>\n      <td>5</td>\n      <td>12</td>\n      <td>2</td>\n      <td>8</td>\n      <td>15</td>\n      <td>3</td>\n      <td>0</td>\n      <td>0</td>\n      <td>0</td>\n      <td>0</td>\n      <td>15</td>\n      <td>5</td>\n      <td>2</td>\n      <td>8</td>\n      <td>15</td>\n      <td>Algeria (ALG)</td>\n    </tr>\n    <tr>\n      <th>2</th>\n      <td>18</td>\n      <td>23</td>\n      <td>24</td>\n      <td>28</td>\n      <td>70</td>\n      <td>18</td>\n      <td>0</td>\n      <td>0</td>\n      <td>0</td>\n      <td>0</td>\n      <td>41</td>\n      <td>18</td>\n      <td>24</td>\n      <td>28</td>\n      <td>70</td>\n      <td>Argentina (ARG)</td>\n    </tr>\n    <tr>\n      <th>3</th>\n      <td>1</td>\n      <td>5</td>\n      <td>2</td>\n      <td>9</td>\n      <td>12</td>\n      <td>6</td>\n      <td>0</td>\n      <td>0</td>\n      <td>0</td>\n      <td>0</td>\n      <td>11</td>\n      <td>1</td>\n      <td>2</td>\n      <td>9</td>\n      <td>12</td>\n      <td>Armenia (ARM)</td>\n    </tr>\n    <tr>\n      <th>4</th>\n      <td>3</td>\n      <td>2</td>\n      <td>4</td>\n      <td>5</td>\n      <td>12</td>\n      <td>0</td>\n      <td>0</td>\n      <td>0</td>\n      <td>0</td>\n      <td>0</td>\n      <td>2</td>\n      <td>3</td>\n      <td>4</td>\n      <td>5</td>\n      <td>12</td>\n      <td>Australasia (ANZ) [ANZ]</td>\n    </tr>\n  </tbody>\n</table>\n</div>"
     },
     "metadata": {},
     "execution_count": 71
    }
   ],
   "source": [
    "df = df.reset_index()\n",
    "df.head()"
   ]
  },
  {
   "cell_type": "code",
   "execution_count": 72,
   "metadata": {},
   "outputs": [
    {
     "output_type": "execute_result",
     "data": {
      "text/plain": "   SUMLEV  REGION  DIVISION  STATE  COUNTY   STNAME         CTYNAME  \\\n0      40       3         6      1       0  Alabama         Alabama   \n1      50       3         6      1       1  Alabama  Autauga County   \n2      50       3         6      1       3  Alabama  Baldwin County   \n3      50       3         6      1       5  Alabama  Barbour County   \n4      50       3         6      1       7  Alabama     Bibb County   \n\n   CENSUS2010POP  ESTIMATESBASE2010  POPESTIMATE2010  ...  RDOMESTICMIG2011  \\\n0        4779736            4780127          4785161  ...          0.002295   \n1          54571              54571            54660  ...          7.242091   \n2         182265             182265           183193  ...         14.832960   \n3          27457              27457            27341  ...         -4.728132   \n4          22915              22919            22861  ...         -5.527043   \n\n   RDOMESTICMIG2012  RDOMESTICMIG2013  RDOMESTICMIG2014  RDOMESTICMIG2015  \\\n0         -0.193196          0.381066          0.582002         -0.467369   \n1         -2.915927         -3.012349          2.265971         -2.530799   \n2         17.647293         21.845705         19.243287         17.197872   \n3         -2.500690         -7.056824         -3.904217        -10.543299   \n4         -5.068871         -6.201001         -0.177537          0.177258   \n\n   RNETMIG2011  RNETMIG2012  RNETMIG2013  RNETMIG2014  RNETMIG2015  \n0     1.030015     0.826644     1.383282     1.724718     0.712594  \n1     7.606016    -2.626146    -2.722002     2.592270    -2.187333  \n2    15.844176    18.559627    22.727626    20.317142    18.293499  \n3    -4.874741    -2.758113    -7.167664    -3.978583   -10.543299  \n4    -5.088389    -4.363636    -5.403729     0.754533     1.107861  \n\n[5 rows x 100 columns]",
      "text/html": "<div>\n<style scoped>\n    .dataframe tbody tr th:only-of-type {\n        vertical-align: middle;\n    }\n\n    .dataframe tbody tr th {\n        vertical-align: top;\n    }\n\n    .dataframe thead th {\n        text-align: right;\n    }\n</style>\n<table border=\"1\" class=\"dataframe\">\n  <thead>\n    <tr style=\"text-align: right;\">\n      <th></th>\n      <th>SUMLEV</th>\n      <th>REGION</th>\n      <th>DIVISION</th>\n      <th>STATE</th>\n      <th>COUNTY</th>\n      <th>STNAME</th>\n      <th>CTYNAME</th>\n      <th>CENSUS2010POP</th>\n      <th>ESTIMATESBASE2010</th>\n      <th>POPESTIMATE2010</th>\n      <th>...</th>\n      <th>RDOMESTICMIG2011</th>\n      <th>RDOMESTICMIG2012</th>\n      <th>RDOMESTICMIG2013</th>\n      <th>RDOMESTICMIG2014</th>\n      <th>RDOMESTICMIG2015</th>\n      <th>RNETMIG2011</th>\n      <th>RNETMIG2012</th>\n      <th>RNETMIG2013</th>\n      <th>RNETMIG2014</th>\n      <th>RNETMIG2015</th>\n    </tr>\n  </thead>\n  <tbody>\n    <tr>\n      <th>0</th>\n      <td>40</td>\n      <td>3</td>\n      <td>6</td>\n      <td>1</td>\n      <td>0</td>\n      <td>Alabama</td>\n      <td>Alabama</td>\n      <td>4779736</td>\n      <td>4780127</td>\n      <td>4785161</td>\n      <td>...</td>\n      <td>0.002295</td>\n      <td>-0.193196</td>\n      <td>0.381066</td>\n      <td>0.582002</td>\n      <td>-0.467369</td>\n      <td>1.030015</td>\n      <td>0.826644</td>\n      <td>1.383282</td>\n      <td>1.724718</td>\n      <td>0.712594</td>\n    </tr>\n    <tr>\n      <th>1</th>\n      <td>50</td>\n      <td>3</td>\n      <td>6</td>\n      <td>1</td>\n      <td>1</td>\n      <td>Alabama</td>\n      <td>Autauga County</td>\n      <td>54571</td>\n      <td>54571</td>\n      <td>54660</td>\n      <td>...</td>\n      <td>7.242091</td>\n      <td>-2.915927</td>\n      <td>-3.012349</td>\n      <td>2.265971</td>\n      <td>-2.530799</td>\n      <td>7.606016</td>\n      <td>-2.626146</td>\n      <td>-2.722002</td>\n      <td>2.592270</td>\n      <td>-2.187333</td>\n    </tr>\n    <tr>\n      <th>2</th>\n      <td>50</td>\n      <td>3</td>\n      <td>6</td>\n      <td>1</td>\n      <td>3</td>\n      <td>Alabama</td>\n      <td>Baldwin County</td>\n      <td>182265</td>\n      <td>182265</td>\n      <td>183193</td>\n      <td>...</td>\n      <td>14.832960</td>\n      <td>17.647293</td>\n      <td>21.845705</td>\n      <td>19.243287</td>\n      <td>17.197872</td>\n      <td>15.844176</td>\n      <td>18.559627</td>\n      <td>22.727626</td>\n      <td>20.317142</td>\n      <td>18.293499</td>\n    </tr>\n    <tr>\n      <th>3</th>\n      <td>50</td>\n      <td>3</td>\n      <td>6</td>\n      <td>1</td>\n      <td>5</td>\n      <td>Alabama</td>\n      <td>Barbour County</td>\n      <td>27457</td>\n      <td>27457</td>\n      <td>27341</td>\n      <td>...</td>\n      <td>-4.728132</td>\n      <td>-2.500690</td>\n      <td>-7.056824</td>\n      <td>-3.904217</td>\n      <td>-10.543299</td>\n      <td>-4.874741</td>\n      <td>-2.758113</td>\n      <td>-7.167664</td>\n      <td>-3.978583</td>\n      <td>-10.543299</td>\n    </tr>\n    <tr>\n      <th>4</th>\n      <td>50</td>\n      <td>3</td>\n      <td>6</td>\n      <td>1</td>\n      <td>7</td>\n      <td>Alabama</td>\n      <td>Bibb County</td>\n      <td>22915</td>\n      <td>22919</td>\n      <td>22861</td>\n      <td>...</td>\n      <td>-5.527043</td>\n      <td>-5.068871</td>\n      <td>-6.201001</td>\n      <td>-0.177537</td>\n      <td>0.177258</td>\n      <td>-5.088389</td>\n      <td>-4.363636</td>\n      <td>-5.403729</td>\n      <td>0.754533</td>\n      <td>1.107861</td>\n    </tr>\n  </tbody>\n</table>\n<p>5 rows × 100 columns</p>\n</div>"
     },
     "metadata": {},
     "execution_count": 72
    }
   ],
   "source": [
    "df = pd.read_csv('census.csv')\n",
    "df.head()"
   ]
  },
  {
   "cell_type": "code",
   "execution_count": 73,
   "metadata": {},
   "outputs": [
    {
     "output_type": "execute_result",
     "data": {
      "text/plain": "array([40, 50], dtype=int64)"
     },
     "metadata": {},
     "execution_count": 73
    }
   ],
   "source": [
    "df['SUMLEV'].unique()"
   ]
  },
  {
   "cell_type": "code",
   "execution_count": 74,
   "metadata": {},
   "outputs": [
    {
     "output_type": "execute_result",
     "data": {
      "text/plain": "   SUMLEV  REGION  DIVISION  STATE  COUNTY   STNAME         CTYNAME  \\\n1      50       3         6      1       1  Alabama  Autauga County   \n2      50       3         6      1       3  Alabama  Baldwin County   \n3      50       3         6      1       5  Alabama  Barbour County   \n4      50       3         6      1       7  Alabama     Bibb County   \n5      50       3         6      1       9  Alabama   Blount County   \n\n   CENSUS2010POP  ESTIMATESBASE2010  POPESTIMATE2010  ...  RDOMESTICMIG2011  \\\n1          54571              54571            54660  ...          7.242091   \n2         182265             182265           183193  ...         14.832960   \n3          27457              27457            27341  ...         -4.728132   \n4          22915              22919            22861  ...         -5.527043   \n5          57322              57322            57373  ...          1.807375   \n\n   RDOMESTICMIG2012  RDOMESTICMIG2013  RDOMESTICMIG2014  RDOMESTICMIG2015  \\\n1         -2.915927         -3.012349          2.265971         -2.530799   \n2         17.647293         21.845705         19.243287         17.197872   \n3         -2.500690         -7.056824         -3.904217        -10.543299   \n4         -5.068871         -6.201001         -0.177537          0.177258   \n5         -1.177622         -1.748766         -2.062535         -1.369970   \n\n   RNETMIG2011  RNETMIG2012  RNETMIG2013  RNETMIG2014  RNETMIG2015  \n1     7.606016    -2.626146    -2.722002     2.592270    -2.187333  \n2    15.844176    18.559627    22.727626    20.317142    18.293499  \n3    -4.874741    -2.758113    -7.167664    -3.978583   -10.543299  \n4    -5.088389    -4.363636    -5.403729     0.754533     1.107861  \n5     1.859511    -0.848580    -1.402476    -1.577232    -0.884411  \n\n[5 rows x 100 columns]",
      "text/html": "<div>\n<style scoped>\n    .dataframe tbody tr th:only-of-type {\n        vertical-align: middle;\n    }\n\n    .dataframe tbody tr th {\n        vertical-align: top;\n    }\n\n    .dataframe thead th {\n        text-align: right;\n    }\n</style>\n<table border=\"1\" class=\"dataframe\">\n  <thead>\n    <tr style=\"text-align: right;\">\n      <th></th>\n      <th>SUMLEV</th>\n      <th>REGION</th>\n      <th>DIVISION</th>\n      <th>STATE</th>\n      <th>COUNTY</th>\n      <th>STNAME</th>\n      <th>CTYNAME</th>\n      <th>CENSUS2010POP</th>\n      <th>ESTIMATESBASE2010</th>\n      <th>POPESTIMATE2010</th>\n      <th>...</th>\n      <th>RDOMESTICMIG2011</th>\n      <th>RDOMESTICMIG2012</th>\n      <th>RDOMESTICMIG2013</th>\n      <th>RDOMESTICMIG2014</th>\n      <th>RDOMESTICMIG2015</th>\n      <th>RNETMIG2011</th>\n      <th>RNETMIG2012</th>\n      <th>RNETMIG2013</th>\n      <th>RNETMIG2014</th>\n      <th>RNETMIG2015</th>\n    </tr>\n  </thead>\n  <tbody>\n    <tr>\n      <th>1</th>\n      <td>50</td>\n      <td>3</td>\n      <td>6</td>\n      <td>1</td>\n      <td>1</td>\n      <td>Alabama</td>\n      <td>Autauga County</td>\n      <td>54571</td>\n      <td>54571</td>\n      <td>54660</td>\n      <td>...</td>\n      <td>7.242091</td>\n      <td>-2.915927</td>\n      <td>-3.012349</td>\n      <td>2.265971</td>\n      <td>-2.530799</td>\n      <td>7.606016</td>\n      <td>-2.626146</td>\n      <td>-2.722002</td>\n      <td>2.592270</td>\n      <td>-2.187333</td>\n    </tr>\n    <tr>\n      <th>2</th>\n      <td>50</td>\n      <td>3</td>\n      <td>6</td>\n      <td>1</td>\n      <td>3</td>\n      <td>Alabama</td>\n      <td>Baldwin County</td>\n      <td>182265</td>\n      <td>182265</td>\n      <td>183193</td>\n      <td>...</td>\n      <td>14.832960</td>\n      <td>17.647293</td>\n      <td>21.845705</td>\n      <td>19.243287</td>\n      <td>17.197872</td>\n      <td>15.844176</td>\n      <td>18.559627</td>\n      <td>22.727626</td>\n      <td>20.317142</td>\n      <td>18.293499</td>\n    </tr>\n    <tr>\n      <th>3</th>\n      <td>50</td>\n      <td>3</td>\n      <td>6</td>\n      <td>1</td>\n      <td>5</td>\n      <td>Alabama</td>\n      <td>Barbour County</td>\n      <td>27457</td>\n      <td>27457</td>\n      <td>27341</td>\n      <td>...</td>\n      <td>-4.728132</td>\n      <td>-2.500690</td>\n      <td>-7.056824</td>\n      <td>-3.904217</td>\n      <td>-10.543299</td>\n      <td>-4.874741</td>\n      <td>-2.758113</td>\n      <td>-7.167664</td>\n      <td>-3.978583</td>\n      <td>-10.543299</td>\n    </tr>\n    <tr>\n      <th>4</th>\n      <td>50</td>\n      <td>3</td>\n      <td>6</td>\n      <td>1</td>\n      <td>7</td>\n      <td>Alabama</td>\n      <td>Bibb County</td>\n      <td>22915</td>\n      <td>22919</td>\n      <td>22861</td>\n      <td>...</td>\n      <td>-5.527043</td>\n      <td>-5.068871</td>\n      <td>-6.201001</td>\n      <td>-0.177537</td>\n      <td>0.177258</td>\n      <td>-5.088389</td>\n      <td>-4.363636</td>\n      <td>-5.403729</td>\n      <td>0.754533</td>\n      <td>1.107861</td>\n    </tr>\n    <tr>\n      <th>5</th>\n      <td>50</td>\n      <td>3</td>\n      <td>6</td>\n      <td>1</td>\n      <td>9</td>\n      <td>Alabama</td>\n      <td>Blount County</td>\n      <td>57322</td>\n      <td>57322</td>\n      <td>57373</td>\n      <td>...</td>\n      <td>1.807375</td>\n      <td>-1.177622</td>\n      <td>-1.748766</td>\n      <td>-2.062535</td>\n      <td>-1.369970</td>\n      <td>1.859511</td>\n      <td>-0.848580</td>\n      <td>-1.402476</td>\n      <td>-1.577232</td>\n      <td>-0.884411</td>\n    </tr>\n  </tbody>\n</table>\n<p>5 rows × 100 columns</p>\n</div>"
     },
     "metadata": {},
     "execution_count": 74
    }
   ],
   "source": [
    "df=df[df['SUMLEV'] == 50]\n",
    "df.head()"
   ]
  },
  {
   "cell_type": "code",
   "execution_count": 75,
   "metadata": {},
   "outputs": [
    {
     "output_type": "execute_result",
     "data": {
      "text/plain": "    STNAME         CTYNAME  BIRTHS2010  BIRTHS2011  BIRTHS2012  BIRTHS2013  \\\n1  Alabama  Autauga County         151         636         615         574   \n2  Alabama  Baldwin County         517        2187        2092        2160   \n3  Alabama  Barbour County          70         335         300         283   \n4  Alabama     Bibb County          44         266         245         259   \n5  Alabama   Blount County         183         744         710         646   \n\n   BIRTHS2014  BIRTHS2015  POPESTIMATE2010  POPESTIMATE2011  POPESTIMATE2012  \\\n1         623         600            54660            55253            55175   \n2        2186        2240           183193           186659           190396   \n3         260         269            27341            27226            27159   \n4         247         253            22861            22733            22642   \n5         618         603            57373            57711            57776   \n\n   POPESTIMATE2013  POPESTIMATE2014  POPESTIMATE2015  \n1            55038            55290            55347  \n2           195126           199713           203709  \n3            26973            26815            26489  \n4            22512            22549            22583  \n5            57734            57658            57673  ",
      "text/html": "<div>\n<style scoped>\n    .dataframe tbody tr th:only-of-type {\n        vertical-align: middle;\n    }\n\n    .dataframe tbody tr th {\n        vertical-align: top;\n    }\n\n    .dataframe thead th {\n        text-align: right;\n    }\n</style>\n<table border=\"1\" class=\"dataframe\">\n  <thead>\n    <tr style=\"text-align: right;\">\n      <th></th>\n      <th>STNAME</th>\n      <th>CTYNAME</th>\n      <th>BIRTHS2010</th>\n      <th>BIRTHS2011</th>\n      <th>BIRTHS2012</th>\n      <th>BIRTHS2013</th>\n      <th>BIRTHS2014</th>\n      <th>BIRTHS2015</th>\n      <th>POPESTIMATE2010</th>\n      <th>POPESTIMATE2011</th>\n      <th>POPESTIMATE2012</th>\n      <th>POPESTIMATE2013</th>\n      <th>POPESTIMATE2014</th>\n      <th>POPESTIMATE2015</th>\n    </tr>\n  </thead>\n  <tbody>\n    <tr>\n      <th>1</th>\n      <td>Alabama</td>\n      <td>Autauga County</td>\n      <td>151</td>\n      <td>636</td>\n      <td>615</td>\n      <td>574</td>\n      <td>623</td>\n      <td>600</td>\n      <td>54660</td>\n      <td>55253</td>\n      <td>55175</td>\n      <td>55038</td>\n      <td>55290</td>\n      <td>55347</td>\n    </tr>\n    <tr>\n      <th>2</th>\n      <td>Alabama</td>\n      <td>Baldwin County</td>\n      <td>517</td>\n      <td>2187</td>\n      <td>2092</td>\n      <td>2160</td>\n      <td>2186</td>\n      <td>2240</td>\n      <td>183193</td>\n      <td>186659</td>\n      <td>190396</td>\n      <td>195126</td>\n      <td>199713</td>\n      <td>203709</td>\n    </tr>\n    <tr>\n      <th>3</th>\n      <td>Alabama</td>\n      <td>Barbour County</td>\n      <td>70</td>\n      <td>335</td>\n      <td>300</td>\n      <td>283</td>\n      <td>260</td>\n      <td>269</td>\n      <td>27341</td>\n      <td>27226</td>\n      <td>27159</td>\n      <td>26973</td>\n      <td>26815</td>\n      <td>26489</td>\n    </tr>\n    <tr>\n      <th>4</th>\n      <td>Alabama</td>\n      <td>Bibb County</td>\n      <td>44</td>\n      <td>266</td>\n      <td>245</td>\n      <td>259</td>\n      <td>247</td>\n      <td>253</td>\n      <td>22861</td>\n      <td>22733</td>\n      <td>22642</td>\n      <td>22512</td>\n      <td>22549</td>\n      <td>22583</td>\n    </tr>\n    <tr>\n      <th>5</th>\n      <td>Alabama</td>\n      <td>Blount County</td>\n      <td>183</td>\n      <td>744</td>\n      <td>710</td>\n      <td>646</td>\n      <td>618</td>\n      <td>603</td>\n      <td>57373</td>\n      <td>57711</td>\n      <td>57776</td>\n      <td>57734</td>\n      <td>57658</td>\n      <td>57673</td>\n    </tr>\n  </tbody>\n</table>\n</div>"
     },
     "metadata": {},
     "execution_count": 75
    }
   ],
   "source": [
    "columns_to_keep = ['STNAME',\n",
    "                   'CTYNAME',\n",
    "                   'BIRTHS2010',\n",
    "                   'BIRTHS2011',\n",
    "                   'BIRTHS2012',\n",
    "                   'BIRTHS2013',\n",
    "                   'BIRTHS2014',\n",
    "                   'BIRTHS2015',\n",
    "                   'POPESTIMATE2010',\n",
    "                   'POPESTIMATE2011',\n",
    "                   'POPESTIMATE2012',\n",
    "                   'POPESTIMATE2013',\n",
    "                   'POPESTIMATE2014',\n",
    "                   'POPESTIMATE2015']\n",
    "df = df[columns_to_keep]\n",
    "df.head()"
   ]
  },
  {
   "cell_type": "code",
   "execution_count": 76,
   "metadata": {},
   "outputs": [
    {
     "output_type": "execute_result",
     "data": {
      "text/plain": "                        BIRTHS2010  BIRTHS2011  BIRTHS2012  BIRTHS2013  \\\nSTNAME  CTYNAME                                                          \nAlabama Autauga County         151         636         615         574   \n        Baldwin County         517        2187        2092        2160   \n        Barbour County          70         335         300         283   \n        Bibb County             44         266         245         259   \n        Blount County          183         744         710         646   \n\n                        BIRTHS2014  BIRTHS2015  POPESTIMATE2010  \\\nSTNAME  CTYNAME                                                   \nAlabama Autauga County         623         600            54660   \n        Baldwin County        2186        2240           183193   \n        Barbour County         260         269            27341   \n        Bibb County            247         253            22861   \n        Blount County          618         603            57373   \n\n                        POPESTIMATE2011  POPESTIMATE2012  POPESTIMATE2013  \\\nSTNAME  CTYNAME                                                             \nAlabama Autauga County            55253            55175            55038   \n        Baldwin County           186659           190396           195126   \n        Barbour County            27226            27159            26973   \n        Bibb County               22733            22642            22512   \n        Blount County             57711            57776            57734   \n\n                        POPESTIMATE2014  POPESTIMATE2015  \nSTNAME  CTYNAME                                           \nAlabama Autauga County            55290            55347  \n        Baldwin County           199713           203709  \n        Barbour County            26815            26489  \n        Bibb County               22549            22583  \n        Blount County             57658            57673  ",
      "text/html": "<div>\n<style scoped>\n    .dataframe tbody tr th:only-of-type {\n        vertical-align: middle;\n    }\n\n    .dataframe tbody tr th {\n        vertical-align: top;\n    }\n\n    .dataframe thead th {\n        text-align: right;\n    }\n</style>\n<table border=\"1\" class=\"dataframe\">\n  <thead>\n    <tr style=\"text-align: right;\">\n      <th></th>\n      <th></th>\n      <th>BIRTHS2010</th>\n      <th>BIRTHS2011</th>\n      <th>BIRTHS2012</th>\n      <th>BIRTHS2013</th>\n      <th>BIRTHS2014</th>\n      <th>BIRTHS2015</th>\n      <th>POPESTIMATE2010</th>\n      <th>POPESTIMATE2011</th>\n      <th>POPESTIMATE2012</th>\n      <th>POPESTIMATE2013</th>\n      <th>POPESTIMATE2014</th>\n      <th>POPESTIMATE2015</th>\n    </tr>\n    <tr>\n      <th>STNAME</th>\n      <th>CTYNAME</th>\n      <th></th>\n      <th></th>\n      <th></th>\n      <th></th>\n      <th></th>\n      <th></th>\n      <th></th>\n      <th></th>\n      <th></th>\n      <th></th>\n      <th></th>\n      <th></th>\n    </tr>\n  </thead>\n  <tbody>\n    <tr>\n      <th rowspan=\"5\" valign=\"top\">Alabama</th>\n      <th>Autauga County</th>\n      <td>151</td>\n      <td>636</td>\n      <td>615</td>\n      <td>574</td>\n      <td>623</td>\n      <td>600</td>\n      <td>54660</td>\n      <td>55253</td>\n      <td>55175</td>\n      <td>55038</td>\n      <td>55290</td>\n      <td>55347</td>\n    </tr>\n    <tr>\n      <th>Baldwin County</th>\n      <td>517</td>\n      <td>2187</td>\n      <td>2092</td>\n      <td>2160</td>\n      <td>2186</td>\n      <td>2240</td>\n      <td>183193</td>\n      <td>186659</td>\n      <td>190396</td>\n      <td>195126</td>\n      <td>199713</td>\n      <td>203709</td>\n    </tr>\n    <tr>\n      <th>Barbour County</th>\n      <td>70</td>\n      <td>335</td>\n      <td>300</td>\n      <td>283</td>\n      <td>260</td>\n      <td>269</td>\n      <td>27341</td>\n      <td>27226</td>\n      <td>27159</td>\n      <td>26973</td>\n      <td>26815</td>\n      <td>26489</td>\n    </tr>\n    <tr>\n      <th>Bibb County</th>\n      <td>44</td>\n      <td>266</td>\n      <td>245</td>\n      <td>259</td>\n      <td>247</td>\n      <td>253</td>\n      <td>22861</td>\n      <td>22733</td>\n      <td>22642</td>\n      <td>22512</td>\n      <td>22549</td>\n      <td>22583</td>\n    </tr>\n    <tr>\n      <th>Blount County</th>\n      <td>183</td>\n      <td>744</td>\n      <td>710</td>\n      <td>646</td>\n      <td>618</td>\n      <td>603</td>\n      <td>57373</td>\n      <td>57711</td>\n      <td>57776</td>\n      <td>57734</td>\n      <td>57658</td>\n      <td>57673</td>\n    </tr>\n  </tbody>\n</table>\n</div>"
     },
     "metadata": {},
     "execution_count": 76
    }
   ],
   "source": [
    "df = df.set_index(['STNAME', 'CTYNAME'])\n",
    "df.head()"
   ]
  },
  {
   "cell_type": "code",
   "execution_count": 77,
   "metadata": {},
   "outputs": [
    {
     "output_type": "execute_result",
     "data": {
      "text/plain": "BIRTHS2010            977\nBIRTHS2011           3826\nBIRTHS2012           3780\nBIRTHS2013           3662\nBIRTHS2014           3683\nBIRTHS2015           3709\nPOPESTIMATE2010    345563\nPOPESTIMATE2011    349048\nPOPESTIMATE2012    351213\nPOPESTIMATE2013    354289\nPOPESTIMATE2014    357029\nPOPESTIMATE2015    358880\nName: (Michigan, Washtenaw County), dtype: int64"
     },
     "metadata": {},
     "execution_count": 77
    }
   ],
   "source": [
    "df.loc['Michigan', 'Washtenaw County']"
   ]
  },
  {
   "cell_type": "code",
   "execution_count": 78,
   "metadata": {},
   "outputs": [
    {
     "output_type": "execute_result",
     "data": {
      "text/plain": "                           BIRTHS2010  BIRTHS2011  BIRTHS2012  BIRTHS2013  \\\nSTNAME   CTYNAME                                                            \nMichigan Washtenaw County         977        3826        3780        3662   \n         Wayne County            5918       23819       23270       23377   \n\n                           BIRTHS2014  BIRTHS2015  POPESTIMATE2010  \\\nSTNAME   CTYNAME                                                     \nMichigan Washtenaw County        3683        3709           345563   \n         Wayne County           23607       23586          1815199   \n\n                           POPESTIMATE2011  POPESTIMATE2012  POPESTIMATE2013  \\\nSTNAME   CTYNAME                                                               \nMichigan Washtenaw County           349048           351213           354289   \n         Wayne County              1801273          1792514          1775713   \n\n                           POPESTIMATE2014  POPESTIMATE2015  \nSTNAME   CTYNAME                                             \nMichigan Washtenaw County           357029           358880  \n         Wayne County              1766008          1759335  ",
      "text/html": "<div>\n<style scoped>\n    .dataframe tbody tr th:only-of-type {\n        vertical-align: middle;\n    }\n\n    .dataframe tbody tr th {\n        vertical-align: top;\n    }\n\n    .dataframe thead th {\n        text-align: right;\n    }\n</style>\n<table border=\"1\" class=\"dataframe\">\n  <thead>\n    <tr style=\"text-align: right;\">\n      <th></th>\n      <th></th>\n      <th>BIRTHS2010</th>\n      <th>BIRTHS2011</th>\n      <th>BIRTHS2012</th>\n      <th>BIRTHS2013</th>\n      <th>BIRTHS2014</th>\n      <th>BIRTHS2015</th>\n      <th>POPESTIMATE2010</th>\n      <th>POPESTIMATE2011</th>\n      <th>POPESTIMATE2012</th>\n      <th>POPESTIMATE2013</th>\n      <th>POPESTIMATE2014</th>\n      <th>POPESTIMATE2015</th>\n    </tr>\n    <tr>\n      <th>STNAME</th>\n      <th>CTYNAME</th>\n      <th></th>\n      <th></th>\n      <th></th>\n      <th></th>\n      <th></th>\n      <th></th>\n      <th></th>\n      <th></th>\n      <th></th>\n      <th></th>\n      <th></th>\n      <th></th>\n    </tr>\n  </thead>\n  <tbody>\n    <tr>\n      <th rowspan=\"2\" valign=\"top\">Michigan</th>\n      <th>Washtenaw County</th>\n      <td>977</td>\n      <td>3826</td>\n      <td>3780</td>\n      <td>3662</td>\n      <td>3683</td>\n      <td>3709</td>\n      <td>345563</td>\n      <td>349048</td>\n      <td>351213</td>\n      <td>354289</td>\n      <td>357029</td>\n      <td>358880</td>\n    </tr>\n    <tr>\n      <th>Wayne County</th>\n      <td>5918</td>\n      <td>23819</td>\n      <td>23270</td>\n      <td>23377</td>\n      <td>23607</td>\n      <td>23586</td>\n      <td>1815199</td>\n      <td>1801273</td>\n      <td>1792514</td>\n      <td>1775713</td>\n      <td>1766008</td>\n      <td>1759335</td>\n    </tr>\n  </tbody>\n</table>\n</div>"
     },
     "metadata": {},
     "execution_count": 78
    }
   ],
   "source": [
    "df.loc[ [('Michigan', 'Washtenaw County'),\n",
    "         ('Michigan', 'Wayne County')] ]"
   ]
  },
  {
   "cell_type": "markdown",
   "metadata": {},
   "source": [
    "# Missing values"
   ]
  },
  {
   "cell_type": "code",
   "execution_count": 79,
   "metadata": {},
   "outputs": [
    {
     "output_type": "execute_result",
     "data": {
      "text/plain": "          time    user          video  playback position paused  volume\n0   1469974424  cheryl     intro.html                  5  False    10.0\n1   1469974454  cheryl     intro.html                  6    NaN     NaN\n2   1469974544  cheryl     intro.html                  9    NaN     NaN\n3   1469974574  cheryl     intro.html                 10    NaN     NaN\n4   1469977514     bob     intro.html                  1    NaN     NaN\n5   1469977544     bob     intro.html                  1    NaN     NaN\n6   1469977574     bob     intro.html                  1    NaN     NaN\n7   1469977604     bob     intro.html                  1    NaN     NaN\n8   1469974604  cheryl     intro.html                 11    NaN     NaN\n9   1469974694  cheryl     intro.html                 14    NaN     NaN\n10  1469974724  cheryl     intro.html                 15    NaN     NaN\n11  1469974454     sue  advanced.html                 24    NaN     NaN\n12  1469974524     sue  advanced.html                 25    NaN     NaN\n13  1469974424     sue  advanced.html                 23  False    10.0\n14  1469974554     sue  advanced.html                 26    NaN     NaN\n15  1469974624     sue  advanced.html                 27    NaN     NaN\n16  1469974654     sue  advanced.html                 28    NaN     5.0\n17  1469974724     sue  advanced.html                 29    NaN     NaN\n18  1469974484  cheryl     intro.html                  7    NaN     NaN\n19  1469974514  cheryl     intro.html                  8    NaN     NaN\n20  1469974754     sue  advanced.html                 30    NaN     NaN\n21  1469974824     sue  advanced.html                 31    NaN     NaN\n22  1469974854     sue  advanced.html                 32    NaN     NaN\n23  1469974924     sue  advanced.html                 33    NaN     NaN\n24  1469977424     bob     intro.html                  1   True    10.0\n25  1469977454     bob     intro.html                  1    NaN     NaN\n26  1469977484     bob     intro.html                  1    NaN     NaN\n27  1469977634     bob     intro.html                  1    NaN     NaN\n28  1469977664     bob     intro.html                  1    NaN     NaN\n29  1469974634  cheryl     intro.html                 12    NaN     NaN\n30  1469974664  cheryl     intro.html                 13    NaN     NaN\n31  1469977694     bob     intro.html                  1    NaN     NaN\n32  1469977724     bob     intro.html                  1    NaN     NaN",
      "text/html": "<div>\n<style scoped>\n    .dataframe tbody tr th:only-of-type {\n        vertical-align: middle;\n    }\n\n    .dataframe tbody tr th {\n        vertical-align: top;\n    }\n\n    .dataframe thead th {\n        text-align: right;\n    }\n</style>\n<table border=\"1\" class=\"dataframe\">\n  <thead>\n    <tr style=\"text-align: right;\">\n      <th></th>\n      <th>time</th>\n      <th>user</th>\n      <th>video</th>\n      <th>playback position</th>\n      <th>paused</th>\n      <th>volume</th>\n    </tr>\n  </thead>\n  <tbody>\n    <tr>\n      <th>0</th>\n      <td>1469974424</td>\n      <td>cheryl</td>\n      <td>intro.html</td>\n      <td>5</td>\n      <td>False</td>\n      <td>10.0</td>\n    </tr>\n    <tr>\n      <th>1</th>\n      <td>1469974454</td>\n      <td>cheryl</td>\n      <td>intro.html</td>\n      <td>6</td>\n      <td>NaN</td>\n      <td>NaN</td>\n    </tr>\n    <tr>\n      <th>2</th>\n      <td>1469974544</td>\n      <td>cheryl</td>\n      <td>intro.html</td>\n      <td>9</td>\n      <td>NaN</td>\n      <td>NaN</td>\n    </tr>\n    <tr>\n      <th>3</th>\n      <td>1469974574</td>\n      <td>cheryl</td>\n      <td>intro.html</td>\n      <td>10</td>\n      <td>NaN</td>\n      <td>NaN</td>\n    </tr>\n    <tr>\n      <th>4</th>\n      <td>1469977514</td>\n      <td>bob</td>\n      <td>intro.html</td>\n      <td>1</td>\n      <td>NaN</td>\n      <td>NaN</td>\n    </tr>\n    <tr>\n      <th>5</th>\n      <td>1469977544</td>\n      <td>bob</td>\n      <td>intro.html</td>\n      <td>1</td>\n      <td>NaN</td>\n      <td>NaN</td>\n    </tr>\n    <tr>\n      <th>6</th>\n      <td>1469977574</td>\n      <td>bob</td>\n      <td>intro.html</td>\n      <td>1</td>\n      <td>NaN</td>\n      <td>NaN</td>\n    </tr>\n    <tr>\n      <th>7</th>\n      <td>1469977604</td>\n      <td>bob</td>\n      <td>intro.html</td>\n      <td>1</td>\n      <td>NaN</td>\n      <td>NaN</td>\n    </tr>\n    <tr>\n      <th>8</th>\n      <td>1469974604</td>\n      <td>cheryl</td>\n      <td>intro.html</td>\n      <td>11</td>\n      <td>NaN</td>\n      <td>NaN</td>\n    </tr>\n    <tr>\n      <th>9</th>\n      <td>1469974694</td>\n      <td>cheryl</td>\n      <td>intro.html</td>\n      <td>14</td>\n      <td>NaN</td>\n      <td>NaN</td>\n    </tr>\n    <tr>\n      <th>10</th>\n      <td>1469974724</td>\n      <td>cheryl</td>\n      <td>intro.html</td>\n      <td>15</td>\n      <td>NaN</td>\n      <td>NaN</td>\n    </tr>\n    <tr>\n      <th>11</th>\n      <td>1469974454</td>\n      <td>sue</td>\n      <td>advanced.html</td>\n      <td>24</td>\n      <td>NaN</td>\n      <td>NaN</td>\n    </tr>\n    <tr>\n      <th>12</th>\n      <td>1469974524</td>\n      <td>sue</td>\n      <td>advanced.html</td>\n      <td>25</td>\n      <td>NaN</td>\n      <td>NaN</td>\n    </tr>\n    <tr>\n      <th>13</th>\n      <td>1469974424</td>\n      <td>sue</td>\n      <td>advanced.html</td>\n      <td>23</td>\n      <td>False</td>\n      <td>10.0</td>\n    </tr>\n    <tr>\n      <th>14</th>\n      <td>1469974554</td>\n      <td>sue</td>\n      <td>advanced.html</td>\n      <td>26</td>\n      <td>NaN</td>\n      <td>NaN</td>\n    </tr>\n    <tr>\n      <th>15</th>\n      <td>1469974624</td>\n      <td>sue</td>\n      <td>advanced.html</td>\n      <td>27</td>\n      <td>NaN</td>\n      <td>NaN</td>\n    </tr>\n    <tr>\n      <th>16</th>\n      <td>1469974654</td>\n      <td>sue</td>\n      <td>advanced.html</td>\n      <td>28</td>\n      <td>NaN</td>\n      <td>5.0</td>\n    </tr>\n    <tr>\n      <th>17</th>\n      <td>1469974724</td>\n      <td>sue</td>\n      <td>advanced.html</td>\n      <td>29</td>\n      <td>NaN</td>\n      <td>NaN</td>\n    </tr>\n    <tr>\n      <th>18</th>\n      <td>1469974484</td>\n      <td>cheryl</td>\n      <td>intro.html</td>\n      <td>7</td>\n      <td>NaN</td>\n      <td>NaN</td>\n    </tr>\n    <tr>\n      <th>19</th>\n      <td>1469974514</td>\n      <td>cheryl</td>\n      <td>intro.html</td>\n      <td>8</td>\n      <td>NaN</td>\n      <td>NaN</td>\n    </tr>\n    <tr>\n      <th>20</th>\n      <td>1469974754</td>\n      <td>sue</td>\n      <td>advanced.html</td>\n      <td>30</td>\n      <td>NaN</td>\n      <td>NaN</td>\n    </tr>\n    <tr>\n      <th>21</th>\n      <td>1469974824</td>\n      <td>sue</td>\n      <td>advanced.html</td>\n      <td>31</td>\n      <td>NaN</td>\n      <td>NaN</td>\n    </tr>\n    <tr>\n      <th>22</th>\n      <td>1469974854</td>\n      <td>sue</td>\n      <td>advanced.html</td>\n      <td>32</td>\n      <td>NaN</td>\n      <td>NaN</td>\n    </tr>\n    <tr>\n      <th>23</th>\n      <td>1469974924</td>\n      <td>sue</td>\n      <td>advanced.html</td>\n      <td>33</td>\n      <td>NaN</td>\n      <td>NaN</td>\n    </tr>\n    <tr>\n      <th>24</th>\n      <td>1469977424</td>\n      <td>bob</td>\n      <td>intro.html</td>\n      <td>1</td>\n      <td>True</td>\n      <td>10.0</td>\n    </tr>\n    <tr>\n      <th>25</th>\n      <td>1469977454</td>\n      <td>bob</td>\n      <td>intro.html</td>\n      <td>1</td>\n      <td>NaN</td>\n      <td>NaN</td>\n    </tr>\n    <tr>\n      <th>26</th>\n      <td>1469977484</td>\n      <td>bob</td>\n      <td>intro.html</td>\n      <td>1</td>\n      <td>NaN</td>\n      <td>NaN</td>\n    </tr>\n    <tr>\n      <th>27</th>\n      <td>1469977634</td>\n      <td>bob</td>\n      <td>intro.html</td>\n      <td>1</td>\n      <td>NaN</td>\n      <td>NaN</td>\n    </tr>\n    <tr>\n      <th>28</th>\n      <td>1469977664</td>\n      <td>bob</td>\n      <td>intro.html</td>\n      <td>1</td>\n      <td>NaN</td>\n      <td>NaN</td>\n    </tr>\n    <tr>\n      <th>29</th>\n      <td>1469974634</td>\n      <td>cheryl</td>\n      <td>intro.html</td>\n      <td>12</td>\n      <td>NaN</td>\n      <td>NaN</td>\n    </tr>\n    <tr>\n      <th>30</th>\n      <td>1469974664</td>\n      <td>cheryl</td>\n      <td>intro.html</td>\n      <td>13</td>\n      <td>NaN</td>\n      <td>NaN</td>\n    </tr>\n    <tr>\n      <th>31</th>\n      <td>1469977694</td>\n      <td>bob</td>\n      <td>intro.html</td>\n      <td>1</td>\n      <td>NaN</td>\n      <td>NaN</td>\n    </tr>\n    <tr>\n      <th>32</th>\n      <td>1469977724</td>\n      <td>bob</td>\n      <td>intro.html</td>\n      <td>1</td>\n      <td>NaN</td>\n      <td>NaN</td>\n    </tr>\n  </tbody>\n</table>\n</div>"
     },
     "metadata": {},
     "execution_count": 79
    }
   ],
   "source": [
    "df = pd.read_csv('log.csv')\n",
    "df"
   ]
  },
  {
   "cell_type": "code",
   "execution_count": 80,
   "metadata": {},
   "outputs": [
    {
     "output_type": "stream",
     "text": "\u001b[1;31mSignature:\u001b[0m\n\u001b[0mdf\u001b[0m\u001b[1;33m.\u001b[0m\u001b[0mfillna\u001b[0m\u001b[1;33m(\u001b[0m\u001b[1;33m\n\u001b[0m    \u001b[0mvalue\u001b[0m\u001b[1;33m=\u001b[0m\u001b[1;32mNone\u001b[0m\u001b[1;33m,\u001b[0m\u001b[1;33m\n\u001b[0m    \u001b[0mmethod\u001b[0m\u001b[1;33m=\u001b[0m\u001b[1;32mNone\u001b[0m\u001b[1;33m,\u001b[0m\u001b[1;33m\n\u001b[0m    \u001b[0maxis\u001b[0m\u001b[1;33m=\u001b[0m\u001b[1;32mNone\u001b[0m\u001b[1;33m,\u001b[0m\u001b[1;33m\n\u001b[0m    \u001b[0minplace\u001b[0m\u001b[1;33m=\u001b[0m\u001b[1;32mFalse\u001b[0m\u001b[1;33m,\u001b[0m\u001b[1;33m\n\u001b[0m    \u001b[0mlimit\u001b[0m\u001b[1;33m=\u001b[0m\u001b[1;32mNone\u001b[0m\u001b[1;33m,\u001b[0m\u001b[1;33m\n\u001b[0m    \u001b[0mdowncast\u001b[0m\u001b[1;33m=\u001b[0m\u001b[1;32mNone\u001b[0m\u001b[1;33m,\u001b[0m\u001b[1;33m\n\u001b[0m\u001b[1;33m)\u001b[0m \u001b[1;33m->\u001b[0m \u001b[0mUnion\u001b[0m\u001b[1;33m[\u001b[0m\u001b[0mForwardRef\u001b[0m\u001b[1;33m(\u001b[0m\u001b[1;34m'DataFrame'\u001b[0m\u001b[1;33m)\u001b[0m\u001b[1;33m,\u001b[0m \u001b[0mNoneType\u001b[0m\u001b[1;33m]\u001b[0m\u001b[1;33m\u001b[0m\u001b[1;33m\u001b[0m\u001b[0m\n\u001b[1;31mDocstring:\u001b[0m\nFill NA/NaN values using the specified method.\n\nParameters\n----------\nvalue : scalar, dict, Series, or DataFrame\n    Value to use to fill holes (e.g. 0), alternately a\n    dict/Series/DataFrame of values specifying which value to use for\n    each index (for a Series) or column (for a DataFrame).  Values not\n    in the dict/Series/DataFrame will not be filled. This value cannot\n    be a list.\nmethod : {'backfill', 'bfill', 'pad', 'ffill', None}, default None\n    Method to use for filling holes in reindexed Series\n    pad / ffill: propagate last valid observation forward to next valid\n    backfill / bfill: use next valid observation to fill gap.\naxis : {0 or 'index', 1 or 'columns'}\n    Axis along which to fill missing values.\ninplace : bool, default False\n    If True, fill in-place. Note: this will modify any\n    other views on this object (e.g., a no-copy slice for a column in a\n    DataFrame).\nlimit : int, default None\n    If method is specified, this is the maximum number of consecutive\n    NaN values to forward/backward fill. In other words, if there is\n    a gap with more than this number of consecutive NaNs, it will only\n    be partially filled. If method is not specified, this is the\n    maximum number of entries along the entire axis where NaNs will be\n    filled. Must be greater than 0 if not None.\ndowncast : dict, default is None\n    A dict of item->dtype of what to downcast if possible,\n    or the string 'infer' which will try to downcast to an appropriate\n    equal type (e.g. float64 to int64 if possible).\n\nReturns\n-------\nDataFrame or None\n    Object with missing values filled or None if ``inplace=True``.\n\nSee Also\n--------\ninterpolate : Fill NaN values using interpolation.\nreindex : Conform object to new index.\nasfreq : Convert TimeSeries to specified frequency.\n\nExamples\n--------\n>>> df = pd.DataFrame([[np.nan, 2, np.nan, 0],\n...                    [3, 4, np.nan, 1],\n...                    [np.nan, np.nan, np.nan, 5],\n...                    [np.nan, 3, np.nan, 4]],\n...                   columns=list('ABCD'))\n>>> df\n     A    B   C  D\n0  NaN  2.0 NaN  0\n1  3.0  4.0 NaN  1\n2  NaN  NaN NaN  5\n3  NaN  3.0 NaN  4\n\nReplace all NaN elements with 0s.\n\n>>> df.fillna(0)\n    A   B   C   D\n0   0.0 2.0 0.0 0\n1   3.0 4.0 0.0 1\n2   0.0 0.0 0.0 5\n3   0.0 3.0 0.0 4\n\nWe can also propagate non-null values forward or backward.\n\n>>> df.fillna(method='ffill')\n    A   B   C   D\n0   NaN 2.0 NaN 0\n1   3.0 4.0 NaN 1\n2   3.0 4.0 NaN 5\n3   3.0 3.0 NaN 4\n\nReplace all NaN elements in column 'A', 'B', 'C', and 'D', with 0, 1,\n2, and 3 respectively.\n\n>>> values = {'A': 0, 'B': 1, 'C': 2, 'D': 3}\n>>> df.fillna(value=values)\n    A   B   C   D\n0   0.0 2.0 2.0 0\n1   3.0 4.0 2.0 1\n2   0.0 1.0 2.0 5\n3   0.0 3.0 2.0 4\n\nOnly replace the first NaN element.\n\n>>> df.fillna(value=values, limit=1)\n    A   B   C   D\n0   0.0 2.0 2.0 0\n1   3.0 4.0 NaN 1\n2   NaN 1.0 NaN 5\n3   NaN 3.0 NaN 4\n\u001b[1;31mFile:\u001b[0m      c:\\users\\ayata\\anaconda3\\lib\\site-packages\\pandas\\core\\frame.py\n\u001b[1;31mType:\u001b[0m      method\n"
    }
   ],
   "source": [
    "df.fillna?"
   ]
  },
  {
   "cell_type": "code",
   "execution_count": 81,
   "metadata": {},
   "outputs": [
    {
     "output_type": "execute_result",
     "data": {
      "text/plain": "              user          video  playback position paused  volume\ntime                                                               \n1469974424  cheryl     intro.html                  5  False    10.0\n1469974424     sue  advanced.html                 23  False    10.0\n1469974454  cheryl     intro.html                  6    NaN     NaN\n1469974454     sue  advanced.html                 24    NaN     NaN\n1469974484  cheryl     intro.html                  7    NaN     NaN\n1469974514  cheryl     intro.html                  8    NaN     NaN\n1469974524     sue  advanced.html                 25    NaN     NaN\n1469974544  cheryl     intro.html                  9    NaN     NaN\n1469974554     sue  advanced.html                 26    NaN     NaN\n1469974574  cheryl     intro.html                 10    NaN     NaN\n1469974604  cheryl     intro.html                 11    NaN     NaN\n1469974624     sue  advanced.html                 27    NaN     NaN\n1469974634  cheryl     intro.html                 12    NaN     NaN\n1469974654     sue  advanced.html                 28    NaN     5.0\n1469974664  cheryl     intro.html                 13    NaN     NaN\n1469974694  cheryl     intro.html                 14    NaN     NaN\n1469974724  cheryl     intro.html                 15    NaN     NaN\n1469974724     sue  advanced.html                 29    NaN     NaN\n1469974754     sue  advanced.html                 30    NaN     NaN\n1469974824     sue  advanced.html                 31    NaN     NaN\n1469974854     sue  advanced.html                 32    NaN     NaN\n1469974924     sue  advanced.html                 33    NaN     NaN\n1469977424     bob     intro.html                  1   True    10.0\n1469977454     bob     intro.html                  1    NaN     NaN\n1469977484     bob     intro.html                  1    NaN     NaN\n1469977514     bob     intro.html                  1    NaN     NaN\n1469977544     bob     intro.html                  1    NaN     NaN\n1469977574     bob     intro.html                  1    NaN     NaN\n1469977604     bob     intro.html                  1    NaN     NaN\n1469977634     bob     intro.html                  1    NaN     NaN\n1469977664     bob     intro.html                  1    NaN     NaN\n1469977694     bob     intro.html                  1    NaN     NaN\n1469977724     bob     intro.html                  1    NaN     NaN",
      "text/html": "<div>\n<style scoped>\n    .dataframe tbody tr th:only-of-type {\n        vertical-align: middle;\n    }\n\n    .dataframe tbody tr th {\n        vertical-align: top;\n    }\n\n    .dataframe thead th {\n        text-align: right;\n    }\n</style>\n<table border=\"1\" class=\"dataframe\">\n  <thead>\n    <tr style=\"text-align: right;\">\n      <th></th>\n      <th>user</th>\n      <th>video</th>\n      <th>playback position</th>\n      <th>paused</th>\n      <th>volume</th>\n    </tr>\n    <tr>\n      <th>time</th>\n      <th></th>\n      <th></th>\n      <th></th>\n      <th></th>\n      <th></th>\n    </tr>\n  </thead>\n  <tbody>\n    <tr>\n      <th>1469974424</th>\n      <td>cheryl</td>\n      <td>intro.html</td>\n      <td>5</td>\n      <td>False</td>\n      <td>10.0</td>\n    </tr>\n    <tr>\n      <th>1469974424</th>\n      <td>sue</td>\n      <td>advanced.html</td>\n      <td>23</td>\n      <td>False</td>\n      <td>10.0</td>\n    </tr>\n    <tr>\n      <th>1469974454</th>\n      <td>cheryl</td>\n      <td>intro.html</td>\n      <td>6</td>\n      <td>NaN</td>\n      <td>NaN</td>\n    </tr>\n    <tr>\n      <th>1469974454</th>\n      <td>sue</td>\n      <td>advanced.html</td>\n      <td>24</td>\n      <td>NaN</td>\n      <td>NaN</td>\n    </tr>\n    <tr>\n      <th>1469974484</th>\n      <td>cheryl</td>\n      <td>intro.html</td>\n      <td>7</td>\n      <td>NaN</td>\n      <td>NaN</td>\n    </tr>\n    <tr>\n      <th>1469974514</th>\n      <td>cheryl</td>\n      <td>intro.html</td>\n      <td>8</td>\n      <td>NaN</td>\n      <td>NaN</td>\n    </tr>\n    <tr>\n      <th>1469974524</th>\n      <td>sue</td>\n      <td>advanced.html</td>\n      <td>25</td>\n      <td>NaN</td>\n      <td>NaN</td>\n    </tr>\n    <tr>\n      <th>1469974544</th>\n      <td>cheryl</td>\n      <td>intro.html</td>\n      <td>9</td>\n      <td>NaN</td>\n      <td>NaN</td>\n    </tr>\n    <tr>\n      <th>1469974554</th>\n      <td>sue</td>\n      <td>advanced.html</td>\n      <td>26</td>\n      <td>NaN</td>\n      <td>NaN</td>\n    </tr>\n    <tr>\n      <th>1469974574</th>\n      <td>cheryl</td>\n      <td>intro.html</td>\n      <td>10</td>\n      <td>NaN</td>\n      <td>NaN</td>\n    </tr>\n    <tr>\n      <th>1469974604</th>\n      <td>cheryl</td>\n      <td>intro.html</td>\n      <td>11</td>\n      <td>NaN</td>\n      <td>NaN</td>\n    </tr>\n    <tr>\n      <th>1469974624</th>\n      <td>sue</td>\n      <td>advanced.html</td>\n      <td>27</td>\n      <td>NaN</td>\n      <td>NaN</td>\n    </tr>\n    <tr>\n      <th>1469974634</th>\n      <td>cheryl</td>\n      <td>intro.html</td>\n      <td>12</td>\n      <td>NaN</td>\n      <td>NaN</td>\n    </tr>\n    <tr>\n      <th>1469974654</th>\n      <td>sue</td>\n      <td>advanced.html</td>\n      <td>28</td>\n      <td>NaN</td>\n      <td>5.0</td>\n    </tr>\n    <tr>\n      <th>1469974664</th>\n      <td>cheryl</td>\n      <td>intro.html</td>\n      <td>13</td>\n      <td>NaN</td>\n      <td>NaN</td>\n    </tr>\n    <tr>\n      <th>1469974694</th>\n      <td>cheryl</td>\n      <td>intro.html</td>\n      <td>14</td>\n      <td>NaN</td>\n      <td>NaN</td>\n    </tr>\n    <tr>\n      <th>1469974724</th>\n      <td>cheryl</td>\n      <td>intro.html</td>\n      <td>15</td>\n      <td>NaN</td>\n      <td>NaN</td>\n    </tr>\n    <tr>\n      <th>1469974724</th>\n      <td>sue</td>\n      <td>advanced.html</td>\n      <td>29</td>\n      <td>NaN</td>\n      <td>NaN</td>\n    </tr>\n    <tr>\n      <th>1469974754</th>\n      <td>sue</td>\n      <td>advanced.html</td>\n      <td>30</td>\n      <td>NaN</td>\n      <td>NaN</td>\n    </tr>\n    <tr>\n      <th>1469974824</th>\n      <td>sue</td>\n      <td>advanced.html</td>\n      <td>31</td>\n      <td>NaN</td>\n      <td>NaN</td>\n    </tr>\n    <tr>\n      <th>1469974854</th>\n      <td>sue</td>\n      <td>advanced.html</td>\n      <td>32</td>\n      <td>NaN</td>\n      <td>NaN</td>\n    </tr>\n    <tr>\n      <th>1469974924</th>\n      <td>sue</td>\n      <td>advanced.html</td>\n      <td>33</td>\n      <td>NaN</td>\n      <td>NaN</td>\n    </tr>\n    <tr>\n      <th>1469977424</th>\n      <td>bob</td>\n      <td>intro.html</td>\n      <td>1</td>\n      <td>True</td>\n      <td>10.0</td>\n    </tr>\n    <tr>\n      <th>1469977454</th>\n      <td>bob</td>\n      <td>intro.html</td>\n      <td>1</td>\n      <td>NaN</td>\n      <td>NaN</td>\n    </tr>\n    <tr>\n      <th>1469977484</th>\n      <td>bob</td>\n      <td>intro.html</td>\n      <td>1</td>\n      <td>NaN</td>\n      <td>NaN</td>\n    </tr>\n    <tr>\n      <th>1469977514</th>\n      <td>bob</td>\n      <td>intro.html</td>\n      <td>1</td>\n      <td>NaN</td>\n      <td>NaN</td>\n    </tr>\n    <tr>\n      <th>1469977544</th>\n      <td>bob</td>\n      <td>intro.html</td>\n      <td>1</td>\n      <td>NaN</td>\n      <td>NaN</td>\n    </tr>\n    <tr>\n      <th>1469977574</th>\n      <td>bob</td>\n      <td>intro.html</td>\n      <td>1</td>\n      <td>NaN</td>\n      <td>NaN</td>\n    </tr>\n    <tr>\n      <th>1469977604</th>\n      <td>bob</td>\n      <td>intro.html</td>\n      <td>1</td>\n      <td>NaN</td>\n      <td>NaN</td>\n    </tr>\n    <tr>\n      <th>1469977634</th>\n      <td>bob</td>\n      <td>intro.html</td>\n      <td>1</td>\n      <td>NaN</td>\n      <td>NaN</td>\n    </tr>\n    <tr>\n      <th>1469977664</th>\n      <td>bob</td>\n      <td>intro.html</td>\n      <td>1</td>\n      <td>NaN</td>\n      <td>NaN</td>\n    </tr>\n    <tr>\n      <th>1469977694</th>\n      <td>bob</td>\n      <td>intro.html</td>\n      <td>1</td>\n      <td>NaN</td>\n      <td>NaN</td>\n    </tr>\n    <tr>\n      <th>1469977724</th>\n      <td>bob</td>\n      <td>intro.html</td>\n      <td>1</td>\n      <td>NaN</td>\n      <td>NaN</td>\n    </tr>\n  </tbody>\n</table>\n</div>"
     },
     "metadata": {},
     "execution_count": 81
    }
   ],
   "source": [
    "df = df.set_index('time')\n",
    "df = df.sort_index()\n",
    "df"
   ]
  },
  {
   "cell_type": "code",
   "execution_count": 82,
   "metadata": {},
   "outputs": [
    {
     "output_type": "execute_result",
     "data": {
      "text/plain": "                           video  playback position paused  volume\ntime       user                                                   \n1469974424 cheryl     intro.html                  5  False    10.0\n           sue     advanced.html                 23  False    10.0\n1469974454 cheryl     intro.html                  6    NaN     NaN\n           sue     advanced.html                 24    NaN     NaN\n1469974484 cheryl     intro.html                  7    NaN     NaN\n1469974514 cheryl     intro.html                  8    NaN     NaN\n1469974524 sue     advanced.html                 25    NaN     NaN\n1469974544 cheryl     intro.html                  9    NaN     NaN\n1469974554 sue     advanced.html                 26    NaN     NaN\n1469974574 cheryl     intro.html                 10    NaN     NaN\n1469974604 cheryl     intro.html                 11    NaN     NaN\n1469974624 sue     advanced.html                 27    NaN     NaN\n1469974634 cheryl     intro.html                 12    NaN     NaN\n1469974654 sue     advanced.html                 28    NaN     5.0\n1469974664 cheryl     intro.html                 13    NaN     NaN\n1469974694 cheryl     intro.html                 14    NaN     NaN\n1469974724 cheryl     intro.html                 15    NaN     NaN\n           sue     advanced.html                 29    NaN     NaN\n1469974754 sue     advanced.html                 30    NaN     NaN\n1469974824 sue     advanced.html                 31    NaN     NaN\n1469974854 sue     advanced.html                 32    NaN     NaN\n1469974924 sue     advanced.html                 33    NaN     NaN\n1469977424 bob        intro.html                  1   True    10.0\n1469977454 bob        intro.html                  1    NaN     NaN\n1469977484 bob        intro.html                  1    NaN     NaN\n1469977514 bob        intro.html                  1    NaN     NaN\n1469977544 bob        intro.html                  1    NaN     NaN\n1469977574 bob        intro.html                  1    NaN     NaN\n1469977604 bob        intro.html                  1    NaN     NaN\n1469977634 bob        intro.html                  1    NaN     NaN\n1469977664 bob        intro.html                  1    NaN     NaN\n1469977694 bob        intro.html                  1    NaN     NaN\n1469977724 bob        intro.html                  1    NaN     NaN",
      "text/html": "<div>\n<style scoped>\n    .dataframe tbody tr th:only-of-type {\n        vertical-align: middle;\n    }\n\n    .dataframe tbody tr th {\n        vertical-align: top;\n    }\n\n    .dataframe thead th {\n        text-align: right;\n    }\n</style>\n<table border=\"1\" class=\"dataframe\">\n  <thead>\n    <tr style=\"text-align: right;\">\n      <th></th>\n      <th></th>\n      <th>video</th>\n      <th>playback position</th>\n      <th>paused</th>\n      <th>volume</th>\n    </tr>\n    <tr>\n      <th>time</th>\n      <th>user</th>\n      <th></th>\n      <th></th>\n      <th></th>\n      <th></th>\n    </tr>\n  </thead>\n  <tbody>\n    <tr>\n      <th rowspan=\"2\" valign=\"top\">1469974424</th>\n      <th>cheryl</th>\n      <td>intro.html</td>\n      <td>5</td>\n      <td>False</td>\n      <td>10.0</td>\n    </tr>\n    <tr>\n      <th>sue</th>\n      <td>advanced.html</td>\n      <td>23</td>\n      <td>False</td>\n      <td>10.0</td>\n    </tr>\n    <tr>\n      <th rowspan=\"2\" valign=\"top\">1469974454</th>\n      <th>cheryl</th>\n      <td>intro.html</td>\n      <td>6</td>\n      <td>NaN</td>\n      <td>NaN</td>\n    </tr>\n    <tr>\n      <th>sue</th>\n      <td>advanced.html</td>\n      <td>24</td>\n      <td>NaN</td>\n      <td>NaN</td>\n    </tr>\n    <tr>\n      <th>1469974484</th>\n      <th>cheryl</th>\n      <td>intro.html</td>\n      <td>7</td>\n      <td>NaN</td>\n      <td>NaN</td>\n    </tr>\n    <tr>\n      <th>1469974514</th>\n      <th>cheryl</th>\n      <td>intro.html</td>\n      <td>8</td>\n      <td>NaN</td>\n      <td>NaN</td>\n    </tr>\n    <tr>\n      <th>1469974524</th>\n      <th>sue</th>\n      <td>advanced.html</td>\n      <td>25</td>\n      <td>NaN</td>\n      <td>NaN</td>\n    </tr>\n    <tr>\n      <th>1469974544</th>\n      <th>cheryl</th>\n      <td>intro.html</td>\n      <td>9</td>\n      <td>NaN</td>\n      <td>NaN</td>\n    </tr>\n    <tr>\n      <th>1469974554</th>\n      <th>sue</th>\n      <td>advanced.html</td>\n      <td>26</td>\n      <td>NaN</td>\n      <td>NaN</td>\n    </tr>\n    <tr>\n      <th>1469974574</th>\n      <th>cheryl</th>\n      <td>intro.html</td>\n      <td>10</td>\n      <td>NaN</td>\n      <td>NaN</td>\n    </tr>\n    <tr>\n      <th>1469974604</th>\n      <th>cheryl</th>\n      <td>intro.html</td>\n      <td>11</td>\n      <td>NaN</td>\n      <td>NaN</td>\n    </tr>\n    <tr>\n      <th>1469974624</th>\n      <th>sue</th>\n      <td>advanced.html</td>\n      <td>27</td>\n      <td>NaN</td>\n      <td>NaN</td>\n    </tr>\n    <tr>\n      <th>1469974634</th>\n      <th>cheryl</th>\n      <td>intro.html</td>\n      <td>12</td>\n      <td>NaN</td>\n      <td>NaN</td>\n    </tr>\n    <tr>\n      <th>1469974654</th>\n      <th>sue</th>\n      <td>advanced.html</td>\n      <td>28</td>\n      <td>NaN</td>\n      <td>5.0</td>\n    </tr>\n    <tr>\n      <th>1469974664</th>\n      <th>cheryl</th>\n      <td>intro.html</td>\n      <td>13</td>\n      <td>NaN</td>\n      <td>NaN</td>\n    </tr>\n    <tr>\n      <th>1469974694</th>\n      <th>cheryl</th>\n      <td>intro.html</td>\n      <td>14</td>\n      <td>NaN</td>\n      <td>NaN</td>\n    </tr>\n    <tr>\n      <th rowspan=\"2\" valign=\"top\">1469974724</th>\n      <th>cheryl</th>\n      <td>intro.html</td>\n      <td>15</td>\n      <td>NaN</td>\n      <td>NaN</td>\n    </tr>\n    <tr>\n      <th>sue</th>\n      <td>advanced.html</td>\n      <td>29</td>\n      <td>NaN</td>\n      <td>NaN</td>\n    </tr>\n    <tr>\n      <th>1469974754</th>\n      <th>sue</th>\n      <td>advanced.html</td>\n      <td>30</td>\n      <td>NaN</td>\n      <td>NaN</td>\n    </tr>\n    <tr>\n      <th>1469974824</th>\n      <th>sue</th>\n      <td>advanced.html</td>\n      <td>31</td>\n      <td>NaN</td>\n      <td>NaN</td>\n    </tr>\n    <tr>\n      <th>1469974854</th>\n      <th>sue</th>\n      <td>advanced.html</td>\n      <td>32</td>\n      <td>NaN</td>\n      <td>NaN</td>\n    </tr>\n    <tr>\n      <th>1469974924</th>\n      <th>sue</th>\n      <td>advanced.html</td>\n      <td>33</td>\n      <td>NaN</td>\n      <td>NaN</td>\n    </tr>\n    <tr>\n      <th>1469977424</th>\n      <th>bob</th>\n      <td>intro.html</td>\n      <td>1</td>\n      <td>True</td>\n      <td>10.0</td>\n    </tr>\n    <tr>\n      <th>1469977454</th>\n      <th>bob</th>\n      <td>intro.html</td>\n      <td>1</td>\n      <td>NaN</td>\n      <td>NaN</td>\n    </tr>\n    <tr>\n      <th>1469977484</th>\n      <th>bob</th>\n      <td>intro.html</td>\n      <td>1</td>\n      <td>NaN</td>\n      <td>NaN</td>\n    </tr>\n    <tr>\n      <th>1469977514</th>\n      <th>bob</th>\n      <td>intro.html</td>\n      <td>1</td>\n      <td>NaN</td>\n      <td>NaN</td>\n    </tr>\n    <tr>\n      <th>1469977544</th>\n      <th>bob</th>\n      <td>intro.html</td>\n      <td>1</td>\n      <td>NaN</td>\n      <td>NaN</td>\n    </tr>\n    <tr>\n      <th>1469977574</th>\n      <th>bob</th>\n      <td>intro.html</td>\n      <td>1</td>\n      <td>NaN</td>\n      <td>NaN</td>\n    </tr>\n    <tr>\n      <th>1469977604</th>\n      <th>bob</th>\n      <td>intro.html</td>\n      <td>1</td>\n      <td>NaN</td>\n      <td>NaN</td>\n    </tr>\n    <tr>\n      <th>1469977634</th>\n      <th>bob</th>\n      <td>intro.html</td>\n      <td>1</td>\n      <td>NaN</td>\n      <td>NaN</td>\n    </tr>\n    <tr>\n      <th>1469977664</th>\n      <th>bob</th>\n      <td>intro.html</td>\n      <td>1</td>\n      <td>NaN</td>\n      <td>NaN</td>\n    </tr>\n    <tr>\n      <th>1469977694</th>\n      <th>bob</th>\n      <td>intro.html</td>\n      <td>1</td>\n      <td>NaN</td>\n      <td>NaN</td>\n    </tr>\n    <tr>\n      <th>1469977724</th>\n      <th>bob</th>\n      <td>intro.html</td>\n      <td>1</td>\n      <td>NaN</td>\n      <td>NaN</td>\n    </tr>\n  </tbody>\n</table>\n</div>"
     },
     "metadata": {},
     "execution_count": 82
    }
   ],
   "source": [
    "df = df.reset_index()\n",
    "df = df.set_index(['time', 'user'])\n",
    "df"
   ]
  },
  {
   "cell_type": "code",
   "execution_count": 83,
   "metadata": {},
   "outputs": [
    {
     "output_type": "execute_result",
     "data": {
      "text/plain": "                           video  playback position  paused  volume\ntime       user                                                    \n1469974424 cheryl     intro.html                  5   False    10.0\n           sue     advanced.html                 23   False    10.0\n1469974454 cheryl     intro.html                  6   False    10.0\n           sue     advanced.html                 24   False    10.0\n1469974484 cheryl     intro.html                  7   False    10.0",
      "text/html": "<div>\n<style scoped>\n    .dataframe tbody tr th:only-of-type {\n        vertical-align: middle;\n    }\n\n    .dataframe tbody tr th {\n        vertical-align: top;\n    }\n\n    .dataframe thead th {\n        text-align: right;\n    }\n</style>\n<table border=\"1\" class=\"dataframe\">\n  <thead>\n    <tr style=\"text-align: right;\">\n      <th></th>\n      <th></th>\n      <th>video</th>\n      <th>playback position</th>\n      <th>paused</th>\n      <th>volume</th>\n    </tr>\n    <tr>\n      <th>time</th>\n      <th>user</th>\n      <th></th>\n      <th></th>\n      <th></th>\n      <th></th>\n    </tr>\n  </thead>\n  <tbody>\n    <tr>\n      <th rowspan=\"2\" valign=\"top\">1469974424</th>\n      <th>cheryl</th>\n      <td>intro.html</td>\n      <td>5</td>\n      <td>False</td>\n      <td>10.0</td>\n    </tr>\n    <tr>\n      <th>sue</th>\n      <td>advanced.html</td>\n      <td>23</td>\n      <td>False</td>\n      <td>10.0</td>\n    </tr>\n    <tr>\n      <th rowspan=\"2\" valign=\"top\">1469974454</th>\n      <th>cheryl</th>\n      <td>intro.html</td>\n      <td>6</td>\n      <td>False</td>\n      <td>10.0</td>\n    </tr>\n    <tr>\n      <th>sue</th>\n      <td>advanced.html</td>\n      <td>24</td>\n      <td>False</td>\n      <td>10.0</td>\n    </tr>\n    <tr>\n      <th>1469974484</th>\n      <th>cheryl</th>\n      <td>intro.html</td>\n      <td>7</td>\n      <td>False</td>\n      <td>10.0</td>\n    </tr>\n  </tbody>\n</table>\n</div>"
     },
     "metadata": {},
     "execution_count": 83
    }
   ],
   "source": [
    "df = df.fillna(method='ffill')\n",
    "df.head()"
   ]
  },
  {
   "cell_type": "code",
   "execution_count": null,
   "metadata": {},
   "outputs": [],
   "source": []
  }
 ],
 "metadata": {
  "kernelspec": {
   "display_name": "Python 3",
   "language": "python",
   "name": "python3"
  },
  "language_info": {
   "codemirror_mode": {
    "name": "ipython",
    "version": 3
   },
   "file_extension": ".py",
   "mimetype": "text/x-python",
   "name": "python",
   "nbconvert_exporter": "python",
   "pygments_lexer": "ipython3",
   "version": "3.8.2-final"
  }
 },
 "nbformat": 4,
 "nbformat_minor": 1
}