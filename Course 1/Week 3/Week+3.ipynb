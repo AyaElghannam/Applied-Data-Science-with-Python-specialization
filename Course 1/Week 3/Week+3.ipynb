{
 "cells": [
  {
   "cell_type": "markdown",
   "metadata": {},
   "source": [
    "---\n",
    "\n",
    "_You are currently looking at **version 1.0** of this notebook. To download notebooks and datafiles, as well as get help on Jupyter notebooks in the Coursera platform, visit the [Jupyter Notebook FAQ](https://www.coursera.org/learn/python-data-analysis/resources/0dhYG) course resource._\n",
    "\n",
    "---"
   ]
  },
  {
   "cell_type": "markdown",
   "metadata": {},
   "source": [
    "# Merging Dataframes\n"
   ]
  },
  {
   "cell_type": "code",
   "execution_count": 1,
   "metadata": {},
   "outputs": [
    {
     "output_type": "execute_result",
     "data": {
      "text/plain": "          Name Item Purchased  Cost\nStore 1  Chris         Sponge  22.5\nStore 1  Kevyn   Kitty Litter   2.5\nStore 2  Filip          Spoon   5.0",
      "text/html": "<div>\n<style scoped>\n    .dataframe tbody tr th:only-of-type {\n        vertical-align: middle;\n    }\n\n    .dataframe tbody tr th {\n        vertical-align: top;\n    }\n\n    .dataframe thead th {\n        text-align: right;\n    }\n</style>\n<table border=\"1\" class=\"dataframe\">\n  <thead>\n    <tr style=\"text-align: right;\">\n      <th></th>\n      <th>Name</th>\n      <th>Item Purchased</th>\n      <th>Cost</th>\n    </tr>\n  </thead>\n  <tbody>\n    <tr>\n      <th>Store 1</th>\n      <td>Chris</td>\n      <td>Sponge</td>\n      <td>22.5</td>\n    </tr>\n    <tr>\n      <th>Store 1</th>\n      <td>Kevyn</td>\n      <td>Kitty Litter</td>\n      <td>2.5</td>\n    </tr>\n    <tr>\n      <th>Store 2</th>\n      <td>Filip</td>\n      <td>Spoon</td>\n      <td>5.0</td>\n    </tr>\n  </tbody>\n</table>\n</div>"
     },
     "metadata": {},
     "execution_count": 1
    }
   ],
   "source": [
    "import pandas as pd\n",
    "\n",
    "df = pd.DataFrame([{'Name': 'Chris', 'Item Purchased': 'Sponge', 'Cost': 22.50},\n",
    "                   {'Name': 'Kevyn', 'Item Purchased': 'Kitty Litter', 'Cost': 2.50},\n",
    "                   {'Name': 'Filip', 'Item Purchased': 'Spoon', 'Cost': 5.00}],\n",
    "                  index=['Store 1', 'Store 1', 'Store 2'])\n",
    "df"
   ]
  },
  {
   "cell_type": "code",
   "execution_count": 2,
   "metadata": {},
   "outputs": [
    {
     "output_type": "execute_result",
     "data": {
      "text/plain": "          Name Item Purchased  Cost        Date\nStore 1  Chris         Sponge  22.5  December 1\nStore 1  Kevyn   Kitty Litter   2.5   January 1\nStore 2  Filip          Spoon   5.0     mid-May",
      "text/html": "<div>\n<style scoped>\n    .dataframe tbody tr th:only-of-type {\n        vertical-align: middle;\n    }\n\n    .dataframe tbody tr th {\n        vertical-align: top;\n    }\n\n    .dataframe thead th {\n        text-align: right;\n    }\n</style>\n<table border=\"1\" class=\"dataframe\">\n  <thead>\n    <tr style=\"text-align: right;\">\n      <th></th>\n      <th>Name</th>\n      <th>Item Purchased</th>\n      <th>Cost</th>\n      <th>Date</th>\n    </tr>\n  </thead>\n  <tbody>\n    <tr>\n      <th>Store 1</th>\n      <td>Chris</td>\n      <td>Sponge</td>\n      <td>22.5</td>\n      <td>December 1</td>\n    </tr>\n    <tr>\n      <th>Store 1</th>\n      <td>Kevyn</td>\n      <td>Kitty Litter</td>\n      <td>2.5</td>\n      <td>January 1</td>\n    </tr>\n    <tr>\n      <th>Store 2</th>\n      <td>Filip</td>\n      <td>Spoon</td>\n      <td>5.0</td>\n      <td>mid-May</td>\n    </tr>\n  </tbody>\n</table>\n</div>"
     },
     "metadata": {},
     "execution_count": 2
    }
   ],
   "source": [
    "df['Date'] = ['December 1', 'January 1', 'mid-May']\n",
    "df"
   ]
  },
  {
   "cell_type": "code",
   "execution_count": 3,
   "metadata": {},
   "outputs": [
    {
     "output_type": "execute_result",
     "data": {
      "text/plain": "          Name Item Purchased  Cost        Date  Delivered\nStore 1  Chris         Sponge  22.5  December 1       True\nStore 1  Kevyn   Kitty Litter   2.5   January 1       True\nStore 2  Filip          Spoon   5.0     mid-May       True",
      "text/html": "<div>\n<style scoped>\n    .dataframe tbody tr th:only-of-type {\n        vertical-align: middle;\n    }\n\n    .dataframe tbody tr th {\n        vertical-align: top;\n    }\n\n    .dataframe thead th {\n        text-align: right;\n    }\n</style>\n<table border=\"1\" class=\"dataframe\">\n  <thead>\n    <tr style=\"text-align: right;\">\n      <th></th>\n      <th>Name</th>\n      <th>Item Purchased</th>\n      <th>Cost</th>\n      <th>Date</th>\n      <th>Delivered</th>\n    </tr>\n  </thead>\n  <tbody>\n    <tr>\n      <th>Store 1</th>\n      <td>Chris</td>\n      <td>Sponge</td>\n      <td>22.5</td>\n      <td>December 1</td>\n      <td>True</td>\n    </tr>\n    <tr>\n      <th>Store 1</th>\n      <td>Kevyn</td>\n      <td>Kitty Litter</td>\n      <td>2.5</td>\n      <td>January 1</td>\n      <td>True</td>\n    </tr>\n    <tr>\n      <th>Store 2</th>\n      <td>Filip</td>\n      <td>Spoon</td>\n      <td>5.0</td>\n      <td>mid-May</td>\n      <td>True</td>\n    </tr>\n  </tbody>\n</table>\n</div>"
     },
     "metadata": {},
     "execution_count": 3
    }
   ],
   "source": [
    "df['Delivered'] = True\n",
    "df"
   ]
  },
  {
   "cell_type": "code",
   "execution_count": 4,
   "metadata": {},
   "outputs": [
    {
     "output_type": "execute_result",
     "data": {
      "text/plain": "          Name Item Purchased  Cost        Date  Delivered  Feedback\nStore 1  Chris         Sponge  22.5  December 1       True  Positive\nStore 1  Kevyn   Kitty Litter   2.5   January 1       True      None\nStore 2  Filip          Spoon   5.0     mid-May       True  Negative",
      "text/html": "<div>\n<style scoped>\n    .dataframe tbody tr th:only-of-type {\n        vertical-align: middle;\n    }\n\n    .dataframe tbody tr th {\n        vertical-align: top;\n    }\n\n    .dataframe thead th {\n        text-align: right;\n    }\n</style>\n<table border=\"1\" class=\"dataframe\">\n  <thead>\n    <tr style=\"text-align: right;\">\n      <th></th>\n      <th>Name</th>\n      <th>Item Purchased</th>\n      <th>Cost</th>\n      <th>Date</th>\n      <th>Delivered</th>\n      <th>Feedback</th>\n    </tr>\n  </thead>\n  <tbody>\n    <tr>\n      <th>Store 1</th>\n      <td>Chris</td>\n      <td>Sponge</td>\n      <td>22.5</td>\n      <td>December 1</td>\n      <td>True</td>\n      <td>Positive</td>\n    </tr>\n    <tr>\n      <th>Store 1</th>\n      <td>Kevyn</td>\n      <td>Kitty Litter</td>\n      <td>2.5</td>\n      <td>January 1</td>\n      <td>True</td>\n      <td>None</td>\n    </tr>\n    <tr>\n      <th>Store 2</th>\n      <td>Filip</td>\n      <td>Spoon</td>\n      <td>5.0</td>\n      <td>mid-May</td>\n      <td>True</td>\n      <td>Negative</td>\n    </tr>\n  </tbody>\n</table>\n</div>"
     },
     "metadata": {},
     "execution_count": 4
    }
   ],
   "source": [
    "df['Feedback'] = ['Positive', None, 'Negative']\n",
    "df"
   ]
  },
  {
   "cell_type": "code",
   "execution_count": 5,
   "metadata": {},
   "outputs": [
    {
     "output_type": "execute_result",
     "data": {
      "text/plain": "     index   Name Item Purchased  Cost        Date  Delivered  Feedback\n0  Store 1  Chris         Sponge  22.5  December 1       True  Positive\n1  Store 1  Kevyn   Kitty Litter   2.5         NaN       True      None\n2  Store 2  Filip          Spoon   5.0     mid-May       True  Negative",
      "text/html": "<div>\n<style scoped>\n    .dataframe tbody tr th:only-of-type {\n        vertical-align: middle;\n    }\n\n    .dataframe tbody tr th {\n        vertical-align: top;\n    }\n\n    .dataframe thead th {\n        text-align: right;\n    }\n</style>\n<table border=\"1\" class=\"dataframe\">\n  <thead>\n    <tr style=\"text-align: right;\">\n      <th></th>\n      <th>index</th>\n      <th>Name</th>\n      <th>Item Purchased</th>\n      <th>Cost</th>\n      <th>Date</th>\n      <th>Delivered</th>\n      <th>Feedback</th>\n    </tr>\n  </thead>\n  <tbody>\n    <tr>\n      <th>0</th>\n      <td>Store 1</td>\n      <td>Chris</td>\n      <td>Sponge</td>\n      <td>22.5</td>\n      <td>December 1</td>\n      <td>True</td>\n      <td>Positive</td>\n    </tr>\n    <tr>\n      <th>1</th>\n      <td>Store 1</td>\n      <td>Kevyn</td>\n      <td>Kitty Litter</td>\n      <td>2.5</td>\n      <td>NaN</td>\n      <td>True</td>\n      <td>None</td>\n    </tr>\n    <tr>\n      <th>2</th>\n      <td>Store 2</td>\n      <td>Filip</td>\n      <td>Spoon</td>\n      <td>5.0</td>\n      <td>mid-May</td>\n      <td>True</td>\n      <td>Negative</td>\n    </tr>\n  </tbody>\n</table>\n</div>"
     },
     "metadata": {},
     "execution_count": 5
    }
   ],
   "source": [
    "adf = df.reset_index()\n",
    "adf['Date'] = pd.Series({0: 'December 1', 2: 'mid-May'})\n",
    "adf"
   ]
  },
  {
   "cell_type": "code",
   "execution_count": 6,
   "metadata": {
    "tags": []
   },
   "outputs": [
    {
     "output_type": "stream",
     "name": "stdout",
     "text": "Role\nName                 \nKelly  Director of HR\nSally  Course liasion\nJames          Grader\n\n            School\nName              \nJames     Business\nMike           Law\nSally  Engineering\n"
    }
   ],
   "source": [
    "staff_df = pd.DataFrame([{'Name': 'Kelly', 'Role': 'Director of HR'},\n",
    "                         {'Name': 'Sally', 'Role': 'Course liasion'},\n",
    "                         {'Name': 'James', 'Role': 'Grader'}])\n",
    "staff_df = staff_df.set_index('Name')\n",
    "student_df = pd.DataFrame([{'Name': 'James', 'School': 'Business'},\n",
    "                           {'Name': 'Mike', 'School': 'Law'},\n",
    "                           {'Name': 'Sally', 'School': 'Engineering'}])\n",
    "student_df = student_df.set_index('Name')\n",
    "print(staff_df.head())\n",
    "print()\n",
    "print(student_df.head())"
   ]
  },
  {
   "cell_type": "code",
   "execution_count": 7,
   "metadata": {
    "scrolled": true
   },
   "outputs": [
    {
     "output_type": "execute_result",
     "data": {
      "text/plain": "                 Role       School\nName                              \nJames          Grader     Business\nKelly  Director of HR          NaN\nMike              NaN          Law\nSally  Course liasion  Engineering",
      "text/html": "<div>\n<style scoped>\n    .dataframe tbody tr th:only-of-type {\n        vertical-align: middle;\n    }\n\n    .dataframe tbody tr th {\n        vertical-align: top;\n    }\n\n    .dataframe thead th {\n        text-align: right;\n    }\n</style>\n<table border=\"1\" class=\"dataframe\">\n  <thead>\n    <tr style=\"text-align: right;\">\n      <th></th>\n      <th>Role</th>\n      <th>School</th>\n    </tr>\n    <tr>\n      <th>Name</th>\n      <th></th>\n      <th></th>\n    </tr>\n  </thead>\n  <tbody>\n    <tr>\n      <th>James</th>\n      <td>Grader</td>\n      <td>Business</td>\n    </tr>\n    <tr>\n      <th>Kelly</th>\n      <td>Director of HR</td>\n      <td>NaN</td>\n    </tr>\n    <tr>\n      <th>Mike</th>\n      <td>NaN</td>\n      <td>Law</td>\n    </tr>\n    <tr>\n      <th>Sally</th>\n      <td>Course liasion</td>\n      <td>Engineering</td>\n    </tr>\n  </tbody>\n</table>\n</div>"
     },
     "metadata": {},
     "execution_count": 7
    }
   ],
   "source": [
    "# Outer type of merge : use union of keys from both frames\n",
    "pd.merge(staff_df, student_df, how='outer', left_index=True, right_index=True)"
   ]
  },
  {
   "cell_type": "code",
   "execution_count": 8,
   "metadata": {},
   "outputs": [
    {
     "output_type": "execute_result",
     "data": {
      "text/plain": "                 Role       School\nName                              \nSally  Course liasion  Engineering\nJames          Grader     Business",
      "text/html": "<div>\n<style scoped>\n    .dataframe tbody tr th:only-of-type {\n        vertical-align: middle;\n    }\n\n    .dataframe tbody tr th {\n        vertical-align: top;\n    }\n\n    .dataframe thead th {\n        text-align: right;\n    }\n</style>\n<table border=\"1\" class=\"dataframe\">\n  <thead>\n    <tr style=\"text-align: right;\">\n      <th></th>\n      <th>Role</th>\n      <th>School</th>\n    </tr>\n    <tr>\n      <th>Name</th>\n      <th></th>\n      <th></th>\n    </tr>\n  </thead>\n  <tbody>\n    <tr>\n      <th>Sally</th>\n      <td>Course liasion</td>\n      <td>Engineering</td>\n    </tr>\n    <tr>\n      <th>James</th>\n      <td>Grader</td>\n      <td>Business</td>\n    </tr>\n  </tbody>\n</table>\n</div>"
     },
     "metadata": {},
     "execution_count": 8
    }
   ],
   "source": [
    "# Inner type of merge : use intersection of keys from both frames\n",
    "pd.merge(staff_df, student_df, how='inner', left_index=True, right_index=True)"
   ]
  },
  {
   "cell_type": "code",
   "execution_count": 9,
   "metadata": {},
   "outputs": [
    {
     "output_type": "execute_result",
     "data": {
      "text/plain": "                 Role       School\nName                              \nKelly  Director of HR          NaN\nSally  Course liasion  Engineering\nJames          Grader     Business",
      "text/html": "<div>\n<style scoped>\n    .dataframe tbody tr th:only-of-type {\n        vertical-align: middle;\n    }\n\n    .dataframe tbody tr th {\n        vertical-align: top;\n    }\n\n    .dataframe thead th {\n        text-align: right;\n    }\n</style>\n<table border=\"1\" class=\"dataframe\">\n  <thead>\n    <tr style=\"text-align: right;\">\n      <th></th>\n      <th>Role</th>\n      <th>School</th>\n    </tr>\n    <tr>\n      <th>Name</th>\n      <th></th>\n      <th></th>\n    </tr>\n  </thead>\n  <tbody>\n    <tr>\n      <th>Kelly</th>\n      <td>Director of HR</td>\n      <td>NaN</td>\n    </tr>\n    <tr>\n      <th>Sally</th>\n      <td>Course liasion</td>\n      <td>Engineering</td>\n    </tr>\n    <tr>\n      <th>James</th>\n      <td>Grader</td>\n      <td>Business</td>\n    </tr>\n  </tbody>\n</table>\n</div>"
     },
     "metadata": {},
     "execution_count": 9
    }
   ],
   "source": [
    "# Left type of merge : use only keys from left frame\n",
    "pd.merge(staff_df, student_df, how='left', left_index=True, right_index=True)"
   ]
  },
  {
   "cell_type": "code",
   "execution_count": 10,
   "metadata": {},
   "outputs": [
    {
     "output_type": "execute_result",
     "data": {
      "text/plain": "                 Role       School\nName                              \nJames          Grader     Business\nMike              NaN          Law\nSally  Course liasion  Engineering",
      "text/html": "<div>\n<style scoped>\n    .dataframe tbody tr th:only-of-type {\n        vertical-align: middle;\n    }\n\n    .dataframe tbody tr th {\n        vertical-align: top;\n    }\n\n    .dataframe thead th {\n        text-align: right;\n    }\n</style>\n<table border=\"1\" class=\"dataframe\">\n  <thead>\n    <tr style=\"text-align: right;\">\n      <th></th>\n      <th>Role</th>\n      <th>School</th>\n    </tr>\n    <tr>\n      <th>Name</th>\n      <th></th>\n      <th></th>\n    </tr>\n  </thead>\n  <tbody>\n    <tr>\n      <th>James</th>\n      <td>Grader</td>\n      <td>Business</td>\n    </tr>\n    <tr>\n      <th>Mike</th>\n      <td>NaN</td>\n      <td>Law</td>\n    </tr>\n    <tr>\n      <th>Sally</th>\n      <td>Course liasion</td>\n      <td>Engineering</td>\n    </tr>\n  </tbody>\n</table>\n</div>"
     },
     "metadata": {},
     "execution_count": 10
    }
   ],
   "source": [
    "# Right typr of merge : use only keys from right frame\n",
    "pd.merge(staff_df, student_df, how='right', left_index=True, right_index=True)"
   ]
  },
  {
   "cell_type": "code",
   "execution_count": 11,
   "metadata": {
    "scrolled": true
   },
   "outputs": [
    {
     "output_type": "execute_result",
     "data": {
      "text/plain": "    Name            Role       School\n0  Kelly  Director of HR          NaN\n1  Sally  Course liasion  Engineering\n2  James          Grader     Business",
      "text/html": "<div>\n<style scoped>\n    .dataframe tbody tr th:only-of-type {\n        vertical-align: middle;\n    }\n\n    .dataframe tbody tr th {\n        vertical-align: top;\n    }\n\n    .dataframe thead th {\n        text-align: right;\n    }\n</style>\n<table border=\"1\" class=\"dataframe\">\n  <thead>\n    <tr style=\"text-align: right;\">\n      <th></th>\n      <th>Name</th>\n      <th>Role</th>\n      <th>School</th>\n    </tr>\n  </thead>\n  <tbody>\n    <tr>\n      <th>0</th>\n      <td>Kelly</td>\n      <td>Director of HR</td>\n      <td>NaN</td>\n    </tr>\n    <tr>\n      <th>1</th>\n      <td>Sally</td>\n      <td>Course liasion</td>\n      <td>Engineering</td>\n    </tr>\n    <tr>\n      <th>2</th>\n      <td>James</td>\n      <td>Grader</td>\n      <td>Business</td>\n    </tr>\n  </tbody>\n</table>\n</div>"
     },
     "metadata": {},
     "execution_count": 11
    }
   ],
   "source": [
    "staff_df = staff_df.reset_index()\n",
    "student_df = student_df.reset_index()\n",
    "pd.merge(staff_df, student_df, how='left', left_on='Name', right_on='Name')"
   ]
  },
  {
   "cell_type": "code",
   "execution_count": 12,
   "metadata": {},
   "outputs": [
    {
     "output_type": "execute_result",
     "data": {
      "text/plain": "    Name            Role         Location_x       School            Location_y\n0  Kelly  Director of HR       State Street          NaN                   NaN\n1  Sally  Course liasion  Washington Avenue  Engineering   512 Wilson Crescent\n2  James          Grader  Washington Avenue     Business  1024 Billiard Avenue",
      "text/html": "<div>\n<style scoped>\n    .dataframe tbody tr th:only-of-type {\n        vertical-align: middle;\n    }\n\n    .dataframe tbody tr th {\n        vertical-align: top;\n    }\n\n    .dataframe thead th {\n        text-align: right;\n    }\n</style>\n<table border=\"1\" class=\"dataframe\">\n  <thead>\n    <tr style=\"text-align: right;\">\n      <th></th>\n      <th>Name</th>\n      <th>Role</th>\n      <th>Location_x</th>\n      <th>School</th>\n      <th>Location_y</th>\n    </tr>\n  </thead>\n  <tbody>\n    <tr>\n      <th>0</th>\n      <td>Kelly</td>\n      <td>Director of HR</td>\n      <td>State Street</td>\n      <td>NaN</td>\n      <td>NaN</td>\n    </tr>\n    <tr>\n      <th>1</th>\n      <td>Sally</td>\n      <td>Course liasion</td>\n      <td>Washington Avenue</td>\n      <td>Engineering</td>\n      <td>512 Wilson Crescent</td>\n    </tr>\n    <tr>\n      <th>2</th>\n      <td>James</td>\n      <td>Grader</td>\n      <td>Washington Avenue</td>\n      <td>Business</td>\n      <td>1024 Billiard Avenue</td>\n    </tr>\n  </tbody>\n</table>\n</div>"
     },
     "metadata": {},
     "execution_count": 12
    }
   ],
   "source": [
    "staff_df = pd.DataFrame([{'Name': 'Kelly', 'Role': 'Director of HR', 'Location': 'State Street'},\n",
    "                         {'Name': 'Sally', 'Role': 'Course liasion', 'Location': 'Washington Avenue'},\n",
    "                         {'Name': 'James', 'Role': 'Grader', 'Location': 'Washington Avenue'}])\n",
    "student_df = pd.DataFrame([{'Name': 'James', 'School': 'Business', 'Location': '1024 Billiard Avenue'},\n",
    "                           {'Name': 'Mike', 'School': 'Law', 'Location': 'Fraternity House #22'},\n",
    "                           {'Name': 'Sally', 'School': 'Engineering', 'Location': '512 Wilson Crescent'}])\n",
    "pd.merge(staff_df, student_df, how='left', left_on='Name', right_on='Name')"
   ]
  },
  {
   "cell_type": "code",
   "execution_count": 13,
   "metadata": {},
   "outputs": [
    {
     "output_type": "execute_result",
     "data": {
      "text/plain": "  First Name Last Name            Role       School\n0      Sally    Brooks  Course liasion  Engineering",
      "text/html": "<div>\n<style scoped>\n    .dataframe tbody tr th:only-of-type {\n        vertical-align: middle;\n    }\n\n    .dataframe tbody tr th {\n        vertical-align: top;\n    }\n\n    .dataframe thead th {\n        text-align: right;\n    }\n</style>\n<table border=\"1\" class=\"dataframe\">\n  <thead>\n    <tr style=\"text-align: right;\">\n      <th></th>\n      <th>First Name</th>\n      <th>Last Name</th>\n      <th>Role</th>\n      <th>School</th>\n    </tr>\n  </thead>\n  <tbody>\n    <tr>\n      <th>0</th>\n      <td>Sally</td>\n      <td>Brooks</td>\n      <td>Course liasion</td>\n      <td>Engineering</td>\n    </tr>\n  </tbody>\n</table>\n</div>"
     },
     "metadata": {},
     "execution_count": 13
    }
   ],
   "source": [
    "staff_df = pd.DataFrame([{'First Name': 'Kelly', 'Last Name': 'Desjardins', 'Role': 'Director of HR'},\n",
    "                         {'First Name': 'Sally', 'Last Name': 'Brooks', 'Role': 'Course liasion'},\n",
    "                         {'First Name': 'James', 'Last Name': 'Wilde', 'Role': 'Grader'}])\n",
    "student_df = pd.DataFrame([{'First Name': 'James', 'Last Name': 'Hammond', 'School': 'Business'},\n",
    "                           {'First Name': 'Mike', 'Last Name': 'Smith', 'School': 'Law'},\n",
    "                           {'First Name': 'Sally', 'Last Name': 'Brooks', 'School': 'Engineering'}])\n",
    "staff_df\n",
    "student_df\n",
    "pd.merge(staff_df, student_df, how='inner', left_on=['First Name','Last Name'], right_on=['First Name','Last Name'])"
   ]
  },
  {
   "cell_type": "markdown",
   "metadata": {},
   "source": [
    "# Idiomatic Pandas: Making Code Pandorable"
   ]
  },
  {
   "cell_type": "code",
   "execution_count": 1,
   "metadata": {},
   "outputs": [
    {
     "output_type": "execute_result",
     "data": {
      "text/plain": "      SUMLEV  REGION  DIVISION  STATE  COUNTY   STNAME            CTYNAME  \\\n0         40       3         6      1       0  Alabama            Alabama   \n1         50       3         6      1       1  Alabama     Autauga County   \n2         50       3         6      1       3  Alabama     Baldwin County   \n3         50       3         6      1       5  Alabama     Barbour County   \n4         50       3         6      1       7  Alabama        Bibb County   \n...      ...     ...       ...    ...     ...      ...                ...   \n3188      50       4         8     56      37  Wyoming  Sweetwater County   \n3189      50       4         8     56      39  Wyoming       Teton County   \n3190      50       4         8     56      41  Wyoming       Uinta County   \n3191      50       4         8     56      43  Wyoming    Washakie County   \n3192      50       4         8     56      45  Wyoming      Weston County   \n\n      CENSUS2010POP  ESTIMATESBASE2010  POPESTIMATE2010  ...  \\\n0           4779736            4780127          4785161  ...   \n1             54571              54571            54660  ...   \n2            182265             182265           183193  ...   \n3             27457              27457            27341  ...   \n4             22915              22919            22861  ...   \n...             ...                ...              ...  ...   \n3188          43806              43806            43593  ...   \n3189          21294              21294            21297  ...   \n3190          21118              21118            21102  ...   \n3191           8533               8533             8545  ...   \n3192           7208               7208             7181  ...   \n\n      RDOMESTICMIG2011  RDOMESTICMIG2012  RDOMESTICMIG2013  RDOMESTICMIG2014  \\\n0             0.002295         -0.193196          0.381066          0.582002   \n1             7.242091         -2.915927         -3.012349          2.265971   \n2            14.832960         17.647293         21.845705         19.243287   \n3            -4.728132         -2.500690         -7.056824         -3.904217   \n4            -5.527043         -5.068871         -6.201001         -0.177537   \n...                ...               ...               ...               ...   \n3188          1.072643         16.243199         -5.339774        -14.252889   \n3189         -1.589565          0.972695         19.525929         14.143021   \n3190        -17.755986         -4.916350         -6.902954        -14.215862   \n3191        -11.637475         -0.827815         -2.013502        -17.781491   \n3192        -11.752361         -8.040059         12.372583          1.533635   \n\n      RDOMESTICMIG2015  RNETMIG2011  RNETMIG2012  RNETMIG2013  RNETMIG2014  \\\n0            -0.467369     1.030015     0.826644     1.383282     1.724718   \n1            -2.530799     7.606016    -2.626146    -2.722002     2.592270   \n2            17.197872    15.844176    18.559627    22.727626    20.317142   \n3           -10.543299    -4.874741    -2.758113    -7.167664    -3.978583   \n4             0.177258    -5.088389    -4.363636    -5.403729     0.754533   \n...                ...          ...          ...          ...          ...   \n3188        -14.248864     1.255221    16.243199    -5.295460   -14.075283   \n3189         -0.564849     0.654527     2.408578    21.160658    16.308671   \n3190        -12.127022   -18.136812    -5.536861    -7.521840   -14.740608   \n3191          1.682288   -11.990126    -1.182592    -2.250385   -18.020168   \n3192          6.935294   -12.032179    -8.040059    12.372583     1.533635   \n\n      RNETMIG2015  \n0        0.712594  \n1       -2.187333  \n2       18.293499  \n3      -10.543299  \n4        1.107861  \n...           ...  \n3188   -14.070195  \n3189     1.520747  \n3190   -12.606351  \n3191     1.441961  \n3192     6.935294  \n\n[3193 rows x 100 columns]",
      "text/html": "<div>\n<style scoped>\n    .dataframe tbody tr th:only-of-type {\n        vertical-align: middle;\n    }\n\n    .dataframe tbody tr th {\n        vertical-align: top;\n    }\n\n    .dataframe thead th {\n        text-align: right;\n    }\n</style>\n<table border=\"1\" class=\"dataframe\">\n  <thead>\n    <tr style=\"text-align: right;\">\n      <th></th>\n      <th>SUMLEV</th>\n      <th>REGION</th>\n      <th>DIVISION</th>\n      <th>STATE</th>\n      <th>COUNTY</th>\n      <th>STNAME</th>\n      <th>CTYNAME</th>\n      <th>CENSUS2010POP</th>\n      <th>ESTIMATESBASE2010</th>\n      <th>POPESTIMATE2010</th>\n      <th>...</th>\n      <th>RDOMESTICMIG2011</th>\n      <th>RDOMESTICMIG2012</th>\n      <th>RDOMESTICMIG2013</th>\n      <th>RDOMESTICMIG2014</th>\n      <th>RDOMESTICMIG2015</th>\n      <th>RNETMIG2011</th>\n      <th>RNETMIG2012</th>\n      <th>RNETMIG2013</th>\n      <th>RNETMIG2014</th>\n      <th>RNETMIG2015</th>\n    </tr>\n  </thead>\n  <tbody>\n    <tr>\n      <th>0</th>\n      <td>40</td>\n      <td>3</td>\n      <td>6</td>\n      <td>1</td>\n      <td>0</td>\n      <td>Alabama</td>\n      <td>Alabama</td>\n      <td>4779736</td>\n      <td>4780127</td>\n      <td>4785161</td>\n      <td>...</td>\n      <td>0.002295</td>\n      <td>-0.193196</td>\n      <td>0.381066</td>\n      <td>0.582002</td>\n      <td>-0.467369</td>\n      <td>1.030015</td>\n      <td>0.826644</td>\n      <td>1.383282</td>\n      <td>1.724718</td>\n      <td>0.712594</td>\n    </tr>\n    <tr>\n      <th>1</th>\n      <td>50</td>\n      <td>3</td>\n      <td>6</td>\n      <td>1</td>\n      <td>1</td>\n      <td>Alabama</td>\n      <td>Autauga County</td>\n      <td>54571</td>\n      <td>54571</td>\n      <td>54660</td>\n      <td>...</td>\n      <td>7.242091</td>\n      <td>-2.915927</td>\n      <td>-3.012349</td>\n      <td>2.265971</td>\n      <td>-2.530799</td>\n      <td>7.606016</td>\n      <td>-2.626146</td>\n      <td>-2.722002</td>\n      <td>2.592270</td>\n      <td>-2.187333</td>\n    </tr>\n    <tr>\n      <th>2</th>\n      <td>50</td>\n      <td>3</td>\n      <td>6</td>\n      <td>1</td>\n      <td>3</td>\n      <td>Alabama</td>\n      <td>Baldwin County</td>\n      <td>182265</td>\n      <td>182265</td>\n      <td>183193</td>\n      <td>...</td>\n      <td>14.832960</td>\n      <td>17.647293</td>\n      <td>21.845705</td>\n      <td>19.243287</td>\n      <td>17.197872</td>\n      <td>15.844176</td>\n      <td>18.559627</td>\n      <td>22.727626</td>\n      <td>20.317142</td>\n      <td>18.293499</td>\n    </tr>\n    <tr>\n      <th>3</th>\n      <td>50</td>\n      <td>3</td>\n      <td>6</td>\n      <td>1</td>\n      <td>5</td>\n      <td>Alabama</td>\n      <td>Barbour County</td>\n      <td>27457</td>\n      <td>27457</td>\n      <td>27341</td>\n      <td>...</td>\n      <td>-4.728132</td>\n      <td>-2.500690</td>\n      <td>-7.056824</td>\n      <td>-3.904217</td>\n      <td>-10.543299</td>\n      <td>-4.874741</td>\n      <td>-2.758113</td>\n      <td>-7.167664</td>\n      <td>-3.978583</td>\n      <td>-10.543299</td>\n    </tr>\n    <tr>\n      <th>4</th>\n      <td>50</td>\n      <td>3</td>\n      <td>6</td>\n      <td>1</td>\n      <td>7</td>\n      <td>Alabama</td>\n      <td>Bibb County</td>\n      <td>22915</td>\n      <td>22919</td>\n      <td>22861</td>\n      <td>...</td>\n      <td>-5.527043</td>\n      <td>-5.068871</td>\n      <td>-6.201001</td>\n      <td>-0.177537</td>\n      <td>0.177258</td>\n      <td>-5.088389</td>\n      <td>-4.363636</td>\n      <td>-5.403729</td>\n      <td>0.754533</td>\n      <td>1.107861</td>\n    </tr>\n    <tr>\n      <th>...</th>\n      <td>...</td>\n      <td>...</td>\n      <td>...</td>\n      <td>...</td>\n      <td>...</td>\n      <td>...</td>\n      <td>...</td>\n      <td>...</td>\n      <td>...</td>\n      <td>...</td>\n      <td>...</td>\n      <td>...</td>\n      <td>...</td>\n      <td>...</td>\n      <td>...</td>\n      <td>...</td>\n      <td>...</td>\n      <td>...</td>\n      <td>...</td>\n      <td>...</td>\n      <td>...</td>\n    </tr>\n    <tr>\n      <th>3188</th>\n      <td>50</td>\n      <td>4</td>\n      <td>8</td>\n      <td>56</td>\n      <td>37</td>\n      <td>Wyoming</td>\n      <td>Sweetwater County</td>\n      <td>43806</td>\n      <td>43806</td>\n      <td>43593</td>\n      <td>...</td>\n      <td>1.072643</td>\n      <td>16.243199</td>\n      <td>-5.339774</td>\n      <td>-14.252889</td>\n      <td>-14.248864</td>\n      <td>1.255221</td>\n      <td>16.243199</td>\n      <td>-5.295460</td>\n      <td>-14.075283</td>\n      <td>-14.070195</td>\n    </tr>\n    <tr>\n      <th>3189</th>\n      <td>50</td>\n      <td>4</td>\n      <td>8</td>\n      <td>56</td>\n      <td>39</td>\n      <td>Wyoming</td>\n      <td>Teton County</td>\n      <td>21294</td>\n      <td>21294</td>\n      <td>21297</td>\n      <td>...</td>\n      <td>-1.589565</td>\n      <td>0.972695</td>\n      <td>19.525929</td>\n      <td>14.143021</td>\n      <td>-0.564849</td>\n      <td>0.654527</td>\n      <td>2.408578</td>\n      <td>21.160658</td>\n      <td>16.308671</td>\n      <td>1.520747</td>\n    </tr>\n    <tr>\n      <th>3190</th>\n      <td>50</td>\n      <td>4</td>\n      <td>8</td>\n      <td>56</td>\n      <td>41</td>\n      <td>Wyoming</td>\n      <td>Uinta County</td>\n      <td>21118</td>\n      <td>21118</td>\n      <td>21102</td>\n      <td>...</td>\n      <td>-17.755986</td>\n      <td>-4.916350</td>\n      <td>-6.902954</td>\n      <td>-14.215862</td>\n      <td>-12.127022</td>\n      <td>-18.136812</td>\n      <td>-5.536861</td>\n      <td>-7.521840</td>\n      <td>-14.740608</td>\n      <td>-12.606351</td>\n    </tr>\n    <tr>\n      <th>3191</th>\n      <td>50</td>\n      <td>4</td>\n      <td>8</td>\n      <td>56</td>\n      <td>43</td>\n      <td>Wyoming</td>\n      <td>Washakie County</td>\n      <td>8533</td>\n      <td>8533</td>\n      <td>8545</td>\n      <td>...</td>\n      <td>-11.637475</td>\n      <td>-0.827815</td>\n      <td>-2.013502</td>\n      <td>-17.781491</td>\n      <td>1.682288</td>\n      <td>-11.990126</td>\n      <td>-1.182592</td>\n      <td>-2.250385</td>\n      <td>-18.020168</td>\n      <td>1.441961</td>\n    </tr>\n    <tr>\n      <th>3192</th>\n      <td>50</td>\n      <td>4</td>\n      <td>8</td>\n      <td>56</td>\n      <td>45</td>\n      <td>Wyoming</td>\n      <td>Weston County</td>\n      <td>7208</td>\n      <td>7208</td>\n      <td>7181</td>\n      <td>...</td>\n      <td>-11.752361</td>\n      <td>-8.040059</td>\n      <td>12.372583</td>\n      <td>1.533635</td>\n      <td>6.935294</td>\n      <td>-12.032179</td>\n      <td>-8.040059</td>\n      <td>12.372583</td>\n      <td>1.533635</td>\n      <td>6.935294</td>\n    </tr>\n  </tbody>\n</table>\n<p>3193 rows × 100 columns</p>\n</div>"
     },
     "metadata": {},
     "execution_count": 1
    }
   ],
   "source": [
    "import pandas as pd\n",
    "df = pd.read_csv('census.csv')\n",
    "df"
   ]
  },
  {
   "cell_type": "code",
   "execution_count": 15,
   "metadata": {},
   "outputs": [
    {
     "output_type": "execute_result",
     "data": {
      "text/plain": "                           SUMLEV  REGION  DIVISION  STATE  COUNTY  \\\nSTNAME  CTYNAME                                                      \nAlabama Autauga County       50.0     3.0       6.0    1.0     1.0   \n        Baldwin County       50.0     3.0       6.0    1.0     3.0   \n        Barbour County       50.0     3.0       6.0    1.0     5.0   \n        Bibb County          50.0     3.0       6.0    1.0     7.0   \n        Blount County        50.0     3.0       6.0    1.0     9.0   \n...                           ...     ...       ...    ...     ...   \nWyoming Sweetwater County    50.0     4.0       8.0   56.0    37.0   \n        Teton County         50.0     4.0       8.0   56.0    39.0   \n        Uinta County         50.0     4.0       8.0   56.0    41.0   \n        Washakie County      50.0     4.0       8.0   56.0    43.0   \n        Weston County        50.0     4.0       8.0   56.0    45.0   \n\n                           CENSUS2010POP  Estimates Base 2010  \\\nSTNAME  CTYNAME                                                 \nAlabama Autauga County           54571.0              54571.0   \n        Baldwin County          182265.0             182265.0   \n        Barbour County           27457.0              27457.0   \n        Bibb County              22915.0              22919.0   \n        Blount County            57322.0              57322.0   \n...                                  ...                  ...   \nWyoming Sweetwater County        43806.0              43806.0   \n        Teton County             21294.0              21294.0   \n        Uinta County             21118.0              21118.0   \n        Washakie County           8533.0               8533.0   \n        Weston County             7208.0               7208.0   \n\n                           POPESTIMATE2010  POPESTIMATE2011  POPESTIMATE2012  \\\nSTNAME  CTYNAME                                                                \nAlabama Autauga County             54660.0          55253.0          55175.0   \n        Baldwin County            183193.0         186659.0         190396.0   \n        Barbour County             27341.0          27226.0          27159.0   \n        Bibb County                22861.0          22733.0          22642.0   \n        Blount County              57373.0          57711.0          57776.0   \n...                                    ...              ...              ...   \nWyoming Sweetwater County          43593.0          44041.0          45104.0   \n        Teton County               21297.0          21482.0          21697.0   \n        Uinta County               21102.0          20912.0          20989.0   \n        Washakie County             8545.0           8469.0           8443.0   \n        Weston County               7181.0           7114.0           7065.0   \n\n                           ...  RDOMESTICMIG2011  RDOMESTICMIG2012  \\\nSTNAME  CTYNAME            ...                                       \nAlabama Autauga County     ...          7.242091         -2.915927   \n        Baldwin County     ...         14.832960         17.647293   \n        Barbour County     ...         -4.728132         -2.500690   \n        Bibb County        ...         -5.527043         -5.068871   \n        Blount County      ...          1.807375         -1.177622   \n...                        ...               ...               ...   \nWyoming Sweetwater County  ...          1.072643         16.243199   \n        Teton County       ...         -1.589565          0.972695   \n        Uinta County       ...        -17.755986         -4.916350   \n        Washakie County    ...        -11.637475         -0.827815   \n        Weston County      ...        -11.752361         -8.040059   \n\n                           RDOMESTICMIG2013  RDOMESTICMIG2014  \\\nSTNAME  CTYNAME                                                 \nAlabama Autauga County            -3.012349          2.265971   \n        Baldwin County            21.845705         19.243287   \n        Barbour County            -7.056824         -3.904217   \n        Bibb County               -6.201001         -0.177537   \n        Blount County             -1.748766         -2.062535   \n...                                     ...               ...   \nWyoming Sweetwater County         -5.339774        -14.252889   \n        Teton County              19.525929         14.143021   \n        Uinta County              -6.902954        -14.215862   \n        Washakie County           -2.013502        -17.781491   \n        Weston County             12.372583          1.533635   \n\n                           RDOMESTICMIG2015  RNETMIG2011  RNETMIG2012  \\\nSTNAME  CTYNAME                                                         \nAlabama Autauga County            -2.530799     7.606016    -2.626146   \n        Baldwin County            17.197872    15.844176    18.559627   \n        Barbour County           -10.543299    -4.874741    -2.758113   \n        Bibb County                0.177258    -5.088389    -4.363636   \n        Blount County             -1.369970     1.859511    -0.848580   \n...                                     ...          ...          ...   \nWyoming Sweetwater County        -14.248864     1.255221    16.243199   \n        Teton County              -0.564849     0.654527     2.408578   \n        Uinta County             -12.127022   -18.136812    -5.536861   \n        Washakie County            1.682288   -11.990126    -1.182592   \n        Weston County              6.935294   -12.032179    -8.040059   \n\n                           RNETMIG2013  RNETMIG2014  RNETMIG2015  \nSTNAME  CTYNAME                                                   \nAlabama Autauga County       -2.722002     2.592270    -2.187333  \n        Baldwin County       22.727626    20.317142    18.293499  \n        Barbour County       -7.167664    -3.978583   -10.543299  \n        Bibb County          -5.403729     0.754533     1.107861  \n        Blount County        -1.402476    -1.577232    -0.884411  \n...                                ...          ...          ...  \nWyoming Sweetwater County    -5.295460   -14.075283   -14.070195  \n        Teton County         21.160658    16.308671     1.520747  \n        Uinta County         -7.521840   -14.740608   -12.606351  \n        Washakie County      -2.250385   -18.020168     1.441961  \n        Weston County        12.372583     1.533635     6.935294  \n\n[3142 rows x 98 columns]",
      "text/html": "<div>\n<style scoped>\n    .dataframe tbody tr th:only-of-type {\n        vertical-align: middle;\n    }\n\n    .dataframe tbody tr th {\n        vertical-align: top;\n    }\n\n    .dataframe thead th {\n        text-align: right;\n    }\n</style>\n<table border=\"1\" class=\"dataframe\">\n  <thead>\n    <tr style=\"text-align: right;\">\n      <th></th>\n      <th></th>\n      <th>SUMLEV</th>\n      <th>REGION</th>\n      <th>DIVISION</th>\n      <th>STATE</th>\n      <th>COUNTY</th>\n      <th>CENSUS2010POP</th>\n      <th>Estimates Base 2010</th>\n      <th>POPESTIMATE2010</th>\n      <th>POPESTIMATE2011</th>\n      <th>POPESTIMATE2012</th>\n      <th>...</th>\n      <th>RDOMESTICMIG2011</th>\n      <th>RDOMESTICMIG2012</th>\n      <th>RDOMESTICMIG2013</th>\n      <th>RDOMESTICMIG2014</th>\n      <th>RDOMESTICMIG2015</th>\n      <th>RNETMIG2011</th>\n      <th>RNETMIG2012</th>\n      <th>RNETMIG2013</th>\n      <th>RNETMIG2014</th>\n      <th>RNETMIG2015</th>\n    </tr>\n    <tr>\n      <th>STNAME</th>\n      <th>CTYNAME</th>\n      <th></th>\n      <th></th>\n      <th></th>\n      <th></th>\n      <th></th>\n      <th></th>\n      <th></th>\n      <th></th>\n      <th></th>\n      <th></th>\n      <th></th>\n      <th></th>\n      <th></th>\n      <th></th>\n      <th></th>\n      <th></th>\n      <th></th>\n      <th></th>\n      <th></th>\n      <th></th>\n      <th></th>\n    </tr>\n  </thead>\n  <tbody>\n    <tr>\n      <th rowspan=\"5\" valign=\"top\">Alabama</th>\n      <th>Autauga County</th>\n      <td>50.0</td>\n      <td>3.0</td>\n      <td>6.0</td>\n      <td>1.0</td>\n      <td>1.0</td>\n      <td>54571.0</td>\n      <td>54571.0</td>\n      <td>54660.0</td>\n      <td>55253.0</td>\n      <td>55175.0</td>\n      <td>...</td>\n      <td>7.242091</td>\n      <td>-2.915927</td>\n      <td>-3.012349</td>\n      <td>2.265971</td>\n      <td>-2.530799</td>\n      <td>7.606016</td>\n      <td>-2.626146</td>\n      <td>-2.722002</td>\n      <td>2.592270</td>\n      <td>-2.187333</td>\n    </tr>\n    <tr>\n      <th>Baldwin County</th>\n      <td>50.0</td>\n      <td>3.0</td>\n      <td>6.0</td>\n      <td>1.0</td>\n      <td>3.0</td>\n      <td>182265.0</td>\n      <td>182265.0</td>\n      <td>183193.0</td>\n      <td>186659.0</td>\n      <td>190396.0</td>\n      <td>...</td>\n      <td>14.832960</td>\n      <td>17.647293</td>\n      <td>21.845705</td>\n      <td>19.243287</td>\n      <td>17.197872</td>\n      <td>15.844176</td>\n      <td>18.559627</td>\n      <td>22.727626</td>\n      <td>20.317142</td>\n      <td>18.293499</td>\n    </tr>\n    <tr>\n      <th>Barbour County</th>\n      <td>50.0</td>\n      <td>3.0</td>\n      <td>6.0</td>\n      <td>1.0</td>\n      <td>5.0</td>\n      <td>27457.0</td>\n      <td>27457.0</td>\n      <td>27341.0</td>\n      <td>27226.0</td>\n      <td>27159.0</td>\n      <td>...</td>\n      <td>-4.728132</td>\n      <td>-2.500690</td>\n      <td>-7.056824</td>\n      <td>-3.904217</td>\n      <td>-10.543299</td>\n      <td>-4.874741</td>\n      <td>-2.758113</td>\n      <td>-7.167664</td>\n      <td>-3.978583</td>\n      <td>-10.543299</td>\n    </tr>\n    <tr>\n      <th>Bibb County</th>\n      <td>50.0</td>\n      <td>3.0</td>\n      <td>6.0</td>\n      <td>1.0</td>\n      <td>7.0</td>\n      <td>22915.0</td>\n      <td>22919.0</td>\n      <td>22861.0</td>\n      <td>22733.0</td>\n      <td>22642.0</td>\n      <td>...</td>\n      <td>-5.527043</td>\n      <td>-5.068871</td>\n      <td>-6.201001</td>\n      <td>-0.177537</td>\n      <td>0.177258</td>\n      <td>-5.088389</td>\n      <td>-4.363636</td>\n      <td>-5.403729</td>\n      <td>0.754533</td>\n      <td>1.107861</td>\n    </tr>\n    <tr>\n      <th>Blount County</th>\n      <td>50.0</td>\n      <td>3.0</td>\n      <td>6.0</td>\n      <td>1.0</td>\n      <td>9.0</td>\n      <td>57322.0</td>\n      <td>57322.0</td>\n      <td>57373.0</td>\n      <td>57711.0</td>\n      <td>57776.0</td>\n      <td>...</td>\n      <td>1.807375</td>\n      <td>-1.177622</td>\n      <td>-1.748766</td>\n      <td>-2.062535</td>\n      <td>-1.369970</td>\n      <td>1.859511</td>\n      <td>-0.848580</td>\n      <td>-1.402476</td>\n      <td>-1.577232</td>\n      <td>-0.884411</td>\n    </tr>\n    <tr>\n      <th>...</th>\n      <th>...</th>\n      <td>...</td>\n      <td>...</td>\n      <td>...</td>\n      <td>...</td>\n      <td>...</td>\n      <td>...</td>\n      <td>...</td>\n      <td>...</td>\n      <td>...</td>\n      <td>...</td>\n      <td>...</td>\n      <td>...</td>\n      <td>...</td>\n      <td>...</td>\n      <td>...</td>\n      <td>...</td>\n      <td>...</td>\n      <td>...</td>\n      <td>...</td>\n      <td>...</td>\n      <td>...</td>\n    </tr>\n    <tr>\n      <th rowspan=\"5\" valign=\"top\">Wyoming</th>\n      <th>Sweetwater County</th>\n      <td>50.0</td>\n      <td>4.0</td>\n      <td>8.0</td>\n      <td>56.0</td>\n      <td>37.0</td>\n      <td>43806.0</td>\n      <td>43806.0</td>\n      <td>43593.0</td>\n      <td>44041.0</td>\n      <td>45104.0</td>\n      <td>...</td>\n      <td>1.072643</td>\n      <td>16.243199</td>\n      <td>-5.339774</td>\n      <td>-14.252889</td>\n      <td>-14.248864</td>\n      <td>1.255221</td>\n      <td>16.243199</td>\n      <td>-5.295460</td>\n      <td>-14.075283</td>\n      <td>-14.070195</td>\n    </tr>\n    <tr>\n      <th>Teton County</th>\n      <td>50.0</td>\n      <td>4.0</td>\n      <td>8.0</td>\n      <td>56.0</td>\n      <td>39.0</td>\n      <td>21294.0</td>\n      <td>21294.0</td>\n      <td>21297.0</td>\n      <td>21482.0</td>\n      <td>21697.0</td>\n      <td>...</td>\n      <td>-1.589565</td>\n      <td>0.972695</td>\n      <td>19.525929</td>\n      <td>14.143021</td>\n      <td>-0.564849</td>\n      <td>0.654527</td>\n      <td>2.408578</td>\n      <td>21.160658</td>\n      <td>16.308671</td>\n      <td>1.520747</td>\n    </tr>\n    <tr>\n      <th>Uinta County</th>\n      <td>50.0</td>\n      <td>4.0</td>\n      <td>8.0</td>\n      <td>56.0</td>\n      <td>41.0</td>\n      <td>21118.0</td>\n      <td>21118.0</td>\n      <td>21102.0</td>\n      <td>20912.0</td>\n      <td>20989.0</td>\n      <td>...</td>\n      <td>-17.755986</td>\n      <td>-4.916350</td>\n      <td>-6.902954</td>\n      <td>-14.215862</td>\n      <td>-12.127022</td>\n      <td>-18.136812</td>\n      <td>-5.536861</td>\n      <td>-7.521840</td>\n      <td>-14.740608</td>\n      <td>-12.606351</td>\n    </tr>\n    <tr>\n      <th>Washakie County</th>\n      <td>50.0</td>\n      <td>4.0</td>\n      <td>8.0</td>\n      <td>56.0</td>\n      <td>43.0</td>\n      <td>8533.0</td>\n      <td>8533.0</td>\n      <td>8545.0</td>\n      <td>8469.0</td>\n      <td>8443.0</td>\n      <td>...</td>\n      <td>-11.637475</td>\n      <td>-0.827815</td>\n      <td>-2.013502</td>\n      <td>-17.781491</td>\n      <td>1.682288</td>\n      <td>-11.990126</td>\n      <td>-1.182592</td>\n      <td>-2.250385</td>\n      <td>-18.020168</td>\n      <td>1.441961</td>\n    </tr>\n    <tr>\n      <th>Weston County</th>\n      <td>50.0</td>\n      <td>4.0</td>\n      <td>8.0</td>\n      <td>56.0</td>\n      <td>45.0</td>\n      <td>7208.0</td>\n      <td>7208.0</td>\n      <td>7181.0</td>\n      <td>7114.0</td>\n      <td>7065.0</td>\n      <td>...</td>\n      <td>-11.752361</td>\n      <td>-8.040059</td>\n      <td>12.372583</td>\n      <td>1.533635</td>\n      <td>6.935294</td>\n      <td>-12.032179</td>\n      <td>-8.040059</td>\n      <td>12.372583</td>\n      <td>1.533635</td>\n      <td>6.935294</td>\n    </tr>\n  </tbody>\n</table>\n<p>3142 rows × 98 columns</p>\n</div>"
     },
     "metadata": {},
     "execution_count": 15
    }
   ],
   "source": [
    "(df.where(df['SUMLEV']==50)\n",
    "    .dropna()\n",
    "    .set_index(['STNAME','CTYNAME'])\n",
    "    .rename(columns={'ESTIMATESBASE2010': 'Estimates Base 2010'}))"
   ]
  },
  {
   "cell_type": "code",
   "execution_count": 16,
   "metadata": {},
   "outputs": [
    {
     "output_type": "execute_result",
     "data": {
      "text/plain": "                           SUMLEV  REGION  DIVISION  STATE  COUNTY  \\\nSTNAME  CTYNAME                                                      \nAlabama Autauga County         50       3         6      1       1   \n        Baldwin County         50       3         6      1       3   \n        Barbour County         50       3         6      1       5   \n        Bibb County            50       3         6      1       7   \n        Blount County          50       3         6      1       9   \n...                           ...     ...       ...    ...     ...   \nWyoming Sweetwater County      50       4         8     56      37   \n        Teton County           50       4         8     56      39   \n        Uinta County           50       4         8     56      41   \n        Washakie County        50       4         8     56      43   \n        Weston County          50       4         8     56      45   \n\n                           CENSUS2010POP  Estimates Base 2010  \\\nSTNAME  CTYNAME                                                 \nAlabama Autauga County             54571                54571   \n        Baldwin County            182265               182265   \n        Barbour County             27457                27457   \n        Bibb County                22915                22919   \n        Blount County              57322                57322   \n...                                  ...                  ...   \nWyoming Sweetwater County          43806                43806   \n        Teton County               21294                21294   \n        Uinta County               21118                21118   \n        Washakie County             8533                 8533   \n        Weston County               7208                 7208   \n\n                           POPESTIMATE2010  POPESTIMATE2011  POPESTIMATE2012  \\\nSTNAME  CTYNAME                                                                \nAlabama Autauga County               54660            55253            55175   \n        Baldwin County              183193           186659           190396   \n        Barbour County               27341            27226            27159   \n        Bibb County                  22861            22733            22642   \n        Blount County                57373            57711            57776   \n...                                    ...              ...              ...   \nWyoming Sweetwater County            43593            44041            45104   \n        Teton County                 21297            21482            21697   \n        Uinta County                 21102            20912            20989   \n        Washakie County               8545             8469             8443   \n        Weston County                 7181             7114             7065   \n\n                           ...  RDOMESTICMIG2011  RDOMESTICMIG2012  \\\nSTNAME  CTYNAME            ...                                       \nAlabama Autauga County     ...          7.242091         -2.915927   \n        Baldwin County     ...         14.832960         17.647293   \n        Barbour County     ...         -4.728132         -2.500690   \n        Bibb County        ...         -5.527043         -5.068871   \n        Blount County      ...          1.807375         -1.177622   \n...                        ...               ...               ...   \nWyoming Sweetwater County  ...          1.072643         16.243199   \n        Teton County       ...         -1.589565          0.972695   \n        Uinta County       ...        -17.755986         -4.916350   \n        Washakie County    ...        -11.637475         -0.827815   \n        Weston County      ...        -11.752361         -8.040059   \n\n                           RDOMESTICMIG2013  RDOMESTICMIG2014  \\\nSTNAME  CTYNAME                                                 \nAlabama Autauga County            -3.012349          2.265971   \n        Baldwin County            21.845705         19.243287   \n        Barbour County            -7.056824         -3.904217   \n        Bibb County               -6.201001         -0.177537   \n        Blount County             -1.748766         -2.062535   \n...                                     ...               ...   \nWyoming Sweetwater County         -5.339774        -14.252889   \n        Teton County              19.525929         14.143021   \n        Uinta County              -6.902954        -14.215862   \n        Washakie County           -2.013502        -17.781491   \n        Weston County             12.372583          1.533635   \n\n                           RDOMESTICMIG2015  RNETMIG2011  RNETMIG2012  \\\nSTNAME  CTYNAME                                                         \nAlabama Autauga County            -2.530799     7.606016    -2.626146   \n        Baldwin County            17.197872    15.844176    18.559627   \n        Barbour County           -10.543299    -4.874741    -2.758113   \n        Bibb County                0.177258    -5.088389    -4.363636   \n        Blount County             -1.369970     1.859511    -0.848580   \n...                                     ...          ...          ...   \nWyoming Sweetwater County        -14.248864     1.255221    16.243199   \n        Teton County              -0.564849     0.654527     2.408578   \n        Uinta County             -12.127022   -18.136812    -5.536861   \n        Washakie County            1.682288   -11.990126    -1.182592   \n        Weston County              6.935294   -12.032179    -8.040059   \n\n                           RNETMIG2013  RNETMIG2014  RNETMIG2015  \nSTNAME  CTYNAME                                                   \nAlabama Autauga County       -2.722002     2.592270    -2.187333  \n        Baldwin County       22.727626    20.317142    18.293499  \n        Barbour County       -7.167664    -3.978583   -10.543299  \n        Bibb County          -5.403729     0.754533     1.107861  \n        Blount County        -1.402476    -1.577232    -0.884411  \n...                                ...          ...          ...  \nWyoming Sweetwater County    -5.295460   -14.075283   -14.070195  \n        Teton County         21.160658    16.308671     1.520747  \n        Uinta County         -7.521840   -14.740608   -12.606351  \n        Washakie County      -2.250385   -18.020168     1.441961  \n        Weston County        12.372583     1.533635     6.935294  \n\n[3142 rows x 98 columns]",
      "text/html": "<div>\n<style scoped>\n    .dataframe tbody tr th:only-of-type {\n        vertical-align: middle;\n    }\n\n    .dataframe tbody tr th {\n        vertical-align: top;\n    }\n\n    .dataframe thead th {\n        text-align: right;\n    }\n</style>\n<table border=\"1\" class=\"dataframe\">\n  <thead>\n    <tr style=\"text-align: right;\">\n      <th></th>\n      <th></th>\n      <th>SUMLEV</th>\n      <th>REGION</th>\n      <th>DIVISION</th>\n      <th>STATE</th>\n      <th>COUNTY</th>\n      <th>CENSUS2010POP</th>\n      <th>Estimates Base 2010</th>\n      <th>POPESTIMATE2010</th>\n      <th>POPESTIMATE2011</th>\n      <th>POPESTIMATE2012</th>\n      <th>...</th>\n      <th>RDOMESTICMIG2011</th>\n      <th>RDOMESTICMIG2012</th>\n      <th>RDOMESTICMIG2013</th>\n      <th>RDOMESTICMIG2014</th>\n      <th>RDOMESTICMIG2015</th>\n      <th>RNETMIG2011</th>\n      <th>RNETMIG2012</th>\n      <th>RNETMIG2013</th>\n      <th>RNETMIG2014</th>\n      <th>RNETMIG2015</th>\n    </tr>\n    <tr>\n      <th>STNAME</th>\n      <th>CTYNAME</th>\n      <th></th>\n      <th></th>\n      <th></th>\n      <th></th>\n      <th></th>\n      <th></th>\n      <th></th>\n      <th></th>\n      <th></th>\n      <th></th>\n      <th></th>\n      <th></th>\n      <th></th>\n      <th></th>\n      <th></th>\n      <th></th>\n      <th></th>\n      <th></th>\n      <th></th>\n      <th></th>\n      <th></th>\n    </tr>\n  </thead>\n  <tbody>\n    <tr>\n      <th rowspan=\"5\" valign=\"top\">Alabama</th>\n      <th>Autauga County</th>\n      <td>50</td>\n      <td>3</td>\n      <td>6</td>\n      <td>1</td>\n      <td>1</td>\n      <td>54571</td>\n      <td>54571</td>\n      <td>54660</td>\n      <td>55253</td>\n      <td>55175</td>\n      <td>...</td>\n      <td>7.242091</td>\n      <td>-2.915927</td>\n      <td>-3.012349</td>\n      <td>2.265971</td>\n      <td>-2.530799</td>\n      <td>7.606016</td>\n      <td>-2.626146</td>\n      <td>-2.722002</td>\n      <td>2.592270</td>\n      <td>-2.187333</td>\n    </tr>\n    <tr>\n      <th>Baldwin County</th>\n      <td>50</td>\n      <td>3</td>\n      <td>6</td>\n      <td>1</td>\n      <td>3</td>\n      <td>182265</td>\n      <td>182265</td>\n      <td>183193</td>\n      <td>186659</td>\n      <td>190396</td>\n      <td>...</td>\n      <td>14.832960</td>\n      <td>17.647293</td>\n      <td>21.845705</td>\n      <td>19.243287</td>\n      <td>17.197872</td>\n      <td>15.844176</td>\n      <td>18.559627</td>\n      <td>22.727626</td>\n      <td>20.317142</td>\n      <td>18.293499</td>\n    </tr>\n    <tr>\n      <th>Barbour County</th>\n      <td>50</td>\n      <td>3</td>\n      <td>6</td>\n      <td>1</td>\n      <td>5</td>\n      <td>27457</td>\n      <td>27457</td>\n      <td>27341</td>\n      <td>27226</td>\n      <td>27159</td>\n      <td>...</td>\n      <td>-4.728132</td>\n      <td>-2.500690</td>\n      <td>-7.056824</td>\n      <td>-3.904217</td>\n      <td>-10.543299</td>\n      <td>-4.874741</td>\n      <td>-2.758113</td>\n      <td>-7.167664</td>\n      <td>-3.978583</td>\n      <td>-10.543299</td>\n    </tr>\n    <tr>\n      <th>Bibb County</th>\n      <td>50</td>\n      <td>3</td>\n      <td>6</td>\n      <td>1</td>\n      <td>7</td>\n      <td>22915</td>\n      <td>22919</td>\n      <td>22861</td>\n      <td>22733</td>\n      <td>22642</td>\n      <td>...</td>\n      <td>-5.527043</td>\n      <td>-5.068871</td>\n      <td>-6.201001</td>\n      <td>-0.177537</td>\n      <td>0.177258</td>\n      <td>-5.088389</td>\n      <td>-4.363636</td>\n      <td>-5.403729</td>\n      <td>0.754533</td>\n      <td>1.107861</td>\n    </tr>\n    <tr>\n      <th>Blount County</th>\n      <td>50</td>\n      <td>3</td>\n      <td>6</td>\n      <td>1</td>\n      <td>9</td>\n      <td>57322</td>\n      <td>57322</td>\n      <td>57373</td>\n      <td>57711</td>\n      <td>57776</td>\n      <td>...</td>\n      <td>1.807375</td>\n      <td>-1.177622</td>\n      <td>-1.748766</td>\n      <td>-2.062535</td>\n      <td>-1.369970</td>\n      <td>1.859511</td>\n      <td>-0.848580</td>\n      <td>-1.402476</td>\n      <td>-1.577232</td>\n      <td>-0.884411</td>\n    </tr>\n    <tr>\n      <th>...</th>\n      <th>...</th>\n      <td>...</td>\n      <td>...</td>\n      <td>...</td>\n      <td>...</td>\n      <td>...</td>\n      <td>...</td>\n      <td>...</td>\n      <td>...</td>\n      <td>...</td>\n      <td>...</td>\n      <td>...</td>\n      <td>...</td>\n      <td>...</td>\n      <td>...</td>\n      <td>...</td>\n      <td>...</td>\n      <td>...</td>\n      <td>...</td>\n      <td>...</td>\n      <td>...</td>\n      <td>...</td>\n    </tr>\n    <tr>\n      <th rowspan=\"5\" valign=\"top\">Wyoming</th>\n      <th>Sweetwater County</th>\n      <td>50</td>\n      <td>4</td>\n      <td>8</td>\n      <td>56</td>\n      <td>37</td>\n      <td>43806</td>\n      <td>43806</td>\n      <td>43593</td>\n      <td>44041</td>\n      <td>45104</td>\n      <td>...</td>\n      <td>1.072643</td>\n      <td>16.243199</td>\n      <td>-5.339774</td>\n      <td>-14.252889</td>\n      <td>-14.248864</td>\n      <td>1.255221</td>\n      <td>16.243199</td>\n      <td>-5.295460</td>\n      <td>-14.075283</td>\n      <td>-14.070195</td>\n    </tr>\n    <tr>\n      <th>Teton County</th>\n      <td>50</td>\n      <td>4</td>\n      <td>8</td>\n      <td>56</td>\n      <td>39</td>\n      <td>21294</td>\n      <td>21294</td>\n      <td>21297</td>\n      <td>21482</td>\n      <td>21697</td>\n      <td>...</td>\n      <td>-1.589565</td>\n      <td>0.972695</td>\n      <td>19.525929</td>\n      <td>14.143021</td>\n      <td>-0.564849</td>\n      <td>0.654527</td>\n      <td>2.408578</td>\n      <td>21.160658</td>\n      <td>16.308671</td>\n      <td>1.520747</td>\n    </tr>\n    <tr>\n      <th>Uinta County</th>\n      <td>50</td>\n      <td>4</td>\n      <td>8</td>\n      <td>56</td>\n      <td>41</td>\n      <td>21118</td>\n      <td>21118</td>\n      <td>21102</td>\n      <td>20912</td>\n      <td>20989</td>\n      <td>...</td>\n      <td>-17.755986</td>\n      <td>-4.916350</td>\n      <td>-6.902954</td>\n      <td>-14.215862</td>\n      <td>-12.127022</td>\n      <td>-18.136812</td>\n      <td>-5.536861</td>\n      <td>-7.521840</td>\n      <td>-14.740608</td>\n      <td>-12.606351</td>\n    </tr>\n    <tr>\n      <th>Washakie County</th>\n      <td>50</td>\n      <td>4</td>\n      <td>8</td>\n      <td>56</td>\n      <td>43</td>\n      <td>8533</td>\n      <td>8533</td>\n      <td>8545</td>\n      <td>8469</td>\n      <td>8443</td>\n      <td>...</td>\n      <td>-11.637475</td>\n      <td>-0.827815</td>\n      <td>-2.013502</td>\n      <td>-17.781491</td>\n      <td>1.682288</td>\n      <td>-11.990126</td>\n      <td>-1.182592</td>\n      <td>-2.250385</td>\n      <td>-18.020168</td>\n      <td>1.441961</td>\n    </tr>\n    <tr>\n      <th>Weston County</th>\n      <td>50</td>\n      <td>4</td>\n      <td>8</td>\n      <td>56</td>\n      <td>45</td>\n      <td>7208</td>\n      <td>7208</td>\n      <td>7181</td>\n      <td>7114</td>\n      <td>7065</td>\n      <td>...</td>\n      <td>-11.752361</td>\n      <td>-8.040059</td>\n      <td>12.372583</td>\n      <td>1.533635</td>\n      <td>6.935294</td>\n      <td>-12.032179</td>\n      <td>-8.040059</td>\n      <td>12.372583</td>\n      <td>1.533635</td>\n      <td>6.935294</td>\n    </tr>\n  </tbody>\n</table>\n<p>3142 rows × 98 columns</p>\n</div>"
     },
     "metadata": {},
     "execution_count": 16
    }
   ],
   "source": [
    "df = df[df['SUMLEV']==50]\n",
    "df.set_index(['STNAME','CTYNAME'], inplace=True)\n",
    "df.rename(columns={'ESTIMATESBASE2010': 'Estimates Base 2010'})"
   ]
  },
  {
   "cell_type": "code",
   "execution_count": 17,
   "metadata": {},
   "outputs": [],
   "source": [
    "import numpy as np\n",
    "def min_max(row):\n",
    "    data = row[['POPESTIMATE2010',\n",
    "                'POPESTIMATE2011',\n",
    "                'POPESTIMATE2012',\n",
    "                'POPESTIMATE2013',\n",
    "                'POPESTIMATE2014',\n",
    "                'POPESTIMATE2015']]\n",
    "    return pd.Series({'min': np.min(data), 'max': np.max(data)})"
   ]
  },
  {
   "cell_type": "code",
   "execution_count": 18,
   "metadata": {},
   "outputs": [
    {
     "output_type": "execute_result",
     "data": {
      "text/plain": "                                min       max\nSTNAME  CTYNAME                              \nAlabama Autauga County      54660.0   55347.0\n        Baldwin County     183193.0  203709.0\n        Barbour County      26489.0   27341.0\n        Bibb County         22512.0   22861.0\n        Blount County       57373.0   57776.0\n...                             ...       ...\nWyoming Sweetwater County   43593.0   45162.0\n        Teton County        21297.0   23125.0\n        Uinta County        20822.0   21102.0\n        Washakie County      8316.0    8545.0\n        Weston County        7065.0    7234.0\n\n[3142 rows x 2 columns]",
      "text/html": "<div>\n<style scoped>\n    .dataframe tbody tr th:only-of-type {\n        vertical-align: middle;\n    }\n\n    .dataframe tbody tr th {\n        vertical-align: top;\n    }\n\n    .dataframe thead th {\n        text-align: right;\n    }\n</style>\n<table border=\"1\" class=\"dataframe\">\n  <thead>\n    <tr style=\"text-align: right;\">\n      <th></th>\n      <th></th>\n      <th>min</th>\n      <th>max</th>\n    </tr>\n    <tr>\n      <th>STNAME</th>\n      <th>CTYNAME</th>\n      <th></th>\n      <th></th>\n    </tr>\n  </thead>\n  <tbody>\n    <tr>\n      <th rowspan=\"5\" valign=\"top\">Alabama</th>\n      <th>Autauga County</th>\n      <td>54660.0</td>\n      <td>55347.0</td>\n    </tr>\n    <tr>\n      <th>Baldwin County</th>\n      <td>183193.0</td>\n      <td>203709.0</td>\n    </tr>\n    <tr>\n      <th>Barbour County</th>\n      <td>26489.0</td>\n      <td>27341.0</td>\n    </tr>\n    <tr>\n      <th>Bibb County</th>\n      <td>22512.0</td>\n      <td>22861.0</td>\n    </tr>\n    <tr>\n      <th>Blount County</th>\n      <td>57373.0</td>\n      <td>57776.0</td>\n    </tr>\n    <tr>\n      <th>...</th>\n      <th>...</th>\n      <td>...</td>\n      <td>...</td>\n    </tr>\n    <tr>\n      <th rowspan=\"5\" valign=\"top\">Wyoming</th>\n      <th>Sweetwater County</th>\n      <td>43593.0</td>\n      <td>45162.0</td>\n    </tr>\n    <tr>\n      <th>Teton County</th>\n      <td>21297.0</td>\n      <td>23125.0</td>\n    </tr>\n    <tr>\n      <th>Uinta County</th>\n      <td>20822.0</td>\n      <td>21102.0</td>\n    </tr>\n    <tr>\n      <th>Washakie County</th>\n      <td>8316.0</td>\n      <td>8545.0</td>\n    </tr>\n    <tr>\n      <th>Weston County</th>\n      <td>7065.0</td>\n      <td>7234.0</td>\n    </tr>\n  </tbody>\n</table>\n<p>3142 rows × 2 columns</p>\n</div>"
     },
     "metadata": {},
     "execution_count": 18
    }
   ],
   "source": [
    "df.apply(min_max, axis=1)"
   ]
  },
  {
   "cell_type": "code",
   "execution_count": 19,
   "metadata": {},
   "outputs": [
    {
     "output_type": "execute_result",
     "data": {
      "text/plain": "                           SUMLEV  REGION  DIVISION  STATE  COUNTY  \\\nSTNAME  CTYNAME                                                      \nAlabama Autauga County       50.0     3.0       6.0    1.0     1.0   \n        Baldwin County       50.0     3.0       6.0    1.0     3.0   \n        Barbour County       50.0     3.0       6.0    1.0     5.0   \n        Bibb County          50.0     3.0       6.0    1.0     7.0   \n        Blount County        50.0     3.0       6.0    1.0     9.0   \n...                           ...     ...       ...    ...     ...   \nWyoming Sweetwater County    50.0     4.0       8.0   56.0    37.0   \n        Teton County         50.0     4.0       8.0   56.0    39.0   \n        Uinta County         50.0     4.0       8.0   56.0    41.0   \n        Washakie County      50.0     4.0       8.0   56.0    43.0   \n        Weston County        50.0     4.0       8.0   56.0    45.0   \n\n                           CENSUS2010POP  ESTIMATESBASE2010  POPESTIMATE2010  \\\nSTNAME  CTYNAME                                                                \nAlabama Autauga County           54571.0            54571.0          54660.0   \n        Baldwin County          182265.0           182265.0         183193.0   \n        Barbour County           27457.0            27457.0          27341.0   \n        Bibb County              22915.0            22919.0          22861.0   \n        Blount County            57322.0            57322.0          57373.0   \n...                                  ...                ...              ...   \nWyoming Sweetwater County        43806.0            43806.0          43593.0   \n        Teton County             21294.0            21294.0          21297.0   \n        Uinta County             21118.0            21118.0          21102.0   \n        Washakie County           8533.0             8533.0           8545.0   \n        Weston County             7208.0             7208.0           7181.0   \n\n                           POPESTIMATE2011  POPESTIMATE2012  ...  \\\nSTNAME  CTYNAME                                              ...   \nAlabama Autauga County             55253.0          55175.0  ...   \n        Baldwin County            186659.0         190396.0  ...   \n        Barbour County             27226.0          27159.0  ...   \n        Bibb County                22733.0          22642.0  ...   \n        Blount County              57711.0          57776.0  ...   \n...                                    ...              ...  ...   \nWyoming Sweetwater County          44041.0          45104.0  ...   \n        Teton County               21482.0          21697.0  ...   \n        Uinta County               20912.0          20989.0  ...   \n        Washakie County             8469.0           8443.0  ...   \n        Weston County               7114.0           7065.0  ...   \n\n                           RDOMESTICMIG2013  RDOMESTICMIG2014  \\\nSTNAME  CTYNAME                                                 \nAlabama Autauga County            -3.012349          2.265971   \n        Baldwin County            21.845705         19.243287   \n        Barbour County            -7.056824         -3.904217   \n        Bibb County               -6.201001         -0.177537   \n        Blount County             -1.748766         -2.062535   \n...                                     ...               ...   \nWyoming Sweetwater County         -5.339774        -14.252889   \n        Teton County              19.525929         14.143021   \n        Uinta County              -6.902954        -14.215862   \n        Washakie County           -2.013502        -17.781491   \n        Weston County             12.372583          1.533635   \n\n                           RDOMESTICMIG2015  RNETMIG2011  RNETMIG2012  \\\nSTNAME  CTYNAME                                                         \nAlabama Autauga County            -2.530799     7.606016    -2.626146   \n        Baldwin County            17.197872    15.844176    18.559627   \n        Barbour County           -10.543299    -4.874741    -2.758113   \n        Bibb County                0.177258    -5.088389    -4.363636   \n        Blount County             -1.369970     1.859511    -0.848580   \n...                                     ...          ...          ...   \nWyoming Sweetwater County        -14.248864     1.255221    16.243199   \n        Teton County              -0.564849     0.654527     2.408578   \n        Uinta County             -12.127022   -18.136812    -5.536861   \n        Washakie County            1.682288   -11.990126    -1.182592   \n        Weston County              6.935294   -12.032179    -8.040059   \n\n                           RNETMIG2013  RNETMIG2014  RNETMIG2015       max  \\\nSTNAME  CTYNAME                                                              \nAlabama Autauga County       -2.722002     2.592270    -2.187333   55347.0   \n        Baldwin County       22.727626    20.317142    18.293499  203709.0   \n        Barbour County       -7.167664    -3.978583   -10.543299   27341.0   \n        Bibb County          -5.403729     0.754533     1.107861   22861.0   \n        Blount County        -1.402476    -1.577232    -0.884411   57776.0   \n...                                ...          ...          ...       ...   \nWyoming Sweetwater County    -5.295460   -14.075283   -14.070195   45162.0   \n        Teton County         21.160658    16.308671     1.520747   23125.0   \n        Uinta County         -7.521840   -14.740608   -12.606351   21102.0   \n        Washakie County      -2.250385   -18.020168     1.441961    8545.0   \n        Weston County        12.372583     1.533635     6.935294    7234.0   \n\n                                min  \nSTNAME  CTYNAME                      \nAlabama Autauga County      54660.0  \n        Baldwin County     183193.0  \n        Barbour County      26489.0  \n        Bibb County         22512.0  \n        Blount County       57373.0  \n...                             ...  \nWyoming Sweetwater County   43593.0  \n        Teton County        21297.0  \n        Uinta County        20822.0  \n        Washakie County      8316.0  \n        Weston County        7065.0  \n\n[3142 rows x 100 columns]",
      "text/html": "<div>\n<style scoped>\n    .dataframe tbody tr th:only-of-type {\n        vertical-align: middle;\n    }\n\n    .dataframe tbody tr th {\n        vertical-align: top;\n    }\n\n    .dataframe thead th {\n        text-align: right;\n    }\n</style>\n<table border=\"1\" class=\"dataframe\">\n  <thead>\n    <tr style=\"text-align: right;\">\n      <th></th>\n      <th></th>\n      <th>SUMLEV</th>\n      <th>REGION</th>\n      <th>DIVISION</th>\n      <th>STATE</th>\n      <th>COUNTY</th>\n      <th>CENSUS2010POP</th>\n      <th>ESTIMATESBASE2010</th>\n      <th>POPESTIMATE2010</th>\n      <th>POPESTIMATE2011</th>\n      <th>POPESTIMATE2012</th>\n      <th>...</th>\n      <th>RDOMESTICMIG2013</th>\n      <th>RDOMESTICMIG2014</th>\n      <th>RDOMESTICMIG2015</th>\n      <th>RNETMIG2011</th>\n      <th>RNETMIG2012</th>\n      <th>RNETMIG2013</th>\n      <th>RNETMIG2014</th>\n      <th>RNETMIG2015</th>\n      <th>max</th>\n      <th>min</th>\n    </tr>\n    <tr>\n      <th>STNAME</th>\n      <th>CTYNAME</th>\n      <th></th>\n      <th></th>\n      <th></th>\n      <th></th>\n      <th></th>\n      <th></th>\n      <th></th>\n      <th></th>\n      <th></th>\n      <th></th>\n      <th></th>\n      <th></th>\n      <th></th>\n      <th></th>\n      <th></th>\n      <th></th>\n      <th></th>\n      <th></th>\n      <th></th>\n      <th></th>\n      <th></th>\n    </tr>\n  </thead>\n  <tbody>\n    <tr>\n      <th rowspan=\"5\" valign=\"top\">Alabama</th>\n      <th>Autauga County</th>\n      <td>50.0</td>\n      <td>3.0</td>\n      <td>6.0</td>\n      <td>1.0</td>\n      <td>1.0</td>\n      <td>54571.0</td>\n      <td>54571.0</td>\n      <td>54660.0</td>\n      <td>55253.0</td>\n      <td>55175.0</td>\n      <td>...</td>\n      <td>-3.012349</td>\n      <td>2.265971</td>\n      <td>-2.530799</td>\n      <td>7.606016</td>\n      <td>-2.626146</td>\n      <td>-2.722002</td>\n      <td>2.592270</td>\n      <td>-2.187333</td>\n      <td>55347.0</td>\n      <td>54660.0</td>\n    </tr>\n    <tr>\n      <th>Baldwin County</th>\n      <td>50.0</td>\n      <td>3.0</td>\n      <td>6.0</td>\n      <td>1.0</td>\n      <td>3.0</td>\n      <td>182265.0</td>\n      <td>182265.0</td>\n      <td>183193.0</td>\n      <td>186659.0</td>\n      <td>190396.0</td>\n      <td>...</td>\n      <td>21.845705</td>\n      <td>19.243287</td>\n      <td>17.197872</td>\n      <td>15.844176</td>\n      <td>18.559627</td>\n      <td>22.727626</td>\n      <td>20.317142</td>\n      <td>18.293499</td>\n      <td>203709.0</td>\n      <td>183193.0</td>\n    </tr>\n    <tr>\n      <th>Barbour County</th>\n      <td>50.0</td>\n      <td>3.0</td>\n      <td>6.0</td>\n      <td>1.0</td>\n      <td>5.0</td>\n      <td>27457.0</td>\n      <td>27457.0</td>\n      <td>27341.0</td>\n      <td>27226.0</td>\n      <td>27159.0</td>\n      <td>...</td>\n      <td>-7.056824</td>\n      <td>-3.904217</td>\n      <td>-10.543299</td>\n      <td>-4.874741</td>\n      <td>-2.758113</td>\n      <td>-7.167664</td>\n      <td>-3.978583</td>\n      <td>-10.543299</td>\n      <td>27341.0</td>\n      <td>26489.0</td>\n    </tr>\n    <tr>\n      <th>Bibb County</th>\n      <td>50.0</td>\n      <td>3.0</td>\n      <td>6.0</td>\n      <td>1.0</td>\n      <td>7.0</td>\n      <td>22915.0</td>\n      <td>22919.0</td>\n      <td>22861.0</td>\n      <td>22733.0</td>\n      <td>22642.0</td>\n      <td>...</td>\n      <td>-6.201001</td>\n      <td>-0.177537</td>\n      <td>0.177258</td>\n      <td>-5.088389</td>\n      <td>-4.363636</td>\n      <td>-5.403729</td>\n      <td>0.754533</td>\n      <td>1.107861</td>\n      <td>22861.0</td>\n      <td>22512.0</td>\n    </tr>\n    <tr>\n      <th>Blount County</th>\n      <td>50.0</td>\n      <td>3.0</td>\n      <td>6.0</td>\n      <td>1.0</td>\n      <td>9.0</td>\n      <td>57322.0</td>\n      <td>57322.0</td>\n      <td>57373.0</td>\n      <td>57711.0</td>\n      <td>57776.0</td>\n      <td>...</td>\n      <td>-1.748766</td>\n      <td>-2.062535</td>\n      <td>-1.369970</td>\n      <td>1.859511</td>\n      <td>-0.848580</td>\n      <td>-1.402476</td>\n      <td>-1.577232</td>\n      <td>-0.884411</td>\n      <td>57776.0</td>\n      <td>57373.0</td>\n    </tr>\n    <tr>\n      <th>...</th>\n      <th>...</th>\n      <td>...</td>\n      <td>...</td>\n      <td>...</td>\n      <td>...</td>\n      <td>...</td>\n      <td>...</td>\n      <td>...</td>\n      <td>...</td>\n      <td>...</td>\n      <td>...</td>\n      <td>...</td>\n      <td>...</td>\n      <td>...</td>\n      <td>...</td>\n      <td>...</td>\n      <td>...</td>\n      <td>...</td>\n      <td>...</td>\n      <td>...</td>\n      <td>...</td>\n      <td>...</td>\n    </tr>\n    <tr>\n      <th rowspan=\"5\" valign=\"top\">Wyoming</th>\n      <th>Sweetwater County</th>\n      <td>50.0</td>\n      <td>4.0</td>\n      <td>8.0</td>\n      <td>56.0</td>\n      <td>37.0</td>\n      <td>43806.0</td>\n      <td>43806.0</td>\n      <td>43593.0</td>\n      <td>44041.0</td>\n      <td>45104.0</td>\n      <td>...</td>\n      <td>-5.339774</td>\n      <td>-14.252889</td>\n      <td>-14.248864</td>\n      <td>1.255221</td>\n      <td>16.243199</td>\n      <td>-5.295460</td>\n      <td>-14.075283</td>\n      <td>-14.070195</td>\n      <td>45162.0</td>\n      <td>43593.0</td>\n    </tr>\n    <tr>\n      <th>Teton County</th>\n      <td>50.0</td>\n      <td>4.0</td>\n      <td>8.0</td>\n      <td>56.0</td>\n      <td>39.0</td>\n      <td>21294.0</td>\n      <td>21294.0</td>\n      <td>21297.0</td>\n      <td>21482.0</td>\n      <td>21697.0</td>\n      <td>...</td>\n      <td>19.525929</td>\n      <td>14.143021</td>\n      <td>-0.564849</td>\n      <td>0.654527</td>\n      <td>2.408578</td>\n      <td>21.160658</td>\n      <td>16.308671</td>\n      <td>1.520747</td>\n      <td>23125.0</td>\n      <td>21297.0</td>\n    </tr>\n    <tr>\n      <th>Uinta County</th>\n      <td>50.0</td>\n      <td>4.0</td>\n      <td>8.0</td>\n      <td>56.0</td>\n      <td>41.0</td>\n      <td>21118.0</td>\n      <td>21118.0</td>\n      <td>21102.0</td>\n      <td>20912.0</td>\n      <td>20989.0</td>\n      <td>...</td>\n      <td>-6.902954</td>\n      <td>-14.215862</td>\n      <td>-12.127022</td>\n      <td>-18.136812</td>\n      <td>-5.536861</td>\n      <td>-7.521840</td>\n      <td>-14.740608</td>\n      <td>-12.606351</td>\n      <td>21102.0</td>\n      <td>20822.0</td>\n    </tr>\n    <tr>\n      <th>Washakie County</th>\n      <td>50.0</td>\n      <td>4.0</td>\n      <td>8.0</td>\n      <td>56.0</td>\n      <td>43.0</td>\n      <td>8533.0</td>\n      <td>8533.0</td>\n      <td>8545.0</td>\n      <td>8469.0</td>\n      <td>8443.0</td>\n      <td>...</td>\n      <td>-2.013502</td>\n      <td>-17.781491</td>\n      <td>1.682288</td>\n      <td>-11.990126</td>\n      <td>-1.182592</td>\n      <td>-2.250385</td>\n      <td>-18.020168</td>\n      <td>1.441961</td>\n      <td>8545.0</td>\n      <td>8316.0</td>\n    </tr>\n    <tr>\n      <th>Weston County</th>\n      <td>50.0</td>\n      <td>4.0</td>\n      <td>8.0</td>\n      <td>56.0</td>\n      <td>45.0</td>\n      <td>7208.0</td>\n      <td>7208.0</td>\n      <td>7181.0</td>\n      <td>7114.0</td>\n      <td>7065.0</td>\n      <td>...</td>\n      <td>12.372583</td>\n      <td>1.533635</td>\n      <td>6.935294</td>\n      <td>-12.032179</td>\n      <td>-8.040059</td>\n      <td>12.372583</td>\n      <td>1.533635</td>\n      <td>6.935294</td>\n      <td>7234.0</td>\n      <td>7065.0</td>\n    </tr>\n  </tbody>\n</table>\n<p>3142 rows × 100 columns</p>\n</div>"
     },
     "metadata": {},
     "execution_count": 19
    }
   ],
   "source": [
    "import numpy as np\n",
    "def min_max(row):\n",
    "    data = row[['POPESTIMATE2010',\n",
    "                'POPESTIMATE2011',\n",
    "                'POPESTIMATE2012',\n",
    "                'POPESTIMATE2013',\n",
    "                'POPESTIMATE2014',\n",
    "                'POPESTIMATE2015']]\n",
    "    row['max'] = np.max(data)\n",
    "    row['min'] = np.min(data)\n",
    "    return row\n",
    "df.apply(min_max, axis=1)"
   ]
  },
  {
   "cell_type": "code",
   "execution_count": 20,
   "metadata": {},
   "outputs": [
    {
     "output_type": "execute_result",
     "data": {
      "text/plain": "STNAME   CTYNAME          \nAlabama  Autauga County        55347.0\n         Baldwin County       203709.0\n         Barbour County        27341.0\n         Bibb County           22861.0\n         Blount County         57776.0\n                                ...   \nWyoming  Sweetwater County     45162.0\n         Teton County          23125.0\n         Uinta County          21102.0\n         Washakie County        8545.0\n         Weston County          7234.0\nLength: 3142, dtype: float64"
     },
     "metadata": {},
     "execution_count": 20
    }
   ],
   "source": [
    "rows = ['POPESTIMATE2010',\n",
    "        'POPESTIMATE2011',\n",
    "        'POPESTIMATE2012',\n",
    "        'POPESTIMATE2013',\n",
    "        'POPESTIMATE2014',\n",
    "        'POPESTIMATE2015']\n",
    "df.apply(lambda x: np.max(x[rows]), axis=1)"
   ]
  },
  {
   "cell_type": "markdown",
   "metadata": {},
   "source": [
    "# Group by"
   ]
  },
  {
   "cell_type": "code",
   "execution_count": 3,
   "metadata": {},
   "outputs": [
    {
     "output_type": "execute_result",
     "data": {
      "text/plain": "      SUMLEV  REGION  DIVISION  STATE  COUNTY   STNAME            CTYNAME  \\\n1         50       3         6      1       1  Alabama     Autauga County   \n2         50       3         6      1       3  Alabama     Baldwin County   \n3         50       3         6      1       5  Alabama     Barbour County   \n4         50       3         6      1       7  Alabama        Bibb County   \n5         50       3         6      1       9  Alabama      Blount County   \n...      ...     ...       ...    ...     ...      ...                ...   \n3188      50       4         8     56      37  Wyoming  Sweetwater County   \n3189      50       4         8     56      39  Wyoming       Teton County   \n3190      50       4         8     56      41  Wyoming       Uinta County   \n3191      50       4         8     56      43  Wyoming    Washakie County   \n3192      50       4         8     56      45  Wyoming      Weston County   \n\n      CENSUS2010POP  ESTIMATESBASE2010  POPESTIMATE2010  ...  \\\n1             54571              54571            54660  ...   \n2            182265             182265           183193  ...   \n3             27457              27457            27341  ...   \n4             22915              22919            22861  ...   \n5             57322              57322            57373  ...   \n...             ...                ...              ...  ...   \n3188          43806              43806            43593  ...   \n3189          21294              21294            21297  ...   \n3190          21118              21118            21102  ...   \n3191           8533               8533             8545  ...   \n3192           7208               7208             7181  ...   \n\n      RDOMESTICMIG2011  RDOMESTICMIG2012  RDOMESTICMIG2013  RDOMESTICMIG2014  \\\n1             7.242091         -2.915927         -3.012349          2.265971   \n2            14.832960         17.647293         21.845705         19.243287   \n3            -4.728132         -2.500690         -7.056824         -3.904217   \n4            -5.527043         -5.068871         -6.201001         -0.177537   \n5             1.807375         -1.177622         -1.748766         -2.062535   \n...                ...               ...               ...               ...   \n3188          1.072643         16.243199         -5.339774        -14.252889   \n3189         -1.589565          0.972695         19.525929         14.143021   \n3190        -17.755986         -4.916350         -6.902954        -14.215862   \n3191        -11.637475         -0.827815         -2.013502        -17.781491   \n3192        -11.752361         -8.040059         12.372583          1.533635   \n\n      RDOMESTICMIG2015  RNETMIG2011  RNETMIG2012  RNETMIG2013  RNETMIG2014  \\\n1            -2.530799     7.606016    -2.626146    -2.722002     2.592270   \n2            17.197872    15.844176    18.559627    22.727626    20.317142   \n3           -10.543299    -4.874741    -2.758113    -7.167664    -3.978583   \n4             0.177258    -5.088389    -4.363636    -5.403729     0.754533   \n5            -1.369970     1.859511    -0.848580    -1.402476    -1.577232   \n...                ...          ...          ...          ...          ...   \n3188        -14.248864     1.255221    16.243199    -5.295460   -14.075283   \n3189         -0.564849     0.654527     2.408578    21.160658    16.308671   \n3190        -12.127022   -18.136812    -5.536861    -7.521840   -14.740608   \n3191          1.682288   -11.990126    -1.182592    -2.250385   -18.020168   \n3192          6.935294   -12.032179    -8.040059    12.372583     1.533635   \n\n      RNETMIG2015  \n1       -2.187333  \n2       18.293499  \n3      -10.543299  \n4        1.107861  \n5       -0.884411  \n...           ...  \n3188   -14.070195  \n3189     1.520747  \n3190   -12.606351  \n3191     1.441961  \n3192     6.935294  \n\n[3142 rows x 100 columns]",
      "text/html": "<div>\n<style scoped>\n    .dataframe tbody tr th:only-of-type {\n        vertical-align: middle;\n    }\n\n    .dataframe tbody tr th {\n        vertical-align: top;\n    }\n\n    .dataframe thead th {\n        text-align: right;\n    }\n</style>\n<table border=\"1\" class=\"dataframe\">\n  <thead>\n    <tr style=\"text-align: right;\">\n      <th></th>\n      <th>SUMLEV</th>\n      <th>REGION</th>\n      <th>DIVISION</th>\n      <th>STATE</th>\n      <th>COUNTY</th>\n      <th>STNAME</th>\n      <th>CTYNAME</th>\n      <th>CENSUS2010POP</th>\n      <th>ESTIMATESBASE2010</th>\n      <th>POPESTIMATE2010</th>\n      <th>...</th>\n      <th>RDOMESTICMIG2011</th>\n      <th>RDOMESTICMIG2012</th>\n      <th>RDOMESTICMIG2013</th>\n      <th>RDOMESTICMIG2014</th>\n      <th>RDOMESTICMIG2015</th>\n      <th>RNETMIG2011</th>\n      <th>RNETMIG2012</th>\n      <th>RNETMIG2013</th>\n      <th>RNETMIG2014</th>\n      <th>RNETMIG2015</th>\n    </tr>\n  </thead>\n  <tbody>\n    <tr>\n      <th>1</th>\n      <td>50</td>\n      <td>3</td>\n      <td>6</td>\n      <td>1</td>\n      <td>1</td>\n      <td>Alabama</td>\n      <td>Autauga County</td>\n      <td>54571</td>\n      <td>54571</td>\n      <td>54660</td>\n      <td>...</td>\n      <td>7.242091</td>\n      <td>-2.915927</td>\n      <td>-3.012349</td>\n      <td>2.265971</td>\n      <td>-2.530799</td>\n      <td>7.606016</td>\n      <td>-2.626146</td>\n      <td>-2.722002</td>\n      <td>2.592270</td>\n      <td>-2.187333</td>\n    </tr>\n    <tr>\n      <th>2</th>\n      <td>50</td>\n      <td>3</td>\n      <td>6</td>\n      <td>1</td>\n      <td>3</td>\n      <td>Alabama</td>\n      <td>Baldwin County</td>\n      <td>182265</td>\n      <td>182265</td>\n      <td>183193</td>\n      <td>...</td>\n      <td>14.832960</td>\n      <td>17.647293</td>\n      <td>21.845705</td>\n      <td>19.243287</td>\n      <td>17.197872</td>\n      <td>15.844176</td>\n      <td>18.559627</td>\n      <td>22.727626</td>\n      <td>20.317142</td>\n      <td>18.293499</td>\n    </tr>\n    <tr>\n      <th>3</th>\n      <td>50</td>\n      <td>3</td>\n      <td>6</td>\n      <td>1</td>\n      <td>5</td>\n      <td>Alabama</td>\n      <td>Barbour County</td>\n      <td>27457</td>\n      <td>27457</td>\n      <td>27341</td>\n      <td>...</td>\n      <td>-4.728132</td>\n      <td>-2.500690</td>\n      <td>-7.056824</td>\n      <td>-3.904217</td>\n      <td>-10.543299</td>\n      <td>-4.874741</td>\n      <td>-2.758113</td>\n      <td>-7.167664</td>\n      <td>-3.978583</td>\n      <td>-10.543299</td>\n    </tr>\n    <tr>\n      <th>4</th>\n      <td>50</td>\n      <td>3</td>\n      <td>6</td>\n      <td>1</td>\n      <td>7</td>\n      <td>Alabama</td>\n      <td>Bibb County</td>\n      <td>22915</td>\n      <td>22919</td>\n      <td>22861</td>\n      <td>...</td>\n      <td>-5.527043</td>\n      <td>-5.068871</td>\n      <td>-6.201001</td>\n      <td>-0.177537</td>\n      <td>0.177258</td>\n      <td>-5.088389</td>\n      <td>-4.363636</td>\n      <td>-5.403729</td>\n      <td>0.754533</td>\n      <td>1.107861</td>\n    </tr>\n    <tr>\n      <th>5</th>\n      <td>50</td>\n      <td>3</td>\n      <td>6</td>\n      <td>1</td>\n      <td>9</td>\n      <td>Alabama</td>\n      <td>Blount County</td>\n      <td>57322</td>\n      <td>57322</td>\n      <td>57373</td>\n      <td>...</td>\n      <td>1.807375</td>\n      <td>-1.177622</td>\n      <td>-1.748766</td>\n      <td>-2.062535</td>\n      <td>-1.369970</td>\n      <td>1.859511</td>\n      <td>-0.848580</td>\n      <td>-1.402476</td>\n      <td>-1.577232</td>\n      <td>-0.884411</td>\n    </tr>\n    <tr>\n      <th>...</th>\n      <td>...</td>\n      <td>...</td>\n      <td>...</td>\n      <td>...</td>\n      <td>...</td>\n      <td>...</td>\n      <td>...</td>\n      <td>...</td>\n      <td>...</td>\n      <td>...</td>\n      <td>...</td>\n      <td>...</td>\n      <td>...</td>\n      <td>...</td>\n      <td>...</td>\n      <td>...</td>\n      <td>...</td>\n      <td>...</td>\n      <td>...</td>\n      <td>...</td>\n      <td>...</td>\n    </tr>\n    <tr>\n      <th>3188</th>\n      <td>50</td>\n      <td>4</td>\n      <td>8</td>\n      <td>56</td>\n      <td>37</td>\n      <td>Wyoming</td>\n      <td>Sweetwater County</td>\n      <td>43806</td>\n      <td>43806</td>\n      <td>43593</td>\n      <td>...</td>\n      <td>1.072643</td>\n      <td>16.243199</td>\n      <td>-5.339774</td>\n      <td>-14.252889</td>\n      <td>-14.248864</td>\n      <td>1.255221</td>\n      <td>16.243199</td>\n      <td>-5.295460</td>\n      <td>-14.075283</td>\n      <td>-14.070195</td>\n    </tr>\n    <tr>\n      <th>3189</th>\n      <td>50</td>\n      <td>4</td>\n      <td>8</td>\n      <td>56</td>\n      <td>39</td>\n      <td>Wyoming</td>\n      <td>Teton County</td>\n      <td>21294</td>\n      <td>21294</td>\n      <td>21297</td>\n      <td>...</td>\n      <td>-1.589565</td>\n      <td>0.972695</td>\n      <td>19.525929</td>\n      <td>14.143021</td>\n      <td>-0.564849</td>\n      <td>0.654527</td>\n      <td>2.408578</td>\n      <td>21.160658</td>\n      <td>16.308671</td>\n      <td>1.520747</td>\n    </tr>\n    <tr>\n      <th>3190</th>\n      <td>50</td>\n      <td>4</td>\n      <td>8</td>\n      <td>56</td>\n      <td>41</td>\n      <td>Wyoming</td>\n      <td>Uinta County</td>\n      <td>21118</td>\n      <td>21118</td>\n      <td>21102</td>\n      <td>...</td>\n      <td>-17.755986</td>\n      <td>-4.916350</td>\n      <td>-6.902954</td>\n      <td>-14.215862</td>\n      <td>-12.127022</td>\n      <td>-18.136812</td>\n      <td>-5.536861</td>\n      <td>-7.521840</td>\n      <td>-14.740608</td>\n      <td>-12.606351</td>\n    </tr>\n    <tr>\n      <th>3191</th>\n      <td>50</td>\n      <td>4</td>\n      <td>8</td>\n      <td>56</td>\n      <td>43</td>\n      <td>Wyoming</td>\n      <td>Washakie County</td>\n      <td>8533</td>\n      <td>8533</td>\n      <td>8545</td>\n      <td>...</td>\n      <td>-11.637475</td>\n      <td>-0.827815</td>\n      <td>-2.013502</td>\n      <td>-17.781491</td>\n      <td>1.682288</td>\n      <td>-11.990126</td>\n      <td>-1.182592</td>\n      <td>-2.250385</td>\n      <td>-18.020168</td>\n      <td>1.441961</td>\n    </tr>\n    <tr>\n      <th>3192</th>\n      <td>50</td>\n      <td>4</td>\n      <td>8</td>\n      <td>56</td>\n      <td>45</td>\n      <td>Wyoming</td>\n      <td>Weston County</td>\n      <td>7208</td>\n      <td>7208</td>\n      <td>7181</td>\n      <td>...</td>\n      <td>-11.752361</td>\n      <td>-8.040059</td>\n      <td>12.372583</td>\n      <td>1.533635</td>\n      <td>6.935294</td>\n      <td>-12.032179</td>\n      <td>-8.040059</td>\n      <td>12.372583</td>\n      <td>1.533635</td>\n      <td>6.935294</td>\n    </tr>\n  </tbody>\n</table>\n<p>3142 rows × 100 columns</p>\n</div>"
     },
     "metadata": {},
     "execution_count": 3
    }
   ],
   "source": [
    "import pandas as pd\n",
    "import numpy as np\n",
    "df = pd.read_csv('census.csv')\n",
    "df = df[df['SUMLEV']==50]\n",
    "df"
   ]
  },
  {
   "cell_type": "code",
   "execution_count": 22,
   "metadata": {
    "tags": [
     "outputPrepend"
    ]
   },
   "outputs": [
    {
     "output_type": "stream",
     "name": "stdout",
     "text": "155\nCounties in state Oregon have an average population of 106418.72222222222\nCounties in state Pennsylvania have an average population of 189587.74626865672\nCounties in state Rhode Island have an average population of 210513.4\nCounties in state South Carolina have an average population of 100551.39130434782\nCounties in state South Dakota have an average population of 12336.060606060606\nCounties in state Tennessee have an average population of 66801.1052631579\nCounties in state Texas have an average population of 98998.27165354331\nCounties in state Utah have an average population of 95306.37931034483\nCounties in state Vermont have an average population of 44695.78571428572\nCounties in state Virginia have an average population of 60111.29323308271\nCounties in state Washington have an average population of 172424.10256410256\nCounties in state West Virginia have an average population of 33690.8\nCounties in state Wisconsin have an average population of 78985.91666666667\nCounties in state Wyoming have an average population of 24505.478260869564\nCounties in state Alabama have an average population of 71339.34328358209\nCounties in state Alaska have an average population of 24490.724137931036\nCounties in state Arizona have an average population of 426134.4666666667\nCounties in state Arkansas have an average population of 38878.90666666667\nCounties in state California have an average population of 642309.5862068966\nCounties in state Colorado have an average population of 78581.1875\nCounties in state Connecticut have an average population of 446762.125\nCounties in state Delaware have an average population of 299311.3333333333\nCounties in state District of Columbia have an average population of 601723.0\nCounties in state Florida have an average population of 280616.5671641791\nCounties in state Georgia have an average population of 60928.63522012578\nCounties in state Hawaii have an average population of 272060.2\nCounties in state Idaho have an average population of 35626.86363636364\nCounties in state Illinois have an average population of 125790.50980392157\nCounties in state Indiana have an average population of 70476.10869565218\nCounties in state Iowa have an average population of 30771.262626262625\nCounties in state Kansas have an average population of 27172.55238095238\nCounties in state Kentucky have an average population of 36161.39166666667\nCounties in state Louisiana have an average population of 70833.9375\nCounties in state Maine have an average population of 83022.5625\nCounties in state Maryland have an average population of 240564.66666666666\nCounties in state Massachusetts have an average population of 467687.78571428574\nCounties in state Michigan have an average population of 119080.0\nCounties in state Minnesota have an average population of 60964.65517241379\nCounties in state Mississippi have an average population of 36186.54878048781\nCounties in state Missouri have an average population of 52077.62608695652\nCounties in state Montana have an average population of 17668.125\nCounties in state Nebraska have an average population of 19638.075268817203\nCounties in state Nevada have an average population of 158855.9411764706\nCounties in state New Hampshire have an average population of 131647.0\nCounties in state New Jersey have an average population of 418661.61904761905\nCounties in state New Mexico have an average population of 62399.36363636364\nCounties in state New York have an average population of 312550.03225806454\nCounties in state North Carolina have an average population of 95354.83\nCounties in state North Dakota have an average population of 12690.396226415094\nCounties in state Ohio have an average population of 131096.63636363635\nCounties in state Oklahoma have an average population of 48718.844155844155\nCounties in state Oregon have an average population of 106418.72222222222\nCounties in state Pennsylvania have an average population of 189587.74626865672\nCounties in state Rhode Island have an average population of 210513.4\nCounties in state South Carolina have an average population of 100551.39130434782\nCounties in state South Dakota have an average population of 12336.060606060606\nCounties in state Tennessee have an average population of 66801.1052631579\nCounties in state Texas have an average population of 98998.27165354331\nCounties in state Utah have an average population of 95306.37931034483\nCounties in state Vermont have an average population of 44695.78571428572\nCounties in state Virginia have an average population of 60111.29323308271\nCounties in state Washington have an average population of 172424.10256410256\nCounties in state West Virginia have an average population of 33690.8\nCounties in state Wisconsin have an average population of 78985.91666666667\nCounties in state Wyoming have an average population of 24505.478260869564\nCounties in state Alabama have an average population of 71339.34328358209\nCounties in state Alaska have an average population of 24490.724137931036\nCounties in state Arizona have an average population of 426134.4666666667\nCounties in state Arkansas have an average population of 38878.90666666667\nCounties in state California have an average population of 642309.5862068966\nCounties in state Colorado have an average population of 78581.1875\nCounties in state Connecticut have an average population of 446762.125\nCounties in state Delaware have an average population of 299311.3333333333\nCounties in state District of Columbia have an average population of 601723.0\nCounties in state Florida have an average population of 280616.5671641791\nCounties in state Georgia have an average population of 60928.63522012578\nCounties in state Hawaii have an average population of 272060.2\nCounties in state Idaho have an average population of 35626.86363636364\nCounties in state Illinois have an average population of 125790.50980392157\nCounties in state Indiana have an average population of 70476.10869565218\nCounties in state Iowa have an average population of 30771.262626262625\nCounties in state Kansas have an average population of 27172.55238095238\nCounties in state Kentucky have an average population of 36161.39166666667\nCounties in state Louisiana have an average population of 70833.9375\nCounties in state Maine have an average population of 83022.5625\nCounties in state Maryland have an average population of 240564.66666666666\nCounties in state Massachusetts have an average population of 467687.78571428574\nCounties in state Michigan have an average population of 119080.0\nCounties in state Minnesota have an average population of 60964.65517241379\nCounties in state Mississippi have an average population of 36186.54878048781\nCounties in state Missouri have an average population of 52077.62608695652\nCounties in state Montana have an average population of 17668.125\nCounties in state Nebraska have an average population of 19638.075268817203\nCounties in state Nevada have an average population of 158855.9411764706\nCounties in state New Hampshire have an average population of 131647.0\nCounties in state New Jersey have an average population of 418661.61904761905\nCounties in state New Mexico have an average population of 62399.36363636364\nCounties in state New York have an average population of 312550.03225806454\nCounties in state North Carolina have an average population of 95354.83\nCounties in state North Dakota have an average population of 12690.396226415094\nCounties in state Ohio have an average population of 131096.63636363635\nCounties in state Oklahoma have an average population of 48718.844155844155\nCounties in state Oregon have an average population of 106418.72222222222\nCounties in state Pennsylvania have an average population of 189587.74626865672\nCounties in state Rhode Island have an average population of 210513.4\nCounties in state South Carolina have an average population of 100551.39130434782\nCounties in state South Dakota have an average population of 12336.060606060606\nCounties in state Tennessee have an average population of 66801.1052631579\nCounties in state Texas have an average population of 98998.27165354331\nCounties in state Utah have an average population of 95306.37931034483\nCounties in state Vermont have an average population of 44695.78571428572\nCounties in state Virginia have an average population of 60111.29323308271\nCounties in state Washington have an average population of 172424.10256410256\nCounties in state West Virginia have an average population of 33690.8\nCounties in state Wisconsin have an average population of 78985.91666666667\nCounties in state Wyoming have an average population of 24505.478260869564\nCounties in state Alabama have an average population of 71339.34328358209\nCounties in state Alaska have an average population of 24490.724137931036\nCounties in state Arizona have an average population of 426134.4666666667\nCounties in state Arkansas have an average population of 38878.90666666667\nCounties in state California have an average population of 642309.5862068966\nCounties in state Colorado have an average population of 78581.1875\nCounties in state Connecticut have an average population of 446762.125\nCounties in state Delaware have an average population of 299311.3333333333\nCounties in state District of Columbia have an average population of 601723.0\nCounties in state Florida have an average population of 280616.5671641791\nCounties in state Georgia have an average population of 60928.63522012578\nCounties in state Hawaii have an average population of 272060.2\nCounties in state Idaho have an average population of 35626.86363636364\nCounties in state Illinois have an average population of 125790.50980392157\nCounties in state Indiana have an average population of 70476.10869565218\nCounties in state Iowa have an average population of 30771.262626262625\nCounties in state Kansas have an average population of 27172.55238095238\nCounties in state Kentucky have an average population of 36161.39166666667\nCounties in state Louisiana have an average population of 70833.9375\nCounties in state Maine have an average population of 83022.5625\nCounties in state Maryland have an average population of 240564.66666666666\nCounties in state Massachusetts have an average population of 467687.78571428574\nCounties in state Michigan have an average population of 119080.0\nCounties in state Minnesota have an average population of 60964.65517241379\nCounties in state Mississippi have an average population of 36186.54878048781\nCounties in state Missouri have an average population of 52077.62608695652\nCounties in state Montana have an average population of 17668.125\nCounties in state Nebraska have an average population of 19638.075268817203\nCounties in state Nevada have an average population of 158855.9411764706\nCounties in state New Hampshire have an average population of 131647.0\nCounties in state New Jersey have an average population of 418661.61904761905\nCounties in state New Mexico have an average population of 62399.36363636364\nCounties in state New York have an average population of 312550.03225806454\nCounties in state North Carolina have an average population of 95354.83\nCounties in state North Dakota have an average population of 12690.396226415094\nCounties in state Ohio have an average population of 131096.63636363635\nCounties in state Oklahoma have an average population of 48718.844155844155\nCounties in state Oregon have an average population of 106418.72222222222\nCounties in state Pennsylvania have an average population of 189587.74626865672\nCounties in state Rhode Island have an average population of 210513.4\nCounties in state South Carolina have an average population of 100551.39130434782\nCounties in state South Dakota have an average population of 12336.060606060606\nCounties in state Tennessee have an average population of 66801.1052631579\nCounties in state Texas have an average population of 98998.27165354331\nCounties in state Utah have an average population of 95306.37931034483\nCounties in state Vermont have an average population of 44695.78571428572\nCounties in state Virginia have an average population of 60111.29323308271\nCounties in state Washington have an average population of 172424.10256410256\nCounties in state West Virginia have an average population of 33690.8\nCounties in state Wisconsin have an average population of 78985.91666666667\nCounties in state Wyoming have an average population of 24505.478260869564\nCounties in state Alabama have an average population of 71339.34328358209\nCounties in state Alaska have an average population of 24490.724137931036\nCounties in state Arizona have an average population of 426134.4666666667\nCounties in state Arkansas have an average population of 38878.90666666667\nCounties in state California have an average population of 642309.5862068966\nCounties in state Colorado have an average population of 78581.1875\nCounties in state Connecticut have an average population of 446762.125\nCounties in state Delaware have an average population of 299311.3333333333\nCounties in state District of Columbia have an average population of 601723.0\nCounties in state Florida have an average population of 280616.5671641791\nCounties in state Georgia have an average population of 60928.63522012578\nCounties in state Hawaii have an average population of 272060.2\nCounties in state Idaho have an average population of 35626.86363636364\nCounties in state Illinois have an average population of 125790.50980392157\nCounties in state Indiana have an average population of 70476.10869565218\nCounties in state Iowa have an average population of 30771.262626262625\nCounties in state Kansas have an average population of 27172.55238095238\nCounties in state Kentucky have an average population of 36161.39166666667\nCounties in state Louisiana have an average population of 70833.9375\nCounties in state Maine have an average population of 83022.5625\nCounties in state Maryland have an average population of 240564.66666666666\nCounties in state Massachusetts have an average population of 467687.78571428574\nCounties in state Michigan have an average population of 119080.0\nCounties in state Minnesota have an average population of 60964.65517241379\nCounties in state Mississippi have an average population of 36186.54878048781\nCounties in state Missouri have an average population of 52077.62608695652\nCounties in state Montana have an average population of 17668.125\nCounties in state Nebraska have an average population of 19638.075268817203\nCounties in state Nevada have an average population of 158855.9411764706\nCounties in state New Hampshire have an average population of 131647.0\nCounties in state New Jersey have an average population of 418661.61904761905\nCounties in state New Mexico have an average population of 62399.36363636364\nCounties in state New York have an average population of 312550.03225806454\nCounties in state North Carolina have an average population of 95354.83\nCounties in state North Dakota have an average population of 12690.396226415094\nCounties in state Ohio have an average population of 131096.63636363635\nCounties in state Oklahoma have an average population of 48718.844155844155\nCounties in state Oregon have an average population of 106418.72222222222\nCounties in state Pennsylvania have an average population of 189587.74626865672\nCounties in state Rhode Island have an average population of 210513.4\nCounties in state South Carolina have an average population of 100551.39130434782\nCounties in state South Dakota have an average population of 12336.060606060606\nCounties in state Tennessee have an average population of 66801.1052631579\nCounties in state Texas have an average population of 98998.27165354331\nCounties in state Utah have an average population of 95306.37931034483\nCounties in state Vermont have an average population of 44695.78571428572\nCounties in state Virginia have an average population of 60111.29323308271\nCounties in state Washington have an average population of 172424.10256410256\nCounties in state West Virginia have an average population of 33690.8\nCounties in state Wisconsin have an average population of 78985.91666666667\nCounties in state Wyoming have an average population of 24505.478260869564\nCounties in state Alabama have an average population of 71339.34328358209\nCounties in state Alaska have an average population of 24490.724137931036\nCounties in state Arizona have an average population of 426134.4666666667\nCounties in state Arkansas have an average population of 38878.90666666667\nCounties in state California have an average population of 642309.5862068966\nCounties in state Colorado have an average population of 78581.1875\nCounties in state Connecticut have an average population of 446762.125\nCounties in state Delaware have an average population of 299311.3333333333\nCounties in state District of Columbia have an average population of 601723.0\nCounties in state Florida have an average population of 280616.5671641791\nCounties in state Georgia have an average population of 60928.63522012578\nCounties in state Hawaii have an average population of 272060.2\nCounties in state Idaho have an average population of 35626.86363636364\nCounties in state Illinois have an average population of 125790.50980392157\nCounties in state Indiana have an average population of 70476.10869565218\nCounties in state Iowa have an average population of 30771.262626262625\nCounties in state Kansas have an average population of 27172.55238095238\nCounties in state Kentucky have an average population of 36161.39166666667\nCounties in state Louisiana have an average population of 70833.9375\nCounties in state Maine have an average population of 83022.5625\nCounties in state Maryland have an average population of 240564.66666666666\nCounties in state Massachusetts have an average population of 467687.78571428574\nCounties in state Michigan have an average population of 119080.0\nCounties in state Minnesota have an average population of 60964.65517241379\nCounties in state Mississippi have an average population of 36186.54878048781\nCounties in state Missouri have an average population of 52077.62608695652\nCounties in state Montana have an average population of 17668.125\nCounties in state Nebraska have an average population of 19638.075268817203\nCounties in state Nevada have an average population of 158855.9411764706\nCounties in state New Hampshire have an average population of 131647.0\nCounties in state New Jersey have an average population of 418661.61904761905\nCounties in state New Mexico have an average population of 62399.36363636364\nCounties in state New York have an average population of 312550.03225806454\nCounties in state North Carolina have an average population of 95354.83\nCounties in state North Dakota have an average population of 12690.396226415094\nCounties in state Ohio have an average population of 131096.63636363635\nCounties in state Oklahoma have an average population of 48718.844155844155\nCounties in state Oregon have an average population of 106418.72222222222\nCounties in state Pennsylvania have an average population of 189587.74626865672\nCounties in state Rhode Island have an average population of 210513.4\nCounties in state South Carolina have an average population of 100551.39130434782\nCounties in state South Dakota have an average population of 12336.060606060606\nCounties in state Tennessee have an average population of 66801.1052631579\nCounties in state Texas have an average population of 98998.27165354331\nCounties in state Utah have an average population of 95306.37931034483\nCounties in state Vermont have an average population of 44695.78571428572\nCounties in state Virginia have an average population of 60111.29323308271\nCounties in state Washington have an average population of 172424.10256410256\nCounties in state West Virginia have an average population of 33690.8\nCounties in state Wisconsin have an average population of 78985.91666666667\nCounties in state Wyoming have an average population of 24505.478260869564\n5.67 s ± 336 ms per loop (mean ± std. dev. of 7 runs, 10 loops each)\n"
    }
   ],
   "source": [
    "%%timeit -n 10\n",
    "for state in df['STNAME'].unique():\n",
    "    avg = np.average(df.where(df['STNAME']==state).dropna()['CENSUS2010POP'])\n",
    "    print('Counties in state ' + state + ' have an average population of ' + str(avg))"
   ]
  },
  {
   "cell_type": "code",
   "execution_count": 23,
   "metadata": {
    "scrolled": true,
    "tags": [
     "outputPrepend"
    ]
   },
   "outputs": [
    {
     "output_type": "stream",
     "name": "stdout",
     "text": "5\nCounties in state Oregon have an average population of 106418.72222222222\nCounties in state Pennsylvania have an average population of 189587.74626865672\nCounties in state Rhode Island have an average population of 210513.4\nCounties in state South Carolina have an average population of 100551.39130434782\nCounties in state South Dakota have an average population of 12336.060606060606\nCounties in state Tennessee have an average population of 66801.1052631579\nCounties in state Texas have an average population of 98998.27165354331\nCounties in state Utah have an average population of 95306.37931034483\nCounties in state Vermont have an average population of 44695.78571428572\nCounties in state Virginia have an average population of 60111.29323308271\nCounties in state Washington have an average population of 172424.10256410256\nCounties in state West Virginia have an average population of 33690.8\nCounties in state Wisconsin have an average population of 78985.91666666667\nCounties in state Wyoming have an average population of 24505.478260869564\nCounties in state Alabama have an average population of 71339.34328358209\nCounties in state Alaska have an average population of 24490.724137931036\nCounties in state Arizona have an average population of 426134.4666666667\nCounties in state Arkansas have an average population of 38878.90666666667\nCounties in state California have an average population of 642309.5862068966\nCounties in state Colorado have an average population of 78581.1875\nCounties in state Connecticut have an average population of 446762.125\nCounties in state Delaware have an average population of 299311.3333333333\nCounties in state District of Columbia have an average population of 601723.0\nCounties in state Florida have an average population of 280616.5671641791\nCounties in state Georgia have an average population of 60928.63522012578\nCounties in state Hawaii have an average population of 272060.2\nCounties in state Idaho have an average population of 35626.86363636364\nCounties in state Illinois have an average population of 125790.50980392157\nCounties in state Indiana have an average population of 70476.10869565218\nCounties in state Iowa have an average population of 30771.262626262625\nCounties in state Kansas have an average population of 27172.55238095238\nCounties in state Kentucky have an average population of 36161.39166666667\nCounties in state Louisiana have an average population of 70833.9375\nCounties in state Maine have an average population of 83022.5625\nCounties in state Maryland have an average population of 240564.66666666666\nCounties in state Massachusetts have an average population of 467687.78571428574\nCounties in state Michigan have an average population of 119080.0\nCounties in state Minnesota have an average population of 60964.65517241379\nCounties in state Mississippi have an average population of 36186.54878048781\nCounties in state Missouri have an average population of 52077.62608695652\nCounties in state Montana have an average population of 17668.125\nCounties in state Nebraska have an average population of 19638.075268817203\nCounties in state Nevada have an average population of 158855.9411764706\nCounties in state New Hampshire have an average population of 131647.0\nCounties in state New Jersey have an average population of 418661.61904761905\nCounties in state New Mexico have an average population of 62399.36363636364\nCounties in state New York have an average population of 312550.03225806454\nCounties in state North Carolina have an average population of 95354.83\nCounties in state North Dakota have an average population of 12690.396226415094\nCounties in state Ohio have an average population of 131096.63636363635\nCounties in state Oklahoma have an average population of 48718.844155844155\nCounties in state Oregon have an average population of 106418.72222222222\nCounties in state Pennsylvania have an average population of 189587.74626865672\nCounties in state Rhode Island have an average population of 210513.4\nCounties in state South Carolina have an average population of 100551.39130434782\nCounties in state South Dakota have an average population of 12336.060606060606\nCounties in state Tennessee have an average population of 66801.1052631579\nCounties in state Texas have an average population of 98998.27165354331\nCounties in state Utah have an average population of 95306.37931034483\nCounties in state Vermont have an average population of 44695.78571428572\nCounties in state Virginia have an average population of 60111.29323308271\nCounties in state Washington have an average population of 172424.10256410256\nCounties in state West Virginia have an average population of 33690.8\nCounties in state Wisconsin have an average population of 78985.91666666667\nCounties in state Wyoming have an average population of 24505.478260869564\nCounties in state Alabama have an average population of 71339.34328358209\nCounties in state Alaska have an average population of 24490.724137931036\nCounties in state Arizona have an average population of 426134.4666666667\nCounties in state Arkansas have an average population of 38878.90666666667\nCounties in state California have an average population of 642309.5862068966\nCounties in state Colorado have an average population of 78581.1875\nCounties in state Connecticut have an average population of 446762.125\nCounties in state Delaware have an average population of 299311.3333333333\nCounties in state District of Columbia have an average population of 601723.0\nCounties in state Florida have an average population of 280616.5671641791\nCounties in state Georgia have an average population of 60928.63522012578\nCounties in state Hawaii have an average population of 272060.2\nCounties in state Idaho have an average population of 35626.86363636364\nCounties in state Illinois have an average population of 125790.50980392157\nCounties in state Indiana have an average population of 70476.10869565218\nCounties in state Iowa have an average population of 30771.262626262625\nCounties in state Kansas have an average population of 27172.55238095238\nCounties in state Kentucky have an average population of 36161.39166666667\nCounties in state Louisiana have an average population of 70833.9375\nCounties in state Maine have an average population of 83022.5625\nCounties in state Maryland have an average population of 240564.66666666666\nCounties in state Massachusetts have an average population of 467687.78571428574\nCounties in state Michigan have an average population of 119080.0\nCounties in state Minnesota have an average population of 60964.65517241379\nCounties in state Mississippi have an average population of 36186.54878048781\nCounties in state Missouri have an average population of 52077.62608695652\nCounties in state Montana have an average population of 17668.125\nCounties in state Nebraska have an average population of 19638.075268817203\nCounties in state Nevada have an average population of 158855.9411764706\nCounties in state New Hampshire have an average population of 131647.0\nCounties in state New Jersey have an average population of 418661.61904761905\nCounties in state New Mexico have an average population of 62399.36363636364\nCounties in state New York have an average population of 312550.03225806454\nCounties in state North Carolina have an average population of 95354.83\nCounties in state North Dakota have an average population of 12690.396226415094\nCounties in state Ohio have an average population of 131096.63636363635\nCounties in state Oklahoma have an average population of 48718.844155844155\nCounties in state Oregon have an average population of 106418.72222222222\nCounties in state Pennsylvania have an average population of 189587.74626865672\nCounties in state Rhode Island have an average population of 210513.4\nCounties in state South Carolina have an average population of 100551.39130434782\nCounties in state South Dakota have an average population of 12336.060606060606\nCounties in state Tennessee have an average population of 66801.1052631579\nCounties in state Texas have an average population of 98998.27165354331\nCounties in state Utah have an average population of 95306.37931034483\nCounties in state Vermont have an average population of 44695.78571428572\nCounties in state Virginia have an average population of 60111.29323308271\nCounties in state Washington have an average population of 172424.10256410256\nCounties in state West Virginia have an average population of 33690.8\nCounties in state Wisconsin have an average population of 78985.91666666667\nCounties in state Wyoming have an average population of 24505.478260869564\nCounties in state Alabama have an average population of 71339.34328358209\nCounties in state Alaska have an average population of 24490.724137931036\nCounties in state Arizona have an average population of 426134.4666666667\nCounties in state Arkansas have an average population of 38878.90666666667\nCounties in state California have an average population of 642309.5862068966\nCounties in state Colorado have an average population of 78581.1875\nCounties in state Connecticut have an average population of 446762.125\nCounties in state Delaware have an average population of 299311.3333333333\nCounties in state District of Columbia have an average population of 601723.0\nCounties in state Florida have an average population of 280616.5671641791\nCounties in state Georgia have an average population of 60928.63522012578\nCounties in state Hawaii have an average population of 272060.2\nCounties in state Idaho have an average population of 35626.86363636364\nCounties in state Illinois have an average population of 125790.50980392157\nCounties in state Indiana have an average population of 70476.10869565218\nCounties in state Iowa have an average population of 30771.262626262625\nCounties in state Kansas have an average population of 27172.55238095238\nCounties in state Kentucky have an average population of 36161.39166666667\nCounties in state Louisiana have an average population of 70833.9375\nCounties in state Maine have an average population of 83022.5625\nCounties in state Maryland have an average population of 240564.66666666666\nCounties in state Massachusetts have an average population of 467687.78571428574\nCounties in state Michigan have an average population of 119080.0\nCounties in state Minnesota have an average population of 60964.65517241379\nCounties in state Mississippi have an average population of 36186.54878048781\nCounties in state Missouri have an average population of 52077.62608695652\nCounties in state Montana have an average population of 17668.125\nCounties in state Nebraska have an average population of 19638.075268817203\nCounties in state Nevada have an average population of 158855.9411764706\nCounties in state New Hampshire have an average population of 131647.0\nCounties in state New Jersey have an average population of 418661.61904761905\nCounties in state New Mexico have an average population of 62399.36363636364\nCounties in state New York have an average population of 312550.03225806454\nCounties in state North Carolina have an average population of 95354.83\nCounties in state North Dakota have an average population of 12690.396226415094\nCounties in state Ohio have an average population of 131096.63636363635\nCounties in state Oklahoma have an average population of 48718.844155844155\nCounties in state Oregon have an average population of 106418.72222222222\nCounties in state Pennsylvania have an average population of 189587.74626865672\nCounties in state Rhode Island have an average population of 210513.4\nCounties in state South Carolina have an average population of 100551.39130434782\nCounties in state South Dakota have an average population of 12336.060606060606\nCounties in state Tennessee have an average population of 66801.1052631579\nCounties in state Texas have an average population of 98998.27165354331\nCounties in state Utah have an average population of 95306.37931034483\nCounties in state Vermont have an average population of 44695.78571428572\nCounties in state Virginia have an average population of 60111.29323308271\nCounties in state Washington have an average population of 172424.10256410256\nCounties in state West Virginia have an average population of 33690.8\nCounties in state Wisconsin have an average population of 78985.91666666667\nCounties in state Wyoming have an average population of 24505.478260869564\nCounties in state Alabama have an average population of 71339.34328358209\nCounties in state Alaska have an average population of 24490.724137931036\nCounties in state Arizona have an average population of 426134.4666666667\nCounties in state Arkansas have an average population of 38878.90666666667\nCounties in state California have an average population of 642309.5862068966\nCounties in state Colorado have an average population of 78581.1875\nCounties in state Connecticut have an average population of 446762.125\nCounties in state Delaware have an average population of 299311.3333333333\nCounties in state District of Columbia have an average population of 601723.0\nCounties in state Florida have an average population of 280616.5671641791\nCounties in state Georgia have an average population of 60928.63522012578\nCounties in state Hawaii have an average population of 272060.2\nCounties in state Idaho have an average population of 35626.86363636364\nCounties in state Illinois have an average population of 125790.50980392157\nCounties in state Indiana have an average population of 70476.10869565218\nCounties in state Iowa have an average population of 30771.262626262625\nCounties in state Kansas have an average population of 27172.55238095238\nCounties in state Kentucky have an average population of 36161.39166666667\nCounties in state Louisiana have an average population of 70833.9375\nCounties in state Maine have an average population of 83022.5625\nCounties in state Maryland have an average population of 240564.66666666666\nCounties in state Massachusetts have an average population of 467687.78571428574\nCounties in state Michigan have an average population of 119080.0\nCounties in state Minnesota have an average population of 60964.65517241379\nCounties in state Mississippi have an average population of 36186.54878048781\nCounties in state Missouri have an average population of 52077.62608695652\nCounties in state Montana have an average population of 17668.125\nCounties in state Nebraska have an average population of 19638.075268817203\nCounties in state Nevada have an average population of 158855.9411764706\nCounties in state New Hampshire have an average population of 131647.0\nCounties in state New Jersey have an average population of 418661.61904761905\nCounties in state New Mexico have an average population of 62399.36363636364\nCounties in state New York have an average population of 312550.03225806454\nCounties in state North Carolina have an average population of 95354.83\nCounties in state North Dakota have an average population of 12690.396226415094\nCounties in state Ohio have an average population of 131096.63636363635\nCounties in state Oklahoma have an average population of 48718.844155844155\nCounties in state Oregon have an average population of 106418.72222222222\nCounties in state Pennsylvania have an average population of 189587.74626865672\nCounties in state Rhode Island have an average population of 210513.4\nCounties in state South Carolina have an average population of 100551.39130434782\nCounties in state South Dakota have an average population of 12336.060606060606\nCounties in state Tennessee have an average population of 66801.1052631579\nCounties in state Texas have an average population of 98998.27165354331\nCounties in state Utah have an average population of 95306.37931034483\nCounties in state Vermont have an average population of 44695.78571428572\nCounties in state Virginia have an average population of 60111.29323308271\nCounties in state Washington have an average population of 172424.10256410256\nCounties in state West Virginia have an average population of 33690.8\nCounties in state Wisconsin have an average population of 78985.91666666667\nCounties in state Wyoming have an average population of 24505.478260869564\nCounties in state Alabama have an average population of 71339.34328358209\nCounties in state Alaska have an average population of 24490.724137931036\nCounties in state Arizona have an average population of 426134.4666666667\nCounties in state Arkansas have an average population of 38878.90666666667\nCounties in state California have an average population of 642309.5862068966\nCounties in state Colorado have an average population of 78581.1875\nCounties in state Connecticut have an average population of 446762.125\nCounties in state Delaware have an average population of 299311.3333333333\nCounties in state District of Columbia have an average population of 601723.0\nCounties in state Florida have an average population of 280616.5671641791\nCounties in state Georgia have an average population of 60928.63522012578\nCounties in state Hawaii have an average population of 272060.2\nCounties in state Idaho have an average population of 35626.86363636364\nCounties in state Illinois have an average population of 125790.50980392157\nCounties in state Indiana have an average population of 70476.10869565218\nCounties in state Iowa have an average population of 30771.262626262625\nCounties in state Kansas have an average population of 27172.55238095238\nCounties in state Kentucky have an average population of 36161.39166666667\nCounties in state Louisiana have an average population of 70833.9375\nCounties in state Maine have an average population of 83022.5625\nCounties in state Maryland have an average population of 240564.66666666666\nCounties in state Massachusetts have an average population of 467687.78571428574\nCounties in state Michigan have an average population of 119080.0\nCounties in state Minnesota have an average population of 60964.65517241379\nCounties in state Mississippi have an average population of 36186.54878048781\nCounties in state Missouri have an average population of 52077.62608695652\nCounties in state Montana have an average population of 17668.125\nCounties in state Nebraska have an average population of 19638.075268817203\nCounties in state Nevada have an average population of 158855.9411764706\nCounties in state New Hampshire have an average population of 131647.0\nCounties in state New Jersey have an average population of 418661.61904761905\nCounties in state New Mexico have an average population of 62399.36363636364\nCounties in state New York have an average population of 312550.03225806454\nCounties in state North Carolina have an average population of 95354.83\nCounties in state North Dakota have an average population of 12690.396226415094\nCounties in state Ohio have an average population of 131096.63636363635\nCounties in state Oklahoma have an average population of 48718.844155844155\nCounties in state Oregon have an average population of 106418.72222222222\nCounties in state Pennsylvania have an average population of 189587.74626865672\nCounties in state Rhode Island have an average population of 210513.4\nCounties in state South Carolina have an average population of 100551.39130434782\nCounties in state South Dakota have an average population of 12336.060606060606\nCounties in state Tennessee have an average population of 66801.1052631579\nCounties in state Texas have an average population of 98998.27165354331\nCounties in state Utah have an average population of 95306.37931034483\nCounties in state Vermont have an average population of 44695.78571428572\nCounties in state Virginia have an average population of 60111.29323308271\nCounties in state Washington have an average population of 172424.10256410256\nCounties in state West Virginia have an average population of 33690.8\nCounties in state Wisconsin have an average population of 78985.91666666667\nCounties in state Wyoming have an average population of 24505.478260869564\n53.2 ms ± 5.05 ms per loop (mean ± std. dev. of 7 runs, 10 loops each)\n"
    }
   ],
   "source": [
    "%%timeit -n 10\n",
    "for group, frame in df.groupby('STNAME'):\n",
    "    avg = np.average(frame['CENSUS2010POP'])\n",
    "    print('Counties in state ' + group + ' have an average population of ' + str(avg))"
   ]
  },
  {
   "cell_type": "code",
   "execution_count": 24,
   "metadata": {},
   "outputs": [
    {
     "output_type": "execute_result",
     "data": {
      "text/plain": "   SUMLEV  REGION  DIVISION  STATE  COUNTY   STNAME         CTYNAME  \\\n1      50       3         6      1       1  Alabama  Autauga County   \n2      50       3         6      1       3  Alabama  Baldwin County   \n3      50       3         6      1       5  Alabama  Barbour County   \n4      50       3         6      1       7  Alabama     Bibb County   \n5      50       3         6      1       9  Alabama   Blount County   \n\n   CENSUS2010POP  ESTIMATESBASE2010  POPESTIMATE2010  ...  RDOMESTICMIG2011  \\\n1          54571              54571            54660  ...          7.242091   \n2         182265             182265           183193  ...         14.832960   \n3          27457              27457            27341  ...         -4.728132   \n4          22915              22919            22861  ...         -5.527043   \n5          57322              57322            57373  ...          1.807375   \n\n   RDOMESTICMIG2012  RDOMESTICMIG2013  RDOMESTICMIG2014  RDOMESTICMIG2015  \\\n1         -2.915927         -3.012349          2.265971         -2.530799   \n2         17.647293         21.845705         19.243287         17.197872   \n3         -2.500690         -7.056824         -3.904217        -10.543299   \n4         -5.068871         -6.201001         -0.177537          0.177258   \n5         -1.177622         -1.748766         -2.062535         -1.369970   \n\n   RNETMIG2011  RNETMIG2012  RNETMIG2013  RNETMIG2014  RNETMIG2015  \n1     7.606016    -2.626146    -2.722002     2.592270    -2.187333  \n2    15.844176    18.559627    22.727626    20.317142    18.293499  \n3    -4.874741    -2.758113    -7.167664    -3.978583   -10.543299  \n4    -5.088389    -4.363636    -5.403729     0.754533     1.107861  \n5     1.859511    -0.848580    -1.402476    -1.577232    -0.884411  \n\n[5 rows x 100 columns]",
      "text/html": "<div>\n<style scoped>\n    .dataframe tbody tr th:only-of-type {\n        vertical-align: middle;\n    }\n\n    .dataframe tbody tr th {\n        vertical-align: top;\n    }\n\n    .dataframe thead th {\n        text-align: right;\n    }\n</style>\n<table border=\"1\" class=\"dataframe\">\n  <thead>\n    <tr style=\"text-align: right;\">\n      <th></th>\n      <th>SUMLEV</th>\n      <th>REGION</th>\n      <th>DIVISION</th>\n      <th>STATE</th>\n      <th>COUNTY</th>\n      <th>STNAME</th>\n      <th>CTYNAME</th>\n      <th>CENSUS2010POP</th>\n      <th>ESTIMATESBASE2010</th>\n      <th>POPESTIMATE2010</th>\n      <th>...</th>\n      <th>RDOMESTICMIG2011</th>\n      <th>RDOMESTICMIG2012</th>\n      <th>RDOMESTICMIG2013</th>\n      <th>RDOMESTICMIG2014</th>\n      <th>RDOMESTICMIG2015</th>\n      <th>RNETMIG2011</th>\n      <th>RNETMIG2012</th>\n      <th>RNETMIG2013</th>\n      <th>RNETMIG2014</th>\n      <th>RNETMIG2015</th>\n    </tr>\n  </thead>\n  <tbody>\n    <tr>\n      <th>1</th>\n      <td>50</td>\n      <td>3</td>\n      <td>6</td>\n      <td>1</td>\n      <td>1</td>\n      <td>Alabama</td>\n      <td>Autauga County</td>\n      <td>54571</td>\n      <td>54571</td>\n      <td>54660</td>\n      <td>...</td>\n      <td>7.242091</td>\n      <td>-2.915927</td>\n      <td>-3.012349</td>\n      <td>2.265971</td>\n      <td>-2.530799</td>\n      <td>7.606016</td>\n      <td>-2.626146</td>\n      <td>-2.722002</td>\n      <td>2.592270</td>\n      <td>-2.187333</td>\n    </tr>\n    <tr>\n      <th>2</th>\n      <td>50</td>\n      <td>3</td>\n      <td>6</td>\n      <td>1</td>\n      <td>3</td>\n      <td>Alabama</td>\n      <td>Baldwin County</td>\n      <td>182265</td>\n      <td>182265</td>\n      <td>183193</td>\n      <td>...</td>\n      <td>14.832960</td>\n      <td>17.647293</td>\n      <td>21.845705</td>\n      <td>19.243287</td>\n      <td>17.197872</td>\n      <td>15.844176</td>\n      <td>18.559627</td>\n      <td>22.727626</td>\n      <td>20.317142</td>\n      <td>18.293499</td>\n    </tr>\n    <tr>\n      <th>3</th>\n      <td>50</td>\n      <td>3</td>\n      <td>6</td>\n      <td>1</td>\n      <td>5</td>\n      <td>Alabama</td>\n      <td>Barbour County</td>\n      <td>27457</td>\n      <td>27457</td>\n      <td>27341</td>\n      <td>...</td>\n      <td>-4.728132</td>\n      <td>-2.500690</td>\n      <td>-7.056824</td>\n      <td>-3.904217</td>\n      <td>-10.543299</td>\n      <td>-4.874741</td>\n      <td>-2.758113</td>\n      <td>-7.167664</td>\n      <td>-3.978583</td>\n      <td>-10.543299</td>\n    </tr>\n    <tr>\n      <th>4</th>\n      <td>50</td>\n      <td>3</td>\n      <td>6</td>\n      <td>1</td>\n      <td>7</td>\n      <td>Alabama</td>\n      <td>Bibb County</td>\n      <td>22915</td>\n      <td>22919</td>\n      <td>22861</td>\n      <td>...</td>\n      <td>-5.527043</td>\n      <td>-5.068871</td>\n      <td>-6.201001</td>\n      <td>-0.177537</td>\n      <td>0.177258</td>\n      <td>-5.088389</td>\n      <td>-4.363636</td>\n      <td>-5.403729</td>\n      <td>0.754533</td>\n      <td>1.107861</td>\n    </tr>\n    <tr>\n      <th>5</th>\n      <td>50</td>\n      <td>3</td>\n      <td>6</td>\n      <td>1</td>\n      <td>9</td>\n      <td>Alabama</td>\n      <td>Blount County</td>\n      <td>57322</td>\n      <td>57322</td>\n      <td>57373</td>\n      <td>...</td>\n      <td>1.807375</td>\n      <td>-1.177622</td>\n      <td>-1.748766</td>\n      <td>-2.062535</td>\n      <td>-1.369970</td>\n      <td>1.859511</td>\n      <td>-0.848580</td>\n      <td>-1.402476</td>\n      <td>-1.577232</td>\n      <td>-0.884411</td>\n    </tr>\n  </tbody>\n</table>\n<p>5 rows × 100 columns</p>\n</div>"
     },
     "metadata": {},
     "execution_count": 24
    }
   ],
   "source": [
    "df.head()"
   ]
  },
  {
   "cell_type": "code",
   "execution_count": 25,
   "metadata": {
    "tags": []
   },
   "outputs": [
    {
     "output_type": "stream",
     "name": "stdout",
     "text": "There are 1177 records in group 0 for processing.\nThere are 1134 records in group 1 for processing.\nThere are 831 records in group 2 for processing.\n"
    }
   ],
   "source": [
    "df = df.set_index('STNAME')\n",
    "\n",
    "def fun(item):\n",
    "    if item[0]<'M':\n",
    "        return 0\n",
    "    if item[0]<'Q':\n",
    "        return 1\n",
    "    return 2\n",
    "\n",
    "for group, frame in df.groupby(fun):\n",
    "    print('There are ' + str(len(frame)) + ' records in group ' + str(group) + ' for processing.')\n"
   ]
  },
  {
   "cell_type": "code",
   "execution_count": 26,
   "metadata": {},
   "outputs": [],
   "source": [
    "df = pd.read_csv('census.csv')\n",
    "df = df[df['SUMLEV']==50]"
   ]
  },
  {
   "cell_type": "code",
   "execution_count": 27,
   "metadata": {},
   "outputs": [
    {
     "output_type": "execute_result",
     "data": {
      "text/plain": "                      CENSUS2010POP\nSTNAME                             \nAlabama                71339.343284\nAlaska                 24490.724138\nArizona               426134.466667\nArkansas               38878.906667\nCalifornia            642309.586207\nColorado               78581.187500\nConnecticut           446762.125000\nDelaware              299311.333333\nDistrict of Columbia  601723.000000\nFlorida               280616.567164\nGeorgia                60928.635220\nHawaii                272060.200000\nIdaho                  35626.863636\nIllinois              125790.509804\nIndiana                70476.108696\nIowa                   30771.262626\nKansas                 27172.552381\nKentucky               36161.391667\nLouisiana              70833.937500\nMaine                  83022.562500\nMaryland              240564.666667\nMassachusetts         467687.785714\nMichigan              119080.000000\nMinnesota              60964.655172\nMississippi            36186.548780\nMissouri               52077.626087\nMontana                17668.125000\nNebraska               19638.075269\nNevada                158855.941176\nNew Hampshire         131647.000000\nNew Jersey            418661.619048\nNew Mexico             62399.363636\nNew York              312550.032258\nNorth Carolina         95354.830000\nNorth Dakota           12690.396226\nOhio                  131096.636364\nOklahoma               48718.844156\nOregon                106418.722222\nPennsylvania          189587.746269\nRhode Island          210513.400000\nSouth Carolina        100551.391304\nSouth Dakota           12336.060606\nTennessee              66801.105263\nTexas                  98998.271654\nUtah                   95306.379310\nVermont                44695.785714\nVirginia               60111.293233\nWashington            172424.102564\nWest Virginia          33690.800000\nWisconsin              78985.916667\nWyoming                24505.478261",
      "text/html": "<div>\n<style scoped>\n    .dataframe tbody tr th:only-of-type {\n        vertical-align: middle;\n    }\n\n    .dataframe tbody tr th {\n        vertical-align: top;\n    }\n\n    .dataframe thead th {\n        text-align: right;\n    }\n</style>\n<table border=\"1\" class=\"dataframe\">\n  <thead>\n    <tr style=\"text-align: right;\">\n      <th></th>\n      <th>CENSUS2010POP</th>\n    </tr>\n    <tr>\n      <th>STNAME</th>\n      <th></th>\n    </tr>\n  </thead>\n  <tbody>\n    <tr>\n      <th>Alabama</th>\n      <td>71339.343284</td>\n    </tr>\n    <tr>\n      <th>Alaska</th>\n      <td>24490.724138</td>\n    </tr>\n    <tr>\n      <th>Arizona</th>\n      <td>426134.466667</td>\n    </tr>\n    <tr>\n      <th>Arkansas</th>\n      <td>38878.906667</td>\n    </tr>\n    <tr>\n      <th>California</th>\n      <td>642309.586207</td>\n    </tr>\n    <tr>\n      <th>Colorado</th>\n      <td>78581.187500</td>\n    </tr>\n    <tr>\n      <th>Connecticut</th>\n      <td>446762.125000</td>\n    </tr>\n    <tr>\n      <th>Delaware</th>\n      <td>299311.333333</td>\n    </tr>\n    <tr>\n      <th>District of Columbia</th>\n      <td>601723.000000</td>\n    </tr>\n    <tr>\n      <th>Florida</th>\n      <td>280616.567164</td>\n    </tr>\n    <tr>\n      <th>Georgia</th>\n      <td>60928.635220</td>\n    </tr>\n    <tr>\n      <th>Hawaii</th>\n      <td>272060.200000</td>\n    </tr>\n    <tr>\n      <th>Idaho</th>\n      <td>35626.863636</td>\n    </tr>\n    <tr>\n      <th>Illinois</th>\n      <td>125790.509804</td>\n    </tr>\n    <tr>\n      <th>Indiana</th>\n      <td>70476.108696</td>\n    </tr>\n    <tr>\n      <th>Iowa</th>\n      <td>30771.262626</td>\n    </tr>\n    <tr>\n      <th>Kansas</th>\n      <td>27172.552381</td>\n    </tr>\n    <tr>\n      <th>Kentucky</th>\n      <td>36161.391667</td>\n    </tr>\n    <tr>\n      <th>Louisiana</th>\n      <td>70833.937500</td>\n    </tr>\n    <tr>\n      <th>Maine</th>\n      <td>83022.562500</td>\n    </tr>\n    <tr>\n      <th>Maryland</th>\n      <td>240564.666667</td>\n    </tr>\n    <tr>\n      <th>Massachusetts</th>\n      <td>467687.785714</td>\n    </tr>\n    <tr>\n      <th>Michigan</th>\n      <td>119080.000000</td>\n    </tr>\n    <tr>\n      <th>Minnesota</th>\n      <td>60964.655172</td>\n    </tr>\n    <tr>\n      <th>Mississippi</th>\n      <td>36186.548780</td>\n    </tr>\n    <tr>\n      <th>Missouri</th>\n      <td>52077.626087</td>\n    </tr>\n    <tr>\n      <th>Montana</th>\n      <td>17668.125000</td>\n    </tr>\n    <tr>\n      <th>Nebraska</th>\n      <td>19638.075269</td>\n    </tr>\n    <tr>\n      <th>Nevada</th>\n      <td>158855.941176</td>\n    </tr>\n    <tr>\n      <th>New Hampshire</th>\n      <td>131647.000000</td>\n    </tr>\n    <tr>\n      <th>New Jersey</th>\n      <td>418661.619048</td>\n    </tr>\n    <tr>\n      <th>New Mexico</th>\n      <td>62399.363636</td>\n    </tr>\n    <tr>\n      <th>New York</th>\n      <td>312550.032258</td>\n    </tr>\n    <tr>\n      <th>North Carolina</th>\n      <td>95354.830000</td>\n    </tr>\n    <tr>\n      <th>North Dakota</th>\n      <td>12690.396226</td>\n    </tr>\n    <tr>\n      <th>Ohio</th>\n      <td>131096.636364</td>\n    </tr>\n    <tr>\n      <th>Oklahoma</th>\n      <td>48718.844156</td>\n    </tr>\n    <tr>\n      <th>Oregon</th>\n      <td>106418.722222</td>\n    </tr>\n    <tr>\n      <th>Pennsylvania</th>\n      <td>189587.746269</td>\n    </tr>\n    <tr>\n      <th>Rhode Island</th>\n      <td>210513.400000</td>\n    </tr>\n    <tr>\n      <th>South Carolina</th>\n      <td>100551.391304</td>\n    </tr>\n    <tr>\n      <th>South Dakota</th>\n      <td>12336.060606</td>\n    </tr>\n    <tr>\n      <th>Tennessee</th>\n      <td>66801.105263</td>\n    </tr>\n    <tr>\n      <th>Texas</th>\n      <td>98998.271654</td>\n    </tr>\n    <tr>\n      <th>Utah</th>\n      <td>95306.379310</td>\n    </tr>\n    <tr>\n      <th>Vermont</th>\n      <td>44695.785714</td>\n    </tr>\n    <tr>\n      <th>Virginia</th>\n      <td>60111.293233</td>\n    </tr>\n    <tr>\n      <th>Washington</th>\n      <td>172424.102564</td>\n    </tr>\n    <tr>\n      <th>West Virginia</th>\n      <td>33690.800000</td>\n    </tr>\n    <tr>\n      <th>Wisconsin</th>\n      <td>78985.916667</td>\n    </tr>\n    <tr>\n      <th>Wyoming</th>\n      <td>24505.478261</td>\n    </tr>\n  </tbody>\n</table>\n</div>"
     },
     "metadata": {},
     "execution_count": 27
    }
   ],
   "source": [
    "df.groupby('STNAME').agg({'CENSUS2010POP': np.average})"
   ]
  },
  {
   "cell_type": "code",
   "execution_count": 28,
   "metadata": {
    "tags": []
   },
   "outputs": [
    {
     "output_type": "stream",
     "name": "stdout",
     "text": "<class 'pandas.core.groupby.generic.DataFrameGroupBy'>\n<class 'pandas.core.groupby.generic.SeriesGroupBy'>\n"
    }
   ],
   "source": [
    "print(type(df.groupby(level=0)['POPESTIMATE2010','POPESTIMATE2011']))\n",
    "print(type(df.groupby(level=0)['POPESTIMATE2010']))"
   ]
  },
  {
   "cell_type": "code",
   "execution_count": 4,
   "metadata": {},
   "outputs": [
    {
     "output_type": "error",
     "ename": "SpecificationError",
     "evalue": "nested renamer is not supported",
     "traceback": [
      "\u001b[1;31m---------------------------------------------------------------------------\u001b[0m",
      "\u001b[1;31mSpecificationError\u001b[0m                        Traceback (most recent call last)",
      "\u001b[1;32m<ipython-input-4-60b6a7289acc>\u001b[0m in \u001b[0;36m<module>\u001b[1;34m\u001b[0m\n\u001b[1;32m----> 1\u001b[1;33m \u001b[1;33m(\u001b[0m\u001b[0mdf\u001b[0m\u001b[1;33m.\u001b[0m\u001b[0mset_index\u001b[0m\u001b[1;33m(\u001b[0m\u001b[1;34m'STNAME'\u001b[0m\u001b[1;33m)\u001b[0m\u001b[1;33m.\u001b[0m\u001b[0mgroupby\u001b[0m\u001b[1;33m(\u001b[0m\u001b[0mlevel\u001b[0m\u001b[1;33m=\u001b[0m\u001b[1;36m0\u001b[0m\u001b[1;33m)\u001b[0m\u001b[1;33m[\u001b[0m\u001b[1;34m'CENSUS2010POP'\u001b[0m\u001b[1;33m]\u001b[0m\u001b[1;33m.\u001b[0m\u001b[0magg\u001b[0m\u001b[1;33m(\u001b[0m\u001b[1;33m{\u001b[0m\u001b[1;34m'avg'\u001b[0m\u001b[1;33m:\u001b[0m \u001b[0mnp\u001b[0m\u001b[1;33m.\u001b[0m\u001b[0maverage\u001b[0m\u001b[1;33m,\u001b[0m \u001b[1;34m'sum'\u001b[0m\u001b[1;33m:\u001b[0m \u001b[0mnp\u001b[0m\u001b[1;33m.\u001b[0m\u001b[0msum\u001b[0m\u001b[1;33m}\u001b[0m\u001b[1;33m)\u001b[0m\u001b[1;33m)\u001b[0m\u001b[1;33m\u001b[0m\u001b[1;33m\u001b[0m\u001b[0m\n\u001b[0m",
      "\u001b[1;32m~\\anaconda3\\lib\\site-packages\\pandas\\core\\groupby\\generic.py\u001b[0m in \u001b[0;36maggregate\u001b[1;34m(self, func, *args, **kwargs)\u001b[0m\n\u001b[0;32m    251\u001b[0m             \u001b[1;31m# but not the class list / tuple itself.\u001b[0m\u001b[1;33m\u001b[0m\u001b[1;33m\u001b[0m\u001b[1;33m\u001b[0m\u001b[0m\n\u001b[0;32m    252\u001b[0m             \u001b[0mfunc\u001b[0m \u001b[1;33m=\u001b[0m \u001b[0m_maybe_mangle_lambdas\u001b[0m\u001b[1;33m(\u001b[0m\u001b[0mfunc\u001b[0m\u001b[1;33m)\u001b[0m\u001b[1;33m\u001b[0m\u001b[1;33m\u001b[0m\u001b[0m\n\u001b[1;32m--> 253\u001b[1;33m             \u001b[0mret\u001b[0m \u001b[1;33m=\u001b[0m \u001b[0mself\u001b[0m\u001b[1;33m.\u001b[0m\u001b[0m_aggregate_multiple_funcs\u001b[0m\u001b[1;33m(\u001b[0m\u001b[0mfunc\u001b[0m\u001b[1;33m)\u001b[0m\u001b[1;33m\u001b[0m\u001b[1;33m\u001b[0m\u001b[0m\n\u001b[0m\u001b[0;32m    254\u001b[0m             \u001b[1;32mif\u001b[0m \u001b[0mrelabeling\u001b[0m\u001b[1;33m:\u001b[0m\u001b[1;33m\u001b[0m\u001b[1;33m\u001b[0m\u001b[0m\n\u001b[0;32m    255\u001b[0m                 \u001b[0mret\u001b[0m\u001b[1;33m.\u001b[0m\u001b[0mcolumns\u001b[0m \u001b[1;33m=\u001b[0m \u001b[0mcolumns\u001b[0m\u001b[1;33m\u001b[0m\u001b[1;33m\u001b[0m\u001b[0m\n",
      "\u001b[1;32m~\\anaconda3\\lib\\site-packages\\pandas\\core\\groupby\\generic.py\u001b[0m in \u001b[0;36m_aggregate_multiple_funcs\u001b[1;34m(self, arg)\u001b[0m\n\u001b[0;32m    292\u001b[0m             \u001b[1;31m# GH 15931\u001b[0m\u001b[1;33m\u001b[0m\u001b[1;33m\u001b[0m\u001b[1;33m\u001b[0m\u001b[0m\n\u001b[0;32m    293\u001b[0m             \u001b[1;32mif\u001b[0m \u001b[0misinstance\u001b[0m\u001b[1;33m(\u001b[0m\u001b[0mself\u001b[0m\u001b[1;33m.\u001b[0m\u001b[0m_selected_obj\u001b[0m\u001b[1;33m,\u001b[0m \u001b[0mSeries\u001b[0m\u001b[1;33m)\u001b[0m\u001b[1;33m:\u001b[0m\u001b[1;33m\u001b[0m\u001b[1;33m\u001b[0m\u001b[0m\n\u001b[1;32m--> 294\u001b[1;33m                 \u001b[1;32mraise\u001b[0m \u001b[0mSpecificationError\u001b[0m\u001b[1;33m(\u001b[0m\u001b[1;34m\"nested renamer is not supported\"\u001b[0m\u001b[1;33m)\u001b[0m\u001b[1;33m\u001b[0m\u001b[1;33m\u001b[0m\u001b[0m\n\u001b[0m\u001b[0;32m    295\u001b[0m \u001b[1;33m\u001b[0m\u001b[0m\n\u001b[0;32m    296\u001b[0m             \u001b[0mcolumns\u001b[0m \u001b[1;33m=\u001b[0m \u001b[0mlist\u001b[0m\u001b[1;33m(\u001b[0m\u001b[0marg\u001b[0m\u001b[1;33m.\u001b[0m\u001b[0mkeys\u001b[0m\u001b[1;33m(\u001b[0m\u001b[1;33m)\u001b[0m\u001b[1;33m)\u001b[0m\u001b[1;33m\u001b[0m\u001b[1;33m\u001b[0m\u001b[0m\n",
      "\u001b[1;31mSpecificationError\u001b[0m: nested renamer is not supported"
     ]
    }
   ],
   "source": [
    "(df.set_index('STNAME').groupby(level=0)['CENSUS2010POP'].agg({'avg': np.average, 'sum': np.sum}))"
   ]
  },
  {
   "cell_type": "code",
   "execution_count": 30,
   "metadata": {},
   "outputs": [
    {
     "output_type": "error",
     "ename": "SpecificationError",
     "evalue": "nested renamer is not supported",
     "traceback": [
      "\u001b[1;31m---------------------------------------------------------------------------\u001b[0m",
      "\u001b[1;31mSpecificationError\u001b[0m                        Traceback (most recent call last)",
      "\u001b[1;32m<ipython-input-30-554977a3acb1>\u001b[0m in \u001b[0;36m<module>\u001b[1;34m\u001b[0m\n\u001b[0;32m      1\u001b[0m (df.set_index('STNAME').groupby(level=0)['POPESTIMATE2010','POPESTIMATE2011']\n\u001b[1;32m----> 2\u001b[1;33m     .agg({'avg': np.average, 'sum': np.sum}))\n\u001b[0m",
      "\u001b[1;32m~\\anaconda3\\lib\\site-packages\\pandas\\core\\groupby\\generic.py\u001b[0m in \u001b[0;36maggregate\u001b[1;34m(self, func, *args, **kwargs)\u001b[0m\n\u001b[0;32m    926\u001b[0m         \u001b[0mfunc\u001b[0m \u001b[1;33m=\u001b[0m \u001b[0m_maybe_mangle_lambdas\u001b[0m\u001b[1;33m(\u001b[0m\u001b[0mfunc\u001b[0m\u001b[1;33m)\u001b[0m\u001b[1;33m\u001b[0m\u001b[1;33m\u001b[0m\u001b[0m\n\u001b[0;32m    927\u001b[0m \u001b[1;33m\u001b[0m\u001b[0m\n\u001b[1;32m--> 928\u001b[1;33m         \u001b[0mresult\u001b[0m\u001b[1;33m,\u001b[0m \u001b[0mhow\u001b[0m \u001b[1;33m=\u001b[0m \u001b[0mself\u001b[0m\u001b[1;33m.\u001b[0m\u001b[0m_aggregate\u001b[0m\u001b[1;33m(\u001b[0m\u001b[0mfunc\u001b[0m\u001b[1;33m,\u001b[0m \u001b[1;33m*\u001b[0m\u001b[0margs\u001b[0m\u001b[1;33m,\u001b[0m \u001b[1;33m**\u001b[0m\u001b[0mkwargs\u001b[0m\u001b[1;33m)\u001b[0m\u001b[1;33m\u001b[0m\u001b[1;33m\u001b[0m\u001b[0m\n\u001b[0m\u001b[0;32m    929\u001b[0m         \u001b[1;32mif\u001b[0m \u001b[0mhow\u001b[0m \u001b[1;32mis\u001b[0m \u001b[1;32mNone\u001b[0m\u001b[1;33m:\u001b[0m\u001b[1;33m\u001b[0m\u001b[1;33m\u001b[0m\u001b[0m\n\u001b[0;32m    930\u001b[0m             \u001b[1;32mreturn\u001b[0m \u001b[0mresult\u001b[0m\u001b[1;33m\u001b[0m\u001b[1;33m\u001b[0m\u001b[0m\n",
      "\u001b[1;32m~\\anaconda3\\lib\\site-packages\\pandas\\core\\base.py\u001b[0m in \u001b[0;36m_aggregate\u001b[1;34m(self, arg, *args, **kwargs)\u001b[0m\n\u001b[0;32m    355\u001b[0m                     \u001b[0mobj\u001b[0m\u001b[1;33m.\u001b[0m\u001b[0mcolumns\u001b[0m\u001b[1;33m.\u001b[0m\u001b[0mintersection\u001b[0m\u001b[1;33m(\u001b[0m\u001b[0mkeys\u001b[0m\u001b[1;33m)\u001b[0m\u001b[1;33m\u001b[0m\u001b[1;33m\u001b[0m\u001b[0m\n\u001b[0;32m    356\u001b[0m                 ) != len(keys):\n\u001b[1;32m--> 357\u001b[1;33m                     \u001b[1;32mraise\u001b[0m \u001b[0mSpecificationError\u001b[0m\u001b[1;33m(\u001b[0m\u001b[1;34m\"nested renamer is not supported\"\u001b[0m\u001b[1;33m)\u001b[0m\u001b[1;33m\u001b[0m\u001b[1;33m\u001b[0m\u001b[0m\n\u001b[0m\u001b[0;32m    358\u001b[0m \u001b[1;33m\u001b[0m\u001b[0m\n\u001b[0;32m    359\u001b[0m             \u001b[1;32mfrom\u001b[0m \u001b[0mpandas\u001b[0m\u001b[1;33m.\u001b[0m\u001b[0mcore\u001b[0m\u001b[1;33m.\u001b[0m\u001b[0mreshape\u001b[0m\u001b[1;33m.\u001b[0m\u001b[0mconcat\u001b[0m \u001b[1;32mimport\u001b[0m \u001b[0mconcat\u001b[0m\u001b[1;33m\u001b[0m\u001b[1;33m\u001b[0m\u001b[0m\n",
      "\u001b[1;31mSpecificationError\u001b[0m: nested renamer is not supported"
     ]
    }
   ],
   "source": [
    "(df.set_index('STNAME').groupby(level=0)['POPESTIMATE2010','POPESTIMATE2011']\n",
    "    .agg({'avg': np.average, 'sum': np.sum}))"
   ]
  },
  {
   "cell_type": "code",
   "execution_count": 31,
   "metadata": {},
   "outputs": [
    {
     "output_type": "execute_result",
     "data": {
      "text/plain": "                      POPESTIMATE2010  POPESTIMATE2011\nSTNAME                                                \nAlabama                  71420.313433          4801108\nAlaska                   24621.413793           722720\nArizona                 427213.866667          6468732\nArkansas                 38965.253333          2938538\nCalifornia              643691.017241         37700034\nColorado                 78878.968750          5119480\nConnecticut             447464.625000          3589759\nDelaware                299930.333333           907916\nDistrict of Columbia    605126.000000           620472\nFlorida                 281341.641791         19105533\nGeorgia                  61090.905660          9812280\nHawaii                  272796.000000          1378227\nIdaho                    35704.227273          1584134\nIllinois                125894.598039         12861882\nIndiana                  70549.891304          6516845\nIowa                     30815.090909          3065389\nKansas                   27226.895238          2869917\nKentucky                 36232.808333          4367882\nLouisiana                71014.859375          4575381\nMaine                    82980.937500          1328257\nMaryland                241183.708333          5844171\nMassachusetts           468931.142857          6611797\nMichigan                119004.445783          9876589\nMinnesota                61044.862069          5348119\nMississippi              36223.365854          2977999\nMissouri                 52139.582609          6010587\nMontana                  17690.053571           997746\nNebraska                 19677.688172          1842383\nNevada                  159025.882353          2718819\nNew Hampshire           131670.800000          1318344\nNew Jersey              419232.428571          8842934\nNew Mexico               62567.909091          2078226\nNew York                312950.322581         19523202\nNorth Carolina           95589.790000          9651025\nNorth Dakota             12726.981132           685326\nOhio                    131145.068182         11545442\nOklahoma                 48825.922078          3786626\nOregon                  106610.333333          3868509\nPennsylvania            189731.552239         12745202\nRhode Island            210643.800000          1051856\nSouth Carolina          100780.304348          4672733\nSouth Dakota             12368.166667           824289\nTennessee                66911.421053          6398408\nTexas                    99387.255906         25654464\nUtah                     95704.344828          2816440\nVermont                  44713.142857           626687\nVirginia                 60344.263158          8110783\nWashington              172898.974359          6823229\nWest Virginia            33713.181818          1854948\nWisconsin                79030.611111          5709720\nWyoming                  24544.173913           567768",
      "text/html": "<div>\n<style scoped>\n    .dataframe tbody tr th:only-of-type {\n        vertical-align: middle;\n    }\n\n    .dataframe tbody tr th {\n        vertical-align: top;\n    }\n\n    .dataframe thead th {\n        text-align: right;\n    }\n</style>\n<table border=\"1\" class=\"dataframe\">\n  <thead>\n    <tr style=\"text-align: right;\">\n      <th></th>\n      <th>POPESTIMATE2010</th>\n      <th>POPESTIMATE2011</th>\n    </tr>\n    <tr>\n      <th>STNAME</th>\n      <th></th>\n      <th></th>\n    </tr>\n  </thead>\n  <tbody>\n    <tr>\n      <th>Alabama</th>\n      <td>71420.313433</td>\n      <td>4801108</td>\n    </tr>\n    <tr>\n      <th>Alaska</th>\n      <td>24621.413793</td>\n      <td>722720</td>\n    </tr>\n    <tr>\n      <th>Arizona</th>\n      <td>427213.866667</td>\n      <td>6468732</td>\n    </tr>\n    <tr>\n      <th>Arkansas</th>\n      <td>38965.253333</td>\n      <td>2938538</td>\n    </tr>\n    <tr>\n      <th>California</th>\n      <td>643691.017241</td>\n      <td>37700034</td>\n    </tr>\n    <tr>\n      <th>Colorado</th>\n      <td>78878.968750</td>\n      <td>5119480</td>\n    </tr>\n    <tr>\n      <th>Connecticut</th>\n      <td>447464.625000</td>\n      <td>3589759</td>\n    </tr>\n    <tr>\n      <th>Delaware</th>\n      <td>299930.333333</td>\n      <td>907916</td>\n    </tr>\n    <tr>\n      <th>District of Columbia</th>\n      <td>605126.000000</td>\n      <td>620472</td>\n    </tr>\n    <tr>\n      <th>Florida</th>\n      <td>281341.641791</td>\n      <td>19105533</td>\n    </tr>\n    <tr>\n      <th>Georgia</th>\n      <td>61090.905660</td>\n      <td>9812280</td>\n    </tr>\n    <tr>\n      <th>Hawaii</th>\n      <td>272796.000000</td>\n      <td>1378227</td>\n    </tr>\n    <tr>\n      <th>Idaho</th>\n      <td>35704.227273</td>\n      <td>1584134</td>\n    </tr>\n    <tr>\n      <th>Illinois</th>\n      <td>125894.598039</td>\n      <td>12861882</td>\n    </tr>\n    <tr>\n      <th>Indiana</th>\n      <td>70549.891304</td>\n      <td>6516845</td>\n    </tr>\n    <tr>\n      <th>Iowa</th>\n      <td>30815.090909</td>\n      <td>3065389</td>\n    </tr>\n    <tr>\n      <th>Kansas</th>\n      <td>27226.895238</td>\n      <td>2869917</td>\n    </tr>\n    <tr>\n      <th>Kentucky</th>\n      <td>36232.808333</td>\n      <td>4367882</td>\n    </tr>\n    <tr>\n      <th>Louisiana</th>\n      <td>71014.859375</td>\n      <td>4575381</td>\n    </tr>\n    <tr>\n      <th>Maine</th>\n      <td>82980.937500</td>\n      <td>1328257</td>\n    </tr>\n    <tr>\n      <th>Maryland</th>\n      <td>241183.708333</td>\n      <td>5844171</td>\n    </tr>\n    <tr>\n      <th>Massachusetts</th>\n      <td>468931.142857</td>\n      <td>6611797</td>\n    </tr>\n    <tr>\n      <th>Michigan</th>\n      <td>119004.445783</td>\n      <td>9876589</td>\n    </tr>\n    <tr>\n      <th>Minnesota</th>\n      <td>61044.862069</td>\n      <td>5348119</td>\n    </tr>\n    <tr>\n      <th>Mississippi</th>\n      <td>36223.365854</td>\n      <td>2977999</td>\n    </tr>\n    <tr>\n      <th>Missouri</th>\n      <td>52139.582609</td>\n      <td>6010587</td>\n    </tr>\n    <tr>\n      <th>Montana</th>\n      <td>17690.053571</td>\n      <td>997746</td>\n    </tr>\n    <tr>\n      <th>Nebraska</th>\n      <td>19677.688172</td>\n      <td>1842383</td>\n    </tr>\n    <tr>\n      <th>Nevada</th>\n      <td>159025.882353</td>\n      <td>2718819</td>\n    </tr>\n    <tr>\n      <th>New Hampshire</th>\n      <td>131670.800000</td>\n      <td>1318344</td>\n    </tr>\n    <tr>\n      <th>New Jersey</th>\n      <td>419232.428571</td>\n      <td>8842934</td>\n    </tr>\n    <tr>\n      <th>New Mexico</th>\n      <td>62567.909091</td>\n      <td>2078226</td>\n    </tr>\n    <tr>\n      <th>New York</th>\n      <td>312950.322581</td>\n      <td>19523202</td>\n    </tr>\n    <tr>\n      <th>North Carolina</th>\n      <td>95589.790000</td>\n      <td>9651025</td>\n    </tr>\n    <tr>\n      <th>North Dakota</th>\n      <td>12726.981132</td>\n      <td>685326</td>\n    </tr>\n    <tr>\n      <th>Ohio</th>\n      <td>131145.068182</td>\n      <td>11545442</td>\n    </tr>\n    <tr>\n      <th>Oklahoma</th>\n      <td>48825.922078</td>\n      <td>3786626</td>\n    </tr>\n    <tr>\n      <th>Oregon</th>\n      <td>106610.333333</td>\n      <td>3868509</td>\n    </tr>\n    <tr>\n      <th>Pennsylvania</th>\n      <td>189731.552239</td>\n      <td>12745202</td>\n    </tr>\n    <tr>\n      <th>Rhode Island</th>\n      <td>210643.800000</td>\n      <td>1051856</td>\n    </tr>\n    <tr>\n      <th>South Carolina</th>\n      <td>100780.304348</td>\n      <td>4672733</td>\n    </tr>\n    <tr>\n      <th>South Dakota</th>\n      <td>12368.166667</td>\n      <td>824289</td>\n    </tr>\n    <tr>\n      <th>Tennessee</th>\n      <td>66911.421053</td>\n      <td>6398408</td>\n    </tr>\n    <tr>\n      <th>Texas</th>\n      <td>99387.255906</td>\n      <td>25654464</td>\n    </tr>\n    <tr>\n      <th>Utah</th>\n      <td>95704.344828</td>\n      <td>2816440</td>\n    </tr>\n    <tr>\n      <th>Vermont</th>\n      <td>44713.142857</td>\n      <td>626687</td>\n    </tr>\n    <tr>\n      <th>Virginia</th>\n      <td>60344.263158</td>\n      <td>8110783</td>\n    </tr>\n    <tr>\n      <th>Washington</th>\n      <td>172898.974359</td>\n      <td>6823229</td>\n    </tr>\n    <tr>\n      <th>West Virginia</th>\n      <td>33713.181818</td>\n      <td>1854948</td>\n    </tr>\n    <tr>\n      <th>Wisconsin</th>\n      <td>79030.611111</td>\n      <td>5709720</td>\n    </tr>\n    <tr>\n      <th>Wyoming</th>\n      <td>24544.173913</td>\n      <td>567768</td>\n    </tr>\n  </tbody>\n</table>\n</div>"
     },
     "metadata": {},
     "execution_count": 31
    }
   ],
   "source": [
    "(df.set_index('STNAME').groupby(level=0)['POPESTIMATE2010','POPESTIMATE2011']\n",
    "    .agg({'POPESTIMATE2010': np.average, 'POPESTIMATE2011': np.sum}))"
   ]
  },
  {
   "cell_type": "markdown",
   "metadata": {},
   "source": [
    "# Scales\n",
    "## Ratio scale:\n",
    "    units are equally spaced\n",
    "    mathematical operations of +-/* are all valid\n",
    "    E.g. height and weight\n",
    "## Interval scale:\n",
    "    units are equally spaced, but there is no True zero\n",
    "## Ordinal scale:\n",
    "    the order of the units is important, bit not evenly spaced\n",
    "    letter grades such as A+ , A are a good example\n",
    "## Nominal scale: pandas categorical data\n",
    "    categories of data, but the categories have no order with respect to                            one another\n",
    "    E.g. teams of a sport\n",
    "    \n",
    "    "
   ]
  },
  {
   "cell_type": "code",
   "execution_count": 4,
   "metadata": {},
   "outputs": [
    {
     "output_type": "execute_result",
     "data": {
      "text/plain": "          Grades\nexcellent     A+\nexcellent      A\nexcellent     A-\ngood          B+\ngood           B\ngood          B-\nok            C+\nok             C\nok            C-\npoor          D+\npoor           D",
      "text/html": "<div>\n<style scoped>\n    .dataframe tbody tr th:only-of-type {\n        vertical-align: middle;\n    }\n\n    .dataframe tbody tr th {\n        vertical-align: top;\n    }\n\n    .dataframe thead th {\n        text-align: right;\n    }\n</style>\n<table border=\"1\" class=\"dataframe\">\n  <thead>\n    <tr style=\"text-align: right;\">\n      <th></th>\n      <th>Grades</th>\n    </tr>\n  </thead>\n  <tbody>\n    <tr>\n      <th>excellent</th>\n      <td>A+</td>\n    </tr>\n    <tr>\n      <th>excellent</th>\n      <td>A</td>\n    </tr>\n    <tr>\n      <th>excellent</th>\n      <td>A-</td>\n    </tr>\n    <tr>\n      <th>good</th>\n      <td>B+</td>\n    </tr>\n    <tr>\n      <th>good</th>\n      <td>B</td>\n    </tr>\n    <tr>\n      <th>good</th>\n      <td>B-</td>\n    </tr>\n    <tr>\n      <th>ok</th>\n      <td>C+</td>\n    </tr>\n    <tr>\n      <th>ok</th>\n      <td>C</td>\n    </tr>\n    <tr>\n      <th>ok</th>\n      <td>C-</td>\n    </tr>\n    <tr>\n      <th>poor</th>\n      <td>D+</td>\n    </tr>\n    <tr>\n      <th>poor</th>\n      <td>D</td>\n    </tr>\n  </tbody>\n</table>\n</div>"
     },
     "metadata": {},
     "execution_count": 4
    }
   ],
   "source": [
    "# Ordinal scale\n",
    "df = pd.DataFrame(['A+', 'A', 'A-', 'B+', 'B', 'B-', 'C+', 'C', 'C-', 'D+', 'D'],\n",
    "                  index=['excellent', 'excellent', 'excellent', 'good', 'good', 'good', 'ok', 'ok', 'ok', 'poor', 'poor'])\n",
    "df.rename(columns={0: 'Grades'}, inplace=True)\n",
    "df"
   ]
  },
  {
   "cell_type": "code",
   "execution_count": 5,
   "metadata": {},
   "outputs": [
    {
     "output_type": "execute_result",
     "data": {
      "text/plain": "excellent    A+\nexcellent     A\nexcellent    A-\ngood         B+\ngood          B\nName: Grades, dtype: category\nCategories (11, object): [A, A+, A-, B, ..., C+, C-, D, D+]"
     },
     "metadata": {},
     "execution_count": 5
    }
   ],
   "source": [
    "df['Grades'].astype('category').head()"
   ]
  },
  {
   "cell_type": "code",
   "execution_count": 6,
   "metadata": {},
   "outputs": [
    {
     "output_type": "error",
     "ename": "TypeError",
     "evalue": "astype() got an unexpected keyword argument 'categories'",
     "traceback": [
      "\u001b[1;31m---------------------------------------------------------------------------\u001b[0m",
      "\u001b[1;31mTypeError\u001b[0m                                 Traceback (most recent call last)",
      "\u001b[1;32m<ipython-input-6-b755639f33d7>\u001b[0m in \u001b[0;36m<module>\u001b[1;34m\u001b[0m\n\u001b[0;32m      1\u001b[0m grades = df['Grades'].astype('category',\n\u001b[0;32m      2\u001b[0m                              \u001b[0mcategories\u001b[0m\u001b[1;33m=\u001b[0m\u001b[1;33m[\u001b[0m\u001b[1;34m'D'\u001b[0m\u001b[1;33m,\u001b[0m \u001b[1;34m'D+'\u001b[0m\u001b[1;33m,\u001b[0m \u001b[1;34m'C-'\u001b[0m\u001b[1;33m,\u001b[0m \u001b[1;34m'C'\u001b[0m\u001b[1;33m,\u001b[0m \u001b[1;34m'C+'\u001b[0m\u001b[1;33m,\u001b[0m \u001b[1;34m'B-'\u001b[0m\u001b[1;33m,\u001b[0m \u001b[1;34m'B'\u001b[0m\u001b[1;33m,\u001b[0m \u001b[1;34m'B+'\u001b[0m\u001b[1;33m,\u001b[0m \u001b[1;34m'A-'\u001b[0m\u001b[1;33m,\u001b[0m \u001b[1;34m'A'\u001b[0m\u001b[1;33m,\u001b[0m \u001b[1;34m'A+'\u001b[0m\u001b[1;33m]\u001b[0m\u001b[1;33m,\u001b[0m\u001b[1;33m\u001b[0m\u001b[1;33m\u001b[0m\u001b[0m\n\u001b[1;32m----> 3\u001b[1;33m                              ordered=True)\n\u001b[0m\u001b[0;32m      4\u001b[0m \u001b[0mgrades\u001b[0m\u001b[1;33m.\u001b[0m\u001b[0mhead\u001b[0m\u001b[1;33m(\u001b[0m\u001b[1;33m)\u001b[0m\u001b[1;33m\u001b[0m\u001b[1;33m\u001b[0m\u001b[0m\n",
      "\u001b[1;31mTypeError\u001b[0m: astype() got an unexpected keyword argument 'categories'"
     ]
    }
   ],
   "source": [
    "grades = df['Grades'].astype('category',\n",
    "                             categories=['D', 'D+', 'C-', 'C', 'C+', 'B-', 'B', 'B+', 'A-', 'A', 'A+'],\n",
    "                             ordered=True)\n",
    "grades.head()"
   ]
  },
  {
   "cell_type": "code",
   "execution_count": 7,
   "metadata": {},
   "outputs": [
    {
     "output_type": "error",
     "ename": "NameError",
     "evalue": "name 'grades' is not defined",
     "traceback": [
      "\u001b[1;31m---------------------------------------------------------------------------\u001b[0m",
      "\u001b[1;31mNameError\u001b[0m                                 Traceback (most recent call last)",
      "\u001b[1;32m<ipython-input-7-e5450f2ffa8a>\u001b[0m in \u001b[0;36m<module>\u001b[1;34m\u001b[0m\n\u001b[1;32m----> 1\u001b[1;33m \u001b[0mgrades\u001b[0m \u001b[1;33m>\u001b[0m \u001b[1;34m'C'\u001b[0m\u001b[1;33m\u001b[0m\u001b[1;33m\u001b[0m\u001b[0m\n\u001b[0m",
      "\u001b[1;31mNameError\u001b[0m: name 'grades' is not defined"
     ]
    }
   ],
   "source": [
    "grades > 'C'"
   ]
  },
  {
   "cell_type": "code",
   "execution_count": 8,
   "metadata": {},
   "outputs": [
    {
     "output_type": "error",
     "ename": "SpecificationError",
     "evalue": "nested renamer is not supported",
     "traceback": [
      "\u001b[1;31m---------------------------------------------------------------------------\u001b[0m",
      "\u001b[1;31mSpecificationError\u001b[0m                        Traceback (most recent call last)",
      "\u001b[1;32m<ipython-input-8-56f9aa4b4632>\u001b[0m in \u001b[0;36m<module>\u001b[1;34m\u001b[0m\n\u001b[0;32m      1\u001b[0m \u001b[0mdf\u001b[0m \u001b[1;33m=\u001b[0m \u001b[0mpd\u001b[0m\u001b[1;33m.\u001b[0m\u001b[0mread_csv\u001b[0m\u001b[1;33m(\u001b[0m\u001b[1;34m'census.csv'\u001b[0m\u001b[1;33m)\u001b[0m\u001b[1;33m\u001b[0m\u001b[1;33m\u001b[0m\u001b[0m\n\u001b[0;32m      2\u001b[0m \u001b[0mdf\u001b[0m \u001b[1;33m=\u001b[0m \u001b[0mdf\u001b[0m\u001b[1;33m[\u001b[0m\u001b[0mdf\u001b[0m\u001b[1;33m[\u001b[0m\u001b[1;34m'SUMLEV'\u001b[0m\u001b[1;33m]\u001b[0m\u001b[1;33m==\u001b[0m\u001b[1;36m50\u001b[0m\u001b[1;33m]\u001b[0m\u001b[1;33m\u001b[0m\u001b[1;33m\u001b[0m\u001b[0m\n\u001b[1;32m----> 3\u001b[1;33m \u001b[0mdf\u001b[0m \u001b[1;33m=\u001b[0m \u001b[0mdf\u001b[0m\u001b[1;33m.\u001b[0m\u001b[0mset_index\u001b[0m\u001b[1;33m(\u001b[0m\u001b[1;34m'STNAME'\u001b[0m\u001b[1;33m)\u001b[0m\u001b[1;33m.\u001b[0m\u001b[0mgroupby\u001b[0m\u001b[1;33m(\u001b[0m\u001b[0mlevel\u001b[0m\u001b[1;33m=\u001b[0m\u001b[1;36m0\u001b[0m\u001b[1;33m)\u001b[0m\u001b[1;33m[\u001b[0m\u001b[1;34m'CENSUS2010POP'\u001b[0m\u001b[1;33m]\u001b[0m\u001b[1;33m.\u001b[0m\u001b[0magg\u001b[0m\u001b[1;33m(\u001b[0m\u001b[1;33m{\u001b[0m\u001b[1;34m'avg'\u001b[0m\u001b[1;33m:\u001b[0m \u001b[0mnp\u001b[0m\u001b[1;33m.\u001b[0m\u001b[0maverage\u001b[0m\u001b[1;33m}\u001b[0m\u001b[1;33m)\u001b[0m\u001b[1;33m\u001b[0m\u001b[1;33m\u001b[0m\u001b[0m\n\u001b[0m\u001b[0;32m      4\u001b[0m \u001b[0mpd\u001b[0m\u001b[1;33m.\u001b[0m\u001b[0mcut\u001b[0m\u001b[1;33m(\u001b[0m\u001b[0mdf\u001b[0m\u001b[1;33m[\u001b[0m\u001b[1;34m'avg'\u001b[0m\u001b[1;33m]\u001b[0m\u001b[1;33m,\u001b[0m\u001b[1;36m10\u001b[0m\u001b[1;33m)\u001b[0m\u001b[1;33m\u001b[0m\u001b[1;33m\u001b[0m\u001b[0m\n",
      "\u001b[1;32m~\\anaconda3\\lib\\site-packages\\pandas\\core\\groupby\\generic.py\u001b[0m in \u001b[0;36maggregate\u001b[1;34m(self, func, *args, **kwargs)\u001b[0m\n\u001b[0;32m    251\u001b[0m             \u001b[1;31m# but not the class list / tuple itself.\u001b[0m\u001b[1;33m\u001b[0m\u001b[1;33m\u001b[0m\u001b[1;33m\u001b[0m\u001b[0m\n\u001b[0;32m    252\u001b[0m             \u001b[0mfunc\u001b[0m \u001b[1;33m=\u001b[0m \u001b[0m_maybe_mangle_lambdas\u001b[0m\u001b[1;33m(\u001b[0m\u001b[0mfunc\u001b[0m\u001b[1;33m)\u001b[0m\u001b[1;33m\u001b[0m\u001b[1;33m\u001b[0m\u001b[0m\n\u001b[1;32m--> 253\u001b[1;33m             \u001b[0mret\u001b[0m \u001b[1;33m=\u001b[0m \u001b[0mself\u001b[0m\u001b[1;33m.\u001b[0m\u001b[0m_aggregate_multiple_funcs\u001b[0m\u001b[1;33m(\u001b[0m\u001b[0mfunc\u001b[0m\u001b[1;33m)\u001b[0m\u001b[1;33m\u001b[0m\u001b[1;33m\u001b[0m\u001b[0m\n\u001b[0m\u001b[0;32m    254\u001b[0m             \u001b[1;32mif\u001b[0m \u001b[0mrelabeling\u001b[0m\u001b[1;33m:\u001b[0m\u001b[1;33m\u001b[0m\u001b[1;33m\u001b[0m\u001b[0m\n\u001b[0;32m    255\u001b[0m                 \u001b[0mret\u001b[0m\u001b[1;33m.\u001b[0m\u001b[0mcolumns\u001b[0m \u001b[1;33m=\u001b[0m \u001b[0mcolumns\u001b[0m\u001b[1;33m\u001b[0m\u001b[1;33m\u001b[0m\u001b[0m\n",
      "\u001b[1;32m~\\anaconda3\\lib\\site-packages\\pandas\\core\\groupby\\generic.py\u001b[0m in \u001b[0;36m_aggregate_multiple_funcs\u001b[1;34m(self, arg)\u001b[0m\n\u001b[0;32m    292\u001b[0m             \u001b[1;31m# GH 15931\u001b[0m\u001b[1;33m\u001b[0m\u001b[1;33m\u001b[0m\u001b[1;33m\u001b[0m\u001b[0m\n\u001b[0;32m    293\u001b[0m             \u001b[1;32mif\u001b[0m \u001b[0misinstance\u001b[0m\u001b[1;33m(\u001b[0m\u001b[0mself\u001b[0m\u001b[1;33m.\u001b[0m\u001b[0m_selected_obj\u001b[0m\u001b[1;33m,\u001b[0m \u001b[0mSeries\u001b[0m\u001b[1;33m)\u001b[0m\u001b[1;33m:\u001b[0m\u001b[1;33m\u001b[0m\u001b[1;33m\u001b[0m\u001b[0m\n\u001b[1;32m--> 294\u001b[1;33m                 \u001b[1;32mraise\u001b[0m \u001b[0mSpecificationError\u001b[0m\u001b[1;33m(\u001b[0m\u001b[1;34m\"nested renamer is not supported\"\u001b[0m\u001b[1;33m)\u001b[0m\u001b[1;33m\u001b[0m\u001b[1;33m\u001b[0m\u001b[0m\n\u001b[0m\u001b[0;32m    295\u001b[0m \u001b[1;33m\u001b[0m\u001b[0m\n\u001b[0;32m    296\u001b[0m             \u001b[0mcolumns\u001b[0m \u001b[1;33m=\u001b[0m \u001b[0mlist\u001b[0m\u001b[1;33m(\u001b[0m\u001b[0marg\u001b[0m\u001b[1;33m.\u001b[0m\u001b[0mkeys\u001b[0m\u001b[1;33m(\u001b[0m\u001b[1;33m)\u001b[0m\u001b[1;33m)\u001b[0m\u001b[1;33m\u001b[0m\u001b[1;33m\u001b[0m\u001b[0m\n",
      "\u001b[1;31mSpecificationError\u001b[0m: nested renamer is not supported"
     ]
    }
   ],
   "source": [
    "df = pd.read_csv('census.csv')\n",
    "df = df[df['SUMLEV']==50]\n",
    "df = df.set_index('STNAME').groupby(level=0)['CENSUS2010POP'].agg({'avg': np.average})\n",
    "pd.cut(df['avg'],10)"
   ]
  },
  {
   "cell_type": "markdown",
   "metadata": {},
   "source": [
    "# Pivot Tables"
   ]
  },
  {
   "cell_type": "code",
   "execution_count": 9,
   "metadata": {
    "collapsed": true
   },
   "outputs": [],
   "source": [
    "#http://open.canada.ca/data/en/dataset/98f1a129-f628-4ce4-b24d-6f16bf24dd64\n",
    "df = pd.read_csv('cars.csv')"
   ]
  },
  {
   "cell_type": "code",
   "execution_count": 11,
   "metadata": {},
   "outputs": [
    {
     "output_type": "execute_result",
     "data": {
      "text/plain": "   YEAR        Make           Model        Size  (kW) Unnamed: 5 TYPE  \\\n0  2012  MITSUBISHI          i-MiEV  SUBCOMPACT    49         A1    B   \n1  2012      NISSAN            LEAF    MID-SIZE    80         A1    B   \n2  2013        FORD  FOCUS ELECTRIC     COMPACT   107         A1    B   \n3  2013  MITSUBISHI          i-MiEV  SUBCOMPACT    49         A1    B   \n4  2013      NISSAN            LEAF    MID-SIZE    80         A1    B   \n\n   CITY (kWh/100 km)  HWY (kWh/100 km)  COMB (kWh/100 km)  CITY (Le/100 km)  \\\n0               16.9              21.4               18.7               1.9   \n1               19.3              23.0               21.1               2.2   \n2               19.0              21.1               20.0               2.1   \n3               16.9              21.4               18.7               1.9   \n4               19.3              23.0               21.1               2.2   \n\n   HWY (Le/100 km)  COMB (Le/100 km)  (g/km)  RATING  (km)  TIME (h)  \n0              2.4               2.1       0     NaN   100         7  \n1              2.6               2.4       0     NaN   117         7  \n2              2.4               2.2       0     NaN   122         4  \n3              2.4               2.1       0     NaN   100         7  \n4              2.6               2.4       0     NaN   117         7  ",
      "text/html": "<div>\n<style scoped>\n    .dataframe tbody tr th:only-of-type {\n        vertical-align: middle;\n    }\n\n    .dataframe tbody tr th {\n        vertical-align: top;\n    }\n\n    .dataframe thead th {\n        text-align: right;\n    }\n</style>\n<table border=\"1\" class=\"dataframe\">\n  <thead>\n    <tr style=\"text-align: right;\">\n      <th></th>\n      <th>YEAR</th>\n      <th>Make</th>\n      <th>Model</th>\n      <th>Size</th>\n      <th>(kW)</th>\n      <th>Unnamed: 5</th>\n      <th>TYPE</th>\n      <th>CITY (kWh/100 km)</th>\n      <th>HWY (kWh/100 km)</th>\n      <th>COMB (kWh/100 km)</th>\n      <th>CITY (Le/100 km)</th>\n      <th>HWY (Le/100 km)</th>\n      <th>COMB (Le/100 km)</th>\n      <th>(g/km)</th>\n      <th>RATING</th>\n      <th>(km)</th>\n      <th>TIME (h)</th>\n    </tr>\n  </thead>\n  <tbody>\n    <tr>\n      <th>0</th>\n      <td>2012</td>\n      <td>MITSUBISHI</td>\n      <td>i-MiEV</td>\n      <td>SUBCOMPACT</td>\n      <td>49</td>\n      <td>A1</td>\n      <td>B</td>\n      <td>16.9</td>\n      <td>21.4</td>\n      <td>18.7</td>\n      <td>1.9</td>\n      <td>2.4</td>\n      <td>2.1</td>\n      <td>0</td>\n      <td>NaN</td>\n      <td>100</td>\n      <td>7</td>\n    </tr>\n    <tr>\n      <th>1</th>\n      <td>2012</td>\n      <td>NISSAN</td>\n      <td>LEAF</td>\n      <td>MID-SIZE</td>\n      <td>80</td>\n      <td>A1</td>\n      <td>B</td>\n      <td>19.3</td>\n      <td>23.0</td>\n      <td>21.1</td>\n      <td>2.2</td>\n      <td>2.6</td>\n      <td>2.4</td>\n      <td>0</td>\n      <td>NaN</td>\n      <td>117</td>\n      <td>7</td>\n    </tr>\n    <tr>\n      <th>2</th>\n      <td>2013</td>\n      <td>FORD</td>\n      <td>FOCUS ELECTRIC</td>\n      <td>COMPACT</td>\n      <td>107</td>\n      <td>A1</td>\n      <td>B</td>\n      <td>19.0</td>\n      <td>21.1</td>\n      <td>20.0</td>\n      <td>2.1</td>\n      <td>2.4</td>\n      <td>2.2</td>\n      <td>0</td>\n      <td>NaN</td>\n      <td>122</td>\n      <td>4</td>\n    </tr>\n    <tr>\n      <th>3</th>\n      <td>2013</td>\n      <td>MITSUBISHI</td>\n      <td>i-MiEV</td>\n      <td>SUBCOMPACT</td>\n      <td>49</td>\n      <td>A1</td>\n      <td>B</td>\n      <td>16.9</td>\n      <td>21.4</td>\n      <td>18.7</td>\n      <td>1.9</td>\n      <td>2.4</td>\n      <td>2.1</td>\n      <td>0</td>\n      <td>NaN</td>\n      <td>100</td>\n      <td>7</td>\n    </tr>\n    <tr>\n      <th>4</th>\n      <td>2013</td>\n      <td>NISSAN</td>\n      <td>LEAF</td>\n      <td>MID-SIZE</td>\n      <td>80</td>\n      <td>A1</td>\n      <td>B</td>\n      <td>19.3</td>\n      <td>23.0</td>\n      <td>21.1</td>\n      <td>2.2</td>\n      <td>2.6</td>\n      <td>2.4</td>\n      <td>0</td>\n      <td>NaN</td>\n      <td>117</td>\n      <td>7</td>\n    </tr>\n  </tbody>\n</table>\n</div>"
     },
     "metadata": {},
     "execution_count": 11
    }
   ],
   "source": [
    "df.head()"
   ]
  },
  {
   "cell_type": "code",
   "execution_count": 10,
   "metadata": {},
   "outputs": [
    {
     "output_type": "execute_result",
     "data": {
      "text/plain": "Make    BMW  CHEVROLET   FORD   KIA  MITSUBISHI  NISSAN  SMART       TESLA\nYEAR                                                                      \n2012    NaN        NaN    NaN   NaN        49.0    80.0    NaN         NaN\n2013    NaN        NaN  107.0   NaN        49.0    80.0   35.0  280.000000\n2014    NaN      104.0  107.0   NaN        49.0    80.0   35.0  268.333333\n2015  125.0      104.0  107.0  81.0        49.0    80.0   35.0  320.666667\n2016  125.0      104.0  107.0  81.0        49.0    80.0   35.0  409.700000",
      "text/html": "<div>\n<style scoped>\n    .dataframe tbody tr th:only-of-type {\n        vertical-align: middle;\n    }\n\n    .dataframe tbody tr th {\n        vertical-align: top;\n    }\n\n    .dataframe thead th {\n        text-align: right;\n    }\n</style>\n<table border=\"1\" class=\"dataframe\">\n  <thead>\n    <tr style=\"text-align: right;\">\n      <th>Make</th>\n      <th>BMW</th>\n      <th>CHEVROLET</th>\n      <th>FORD</th>\n      <th>KIA</th>\n      <th>MITSUBISHI</th>\n      <th>NISSAN</th>\n      <th>SMART</th>\n      <th>TESLA</th>\n    </tr>\n    <tr>\n      <th>YEAR</th>\n      <th></th>\n      <th></th>\n      <th></th>\n      <th></th>\n      <th></th>\n      <th></th>\n      <th></th>\n      <th></th>\n    </tr>\n  </thead>\n  <tbody>\n    <tr>\n      <th>2012</th>\n      <td>NaN</td>\n      <td>NaN</td>\n      <td>NaN</td>\n      <td>NaN</td>\n      <td>49.0</td>\n      <td>80.0</td>\n      <td>NaN</td>\n      <td>NaN</td>\n    </tr>\n    <tr>\n      <th>2013</th>\n      <td>NaN</td>\n      <td>NaN</td>\n      <td>107.0</td>\n      <td>NaN</td>\n      <td>49.0</td>\n      <td>80.0</td>\n      <td>35.0</td>\n      <td>280.000000</td>\n    </tr>\n    <tr>\n      <th>2014</th>\n      <td>NaN</td>\n      <td>104.0</td>\n      <td>107.0</td>\n      <td>NaN</td>\n      <td>49.0</td>\n      <td>80.0</td>\n      <td>35.0</td>\n      <td>268.333333</td>\n    </tr>\n    <tr>\n      <th>2015</th>\n      <td>125.0</td>\n      <td>104.0</td>\n      <td>107.0</td>\n      <td>81.0</td>\n      <td>49.0</td>\n      <td>80.0</td>\n      <td>35.0</td>\n      <td>320.666667</td>\n    </tr>\n    <tr>\n      <th>2016</th>\n      <td>125.0</td>\n      <td>104.0</td>\n      <td>107.0</td>\n      <td>81.0</td>\n      <td>49.0</td>\n      <td>80.0</td>\n      <td>35.0</td>\n      <td>409.700000</td>\n    </tr>\n  </tbody>\n</table>\n</div>"
     },
     "metadata": {},
     "execution_count": 10
    }
   ],
   "source": [
    "df.pivot_table(values='(kW)', index='YEAR', columns='Make', aggfunc=np.mean)"
   ]
  },
  {
   "cell_type": "code",
   "execution_count": 12,
   "metadata": {},
   "outputs": [
    {
     "output_type": "execute_result",
     "data": {
      "text/plain": "       mean                                                             \\\nMake    BMW CHEVROLET   FORD   KIA MITSUBISHI NISSAN SMART       TESLA   \nYEAR                                                                     \n2012    NaN       NaN    NaN   NaN       49.0   80.0   NaN         NaN   \n2013    NaN       NaN  107.0   NaN       49.0   80.0  35.0  280.000000   \n2014    NaN     104.0  107.0   NaN       49.0   80.0  35.0  268.333333   \n2015  125.0     104.0  107.0  81.0       49.0   80.0  35.0  320.666667   \n2016  125.0     104.0  107.0  81.0       49.0   80.0  35.0  409.700000   \nAll   125.0     104.0  107.0  81.0       49.0   80.0  35.0  345.478261   \n\n                   amin                                                        \\\nMake         All    BMW CHEVROLET   FORD   KIA MITSUBISHI NISSAN SMART  TESLA   \nYEAR                                                                            \n2012   64.500000    NaN       NaN    NaN   NaN       49.0   80.0   NaN    NaN   \n2013  158.444444    NaN       NaN  107.0   NaN       49.0   80.0  35.0  270.0   \n2014  135.000000    NaN     104.0  107.0   NaN       49.0   80.0  35.0  225.0   \n2015  181.428571  125.0     104.0  107.0  81.0       49.0   80.0  35.0  280.0   \n2016  252.263158  125.0     104.0  107.0  81.0       49.0   80.0  35.0  283.0   \nAll   190.622642  125.0     104.0  107.0  81.0       49.0   80.0  35.0  225.0   \n\n          \nMake All  \nYEAR      \n2012  49  \n2013  35  \n2014  35  \n2015  35  \n2016  35  \nAll   35  ",
      "text/html": "<div>\n<style scoped>\n    .dataframe tbody tr th:only-of-type {\n        vertical-align: middle;\n    }\n\n    .dataframe tbody tr th {\n        vertical-align: top;\n    }\n\n    .dataframe thead tr th {\n        text-align: left;\n    }\n\n    .dataframe thead tr:last-of-type th {\n        text-align: right;\n    }\n</style>\n<table border=\"1\" class=\"dataframe\">\n  <thead>\n    <tr>\n      <th></th>\n      <th colspan=\"9\" halign=\"left\">mean</th>\n      <th colspan=\"9\" halign=\"left\">amin</th>\n    </tr>\n    <tr>\n      <th>Make</th>\n      <th>BMW</th>\n      <th>CHEVROLET</th>\n      <th>FORD</th>\n      <th>KIA</th>\n      <th>MITSUBISHI</th>\n      <th>NISSAN</th>\n      <th>SMART</th>\n      <th>TESLA</th>\n      <th>All</th>\n      <th>BMW</th>\n      <th>CHEVROLET</th>\n      <th>FORD</th>\n      <th>KIA</th>\n      <th>MITSUBISHI</th>\n      <th>NISSAN</th>\n      <th>SMART</th>\n      <th>TESLA</th>\n      <th>All</th>\n    </tr>\n    <tr>\n      <th>YEAR</th>\n      <th></th>\n      <th></th>\n      <th></th>\n      <th></th>\n      <th></th>\n      <th></th>\n      <th></th>\n      <th></th>\n      <th></th>\n      <th></th>\n      <th></th>\n      <th></th>\n      <th></th>\n      <th></th>\n      <th></th>\n      <th></th>\n      <th></th>\n      <th></th>\n    </tr>\n  </thead>\n  <tbody>\n    <tr>\n      <th>2012</th>\n      <td>NaN</td>\n      <td>NaN</td>\n      <td>NaN</td>\n      <td>NaN</td>\n      <td>49.0</td>\n      <td>80.0</td>\n      <td>NaN</td>\n      <td>NaN</td>\n      <td>64.500000</td>\n      <td>NaN</td>\n      <td>NaN</td>\n      <td>NaN</td>\n      <td>NaN</td>\n      <td>49.0</td>\n      <td>80.0</td>\n      <td>NaN</td>\n      <td>NaN</td>\n      <td>49</td>\n    </tr>\n    <tr>\n      <th>2013</th>\n      <td>NaN</td>\n      <td>NaN</td>\n      <td>107.0</td>\n      <td>NaN</td>\n      <td>49.0</td>\n      <td>80.0</td>\n      <td>35.0</td>\n      <td>280.000000</td>\n      <td>158.444444</td>\n      <td>NaN</td>\n      <td>NaN</td>\n      <td>107.0</td>\n      <td>NaN</td>\n      <td>49.0</td>\n      <td>80.0</td>\n      <td>35.0</td>\n      <td>270.0</td>\n      <td>35</td>\n    </tr>\n    <tr>\n      <th>2014</th>\n      <td>NaN</td>\n      <td>104.0</td>\n      <td>107.0</td>\n      <td>NaN</td>\n      <td>49.0</td>\n      <td>80.0</td>\n      <td>35.0</td>\n      <td>268.333333</td>\n      <td>135.000000</td>\n      <td>NaN</td>\n      <td>104.0</td>\n      <td>107.0</td>\n      <td>NaN</td>\n      <td>49.0</td>\n      <td>80.0</td>\n      <td>35.0</td>\n      <td>225.0</td>\n      <td>35</td>\n    </tr>\n    <tr>\n      <th>2015</th>\n      <td>125.0</td>\n      <td>104.0</td>\n      <td>107.0</td>\n      <td>81.0</td>\n      <td>49.0</td>\n      <td>80.0</td>\n      <td>35.0</td>\n      <td>320.666667</td>\n      <td>181.428571</td>\n      <td>125.0</td>\n      <td>104.0</td>\n      <td>107.0</td>\n      <td>81.0</td>\n      <td>49.0</td>\n      <td>80.0</td>\n      <td>35.0</td>\n      <td>280.0</td>\n      <td>35</td>\n    </tr>\n    <tr>\n      <th>2016</th>\n      <td>125.0</td>\n      <td>104.0</td>\n      <td>107.0</td>\n      <td>81.0</td>\n      <td>49.0</td>\n      <td>80.0</td>\n      <td>35.0</td>\n      <td>409.700000</td>\n      <td>252.263158</td>\n      <td>125.0</td>\n      <td>104.0</td>\n      <td>107.0</td>\n      <td>81.0</td>\n      <td>49.0</td>\n      <td>80.0</td>\n      <td>35.0</td>\n      <td>283.0</td>\n      <td>35</td>\n    </tr>\n    <tr>\n      <th>All</th>\n      <td>125.0</td>\n      <td>104.0</td>\n      <td>107.0</td>\n      <td>81.0</td>\n      <td>49.0</td>\n      <td>80.0</td>\n      <td>35.0</td>\n      <td>345.478261</td>\n      <td>190.622642</td>\n      <td>125.0</td>\n      <td>104.0</td>\n      <td>107.0</td>\n      <td>81.0</td>\n      <td>49.0</td>\n      <td>80.0</td>\n      <td>35.0</td>\n      <td>225.0</td>\n      <td>35</td>\n    </tr>\n  </tbody>\n</table>\n</div>"
     },
     "metadata": {},
     "execution_count": 12
    }
   ],
   "source": [
    "df.pivot_table(values='(kW)', index='YEAR', columns='Make', aggfunc=[np.mean,np.min], margins=True)"
   ]
  },
  {
   "cell_type": "markdown",
   "metadata": {},
   "source": [
    "# Date Functionality in Pandas"
   ]
  },
  {
   "cell_type": "code",
   "execution_count": 13,
   "metadata": {
    "collapsed": true
   },
   "outputs": [],
   "source": [
    "import pandas as pd\n",
    "import numpy as np"
   ]
  },
  {
   "cell_type": "markdown",
   "metadata": {},
   "source": [
    "### Timestamp"
   ]
  },
  {
   "cell_type": "code",
   "execution_count": 42,
   "metadata": {},
   "outputs": [
    {
     "output_type": "execute_result",
     "data": {
      "text/plain": "Timestamp('2016-09-01 10:05:00')"
     },
     "metadata": {},
     "execution_count": 42
    }
   ],
   "source": [
    "pd.Timestamp('9/1/2016 10:05AM')"
   ]
  },
  {
   "cell_type": "markdown",
   "metadata": {},
   "source": [
    "### Period"
   ]
  },
  {
   "cell_type": "code",
   "execution_count": 43,
   "metadata": {},
   "outputs": [
    {
     "output_type": "execute_result",
     "data": {
      "text/plain": "Period('2016-01', 'M')"
     },
     "metadata": {},
     "execution_count": 43
    }
   ],
   "source": [
    "pd.Period('1/2016')"
   ]
  },
  {
   "cell_type": "code",
   "execution_count": 44,
   "metadata": {},
   "outputs": [
    {
     "output_type": "execute_result",
     "data": {
      "text/plain": "Period('2016-03-05', 'D')"
     },
     "metadata": {},
     "execution_count": 44
    }
   ],
   "source": [
    "pd.Period('3/5/2016')"
   ]
  },
  {
   "cell_type": "markdown",
   "metadata": {},
   "source": [
    "### DatetimeIndex"
   ]
  },
  {
   "cell_type": "code",
   "execution_count": 45,
   "metadata": {},
   "outputs": [
    {
     "output_type": "execute_result",
     "data": {
      "text/plain": "2016-09-01    a\n2016-09-02    b\n2016-09-03    c\ndtype: object"
     },
     "metadata": {},
     "execution_count": 45
    }
   ],
   "source": [
    "t1 = pd.Series(list('abc'), [pd.Timestamp('2016-09-01'), pd.Timestamp('2016-09-02'), pd.Timestamp('2016-09-03')])\n",
    "t1"
   ]
  },
  {
   "cell_type": "code",
   "execution_count": 46,
   "metadata": {},
   "outputs": [
    {
     "output_type": "execute_result",
     "data": {
      "text/plain": "pandas.core.indexes.datetimes.DatetimeIndex"
     },
     "metadata": {},
     "execution_count": 46
    }
   ],
   "source": [
    "type(t1.index)"
   ]
  },
  {
   "cell_type": "markdown",
   "metadata": {},
   "source": [
    "### PeriodIndex"
   ]
  },
  {
   "cell_type": "code",
   "execution_count": 47,
   "metadata": {},
   "outputs": [
    {
     "output_type": "execute_result",
     "data": {
      "text/plain": "2016-09    d\n2016-10    e\n2016-11    f\nFreq: M, dtype: object"
     },
     "metadata": {},
     "execution_count": 47
    }
   ],
   "source": [
    "t2 = pd.Series(list('def'), [pd.Period('2016-09'), pd.Period('2016-10'), pd.Period('2016-11')])\n",
    "t2"
   ]
  },
  {
   "cell_type": "code",
   "execution_count": 48,
   "metadata": {},
   "outputs": [
    {
     "output_type": "execute_result",
     "data": {
      "text/plain": "pandas.core.indexes.period.PeriodIndex"
     },
     "metadata": {},
     "execution_count": 48
    }
   ],
   "source": [
    "type(t2.index)"
   ]
  },
  {
   "cell_type": "markdown",
   "metadata": {},
   "source": [
    "### Converting to Datetime"
   ]
  },
  {
   "cell_type": "code",
   "execution_count": 49,
   "metadata": {},
   "outputs": [
    {
     "output_type": "execute_result",
     "data": {
      "text/plain": "               a   b\n2 June 2013   61  17\nAug 29, 2014  58  85\n2015-06-26    44  52\n7/12/16       60  98",
      "text/html": "<div>\n<style scoped>\n    .dataframe tbody tr th:only-of-type {\n        vertical-align: middle;\n    }\n\n    .dataframe tbody tr th {\n        vertical-align: top;\n    }\n\n    .dataframe thead th {\n        text-align: right;\n    }\n</style>\n<table border=\"1\" class=\"dataframe\">\n  <thead>\n    <tr style=\"text-align: right;\">\n      <th></th>\n      <th>a</th>\n      <th>b</th>\n    </tr>\n  </thead>\n  <tbody>\n    <tr>\n      <th>2 June 2013</th>\n      <td>61</td>\n      <td>17</td>\n    </tr>\n    <tr>\n      <th>Aug 29, 2014</th>\n      <td>58</td>\n      <td>85</td>\n    </tr>\n    <tr>\n      <th>2015-06-26</th>\n      <td>44</td>\n      <td>52</td>\n    </tr>\n    <tr>\n      <th>7/12/16</th>\n      <td>60</td>\n      <td>98</td>\n    </tr>\n  </tbody>\n</table>\n</div>"
     },
     "metadata": {},
     "execution_count": 49
    }
   ],
   "source": [
    "d1 = ['2 June 2013', 'Aug 29, 2014', '2015-06-26', '7/12/16']\n",
    "ts3 = pd.DataFrame(np.random.randint(10, 100, (4,2)), index=d1, columns=list('ab'))\n",
    "ts3"
   ]
  },
  {
   "cell_type": "code",
   "execution_count": 50,
   "metadata": {},
   "outputs": [
    {
     "output_type": "execute_result",
     "data": {
      "text/plain": "             a   b\n2013-06-02  61  17\n2014-08-29  58  85\n2015-06-26  44  52\n2016-07-12  60  98",
      "text/html": "<div>\n<style scoped>\n    .dataframe tbody tr th:only-of-type {\n        vertical-align: middle;\n    }\n\n    .dataframe tbody tr th {\n        vertical-align: top;\n    }\n\n    .dataframe thead th {\n        text-align: right;\n    }\n</style>\n<table border=\"1\" class=\"dataframe\">\n  <thead>\n    <tr style=\"text-align: right;\">\n      <th></th>\n      <th>a</th>\n      <th>b</th>\n    </tr>\n  </thead>\n  <tbody>\n    <tr>\n      <th>2013-06-02</th>\n      <td>61</td>\n      <td>17</td>\n    </tr>\n    <tr>\n      <th>2014-08-29</th>\n      <td>58</td>\n      <td>85</td>\n    </tr>\n    <tr>\n      <th>2015-06-26</th>\n      <td>44</td>\n      <td>52</td>\n    </tr>\n    <tr>\n      <th>2016-07-12</th>\n      <td>60</td>\n      <td>98</td>\n    </tr>\n  </tbody>\n</table>\n</div>"
     },
     "metadata": {},
     "execution_count": 50
    }
   ],
   "source": [
    "ts3.index = pd.to_datetime(ts3.index)\n",
    "ts3"
   ]
  },
  {
   "cell_type": "code",
   "execution_count": 51,
   "metadata": {},
   "outputs": [
    {
     "output_type": "execute_result",
     "data": {
      "text/plain": "Timestamp('2012-07-04 00:00:00')"
     },
     "metadata": {},
     "execution_count": 51
    }
   ],
   "source": [
    "pd.to_datetime('4.7.12', dayfirst=True)"
   ]
  },
  {
   "cell_type": "markdown",
   "metadata": {},
   "source": [
    "### Timedeltas"
   ]
  },
  {
   "cell_type": "code",
   "execution_count": 52,
   "metadata": {},
   "outputs": [
    {
     "output_type": "execute_result",
     "data": {
      "text/plain": "Timedelta('2 days 00:00:00')"
     },
     "metadata": {},
     "execution_count": 52
    }
   ],
   "source": [
    "pd.Timestamp('9/3/2016')-pd.Timestamp('9/1/2016')"
   ]
  },
  {
   "cell_type": "code",
   "execution_count": 53,
   "metadata": {},
   "outputs": [
    {
     "output_type": "execute_result",
     "data": {
      "text/plain": "Timestamp('2016-09-14 11:10:00')"
     },
     "metadata": {},
     "execution_count": 53
    }
   ],
   "source": [
    "pd.Timestamp('9/2/2016 8:10AM') + pd.Timedelta('12D 3H')"
   ]
  },
  {
   "cell_type": "markdown",
   "metadata": {},
   "source": [
    "### Working with Dates in a Dataframe"
   ]
  },
  {
   "cell_type": "code",
   "execution_count": 54,
   "metadata": {},
   "outputs": [
    {
     "output_type": "execute_result",
     "data": {
      "text/plain": "DatetimeIndex(['2016-10-02', '2016-10-16', '2016-10-30', '2016-11-13',\n               '2016-11-27', '2016-12-11', '2016-12-25', '2017-01-08',\n               '2017-01-22'],\n              dtype='datetime64[ns]', freq='2W-SUN')"
     },
     "metadata": {},
     "execution_count": 54
    }
   ],
   "source": [
    "dates = pd.date_range('10-01-2016', periods=9, freq='2W-SUN')\n",
    "dates"
   ]
  },
  {
   "cell_type": "code",
   "execution_count": 55,
   "metadata": {},
   "outputs": [
    {
     "output_type": "execute_result",
     "data": {
      "text/plain": "            Count 1  Count 2\n2016-10-02      105      124\n2016-10-16      107      116\n2016-10-30      105      129\n2016-11-13      102      129\n2016-11-27       97      119\n2016-12-11      101      125\n2016-12-25       98      119\n2017-01-08      100      128\n2017-01-22      103      121",
      "text/html": "<div>\n<style scoped>\n    .dataframe tbody tr th:only-of-type {\n        vertical-align: middle;\n    }\n\n    .dataframe tbody tr th {\n        vertical-align: top;\n    }\n\n    .dataframe thead th {\n        text-align: right;\n    }\n</style>\n<table border=\"1\" class=\"dataframe\">\n  <thead>\n    <tr style=\"text-align: right;\">\n      <th></th>\n      <th>Count 1</th>\n      <th>Count 2</th>\n    </tr>\n  </thead>\n  <tbody>\n    <tr>\n      <th>2016-10-02</th>\n      <td>105</td>\n      <td>124</td>\n    </tr>\n    <tr>\n      <th>2016-10-16</th>\n      <td>107</td>\n      <td>116</td>\n    </tr>\n    <tr>\n      <th>2016-10-30</th>\n      <td>105</td>\n      <td>129</td>\n    </tr>\n    <tr>\n      <th>2016-11-13</th>\n      <td>102</td>\n      <td>129</td>\n    </tr>\n    <tr>\n      <th>2016-11-27</th>\n      <td>97</td>\n      <td>119</td>\n    </tr>\n    <tr>\n      <th>2016-12-11</th>\n      <td>101</td>\n      <td>125</td>\n    </tr>\n    <tr>\n      <th>2016-12-25</th>\n      <td>98</td>\n      <td>119</td>\n    </tr>\n    <tr>\n      <th>2017-01-08</th>\n      <td>100</td>\n      <td>128</td>\n    </tr>\n    <tr>\n      <th>2017-01-22</th>\n      <td>103</td>\n      <td>121</td>\n    </tr>\n  </tbody>\n</table>\n</div>"
     },
     "metadata": {},
     "execution_count": 55
    }
   ],
   "source": [
    "df = pd.DataFrame({'Count 1': 100 + np.random.randint(-5, 10, 9).cumsum(),\n",
    "                  'Count 2': 120 + np.random.randint(-5, 10, 9)}, index=dates)\n",
    "df"
   ]
  },
  {
   "cell_type": "code",
   "execution_count": 56,
   "metadata": {},
   "outputs": [
    {
     "output_type": "error",
     "ename": "AttributeError",
     "evalue": "'DatetimeIndex' object has no attribute 'weekday_name'",
     "traceback": [
      "\u001b[1;31m---------------------------------------------------------------------------\u001b[0m",
      "\u001b[1;31mAttributeError\u001b[0m                            Traceback (most recent call last)",
      "\u001b[1;32m<ipython-input-56-89e418acb61d>\u001b[0m in \u001b[0;36m<module>\u001b[1;34m\u001b[0m\n\u001b[1;32m----> 1\u001b[1;33m \u001b[0mdf\u001b[0m\u001b[1;33m.\u001b[0m\u001b[0mindex\u001b[0m\u001b[1;33m.\u001b[0m\u001b[0mweekday_name\u001b[0m\u001b[1;33m\u001b[0m\u001b[1;33m\u001b[0m\u001b[0m\n\u001b[0m",
      "\u001b[1;31mAttributeError\u001b[0m: 'DatetimeIndex' object has no attribute 'weekday_name'"
     ]
    }
   ],
   "source": [
    "df.index.weekday_name"
   ]
  },
  {
   "cell_type": "code",
   "execution_count": 57,
   "metadata": {},
   "outputs": [
    {
     "output_type": "execute_result",
     "data": {
      "text/plain": "            Count 1  Count 2\n2016-10-02      NaN      NaN\n2016-10-16      2.0     -8.0\n2016-10-30     -2.0     13.0\n2016-11-13     -3.0      0.0\n2016-11-27     -5.0    -10.0\n2016-12-11      4.0      6.0\n2016-12-25     -3.0     -6.0\n2017-01-08      2.0      9.0\n2017-01-22      3.0     -7.0",
      "text/html": "<div>\n<style scoped>\n    .dataframe tbody tr th:only-of-type {\n        vertical-align: middle;\n    }\n\n    .dataframe tbody tr th {\n        vertical-align: top;\n    }\n\n    .dataframe thead th {\n        text-align: right;\n    }\n</style>\n<table border=\"1\" class=\"dataframe\">\n  <thead>\n    <tr style=\"text-align: right;\">\n      <th></th>\n      <th>Count 1</th>\n      <th>Count 2</th>\n    </tr>\n  </thead>\n  <tbody>\n    <tr>\n      <th>2016-10-02</th>\n      <td>NaN</td>\n      <td>NaN</td>\n    </tr>\n    <tr>\n      <th>2016-10-16</th>\n      <td>2.0</td>\n      <td>-8.0</td>\n    </tr>\n    <tr>\n      <th>2016-10-30</th>\n      <td>-2.0</td>\n      <td>13.0</td>\n    </tr>\n    <tr>\n      <th>2016-11-13</th>\n      <td>-3.0</td>\n      <td>0.0</td>\n    </tr>\n    <tr>\n      <th>2016-11-27</th>\n      <td>-5.0</td>\n      <td>-10.0</td>\n    </tr>\n    <tr>\n      <th>2016-12-11</th>\n      <td>4.0</td>\n      <td>6.0</td>\n    </tr>\n    <tr>\n      <th>2016-12-25</th>\n      <td>-3.0</td>\n      <td>-6.0</td>\n    </tr>\n    <tr>\n      <th>2017-01-08</th>\n      <td>2.0</td>\n      <td>9.0</td>\n    </tr>\n    <tr>\n      <th>2017-01-22</th>\n      <td>3.0</td>\n      <td>-7.0</td>\n    </tr>\n  </tbody>\n</table>\n</div>"
     },
     "metadata": {},
     "execution_count": 57
    }
   ],
   "source": [
    "df.diff()"
   ]
  },
  {
   "cell_type": "code",
   "execution_count": 58,
   "metadata": {},
   "outputs": [
    {
     "output_type": "execute_result",
     "data": {
      "text/plain": "               Count 1  Count 2\n2016-10-31  105.666667    123.0\n2016-11-30   99.500000    124.0\n2016-12-31   99.500000    122.0\n2017-01-31  101.500000    124.5",
      "text/html": "<div>\n<style scoped>\n    .dataframe tbody tr th:only-of-type {\n        vertical-align: middle;\n    }\n\n    .dataframe tbody tr th {\n        vertical-align: top;\n    }\n\n    .dataframe thead th {\n        text-align: right;\n    }\n</style>\n<table border=\"1\" class=\"dataframe\">\n  <thead>\n    <tr style=\"text-align: right;\">\n      <th></th>\n      <th>Count 1</th>\n      <th>Count 2</th>\n    </tr>\n  </thead>\n  <tbody>\n    <tr>\n      <th>2016-10-31</th>\n      <td>105.666667</td>\n      <td>123.0</td>\n    </tr>\n    <tr>\n      <th>2016-11-30</th>\n      <td>99.500000</td>\n      <td>124.0</td>\n    </tr>\n    <tr>\n      <th>2016-12-31</th>\n      <td>99.500000</td>\n      <td>122.0</td>\n    </tr>\n    <tr>\n      <th>2017-01-31</th>\n      <td>101.500000</td>\n      <td>124.5</td>\n    </tr>\n  </tbody>\n</table>\n</div>"
     },
     "metadata": {},
     "execution_count": 58
    }
   ],
   "source": [
    "df.resample('M').mean()"
   ]
  },
  {
   "cell_type": "code",
   "execution_count": 59,
   "metadata": {},
   "outputs": [
    {
     "output_type": "execute_result",
     "data": {
      "text/plain": "            Count 1  Count 2\n2017-01-08      100      128\n2017-01-22      103      121",
      "text/html": "<div>\n<style scoped>\n    .dataframe tbody tr th:only-of-type {\n        vertical-align: middle;\n    }\n\n    .dataframe tbody tr th {\n        vertical-align: top;\n    }\n\n    .dataframe thead th {\n        text-align: right;\n    }\n</style>\n<table border=\"1\" class=\"dataframe\">\n  <thead>\n    <tr style=\"text-align: right;\">\n      <th></th>\n      <th>Count 1</th>\n      <th>Count 2</th>\n    </tr>\n  </thead>\n  <tbody>\n    <tr>\n      <th>2017-01-08</th>\n      <td>100</td>\n      <td>128</td>\n    </tr>\n    <tr>\n      <th>2017-01-22</th>\n      <td>103</td>\n      <td>121</td>\n    </tr>\n  </tbody>\n</table>\n</div>"
     },
     "metadata": {},
     "execution_count": 59
    }
   ],
   "source": [
    "df['2017']"
   ]
  },
  {
   "cell_type": "code",
   "execution_count": 60,
   "metadata": {},
   "outputs": [
    {
     "output_type": "execute_result",
     "data": {
      "text/plain": "            Count 1  Count 2\n2016-12-11      101      125\n2016-12-25       98      119",
      "text/html": "<div>\n<style scoped>\n    .dataframe tbody tr th:only-of-type {\n        vertical-align: middle;\n    }\n\n    .dataframe tbody tr th {\n        vertical-align: top;\n    }\n\n    .dataframe thead th {\n        text-align: right;\n    }\n</style>\n<table border=\"1\" class=\"dataframe\">\n  <thead>\n    <tr style=\"text-align: right;\">\n      <th></th>\n      <th>Count 1</th>\n      <th>Count 2</th>\n    </tr>\n  </thead>\n  <tbody>\n    <tr>\n      <th>2016-12-11</th>\n      <td>101</td>\n      <td>125</td>\n    </tr>\n    <tr>\n      <th>2016-12-25</th>\n      <td>98</td>\n      <td>119</td>\n    </tr>\n  </tbody>\n</table>\n</div>"
     },
     "metadata": {},
     "execution_count": 60
    }
   ],
   "source": [
    "df['2016-12']"
   ]
  },
  {
   "cell_type": "code",
   "execution_count": 61,
   "metadata": {},
   "outputs": [
    {
     "output_type": "execute_result",
     "data": {
      "text/plain": "            Count 1  Count 2\n2016-12-11      101      125\n2016-12-25       98      119\n2017-01-08      100      128\n2017-01-22      103      121",
      "text/html": "<div>\n<style scoped>\n    .dataframe tbody tr th:only-of-type {\n        vertical-align: middle;\n    }\n\n    .dataframe tbody tr th {\n        vertical-align: top;\n    }\n\n    .dataframe thead th {\n        text-align: right;\n    }\n</style>\n<table border=\"1\" class=\"dataframe\">\n  <thead>\n    <tr style=\"text-align: right;\">\n      <th></th>\n      <th>Count 1</th>\n      <th>Count 2</th>\n    </tr>\n  </thead>\n  <tbody>\n    <tr>\n      <th>2016-12-11</th>\n      <td>101</td>\n      <td>125</td>\n    </tr>\n    <tr>\n      <th>2016-12-25</th>\n      <td>98</td>\n      <td>119</td>\n    </tr>\n    <tr>\n      <th>2017-01-08</th>\n      <td>100</td>\n      <td>128</td>\n    </tr>\n    <tr>\n      <th>2017-01-22</th>\n      <td>103</td>\n      <td>121</td>\n    </tr>\n  </tbody>\n</table>\n</div>"
     },
     "metadata": {},
     "execution_count": 61
    }
   ],
   "source": [
    "df['2016-12':]"
   ]
  },
  {
   "cell_type": "code",
   "execution_count": 62,
   "metadata": {},
   "outputs": [
    {
     "output_type": "execute_result",
     "data": {
      "text/plain": "            Count 1  Count 2\n2016-10-02      105      124\n2016-10-09      105      124\n2016-10-16      107      116\n2016-10-23      107      116\n2016-10-30      105      129\n2016-11-06      105      129\n2016-11-13      102      129\n2016-11-20      102      129\n2016-11-27       97      119\n2016-12-04       97      119\n2016-12-11      101      125\n2016-12-18      101      125\n2016-12-25       98      119\n2017-01-01       98      119\n2017-01-08      100      128\n2017-01-15      100      128\n2017-01-22      103      121",
      "text/html": "<div>\n<style scoped>\n    .dataframe tbody tr th:only-of-type {\n        vertical-align: middle;\n    }\n\n    .dataframe tbody tr th {\n        vertical-align: top;\n    }\n\n    .dataframe thead th {\n        text-align: right;\n    }\n</style>\n<table border=\"1\" class=\"dataframe\">\n  <thead>\n    <tr style=\"text-align: right;\">\n      <th></th>\n      <th>Count 1</th>\n      <th>Count 2</th>\n    </tr>\n  </thead>\n  <tbody>\n    <tr>\n      <th>2016-10-02</th>\n      <td>105</td>\n      <td>124</td>\n    </tr>\n    <tr>\n      <th>2016-10-09</th>\n      <td>105</td>\n      <td>124</td>\n    </tr>\n    <tr>\n      <th>2016-10-16</th>\n      <td>107</td>\n      <td>116</td>\n    </tr>\n    <tr>\n      <th>2016-10-23</th>\n      <td>107</td>\n      <td>116</td>\n    </tr>\n    <tr>\n      <th>2016-10-30</th>\n      <td>105</td>\n      <td>129</td>\n    </tr>\n    <tr>\n      <th>2016-11-06</th>\n      <td>105</td>\n      <td>129</td>\n    </tr>\n    <tr>\n      <th>2016-11-13</th>\n      <td>102</td>\n      <td>129</td>\n    </tr>\n    <tr>\n      <th>2016-11-20</th>\n      <td>102</td>\n      <td>129</td>\n    </tr>\n    <tr>\n      <th>2016-11-27</th>\n      <td>97</td>\n      <td>119</td>\n    </tr>\n    <tr>\n      <th>2016-12-04</th>\n      <td>97</td>\n      <td>119</td>\n    </tr>\n    <tr>\n      <th>2016-12-11</th>\n      <td>101</td>\n      <td>125</td>\n    </tr>\n    <tr>\n      <th>2016-12-18</th>\n      <td>101</td>\n      <td>125</td>\n    </tr>\n    <tr>\n      <th>2016-12-25</th>\n      <td>98</td>\n      <td>119</td>\n    </tr>\n    <tr>\n      <th>2017-01-01</th>\n      <td>98</td>\n      <td>119</td>\n    </tr>\n    <tr>\n      <th>2017-01-08</th>\n      <td>100</td>\n      <td>128</td>\n    </tr>\n    <tr>\n      <th>2017-01-15</th>\n      <td>100</td>\n      <td>128</td>\n    </tr>\n    <tr>\n      <th>2017-01-22</th>\n      <td>103</td>\n      <td>121</td>\n    </tr>\n  </tbody>\n</table>\n</div>"
     },
     "metadata": {},
     "execution_count": 62
    }
   ],
   "source": [
    "df.asfreq('W', method='ffill')"
   ]
  },
  {
   "cell_type": "code",
   "execution_count": 63,
   "metadata": {},
   "outputs": [
    {
     "output_type": "execute_result",
     "data": {
      "text/plain": "<matplotlib.axes._subplots.AxesSubplot at 0x21320ee7408>"
     },
     "metadata": {},
     "execution_count": 63
    },
    {
     "output_type": "display_data",
     "data": {
      "text/plain": "<Figure size 432x288 with 1 Axes>",
      "image/svg+xml": "<?xml version=\"1.0\" encoding=\"utf-8\" standalone=\"no\"?>\r\n<!DOCTYPE svg PUBLIC \"-//W3C//DTD SVG 1.1//EN\"\r\n  \"http://www.w3.org/Graphics/SVG/1.1/DTD/svg11.dtd\">\r\n<!-- Created with matplotlib (https://matplotlib.org/) -->\r\n<svg height=\"259.808793pt\" version=\"1.1\" viewBox=\"0 0 375.2875 259.808793\" width=\"375.2875pt\" xmlns=\"http://www.w3.org/2000/svg\" xmlns:xlink=\"http://www.w3.org/1999/xlink\">\r\n <defs>\r\n  <style type=\"text/css\">\r\n*{stroke-linecap:butt;stroke-linejoin:round;}\r\n  </style>\r\n </defs>\r\n <g id=\"figure_1\">\r\n  <g id=\"patch_1\">\r\n   <path d=\"M 0 259.808793 \r\nL 375.2875 259.808793 \r\nL 375.2875 0 \r\nL 0 0 \r\nz\r\n\" style=\"fill:none;\"/>\r\n  </g>\r\n  <g id=\"axes_1\">\r\n   <g id=\"patch_2\">\r\n    <path d=\"M 33.2875 224.732855 \r\nL 368.0875 224.732855 \r\nL 368.0875 7.292855 \r\nL 33.2875 7.292855 \r\nz\r\n\" style=\"fill:#ffffff;\"/>\r\n   </g>\r\n   <g id=\"matplotlib.axis_1\">\r\n    <g id=\"xtick_1\">\r\n     <g id=\"line2d_1\">\r\n      <defs>\r\n       <path d=\"M 0 0 \r\nL 0 3.5 \r\n\" id=\"m3b1f533feb\" style=\"stroke:#000000;stroke-width:0.8;\"/>\r\n      </defs>\r\n      <g>\r\n       <use style=\"stroke:#000000;stroke-width:0.8;\" x=\"33.2875\" xlink:href=\"#m3b1f533feb\" y=\"224.732855\"/>\r\n      </g>\r\n     </g>\r\n     <g id=\"text_1\">\r\n      <!-- Oct -->\r\n      <defs>\r\n       <path d=\"M 39.40625 66.21875 \r\nQ 28.65625 66.21875 22.328125 58.203125 \r\nQ 16.015625 50.203125 16.015625 36.375 \r\nQ 16.015625 22.609375 22.328125 14.59375 \r\nQ 28.65625 6.59375 39.40625 6.59375 \r\nQ 50.140625 6.59375 56.421875 14.59375 \r\nQ 62.703125 22.609375 62.703125 36.375 \r\nQ 62.703125 50.203125 56.421875 58.203125 \r\nQ 50.140625 66.21875 39.40625 66.21875 \r\nz\r\nM 39.40625 74.21875 \r\nQ 54.734375 74.21875 63.90625 63.9375 \r\nQ 73.09375 53.65625 73.09375 36.375 \r\nQ 73.09375 19.140625 63.90625 8.859375 \r\nQ 54.734375 -1.421875 39.40625 -1.421875 \r\nQ 24.03125 -1.421875 14.8125 8.828125 \r\nQ 5.609375 19.09375 5.609375 36.375 \r\nQ 5.609375 53.65625 14.8125 63.9375 \r\nQ 24.03125 74.21875 39.40625 74.21875 \r\nz\r\n\" id=\"DejaVuSans-79\"/>\r\n       <path d=\"M 48.78125 52.59375 \r\nL 48.78125 44.1875 \r\nQ 44.96875 46.296875 41.140625 47.34375 \r\nQ 37.3125 48.390625 33.40625 48.390625 \r\nQ 24.65625 48.390625 19.8125 42.84375 \r\nQ 14.984375 37.3125 14.984375 27.296875 \r\nQ 14.984375 17.28125 19.8125 11.734375 \r\nQ 24.65625 6.203125 33.40625 6.203125 \r\nQ 37.3125 6.203125 41.140625 7.25 \r\nQ 44.96875 8.296875 48.78125 10.40625 \r\nL 48.78125 2.09375 \r\nQ 45.015625 0.34375 40.984375 -0.53125 \r\nQ 36.96875 -1.421875 32.421875 -1.421875 \r\nQ 20.0625 -1.421875 12.78125 6.34375 \r\nQ 5.515625 14.109375 5.515625 27.296875 \r\nQ 5.515625 40.671875 12.859375 48.328125 \r\nQ 20.21875 56 33.015625 56 \r\nQ 37.15625 56 41.109375 55.140625 \r\nQ 45.0625 54.296875 48.78125 52.59375 \r\nz\r\n\" id=\"DejaVuSans-99\"/>\r\n       <path d=\"M 18.3125 70.21875 \r\nL 18.3125 54.6875 \r\nL 36.8125 54.6875 \r\nL 36.8125 47.703125 \r\nL 18.3125 47.703125 \r\nL 18.3125 18.015625 \r\nQ 18.3125 11.328125 20.140625 9.421875 \r\nQ 21.96875 7.515625 27.59375 7.515625 \r\nL 36.8125 7.515625 \r\nL 36.8125 0 \r\nL 27.59375 0 \r\nQ 17.1875 0 13.234375 3.875 \r\nQ 9.28125 7.765625 9.28125 18.015625 \r\nL 9.28125 47.703125 \r\nL 2.6875 47.703125 \r\nL 2.6875 54.6875 \r\nL 9.28125 54.6875 \r\nL 9.28125 70.21875 \r\nz\r\n\" id=\"DejaVuSans-116\"/>\r\n      </defs>\r\n      <g transform=\"translate(24.642187 239.331293)scale(0.1 -0.1)\">\r\n       <use xlink:href=\"#DejaVuSans-79\"/>\r\n       <use x=\"78.710938\" xlink:href=\"#DejaVuSans-99\"/>\r\n       <use x=\"133.691406\" xlink:href=\"#DejaVuSans-116\"/>\r\n      </g>\r\n     </g>\r\n    </g>\r\n    <g id=\"xtick_2\">\r\n     <g id=\"line2d_2\">\r\n      <g>\r\n       <use style=\"stroke:#000000;stroke-width:0.8;\" x=\"137.9125\" xlink:href=\"#m3b1f533feb\" y=\"224.732855\"/>\r\n      </g>\r\n     </g>\r\n     <g id=\"text_2\">\r\n      <!-- Nov -->\r\n      <defs>\r\n       <path d=\"M 9.8125 72.90625 \r\nL 23.09375 72.90625 \r\nL 55.421875 11.921875 \r\nL 55.421875 72.90625 \r\nL 64.984375 72.90625 \r\nL 64.984375 0 \r\nL 51.703125 0 \r\nL 19.390625 60.984375 \r\nL 19.390625 0 \r\nL 9.8125 0 \r\nz\r\n\" id=\"DejaVuSans-78\"/>\r\n       <path d=\"M 30.609375 48.390625 \r\nQ 23.390625 48.390625 19.1875 42.75 \r\nQ 14.984375 37.109375 14.984375 27.296875 \r\nQ 14.984375 17.484375 19.15625 11.84375 \r\nQ 23.34375 6.203125 30.609375 6.203125 \r\nQ 37.796875 6.203125 41.984375 11.859375 \r\nQ 46.1875 17.53125 46.1875 27.296875 \r\nQ 46.1875 37.015625 41.984375 42.703125 \r\nQ 37.796875 48.390625 30.609375 48.390625 \r\nz\r\nM 30.609375 56 \r\nQ 42.328125 56 49.015625 48.375 \r\nQ 55.71875 40.765625 55.71875 27.296875 \r\nQ 55.71875 13.875 49.015625 6.21875 \r\nQ 42.328125 -1.421875 30.609375 -1.421875 \r\nQ 18.84375 -1.421875 12.171875 6.21875 \r\nQ 5.515625 13.875 5.515625 27.296875 \r\nQ 5.515625 40.765625 12.171875 48.375 \r\nQ 18.84375 56 30.609375 56 \r\nz\r\n\" id=\"DejaVuSans-111\"/>\r\n       <path d=\"M 2.984375 54.6875 \r\nL 12.5 54.6875 \r\nL 29.59375 8.796875 \r\nL 46.6875 54.6875 \r\nL 56.203125 54.6875 \r\nL 35.6875 0 \r\nL 23.484375 0 \r\nz\r\n\" id=\"DejaVuSans-118\"/>\r\n      </defs>\r\n      <g transform=\"translate(128.153125 239.331293)scale(0.1 -0.1)\">\r\n       <use xlink:href=\"#DejaVuSans-78\"/>\r\n       <use x=\"74.804688\" xlink:href=\"#DejaVuSans-111\"/>\r\n       <use x=\"135.986328\" xlink:href=\"#DejaVuSans-118\"/>\r\n      </g>\r\n     </g>\r\n    </g>\r\n    <g id=\"xtick_3\">\r\n     <g id=\"line2d_3\">\r\n      <g>\r\n       <use style=\"stroke:#000000;stroke-width:0.8;\" x=\"221.6125\" xlink:href=\"#m3b1f533feb\" y=\"224.732855\"/>\r\n      </g>\r\n     </g>\r\n     <g id=\"text_3\">\r\n      <!-- Dec -->\r\n      <defs>\r\n       <path d=\"M 19.671875 64.796875 \r\nL 19.671875 8.109375 \r\nL 31.59375 8.109375 \r\nQ 46.6875 8.109375 53.6875 14.9375 \r\nQ 60.6875 21.78125 60.6875 36.53125 \r\nQ 60.6875 51.171875 53.6875 57.984375 \r\nQ 46.6875 64.796875 31.59375 64.796875 \r\nz\r\nM 9.8125 72.90625 \r\nL 30.078125 72.90625 \r\nQ 51.265625 72.90625 61.171875 64.09375 \r\nQ 71.09375 55.28125 71.09375 36.53125 \r\nQ 71.09375 17.671875 61.125 8.828125 \r\nQ 51.171875 0 30.078125 0 \r\nL 9.8125 0 \r\nz\r\n\" id=\"DejaVuSans-68\"/>\r\n       <path d=\"M 56.203125 29.59375 \r\nL 56.203125 25.203125 \r\nL 14.890625 25.203125 \r\nQ 15.484375 15.921875 20.484375 11.0625 \r\nQ 25.484375 6.203125 34.421875 6.203125 \r\nQ 39.59375 6.203125 44.453125 7.46875 \r\nQ 49.3125 8.734375 54.109375 11.28125 \r\nL 54.109375 2.78125 \r\nQ 49.265625 0.734375 44.1875 -0.34375 \r\nQ 39.109375 -1.421875 33.890625 -1.421875 \r\nQ 20.796875 -1.421875 13.15625 6.1875 \r\nQ 5.515625 13.8125 5.515625 26.8125 \r\nQ 5.515625 40.234375 12.765625 48.109375 \r\nQ 20.015625 56 32.328125 56 \r\nQ 43.359375 56 49.78125 48.890625 \r\nQ 56.203125 41.796875 56.203125 29.59375 \r\nz\r\nM 47.21875 32.234375 \r\nQ 47.125 39.59375 43.09375 43.984375 \r\nQ 39.0625 48.390625 32.421875 48.390625 \r\nQ 24.90625 48.390625 20.390625 44.140625 \r\nQ 15.875 39.890625 15.1875 32.171875 \r\nz\r\n\" id=\"DejaVuSans-101\"/>\r\n      </defs>\r\n      <g transform=\"translate(211.936719 239.331293)scale(0.1 -0.1)\">\r\n       <use xlink:href=\"#DejaVuSans-68\"/>\r\n       <use x=\"77.001953\" xlink:href=\"#DejaVuSans-101\"/>\r\n       <use x=\"138.525391\" xlink:href=\"#DejaVuSans-99\"/>\r\n      </g>\r\n     </g>\r\n    </g>\r\n    <g id=\"xtick_4\">\r\n     <g id=\"line2d_4\">\r\n      <g>\r\n       <use style=\"stroke:#000000;stroke-width:0.8;\" x=\"305.3125\" xlink:href=\"#m3b1f533feb\" y=\"224.732855\"/>\r\n      </g>\r\n     </g>\r\n     <g id=\"text_4\">\r\n      <!-- Jan -->\r\n      <defs>\r\n       <path d=\"M 9.8125 72.90625 \r\nL 19.671875 72.90625 \r\nL 19.671875 5.078125 \r\nQ 19.671875 -8.109375 14.671875 -14.0625 \r\nQ 9.671875 -20.015625 -1.421875 -20.015625 \r\nL -5.171875 -20.015625 \r\nL -5.171875 -11.71875 \r\nL -2.09375 -11.71875 \r\nQ 4.4375 -11.71875 7.125 -8.046875 \r\nQ 9.8125 -4.390625 9.8125 5.078125 \r\nz\r\n\" id=\"DejaVuSans-74\"/>\r\n       <path d=\"M 34.28125 27.484375 \r\nQ 23.390625 27.484375 19.1875 25 \r\nQ 14.984375 22.515625 14.984375 16.5 \r\nQ 14.984375 11.71875 18.140625 8.90625 \r\nQ 21.296875 6.109375 26.703125 6.109375 \r\nQ 34.1875 6.109375 38.703125 11.40625 \r\nQ 43.21875 16.703125 43.21875 25.484375 \r\nL 43.21875 27.484375 \r\nz\r\nM 52.203125 31.203125 \r\nL 52.203125 0 \r\nL 43.21875 0 \r\nL 43.21875 8.296875 \r\nQ 40.140625 3.328125 35.546875 0.953125 \r\nQ 30.953125 -1.421875 24.3125 -1.421875 \r\nQ 15.921875 -1.421875 10.953125 3.296875 \r\nQ 6 8.015625 6 15.921875 \r\nQ 6 25.140625 12.171875 29.828125 \r\nQ 18.359375 34.515625 30.609375 34.515625 \r\nL 43.21875 34.515625 \r\nL 43.21875 35.40625 \r\nQ 43.21875 41.609375 39.140625 45 \r\nQ 35.0625 48.390625 27.6875 48.390625 \r\nQ 23 48.390625 18.546875 47.265625 \r\nQ 14.109375 46.140625 10.015625 43.890625 \r\nL 10.015625 52.203125 \r\nQ 14.9375 54.109375 19.578125 55.046875 \r\nQ 24.21875 56 28.609375 56 \r\nQ 40.484375 56 46.34375 49.84375 \r\nQ 52.203125 43.703125 52.203125 31.203125 \r\nz\r\n\" id=\"DejaVuSans-97\"/>\r\n       <path d=\"M 54.890625 33.015625 \r\nL 54.890625 0 \r\nL 45.90625 0 \r\nL 45.90625 32.71875 \r\nQ 45.90625 40.484375 42.875 44.328125 \r\nQ 39.84375 48.1875 33.796875 48.1875 \r\nQ 26.515625 48.1875 22.3125 43.546875 \r\nQ 18.109375 38.921875 18.109375 30.90625 \r\nL 18.109375 0 \r\nL 9.078125 0 \r\nL 9.078125 54.6875 \r\nL 18.109375 54.6875 \r\nL 18.109375 46.1875 \r\nQ 21.34375 51.125 25.703125 53.5625 \r\nQ 30.078125 56 35.796875 56 \r\nQ 45.21875 56 50.046875 50.171875 \r\nQ 54.890625 44.34375 54.890625 33.015625 \r\nz\r\n\" id=\"DejaVuSans-110\"/>\r\n      </defs>\r\n      <g transform=\"translate(297.604688 239.331293)scale(0.1 -0.1)\">\r\n       <use xlink:href=\"#DejaVuSans-74\"/>\r\n       <use x=\"29.492188\" xlink:href=\"#DejaVuSans-97\"/>\r\n       <use x=\"90.771484\" xlink:href=\"#DejaVuSans-110\"/>\r\n      </g>\r\n      <!-- 2017 -->\r\n      <defs>\r\n       <path d=\"M 19.1875 8.296875 \r\nL 53.609375 8.296875 \r\nL 53.609375 0 \r\nL 7.328125 0 \r\nL 7.328125 8.296875 \r\nQ 12.9375 14.109375 22.625 23.890625 \r\nQ 32.328125 33.6875 34.8125 36.53125 \r\nQ 39.546875 41.84375 41.421875 45.53125 \r\nQ 43.3125 49.21875 43.3125 52.78125 \r\nQ 43.3125 58.59375 39.234375 62.25 \r\nQ 35.15625 65.921875 28.609375 65.921875 \r\nQ 23.96875 65.921875 18.8125 64.3125 \r\nQ 13.671875 62.703125 7.8125 59.421875 \r\nL 7.8125 69.390625 \r\nQ 13.765625 71.78125 18.9375 73 \r\nQ 24.125 74.21875 28.421875 74.21875 \r\nQ 39.75 74.21875 46.484375 68.546875 \r\nQ 53.21875 62.890625 53.21875 53.421875 \r\nQ 53.21875 48.921875 51.53125 44.890625 \r\nQ 49.859375 40.875 45.40625 35.40625 \r\nQ 44.1875 33.984375 37.640625 27.21875 \r\nQ 31.109375 20.453125 19.1875 8.296875 \r\nz\r\n\" id=\"DejaVuSans-50\"/>\r\n       <path d=\"M 31.78125 66.40625 \r\nQ 24.171875 66.40625 20.328125 58.90625 \r\nQ 16.5 51.421875 16.5 36.375 \r\nQ 16.5 21.390625 20.328125 13.890625 \r\nQ 24.171875 6.390625 31.78125 6.390625 \r\nQ 39.453125 6.390625 43.28125 13.890625 \r\nQ 47.125 21.390625 47.125 36.375 \r\nQ 47.125 51.421875 43.28125 58.90625 \r\nQ 39.453125 66.40625 31.78125 66.40625 \r\nz\r\nM 31.78125 74.21875 \r\nQ 44.046875 74.21875 50.515625 64.515625 \r\nQ 56.984375 54.828125 56.984375 36.375 \r\nQ 56.984375 17.96875 50.515625 8.265625 \r\nQ 44.046875 -1.421875 31.78125 -1.421875 \r\nQ 19.53125 -1.421875 13.0625 8.265625 \r\nQ 6.59375 17.96875 6.59375 36.375 \r\nQ 6.59375 54.828125 13.0625 64.515625 \r\nQ 19.53125 74.21875 31.78125 74.21875 \r\nz\r\n\" id=\"DejaVuSans-48\"/>\r\n       <path d=\"M 12.40625 8.296875 \r\nL 28.515625 8.296875 \r\nL 28.515625 63.921875 \r\nL 10.984375 60.40625 \r\nL 10.984375 69.390625 \r\nL 28.421875 72.90625 \r\nL 38.28125 72.90625 \r\nL 38.28125 8.296875 \r\nL 54.390625 8.296875 \r\nL 54.390625 0 \r\nL 12.40625 0 \r\nz\r\n\" id=\"DejaVuSans-49\"/>\r\n       <path d=\"M 8.203125 72.90625 \r\nL 55.078125 72.90625 \r\nL 55.078125 68.703125 \r\nL 28.609375 0 \r\nL 18.3125 0 \r\nL 43.21875 64.59375 \r\nL 8.203125 64.59375 \r\nz\r\n\" id=\"DejaVuSans-55\"/>\r\n      </defs>\r\n      <g transform=\"translate(292.5875 250.529105)scale(0.1 -0.1)\">\r\n       <use xlink:href=\"#DejaVuSans-50\"/>\r\n       <use x=\"63.623047\" xlink:href=\"#DejaVuSans-48\"/>\r\n       <use x=\"127.246094\" xlink:href=\"#DejaVuSans-49\"/>\r\n       <use x=\"190.869141\" xlink:href=\"#DejaVuSans-55\"/>\r\n      </g>\r\n     </g>\r\n    </g>\r\n    <g id=\"xtick_5\">\r\n     <g id=\"line2d_5\">\r\n      <g>\r\n       <use style=\"stroke:#000000;stroke-width:0.8;\" x=\"368.0875\" xlink:href=\"#m3b1f533feb\" y=\"224.732855\"/>\r\n      </g>\r\n     </g>\r\n    </g>\r\n    <g id=\"xtick_6\">\r\n     <g id=\"line2d_6\">\r\n      <defs>\r\n       <path d=\"M 0 0 \r\nL 0 2 \r\n\" id=\"m4219d34bf5\" style=\"stroke:#000000;stroke-width:0.6;\"/>\r\n      </defs>\r\n      <g>\r\n       <use style=\"stroke:#000000;stroke-width:0.6;\" x=\"54.2125\" xlink:href=\"#m4219d34bf5\" y=\"224.732855\"/>\r\n      </g>\r\n     </g>\r\n    </g>\r\n    <g id=\"xtick_7\">\r\n     <g id=\"line2d_7\">\r\n      <g>\r\n       <use style=\"stroke:#000000;stroke-width:0.6;\" x=\"75.1375\" xlink:href=\"#m4219d34bf5\" y=\"224.732855\"/>\r\n      </g>\r\n     </g>\r\n    </g>\r\n    <g id=\"xtick_8\">\r\n     <g id=\"line2d_8\">\r\n      <g>\r\n       <use style=\"stroke:#000000;stroke-width:0.6;\" x=\"96.0625\" xlink:href=\"#m4219d34bf5\" y=\"224.732855\"/>\r\n      </g>\r\n     </g>\r\n    </g>\r\n    <g id=\"xtick_9\">\r\n     <g id=\"line2d_9\">\r\n      <g>\r\n       <use style=\"stroke:#000000;stroke-width:0.6;\" x=\"116.9875\" xlink:href=\"#m4219d34bf5\" y=\"224.732855\"/>\r\n      </g>\r\n     </g>\r\n    </g>\r\n    <g id=\"xtick_10\">\r\n     <g id=\"line2d_10\">\r\n      <g>\r\n       <use style=\"stroke:#000000;stroke-width:0.6;\" x=\"158.8375\" xlink:href=\"#m4219d34bf5\" y=\"224.732855\"/>\r\n      </g>\r\n     </g>\r\n    </g>\r\n    <g id=\"xtick_11\">\r\n     <g id=\"line2d_11\">\r\n      <g>\r\n       <use style=\"stroke:#000000;stroke-width:0.6;\" x=\"179.7625\" xlink:href=\"#m4219d34bf5\" y=\"224.732855\"/>\r\n      </g>\r\n     </g>\r\n    </g>\r\n    <g id=\"xtick_12\">\r\n     <g id=\"line2d_12\">\r\n      <g>\r\n       <use style=\"stroke:#000000;stroke-width:0.6;\" x=\"200.6875\" xlink:href=\"#m4219d34bf5\" y=\"224.732855\"/>\r\n      </g>\r\n     </g>\r\n    </g>\r\n    <g id=\"xtick_13\">\r\n     <g id=\"line2d_13\">\r\n      <g>\r\n       <use style=\"stroke:#000000;stroke-width:0.6;\" x=\"242.5375\" xlink:href=\"#m4219d34bf5\" y=\"224.732855\"/>\r\n      </g>\r\n     </g>\r\n    </g>\r\n    <g id=\"xtick_14\">\r\n     <g id=\"line2d_14\">\r\n      <g>\r\n       <use style=\"stroke:#000000;stroke-width:0.6;\" x=\"263.4625\" xlink:href=\"#m4219d34bf5\" y=\"224.732855\"/>\r\n      </g>\r\n     </g>\r\n    </g>\r\n    <g id=\"xtick_15\">\r\n     <g id=\"line2d_15\">\r\n      <g>\r\n       <use style=\"stroke:#000000;stroke-width:0.6;\" x=\"284.3875\" xlink:href=\"#m4219d34bf5\" y=\"224.732855\"/>\r\n      </g>\r\n     </g>\r\n    </g>\r\n    <g id=\"xtick_16\">\r\n     <g id=\"line2d_16\">\r\n      <g>\r\n       <use style=\"stroke:#000000;stroke-width:0.6;\" x=\"326.2375\" xlink:href=\"#m4219d34bf5\" y=\"224.732855\"/>\r\n      </g>\r\n     </g>\r\n    </g>\r\n    <g id=\"xtick_17\">\r\n     <g id=\"line2d_17\">\r\n      <g>\r\n       <use style=\"stroke:#000000;stroke-width:0.6;\" x=\"347.1625\" xlink:href=\"#m4219d34bf5\" y=\"224.732855\"/>\r\n      </g>\r\n     </g>\r\n    </g>\r\n   </g>\r\n   <g id=\"matplotlib.axis_2\">\r\n    <g id=\"ytick_1\">\r\n     <g id=\"line2d_18\">\r\n      <defs>\r\n       <path d=\"M 0 0 \r\nL -3.5 0 \r\n\" id=\"mb9faa96bf7\" style=\"stroke:#000000;stroke-width:0.8;\"/>\r\n      </defs>\r\n      <g>\r\n       <use style=\"stroke:#000000;stroke-width:0.8;\" x=\"33.2875\" xlink:href=\"#mb9faa96bf7\" y=\"196.317401\"/>\r\n      </g>\r\n     </g>\r\n     <g id=\"text_5\">\r\n      <!-- 100 -->\r\n      <g transform=\"translate(7.2 200.116619)scale(0.1 -0.1)\">\r\n       <use xlink:href=\"#DejaVuSans-49\"/>\r\n       <use x=\"63.623047\" xlink:href=\"#DejaVuSans-48\"/>\r\n       <use x=\"127.246094\" xlink:href=\"#DejaVuSans-48\"/>\r\n      </g>\r\n     </g>\r\n    </g>\r\n    <g id=\"ytick_2\">\r\n     <g id=\"line2d_19\">\r\n      <g>\r\n       <use style=\"stroke:#000000;stroke-width:0.8;\" x=\"33.2875\" xlink:href=\"#mb9faa96bf7\" y=\"165.431037\"/>\r\n      </g>\r\n     </g>\r\n     <g id=\"text_6\">\r\n      <!-- 105 -->\r\n      <defs>\r\n       <path d=\"M 10.796875 72.90625 \r\nL 49.515625 72.90625 \r\nL 49.515625 64.59375 \r\nL 19.828125 64.59375 \r\nL 19.828125 46.734375 \r\nQ 21.96875 47.46875 24.109375 47.828125 \r\nQ 26.265625 48.1875 28.421875 48.1875 \r\nQ 40.625 48.1875 47.75 41.5 \r\nQ 54.890625 34.8125 54.890625 23.390625 \r\nQ 54.890625 11.625 47.5625 5.09375 \r\nQ 40.234375 -1.421875 26.90625 -1.421875 \r\nQ 22.3125 -1.421875 17.546875 -0.640625 \r\nQ 12.796875 0.140625 7.71875 1.703125 \r\nL 7.71875 11.625 \r\nQ 12.109375 9.234375 16.796875 8.0625 \r\nQ 21.484375 6.890625 26.703125 6.890625 \r\nQ 35.15625 6.890625 40.078125 11.328125 \r\nQ 45.015625 15.765625 45.015625 23.390625 \r\nQ 45.015625 31 40.078125 35.4375 \r\nQ 35.15625 39.890625 26.703125 39.890625 \r\nQ 22.75 39.890625 18.8125 39.015625 \r\nQ 14.890625 38.140625 10.796875 36.28125 \r\nz\r\n\" id=\"DejaVuSans-53\"/>\r\n      </defs>\r\n      <g transform=\"translate(7.2 169.230256)scale(0.1 -0.1)\">\r\n       <use xlink:href=\"#DejaVuSans-49\"/>\r\n       <use x=\"63.623047\" xlink:href=\"#DejaVuSans-48\"/>\r\n       <use x=\"127.246094\" xlink:href=\"#DejaVuSans-53\"/>\r\n      </g>\r\n     </g>\r\n    </g>\r\n    <g id=\"ytick_3\">\r\n     <g id=\"line2d_20\">\r\n      <g>\r\n       <use style=\"stroke:#000000;stroke-width:0.8;\" x=\"33.2875\" xlink:href=\"#mb9faa96bf7\" y=\"134.544673\"/>\r\n      </g>\r\n     </g>\r\n     <g id=\"text_7\">\r\n      <!-- 110 -->\r\n      <g transform=\"translate(7.2 138.343892)scale(0.1 -0.1)\">\r\n       <use xlink:href=\"#DejaVuSans-49\"/>\r\n       <use x=\"63.623047\" xlink:href=\"#DejaVuSans-49\"/>\r\n       <use x=\"127.246094\" xlink:href=\"#DejaVuSans-48\"/>\r\n      </g>\r\n     </g>\r\n    </g>\r\n    <g id=\"ytick_4\">\r\n     <g id=\"line2d_21\">\r\n      <g>\r\n       <use style=\"stroke:#000000;stroke-width:0.8;\" x=\"33.2875\" xlink:href=\"#mb9faa96bf7\" y=\"103.65831\"/>\r\n      </g>\r\n     </g>\r\n     <g id=\"text_8\">\r\n      <!-- 115 -->\r\n      <g transform=\"translate(7.2 107.457528)scale(0.1 -0.1)\">\r\n       <use xlink:href=\"#DejaVuSans-49\"/>\r\n       <use x=\"63.623047\" xlink:href=\"#DejaVuSans-49\"/>\r\n       <use x=\"127.246094\" xlink:href=\"#DejaVuSans-53\"/>\r\n      </g>\r\n     </g>\r\n    </g>\r\n    <g id=\"ytick_5\">\r\n     <g id=\"line2d_22\">\r\n      <g>\r\n       <use style=\"stroke:#000000;stroke-width:0.8;\" x=\"33.2875\" xlink:href=\"#mb9faa96bf7\" y=\"72.771946\"/>\r\n      </g>\r\n     </g>\r\n     <g id=\"text_9\">\r\n      <!-- 120 -->\r\n      <g transform=\"translate(7.2 76.571165)scale(0.1 -0.1)\">\r\n       <use xlink:href=\"#DejaVuSans-49\"/>\r\n       <use x=\"63.623047\" xlink:href=\"#DejaVuSans-50\"/>\r\n       <use x=\"127.246094\" xlink:href=\"#DejaVuSans-48\"/>\r\n      </g>\r\n     </g>\r\n    </g>\r\n    <g id=\"ytick_6\">\r\n     <g id=\"line2d_23\">\r\n      <g>\r\n       <use style=\"stroke:#000000;stroke-width:0.8;\" x=\"33.2875\" xlink:href=\"#mb9faa96bf7\" y=\"41.885582\"/>\r\n      </g>\r\n     </g>\r\n     <g id=\"text_10\">\r\n      <!-- 125 -->\r\n      <g transform=\"translate(7.2 45.684801)scale(0.1 -0.1)\">\r\n       <use xlink:href=\"#DejaVuSans-49\"/>\r\n       <use x=\"63.623047\" xlink:href=\"#DejaVuSans-50\"/>\r\n       <use x=\"127.246094\" xlink:href=\"#DejaVuSans-53\"/>\r\n      </g>\r\n     </g>\r\n    </g>\r\n    <g id=\"ytick_7\">\r\n     <g id=\"line2d_24\">\r\n      <g>\r\n       <use style=\"stroke:#000000;stroke-width:0.8;\" x=\"33.2875\" xlink:href=\"#mb9faa96bf7\" y=\"10.999219\"/>\r\n      </g>\r\n     </g>\r\n     <g id=\"text_11\">\r\n      <!-- 130 -->\r\n      <defs>\r\n       <path d=\"M 40.578125 39.3125 \r\nQ 47.65625 37.796875 51.625 33 \r\nQ 55.609375 28.21875 55.609375 21.1875 \r\nQ 55.609375 10.40625 48.1875 4.484375 \r\nQ 40.765625 -1.421875 27.09375 -1.421875 \r\nQ 22.515625 -1.421875 17.65625 -0.515625 \r\nQ 12.796875 0.390625 7.625 2.203125 \r\nL 7.625 11.71875 \r\nQ 11.71875 9.328125 16.59375 8.109375 \r\nQ 21.484375 6.890625 26.8125 6.890625 \r\nQ 36.078125 6.890625 40.9375 10.546875 \r\nQ 45.796875 14.203125 45.796875 21.1875 \r\nQ 45.796875 27.640625 41.28125 31.265625 \r\nQ 36.765625 34.90625 28.71875 34.90625 \r\nL 20.21875 34.90625 \r\nL 20.21875 43.015625 \r\nL 29.109375 43.015625 \r\nQ 36.375 43.015625 40.234375 45.921875 \r\nQ 44.09375 48.828125 44.09375 54.296875 \r\nQ 44.09375 59.90625 40.109375 62.90625 \r\nQ 36.140625 65.921875 28.71875 65.921875 \r\nQ 24.65625 65.921875 20.015625 65.03125 \r\nQ 15.375 64.15625 9.8125 62.3125 \r\nL 9.8125 71.09375 \r\nQ 15.4375 72.65625 20.34375 73.4375 \r\nQ 25.25 74.21875 29.59375 74.21875 \r\nQ 40.828125 74.21875 47.359375 69.109375 \r\nQ 53.90625 64.015625 53.90625 55.328125 \r\nQ 53.90625 49.265625 50.4375 45.09375 \r\nQ 46.96875 40.921875 40.578125 39.3125 \r\nz\r\n\" id=\"DejaVuSans-51\"/>\r\n      </defs>\r\n      <g transform=\"translate(7.2 14.798437)scale(0.1 -0.1)\">\r\n       <use xlink:href=\"#DejaVuSans-49\"/>\r\n       <use x=\"63.623047\" xlink:href=\"#DejaVuSans-51\"/>\r\n       <use x=\"127.246094\" xlink:href=\"#DejaVuSans-48\"/>\r\n      </g>\r\n     </g>\r\n    </g>\r\n   </g>\r\n   <g id=\"line2d_25\">\r\n    <path clip-path=\"url(#pa839e8b6e8)\" d=\"M 33.2875 165.431037 \r\nL 75.1375 153.076491 \r\nL 116.9875 165.431037 \r\nL 158.8375 183.962855 \r\nL 200.6875 214.849219 \r\nL 242.5375 190.140128 \r\nL 284.3875 208.671946 \r\nL 326.2375 196.317401 \r\nL 368.0875 177.785582 \r\n\" style=\"fill:none;stroke:#1f77b4;stroke-linecap:square;stroke-width:1.5;\"/>\r\n   </g>\r\n   <g id=\"line2d_26\">\r\n    <path clip-path=\"url(#pa839e8b6e8)\" d=\"M 33.2875 48.062855 \r\nL 75.1375 97.481037 \r\nL 116.9875 17.176491 \r\nL 158.8375 17.176491 \r\nL 200.6875 78.949219 \r\nL 242.5375 41.885582 \r\nL 284.3875 78.949219 \r\nL 326.2375 23.353764 \r\nL 368.0875 66.594673 \r\n\" style=\"fill:none;stroke:#ff7f0e;stroke-linecap:square;stroke-width:1.5;\"/>\r\n   </g>\r\n   <g id=\"patch_3\">\r\n    <path d=\"M 33.2875 224.732855 \r\nL 33.2875 7.292855 \r\n\" style=\"fill:none;stroke:#000000;stroke-linecap:square;stroke-linejoin:miter;stroke-width:0.8;\"/>\r\n   </g>\r\n   <g id=\"patch_4\">\r\n    <path d=\"M 368.0875 224.732855 \r\nL 368.0875 7.292855 \r\n\" style=\"fill:none;stroke:#000000;stroke-linecap:square;stroke-linejoin:miter;stroke-width:0.8;\"/>\r\n   </g>\r\n   <g id=\"patch_5\">\r\n    <path d=\"M 33.2875 224.732855 \r\nL 368.0875 224.732855 \r\n\" style=\"fill:none;stroke:#000000;stroke-linecap:square;stroke-linejoin:miter;stroke-width:0.8;\"/>\r\n   </g>\r\n   <g id=\"patch_6\">\r\n    <path d=\"M 33.2875 7.292855 \r\nL 368.0875 7.292855 \r\n\" style=\"fill:none;stroke:#000000;stroke-linecap:square;stroke-linejoin:miter;stroke-width:0.8;\"/>\r\n   </g>\r\n   <g id=\"legend_1\">\r\n    <g id=\"patch_7\">\r\n     <path d=\"M 40.2875 219.732855 \r\nL 111.525 219.732855 \r\nQ 113.525 219.732855 113.525 217.732855 \r\nL 113.525 189.376605 \r\nQ 113.525 187.376605 111.525 187.376605 \r\nL 40.2875 187.376605 \r\nQ 38.2875 187.376605 38.2875 189.376605 \r\nL 38.2875 217.732855 \r\nQ 38.2875 219.732855 40.2875 219.732855 \r\nz\r\n\" style=\"fill:#ffffff;opacity:0.8;stroke:#cccccc;stroke-linejoin:miter;\"/>\r\n    </g>\r\n    <g id=\"line2d_27\">\r\n     <path d=\"M 42.2875 195.475043 \r\nL 62.2875 195.475043 \r\n\" style=\"fill:none;stroke:#1f77b4;stroke-linecap:square;stroke-width:1.5;\"/>\r\n    </g>\r\n    <g id=\"line2d_28\"/>\r\n    <g id=\"text_12\">\r\n     <!-- Count 1 -->\r\n     <defs>\r\n      <path d=\"M 64.40625 67.28125 \r\nL 64.40625 56.890625 \r\nQ 59.421875 61.53125 53.78125 63.8125 \r\nQ 48.140625 66.109375 41.796875 66.109375 \r\nQ 29.296875 66.109375 22.65625 58.46875 \r\nQ 16.015625 50.828125 16.015625 36.375 \r\nQ 16.015625 21.96875 22.65625 14.328125 \r\nQ 29.296875 6.6875 41.796875 6.6875 \r\nQ 48.140625 6.6875 53.78125 8.984375 \r\nQ 59.421875 11.28125 64.40625 15.921875 \r\nL 64.40625 5.609375 \r\nQ 59.234375 2.09375 53.4375 0.328125 \r\nQ 47.65625 -1.421875 41.21875 -1.421875 \r\nQ 24.65625 -1.421875 15.125 8.703125 \r\nQ 5.609375 18.84375 5.609375 36.375 \r\nQ 5.609375 53.953125 15.125 64.078125 \r\nQ 24.65625 74.21875 41.21875 74.21875 \r\nQ 47.75 74.21875 53.53125 72.484375 \r\nQ 59.328125 70.75 64.40625 67.28125 \r\nz\r\n\" id=\"DejaVuSans-67\"/>\r\n      <path d=\"M 8.5 21.578125 \r\nL 8.5 54.6875 \r\nL 17.484375 54.6875 \r\nL 17.484375 21.921875 \r\nQ 17.484375 14.15625 20.5 10.265625 \r\nQ 23.53125 6.390625 29.59375 6.390625 \r\nQ 36.859375 6.390625 41.078125 11.03125 \r\nQ 45.3125 15.671875 45.3125 23.6875 \r\nL 45.3125 54.6875 \r\nL 54.296875 54.6875 \r\nL 54.296875 0 \r\nL 45.3125 0 \r\nL 45.3125 8.40625 \r\nQ 42.046875 3.421875 37.71875 1 \r\nQ 33.40625 -1.421875 27.6875 -1.421875 \r\nQ 18.265625 -1.421875 13.375 4.4375 \r\nQ 8.5 10.296875 8.5 21.578125 \r\nz\r\nM 31.109375 56 \r\nz\r\n\" id=\"DejaVuSans-117\"/>\r\n      <path id=\"DejaVuSans-32\"/>\r\n     </defs>\r\n     <g transform=\"translate(70.2875 198.975043)scale(0.1 -0.1)\">\r\n      <use xlink:href=\"#DejaVuSans-67\"/>\r\n      <use x=\"69.824219\" xlink:href=\"#DejaVuSans-111\"/>\r\n      <use x=\"131.005859\" xlink:href=\"#DejaVuSans-117\"/>\r\n      <use x=\"194.384766\" xlink:href=\"#DejaVuSans-110\"/>\r\n      <use x=\"257.763672\" xlink:href=\"#DejaVuSans-116\"/>\r\n      <use x=\"296.972656\" xlink:href=\"#DejaVuSans-32\"/>\r\n      <use x=\"328.759766\" xlink:href=\"#DejaVuSans-49\"/>\r\n     </g>\r\n    </g>\r\n    <g id=\"line2d_29\">\r\n     <path d=\"M 42.2875 210.153168 \r\nL 62.2875 210.153168 \r\n\" style=\"fill:none;stroke:#ff7f0e;stroke-linecap:square;stroke-width:1.5;\"/>\r\n    </g>\r\n    <g id=\"line2d_30\"/>\r\n    <g id=\"text_13\">\r\n     <!-- Count 2 -->\r\n     <g transform=\"translate(70.2875 213.653168)scale(0.1 -0.1)\">\r\n      <use xlink:href=\"#DejaVuSans-67\"/>\r\n      <use x=\"69.824219\" xlink:href=\"#DejaVuSans-111\"/>\r\n      <use x=\"131.005859\" xlink:href=\"#DejaVuSans-117\"/>\r\n      <use x=\"194.384766\" xlink:href=\"#DejaVuSans-110\"/>\r\n      <use x=\"257.763672\" xlink:href=\"#DejaVuSans-116\"/>\r\n      <use x=\"296.972656\" xlink:href=\"#DejaVuSans-32\"/>\r\n      <use x=\"328.759766\" xlink:href=\"#DejaVuSans-50\"/>\r\n     </g>\r\n    </g>\r\n   </g>\r\n  </g>\r\n </g>\r\n <defs>\r\n  <clipPath id=\"pa839e8b6e8\">\r\n   <rect height=\"217.44\" width=\"334.8\" x=\"33.2875\" y=\"7.292855\"/>\r\n  </clipPath>\r\n </defs>\r\n</svg>\r\n",
      "image/png": "[encoded data removed]"
     },
     "metadata": {
      "needs_background": "light"
     }
    }
   ],
   "source": [
    "import matplotlib.pyplot as plt\n",
    "%matplotlib inline\n",
    "\n",
    "df.plot()"
   ]
  }
 ],
 "metadata": {
  "celltoolbar": "Raw Cell Format",
  "kernelspec": {
   "display_name": "Python 3",
   "language": "python",
   "name": "python3"
  },
  "language_info": {
   "codemirror_mode": {
    "name": "ipython",
    "version": 3
   },
   "file_extension": ".py",
   "mimetype": "text/x-python",
   "name": "python",
   "nbconvert_exporter": "python",
   "pygments_lexer": "ipython3",
   "version": "3.8.2-final"
  }
 },
 "nbformat": 4,
 "nbformat_minor": 1
}